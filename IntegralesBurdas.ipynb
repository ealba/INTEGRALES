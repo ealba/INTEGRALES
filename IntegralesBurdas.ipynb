{
 "metadata": {
  "language": "Julia",
  "name": "",
  "signature": "sha256:468069665e268259f016624c58b5f895561cd9fe882bd566b16543a853feea0b"
 },
 "nbformat": 3,
 "nbformat_minor": 0,
 "worksheets": [
  {
   "cells": [
    {
     "cell_type": "heading",
     "level": 4,
     "metadata": {},
     "source": [
      "----------------------------------------------------Funciones para graficar"
     ]
    },
    {
     "cell_type": "code",
     "collapsed": false,
     "input": [
      "using PyPlot\n",
      "\n",
      "function grafdensidad(xmap::Vector{Float64},ymap::Vector{Float64},numero::Integer,z::Array{Float64,2},titulo::ASCIIString,xlab::ASCIIString,ylab::ASCIIString)    \n",
      "    x = linspace(xmap[1],xmap[2],numero);\n",
      "    y = linspace(ymap[1],ymap[2],numero);\n",
      "    xgrid = repmat(x',numero,1);\n",
      "    ygrid = repmat(y,1,numero);\n",
      "    \n",
      "\n",
      "    pcolormesh(xgrid,ygrid, z)\n",
      "    \n",
      "    xlabel(xlab) \n",
      "    ylabel(ylab)\n",
      "    title(titulo)\n",
      "    colorbar()\n",
      "end\n",
      "\n",
      "\n",
      "function gencodominio2D(xg::Vector{Float64},yg::Vector{Float64},resolucion::Integer,f::Function)\n",
      "\t\tx = linspace(xg[1],xg[2],resolucion);\n",
      "\t\ty = linspace(yg[1],yg[2],resolucion);\n",
      "\t\tz= zeros(resolucion,resolucion);\n",
      "\t\t                # x equivale a r , y a z\n",
      "\t    \n",
      "\t\tfor i in 1:length(x)\n",
      "\t\t    for j in 1:length(y)\n",
      "\t\t        z[i,j]=f(y[i], x[j])\n",
      "\t\t    end\n",
      "\t\tend\n",
      "\t    \n",
      "\t    return z    \n",
      "\tend\n",
      "\n"
     ],
     "language": "python",
     "metadata": {},
     "outputs": [
      {
       "output_type": "stream",
       "stream": "stderr",
       "text": [
        "INFO: Loading help data...\n"
       ]
      },
      {
       "metadata": {},
       "output_type": "pyout",
       "prompt_number": 1,
       "text": [
        "gencodominio2D (generic function with 1 method)"
       ]
      }
     ],
     "prompt_number": 1
    },
    {
     "cell_type": "heading",
     "level": 4,
     "metadata": {},
     "source": [
      "----------------------------------------------------"
     ]
    },
    {
     "cell_type": "heading",
     "level": 4,
     "metadata": {},
     "source": [
      "--------------------------Constantes"
     ]
    },
    {
     "cell_type": "code",
     "collapsed": false,
     "input": [
      "const m = 1.0;\n",
      "const hbarr = 1.0;\n",
      "#n = 1.;\n",
      "const \u03c9z = 0.05;\n",
      "const \u03c9r = 7.0*\u03c9z;\n",
      "const n=1;\n",
      "const \u03b1=10.0;\n",
      "const g_\u03b1=4.0*\u03c0*\u03b1;\n",
      "const \u03c9m=(\u03c9r*\u03c9z)^(1/3);\n",
      "const \u03bc=0.5*\u03c9m*(15*\u03b1*sqrt(m*\u03c9m))^(2.0/5.0);\n",
      "\n",
      "const c = sqrt(n*g_\u03b1/m);\n",
      "\n",
      "\n",
      "const A=m*\u03c9r/(2*\u03c0*hbarr);\n",
      "const B= sqrt(m*\u03c9z/(\u03c0*hbarr))/2;\n"
     ],
     "language": "python",
     "metadata": {},
     "outputs": [],
     "prompt_number": 2
    },
    {
     "cell_type": "heading",
     "level": 4,
     "metadata": {},
     "source": [
      "--------------------------"
     ]
    },
    {
     "cell_type": "heading",
     "level": 4,
     "metadata": {},
     "source": [
      "-------------------------- Par\u00e1metros caracter\u00edsticos del solit\u00f3n"
     ]
    },
    {
     "cell_type": "code",
     "collapsed": false,
     "input": [
      "\u03be=0.1;\n",
      "\u03b2=0.0;\n",
      "z0=66.0*\u03be;\n",
      "\u03b3=1/(sqrt(1-\u03b2^2));"
     ],
     "language": "python",
     "metadata": {},
     "outputs": [],
     "prompt_number": 3
    },
    {
     "cell_type": "heading",
     "level": 4,
     "metadata": {},
     "source": [
      "--------------------------"
     ]
    },
    {
     "cell_type": "heading",
     "level": 1,
     "metadata": {},
     "source": [
      "Funciones para trabajar"
     ]
    },
    {
     "cell_type": "code",
     "collapsed": false,
     "input": [
      "function N(t::Float64)\n",
      "    (1/sqrt(2*pi))*(\u03c9r/sin(\u03c9r*t))*sqrt(\u03c9z/sin(\u03c9z*t))\n",
      "end\n"
     ],
     "language": "python",
     "metadata": {},
     "outputs": [
      {
       "metadata": {},
       "output_type": "pyout",
       "prompt_number": 4,
       "text": [
        "N (generic function with 1 method)"
       ]
      }
     ],
     "prompt_number": 4
    },
    {
     "cell_type": "code",
     "collapsed": false,
     "input": [
      "function sol(z::Float64)\n",
      "(tanh((z-z0)/(\u03be*\u03b3)))/\u03b3\n",
      "end"
     ],
     "language": "python",
     "metadata": {},
     "outputs": [
      {
       "metadata": {},
       "output_type": "pyout",
       "prompt_number": 5,
       "text": [
        "sol (generic function with 1 method)"
       ]
      }
     ],
     "prompt_number": 5
    },
    {
     "cell_type": "code",
     "collapsed": false,
     "input": [
      "function \u03d5_rr1(r::Float64,r1::Float64,t::Float64)\n",
      "    (m*\u03c9r/(2*hbarr))*(r1^2+r^2)*tan(\u03c9r*t)+ pi/4\n",
      "end"
     ],
     "language": "python",
     "metadata": {},
     "outputs": [
      {
       "metadata": {},
       "output_type": "pyout",
       "prompt_number": 6,
       "text": [
        "\u03d5_rr1 (generic function with 1 method)"
       ]
      }
     ],
     "prompt_number": 6
    },
    {
     "cell_type": "code",
     "collapsed": false,
     "input": [
      "function \u03d5_zz1(z::Float64,z1::Float64,t::Float64)\n",
      "    (m*\u03c9z/(2*hbarr))*(z1^2+z^2)*tan(\u03c9z*t)-2*z*z1*t\n",
      "end"
     ],
     "language": "python",
     "metadata": {},
     "outputs": [
      {
       "metadata": {},
       "output_type": "pyout",
       "prompt_number": 7,
       "text": [
        "\u03d5_zz1 (generic function with 1 method)"
       ]
      }
     ],
     "prompt_number": 7
    },
    {
     "cell_type": "code",
     "collapsed": false,
     "input": [
      "function Rre(r::Float64,r1::Float64,t::Float64)\n",
      "    besselj0(-m*\u03c9r*r*r1/(hbarr*sin(\u03c9r*t)))*r1*cos(\u03d5_rr1(r,r1,t))\n",
      "end"
     ],
     "language": "python",
     "metadata": {},
     "outputs": [
      {
       "metadata": {},
       "output_type": "pyout",
       "prompt_number": 8,
       "text": [
        "Rre (generic function with 1 method)"
       ]
      }
     ],
     "prompt_number": 8
    },
    {
     "cell_type": "code",
     "collapsed": false,
     "input": [
      "function Rim(r::Float64,r1::Float64,t::Float64)\n",
      "    besselj0(-m*\u03c9r*r*r1/(hbarr*sin(\u03c9r*t)))*r1*sin(\u03d5_rr1(r,r1,t))\n",
      "end"
     ],
     "language": "python",
     "metadata": {},
     "outputs": [
      {
       "metadata": {},
       "output_type": "pyout",
       "prompt_number": 9,
       "text": [
        "Rim (generic function with 1 method)"
       ]
      }
     ],
     "prompt_number": 9
    },
    {
     "cell_type": "code",
     "collapsed": false,
     "input": [
      "function Zre(z::Float64,z1::Float64,t::Float64)\n",
      "    cos(\u03d5_zz1(z,z1,t))*sol(z')-\u03b2*sin(\u03d5_zz1(z,z1,t))\n",
      "end"
     ],
     "language": "python",
     "metadata": {},
     "outputs": [
      {
       "metadata": {},
       "output_type": "pyout",
       "prompt_number": 10,
       "text": [
        "Zre (generic function with 1 method)"
       ]
      }
     ],
     "prompt_number": 10
    },
    {
     "cell_type": "code",
     "collapsed": false,
     "input": [
      "function Zim(z::Float64,z1::Float64,t::Float64)\n",
      "    sin(\u03d5_zz1(z,z1,t))*sol(z')+\u03b2*cos(\u03d5_zz1(z,z1,t))\n",
      "end"
     ],
     "language": "python",
     "metadata": {},
     "outputs": [
      {
       "metadata": {},
       "output_type": "pyout",
       "prompt_number": 11,
       "text": [
        "Zim (generic function with 1 method)"
       ]
      }
     ],
     "prompt_number": 11
    },
    {
     "cell_type": "code",
     "collapsed": false,
     "input": [
      "function U(r::Float64,z::Float64)\n",
      "                    (1/2)*m*((\u03c9r*r)^2 + (\u03c9z*z)^2)\n",
      "                    end\n",
      "\n",
      "function n_tf(r::Float64,z::Float64)            \n",
      "    if  \u03bc-U(r,z)>0 0\n",
      "        return (\u03bc-U(r,z))/(g_\u03b1)              \n",
      "    end\n",
      "    return 0       \n",
      "end"
     ],
     "language": "python",
     "metadata": {},
     "outputs": [
      {
       "metadata": {},
       "output_type": "pyout",
       "prompt_number": 12,
       "text": [
        "n_tf (generic function with 1 method)"
       ]
      }
     ],
     "prompt_number": 12
    },
    {
     "cell_type": "heading",
     "level": 1,
     "metadata": {},
     "source": [
      "----------------------------------------------------Zona de aplicabilidad de la aprox De TF"
     ]
    },
    {
     "cell_type": "code",
     "collapsed": false,
     "input": [
      "const rmaxintegrar=sqrt(2*\u03bc/m)/\u03c9r;\n",
      "const rminintegrar=0;\n",
      "const zmaxintegrar=sqrt(2*\u03bc/m)/\u03c9z;\n",
      "const zminintegrar=-sqrt(2*\u03bc/m)/\u03c9z;\n",
      "\n",
      "rmaxevaluar=20.0;\n",
      "rminevaluar=0.0;\n",
      "zmaxevaluar=5.0;\n",
      "zminevaluar=-5.0;\n"
     ],
     "language": "python",
     "metadata": {},
     "outputs": [],
     "prompt_number": 163
    },
    {
     "cell_type": "heading",
     "level": 1,
     "metadata": {},
     "source": [
      "----------------------------------------------------Par\u00e1metros de la Integraci\u00f3n"
     ]
    },
    {
     "cell_type": "code",
     "collapsed": false,
     "input": [
      "#function NIntegrar\n",
      "#Dt=(\u03be/c)*(1/10.0^3);\n",
      "#Dr1=\u03be/10.0;\n",
      "#Dz1=\u03be/10.0;\n",
      "\n",
      "#Dr=Dr1;\n",
      "#Dz=Dz1;\n",
      "\n",
      "\n",
      "\n",
      "\n",
      "iteracionesr1=integer(100);\n",
      "iteracionesz1=integer(100);\n",
      "iteracionesr=integer(100);\n",
      "iteracionesz=integer(100);\n",
      "\n",
      "iteracionest=2;\n",
      "\n",
      "\n",
      "Dr1=(rmaxintegrar-rminintegrar)/iteracionesr1;\n",
      "Dz1=(zmaxintegrar-zminintegrar)/iteracionesz1;\n",
      "\n",
      "Dr=(rmaxevaluar-rminevaluar)/iteracionesr;\n",
      "Dz=(zmaxevaluar-zminevaluar)/iteracionesz;\n",
      "\n",
      "\n",
      "#Arreglos vac\u00edos para guardar los resultados\n",
      "\n",
      "fRre=zeros(iteracionesr+1,iteracionesr1+1);\n",
      "fRim=zeros(iteracionesz+1,iteracionesz1+1);\n",
      "\n",
      "gZre=zeros(iteracionesz+1,iteracionesz1+1);\n",
      "gZim=zeros(iteracionesz+1,iteracionesz1+1);\n",
      "\n",
      "comodin=gZre;\n",
      "\n",
      "ReIntegral=zeros(iteracionesr+1,iteracionesz+1);\n",
      "ImIntegral=zeros(iteracionesr+1,iteracionesz+1);"
     ],
     "language": "python",
     "metadata": {},
     "outputs": [],
     "prompt_number": 185
    },
    {
     "cell_type": "heading",
     "level": 1,
     "metadata": {},
     "source": [
      "El tiempo"
     ]
    },
    {
     "cell_type": "code",
     "collapsed": false,
     "input": [
      "t0=1/\u03c9r;\n",
      "t=1*t0;"
     ],
     "language": "python",
     "metadata": {},
     "outputs": [],
     "prompt_number": 186
    },
    {
     "cell_type": "heading",
     "level": 1,
     "metadata": {},
     "source": [
      "Mapear f(r,r1,t): Rre(r,r1,t);    Rim(r,r1,t) y           z(z,z1,t): Zre(z,z1,t);    Zim(z,z1,t)"
     ]
    },
    {
     "cell_type": "code",
     "collapsed": false,
     "input": [
      "r=0.0;\n",
      "r1=0.0;\n",
      "#comodin=zeros(iteracionesr+1,iteracionesr1+1);\n",
      "\n",
      "for i in 1: iteracionesr+1\n",
      "    r=(i-1)*Dr   \n",
      "    #println(\"r=====$r\")\n",
      "    for j in 1:iteracionesr1+1\n",
      "        r1=(j-1)*Dr1;    \n",
      "        #println(\"r1=$r1\")\n",
      "        fRre[i,j]=Rre(r,r1,t);\n",
      "        fRim[i,j]=Rim(r,r1,t);\n",
      "        #comodin[i,j]=r*r1;\n",
      "    end    \n",
      "end\n",
      "\n",
      "\n",
      "for i in 1: iteracionesz+1\n",
      "    z=zminevaluar+(i-1)*Dz\n",
      "    for j in 1:iteracionesz1+1                             \n",
      "        z1=zminintegrar+(j-1)*Dz1;    \n",
      "        gZre[i,j]=Zre(z,z1,t);\n",
      "        gZim[i,j]=Zim(z,z1,t);\n",
      "    end    \n",
      "end"
     ],
     "language": "python",
     "metadata": {},
     "outputs": [],
     "prompt_number": 187
    },
    {
     "cell_type": "code",
     "collapsed": false,
     "input": [
      "(iteracionesr1)*Dr1"
     ],
     "language": "python",
     "metadata": {},
     "outputs": [
      {
       "metadata": {},
       "output_type": "pyout",
       "prompt_number": 194,
       "text": [
        "3.465435477604951"
       ]
      }
     ],
     "prompt_number": 194
    },
    {
     "cell_type": "code",
     "collapsed": false,
     "input": [
      "rmaxintegrar"
     ],
     "language": "python",
     "metadata": {},
     "outputs": [
      {
       "metadata": {},
       "output_type": "pyout",
       "prompt_number": 195,
       "text": [
        "3.4654354776049505"
       ]
      }
     ],
     "prompt_number": 195
    },
    {
     "cell_type": "code",
     "collapsed": false,
     "input": [
      "rminintegrar+(iteracionesr1)*Dr1==rmaxintegrar"
     ],
     "language": "python",
     "metadata": {},
     "outputs": [
      {
       "metadata": {},
       "output_type": "pyout",
       "prompt_number": 196,
       "text": [
        "false"
       ]
      }
     ],
     "prompt_number": 196
    },
    {
     "cell_type": "code",
     "collapsed": false,
     "input": [
      "zminintegrar+(iteracionesz1)*Dz1==zmaxintegrar"
     ],
     "language": "python",
     "metadata": {},
     "outputs": [
      {
       "metadata": {},
       "output_type": "pyout",
       "prompt_number": 197,
       "text": [
        "true"
       ]
      }
     ],
     "prompt_number": 197
    },
    {
     "cell_type": "heading",
     "level": 1,
     "metadata": {},
     "source": [
      "Perfil inicial"
     ]
    },
    {
     "cell_type": "code",
     "collapsed": false,
     "input": [
      "\n",
      "resolucion=100;\n",
      "rmax=20.0;\n",
      "rmin=0.0;\n",
      "zmax=5.0;\n",
      "zmin=-zmax;\n",
      "\n",
      "perfilinicial=zeros(resolucion+1,resolucion+1)\n",
      "\n",
      "function FUNCIONTF0(r::Float64,z::Float64)\n",
      "    n_tf(r,z)*(sol(z)+im*\u03b2)\n",
      "end\n",
      "\n",
      "function \u03c10(r::Float64,z::Float64)\n",
      "    FUNCIONTF0(r,z) *conj(FUNCIONTF0(r,z))\n",
      "end\n",
      "\n",
      "perfilinicial=gencodominio2D([rmin,rmax],[zmin,zmax],resolucion,\u03c10);\n",
      "grafdensidad([rmin,rmax],[zmin,zmax],resolucion+1, perfilinicial,\"Perfil Inicial\",\"r\",\"z\")"
     ],
     "language": "python",
     "metadata": {},
     "outputs": [
      {
       "metadata": {},
       "output_type": "display_data",
       "png": "[encoded data removed]",
       "text": [
        "Figure(PyObject <matplotlib.figure.Figure object at 0x7f0e37b3b890>)"
       ]
      },
      {
       "metadata": {},
       "output_type": "pyout",
       "prompt_number": 198,
       "text": [
        "PyObject <matplotlib.colorbar.Colorbar instance at 0x7f0e36d39a70>"
       ]
      }
     ],
     "prompt_number": 198
    },
    {
     "cell_type": "heading",
     "level": 1,
     "metadata": {},
     "source": [
      "La integral"
     ]
    },
    {
     "cell_type": "code",
     "collapsed": false,
     "input": [
      "tic()\n",
      "\n",
      "\n",
      "for i in 1: iteracionesr+1\n",
      "    r=(i-1)*Dr;    \n",
      "    println(\"r==========$i\")\n",
      "    for j in 1: iteracionesz+1\n",
      "        z=zminevaluar+(j-1)*Dz;\n",
      "        println(\"z=====$j\")\n",
      "        for k in 1: iteracionesr1+1\n",
      "            r1=(k-1)*Dr1;\n",
      "            #println(\"r1===$k\")\n",
      "            for l in 1: iteracionesz1+1\n",
      "                z1=zminintegrar+(l-1)*Dz1\n",
      "                #println(\"z1=$l\")\n",
      "                ReIntegral[i,j]=ReIntegral[i,j]+n_tf(r1,z1)*(fRre[i,k]*gZre[j,l]-fRim[i,k]*gZim[j,l])*Dr1*Dz1;\n",
      "                ImIntegral[i,j]=ImIntegral[i,j]+n_tf(r1,z1)*(fRre[i,k]*gZim[j,l]+fRim[i,k]*gZre[j,l])*Dr1*Dz1;\n",
      "            end\n",
      "        \n",
      "        end\n",
      "        \n",
      "    end\n",
      "    \n",
      "    println(\"$i\")\n",
      "end\n",
      "\n",
      "\n",
      "ReIntegral=ReIntegral*N(t);\n",
      "ImIntegral=ImIntegral*N(t);\n",
      "toc()"
     ],
     "language": "python",
     "metadata": {},
     "outputs": [
      {
       "output_type": "stream",
       "stream": "stdout",
       "text": [
        "r==========1\n"
       ]
      },
      {
       "output_type": "stream",
       "stream": "stdout",
       "text": [
        "z=====1\n",
        "z=====2\n",
        "z=====3\n",
        "z=====4"
       ]
      },
      {
       "output_type": "stream",
       "stream": "stdout",
       "text": [
        "\n",
        "z=====5\n",
        "z=====6\n",
        "z=====7\n",
        "z=====8\n",
        "z=====9\n",
        "z=====10"
       ]
      },
      {
       "output_type": "stream",
       "stream": "stdout",
       "text": [
        "\n",
        "z=====11\n",
        "z=====12\n",
        "z=====13\n",
        "z=====14"
       ]
      },
      {
       "output_type": "stream",
       "stream": "stdout",
       "text": [
        "\n",
        "z=====15\n",
        "z=====16\n",
        "z=====17\n",
        "z=====18\n",
        "z=====19\n",
        "z=====20"
       ]
      },
      {
       "output_type": "stream",
       "stream": "stdout",
       "text": [
        "\n",
        "z=====21\n",
        "z=====22\n",
        "z=====23\n",
        "z=====24\n",
        "z=====25"
       ]
      },
      {
       "output_type": "stream",
       "stream": "stdout",
       "text": [
        "\n",
        "z=====26\n",
        "z=====27\n",
        "z=====28\n",
        "z=====29\n",
        "z=====30\n",
        "z=====31"
       ]
      },
      {
       "output_type": "stream",
       "stream": "stdout",
       "text": [
        "\n",
        "z=====32\n",
        "z=====33\n",
        "z=====34\n",
        "z=====35\n",
        "z=====36"
       ]
      },
      {
       "output_type": "stream",
       "stream": "stdout",
       "text": [
        "\n",
        "z=====37\n",
        "z=====38\n",
        "z=====39\n",
        "z=====40\n",
        "z=====41\n",
        "z=====42"
       ]
      },
      {
       "output_type": "stream",
       "stream": "stdout",
       "text": [
        "\n",
        "z=====43\n",
        "z=====44\n",
        "z=====45\n",
        "z=====46\n",
        "z=====47"
       ]
      },
      {
       "output_type": "stream",
       "stream": "stdout",
       "text": [
        "\n",
        "z=====48\n",
        "z=====49\n",
        "z=====50\n",
        "z=====51\n",
        "z=====52\n",
        "z=====53"
       ]
      },
      {
       "output_type": "stream",
       "stream": "stdout",
       "text": [
        "\n",
        "z=====54\n",
        "z=====55\n",
        "z=====56\n",
        "z=====57\n",
        "z=====58"
       ]
      },
      {
       "output_type": "stream",
       "stream": "stdout",
       "text": [
        "\n",
        "z=====59\n",
        "z=====60\n",
        "z=====61\n",
        "z=====62\n",
        "z=====63\n",
        "z=====64"
       ]
      },
      {
       "output_type": "stream",
       "stream": "stdout",
       "text": [
        "\n",
        "z=====65\n",
        "z=====66\n",
        "z=====67\n",
        "z=====68\n",
        "z=====69"
       ]
      },
      {
       "output_type": "stream",
       "stream": "stdout",
       "text": [
        "\n",
        "z=====70\n",
        "z=====71\n",
        "z=====72\n",
        "z=====73\n",
        "z=====74\n",
        "z=====75"
       ]
      },
      {
       "output_type": "stream",
       "stream": "stdout",
       "text": [
        "\n",
        "z=====76\n",
        "z=====77\n",
        "z=====78\n",
        "z=====79\n",
        "z=====80"
       ]
      },
      {
       "output_type": "stream",
       "stream": "stdout",
       "text": [
        "\n",
        "z=====81\n",
        "z=====82\n",
        "z=====83\n",
        "z=====84\n",
        "z=====85\n",
        "z=====86"
       ]
      },
      {
       "output_type": "stream",
       "stream": "stdout",
       "text": [
        "\n",
        "z=====87\n",
        "z=====88\n",
        "z=====89\n",
        "z=====90"
       ]
      },
      {
       "output_type": "stream",
       "stream": "stdout",
       "text": [
        "\n",
        "z=====91\n",
        "z=====92\n",
        "z=====93\n",
        "z=====94"
       ]
      },
      {
       "output_type": "stream",
       "stream": "stdout",
       "text": [
        "\n",
        "z=====95\n",
        "z=====96\n",
        "z=====97\n",
        "z=====98\n",
        "z=====99\n",
        "z=====100"
       ]
      },
      {
       "output_type": "stream",
       "stream": "stdout",
       "text": [
        "\n",
        "z=====101\n",
        "1\n",
        "r==========2\n",
        "z=====1\n",
        "z=====2"
       ]
      },
      {
       "output_type": "stream",
       "stream": "stdout",
       "text": [
        "\n",
        "z=====3\n",
        "z=====4\n",
        "z=====5\n",
        "z=====6\n",
        "z=====7\n",
        "z=====8"
       ]
      },
      {
       "output_type": "stream",
       "stream": "stdout",
       "text": [
        "\n",
        "z=====9\n",
        "z=====10\n",
        "z=====11"
       ]
      },
      {
       "output_type": "stream",
       "stream": "stdout",
       "text": [
        "\n",
        "z=====12\n",
        "z=====13\n",
        "z=====14\n",
        "z=====15\n",
        "z=====16\n",
        "z=====17"
       ]
      },
      {
       "output_type": "stream",
       "stream": "stdout",
       "text": [
        "\n",
        "z=====18\n",
        "z=====19\n",
        "z=====20\n",
        "z=====21\n",
        "z=====22"
       ]
      },
      {
       "output_type": "stream",
       "stream": "stdout",
       "text": [
        "\n",
        "z=====23\n",
        "z=====24\n",
        "z=====25\n",
        "z=====26\n",
        "z=====27\n",
        "z=====28"
       ]
      },
      {
       "output_type": "stream",
       "stream": "stdout",
       "text": [
        "\n",
        "z=====29\n",
        "z=====30\n",
        "z=====31\n",
        "z=====32\n",
        "z=====33"
       ]
      },
      {
       "output_type": "stream",
       "stream": "stdout",
       "text": [
        "\n",
        "z=====34\n",
        "z=====35\n",
        "z=====36\n",
        "z=====37\n",
        "z=====38\n",
        "z=====39"
       ]
      },
      {
       "output_type": "stream",
       "stream": "stdout",
       "text": [
        "\n",
        "z=====40\n",
        "z=====41\n",
        "z=====42\n",
        "z=====43\n",
        "z=====44"
       ]
      },
      {
       "output_type": "stream",
       "stream": "stdout",
       "text": [
        "\n",
        "z=====45\n",
        "z=====46\n",
        "z=====47\n",
        "z=====48\n",
        "z=====49\n",
        "z=====50\n",
        "z=====51"
       ]
      },
      {
       "output_type": "stream",
       "stream": "stdout",
       "text": [
        "\n",
        "z=====52\n",
        "z=====53\n",
        "z=====54\n",
        "z=====55"
       ]
      },
      {
       "output_type": "stream",
       "stream": "stdout",
       "text": [
        "\n",
        "z=====56\n",
        "z=====57\n",
        "z=====58\n",
        "z=====59\n",
        "z=====60\n",
        "z=====61"
       ]
      },
      {
       "output_type": "stream",
       "stream": "stdout",
       "text": [
        "\n",
        "z=====62\n",
        "z=====63\n",
        "z=====64\n",
        "z=====65\n",
        "z=====66"
       ]
      },
      {
       "output_type": "stream",
       "stream": "stdout",
       "text": [
        "\n",
        "z=====67\n",
        "z=====68\n",
        "z=====69\n",
        "z=====70\n",
        "z=====71\n",
        "z=====72"
       ]
      },
      {
       "output_type": "stream",
       "stream": "stdout",
       "text": [
        "\n",
        "z=====73\n",
        "z=====74\n",
        "z=====75\n",
        "z=====76\n",
        "z=====77"
       ]
      },
      {
       "output_type": "stream",
       "stream": "stdout",
       "text": [
        "\n",
        "z=====78\n",
        "z=====79\n",
        "z=====80\n",
        "z=====81\n",
        "z=====82\n",
        "z=====83"
       ]
      },
      {
       "output_type": "stream",
       "stream": "stdout",
       "text": [
        "\n",
        "z=====84\n",
        "z=====85\n",
        "z=====86\n",
        "z=====87\n",
        "z=====88"
       ]
      },
      {
       "output_type": "stream",
       "stream": "stdout",
       "text": [
        "\n",
        "z=====89\n",
        "z=====90\n",
        "z=====91\n",
        "z=====92\n",
        "z=====93\n",
        "z=====94"
       ]
      },
      {
       "output_type": "stream",
       "stream": "stdout",
       "text": [
        "\n",
        "z=====95\n",
        "z=====96\n",
        "z=====97\n",
        "z=====98\n",
        "z=====99"
       ]
      },
      {
       "output_type": "stream",
       "stream": "stdout",
       "text": [
        "\n",
        "z=====100\n",
        "z=====101\n",
        "2\n",
        "r==========3\n",
        "z=====1\n",
        "z=====2\n",
        "z=====3\n",
        "z=====4"
       ]
      },
      {
       "output_type": "stream",
       "stream": "stdout",
       "text": [
        "\n",
        "z=====5\n",
        "z=====6\n",
        "z=====7\n",
        "z=====8\n",
        "z=====9"
       ]
      },
      {
       "output_type": "stream",
       "stream": "stdout",
       "text": [
        "\n",
        "z=====10\n",
        "z=====11\n",
        "z=====12\n",
        "z=====13\n",
        "z=====14\n",
        "z=====15"
       ]
      },
      {
       "output_type": "stream",
       "stream": "stdout",
       "text": [
        "\n",
        "z=====16\n",
        "z=====17\n",
        "z=====18\n",
        "z=====19\n",
        "z=====20"
       ]
      },
      {
       "output_type": "stream",
       "stream": "stdout",
       "text": [
        "\n",
        "z=====21\n",
        "z=====22\n",
        "z=====23\n",
        "z=====24\n",
        "z=====25\n",
        "z=====26"
       ]
      },
      {
       "output_type": "stream",
       "stream": "stdout",
       "text": [
        "\n",
        "z=====27\n",
        "z=====28\n",
        "z=====29\n",
        "z=====30\n",
        "z=====31"
       ]
      },
      {
       "output_type": "stream",
       "stream": "stdout",
       "text": [
        "\n",
        "z=====32\n",
        "z=====33\n",
        "z=====34\n",
        "z=====35\n",
        "z=====36\n",
        "z=====37"
       ]
      },
      {
       "output_type": "stream",
       "stream": "stdout",
       "text": [
        "\n",
        "z=====38\n",
        "z=====39\n",
        "z=====40\n",
        "z=====41\n",
        "z=====42"
       ]
      },
      {
       "output_type": "stream",
       "stream": "stdout",
       "text": [
        "\n",
        "z=====43\n",
        "z=====44\n",
        "z=====45\n",
        "z=====46\n",
        "z=====47\n",
        "z=====48"
       ]
      },
      {
       "output_type": "stream",
       "stream": "stdout",
       "text": [
        "\n",
        "z=====49\n",
        "z=====50\n",
        "z=====51\n",
        "z=====52\n",
        "z=====53"
       ]
      },
      {
       "output_type": "stream",
       "stream": "stdout",
       "text": [
        "\n",
        "z=====54\n",
        "z=====55\n",
        "z=====56\n",
        "z=====57\n",
        "z=====58\n",
        "z=====59"
       ]
      },
      {
       "output_type": "stream",
       "stream": "stdout",
       "text": [
        "\n",
        "z=====60\n",
        "z=====61\n",
        "z=====62\n",
        "z=====63\n",
        "z=====64"
       ]
      },
      {
       "output_type": "stream",
       "stream": "stdout",
       "text": [
        "\n",
        "z=====65\n",
        "z=====66\n",
        "z=====67\n",
        "z=====68\n",
        "z=====69\n",
        "z=====70"
       ]
      },
      {
       "output_type": "stream",
       "stream": "stdout",
       "text": [
        "\n",
        "z=====71\n",
        "z=====72\n",
        "z=====73\n",
        "z=====74\n",
        "z=====75"
       ]
      },
      {
       "output_type": "stream",
       "stream": "stdout",
       "text": [
        "\n",
        "z=====76\n",
        "z=====77\n",
        "z=====78\n",
        "z=====79\n",
        "z=====80\n",
        "z=====81"
       ]
      },
      {
       "output_type": "stream",
       "stream": "stdout",
       "text": [
        "\n",
        "z=====82\n",
        "z=====83\n",
        "z=====84\n",
        "z=====85\n",
        "z=====86"
       ]
      },
      {
       "output_type": "stream",
       "stream": "stdout",
       "text": [
        "\n",
        "z=====87\n",
        "z=====88\n",
        "z=====89\n",
        "z=====90\n",
        "z=====91\n",
        "z=====92"
       ]
      },
      {
       "output_type": "stream",
       "stream": "stdout",
       "text": [
        "\n",
        "z=====93\n",
        "z=====94\n",
        "z=====95\n",
        "z=====96\n",
        "z=====97"
       ]
      },
      {
       "output_type": "stream",
       "stream": "stdout",
       "text": [
        "\n",
        "z=====98\n",
        "z=====99\n",
        "z=====100\n",
        "z=====101\n",
        "3\n",
        "r==========4\n",
        "z=====1\n",
        "z=====2"
       ]
      },
      {
       "output_type": "stream",
       "stream": "stdout",
       "text": [
        "\n",
        "z=====3\n",
        "z=====4\n",
        "z=====5\n",
        "z=====6\n",
        "z=====7"
       ]
      },
      {
       "output_type": "stream",
       "stream": "stdout",
       "text": [
        "\n",
        "z=====8\n",
        "z=====9\n",
        "z=====10\n",
        "z=====11\n",
        "z=====12\n",
        "z=====13"
       ]
      },
      {
       "output_type": "stream",
       "stream": "stdout",
       "text": [
        "\n",
        "z=====14\n",
        "z=====15\n",
        "z=====16\n",
        "z=====17\n",
        "z=====18"
       ]
      },
      {
       "output_type": "stream",
       "stream": "stdout",
       "text": [
        "\n",
        "z=====19\n",
        "z=====20\n",
        "z=====21\n",
        "z=====22\n",
        "z=====23\n",
        "z=====24"
       ]
      },
      {
       "output_type": "stream",
       "stream": "stdout",
       "text": [
        "\n",
        "z=====25\n",
        "z=====26\n",
        "z=====27\n",
        "z=====28\n",
        "z=====29"
       ]
      },
      {
       "output_type": "stream",
       "stream": "stdout",
       "text": [
        "\n",
        "z=====30\n",
        "z=====31\n",
        "z=====32\n",
        "z=====33\n",
        "z=====34\n",
        "z=====35"
       ]
      },
      {
       "output_type": "stream",
       "stream": "stdout",
       "text": [
        "\n",
        "z=====36\n",
        "z=====37\n",
        "z=====38\n",
        "z=====39\n",
        "z=====40"
       ]
      },
      {
       "output_type": "stream",
       "stream": "stdout",
       "text": [
        "\n",
        "z=====41\n",
        "z=====42\n",
        "z=====43\n",
        "z=====44\n",
        "z=====45"
       ]
      },
      {
       "output_type": "stream",
       "stream": "stdout",
       "text": [
        "\n",
        "z=====46\n",
        "z=====47\n",
        "z=====48\n",
        "z=====49\n",
        "z=====50\n",
        "z=====51"
       ]
      },
      {
       "output_type": "stream",
       "stream": "stdout",
       "text": [
        "\n",
        "z=====52\n",
        "z=====53\n",
        "z=====54\n",
        "z=====55\n",
        "z=====56\n",
        "z=====57"
       ]
      },
      {
       "output_type": "stream",
       "stream": "stdout",
       "text": [
        "\n",
        "z=====58\n",
        "z=====59\n",
        "z=====60\n",
        "z=====61\n",
        "z=====62"
       ]
      },
      {
       "output_type": "stream",
       "stream": "stdout",
       "text": [
        "\n",
        "z=====63\n",
        "z=====64\n",
        "z=====65\n",
        "z=====66\n",
        "z=====67\n",
        "z=====68"
       ]
      },
      {
       "output_type": "stream",
       "stream": "stdout",
       "text": [
        "\n",
        "z=====69\n",
        "z=====70\n",
        "z=====71\n",
        "z=====72\n",
        "z=====73"
       ]
      },
      {
       "output_type": "stream",
       "stream": "stdout",
       "text": [
        "\n",
        "z=====74\n",
        "z=====75\n",
        "z=====76\n",
        "z=====77\n",
        "z=====78\n",
        "z=====79"
       ]
      },
      {
       "output_type": "stream",
       "stream": "stdout",
       "text": [
        "\n",
        "z=====80\n",
        "z=====81\n",
        "z=====82\n",
        "z=====83\n",
        "z=====84"
       ]
      },
      {
       "output_type": "stream",
       "stream": "stdout",
       "text": [
        "\n",
        "z=====85\n",
        "z=====86\n",
        "z=====87\n",
        "z=====88\n",
        "z=====89"
       ]
      },
      {
       "output_type": "stream",
       "stream": "stdout",
       "text": [
        "\n",
        "z=====90\n",
        "z=====91\n",
        "z=====92\n",
        "z=====93\n",
        "z=====94"
       ]
      },
      {
       "output_type": "stream",
       "stream": "stdout",
       "text": [
        "\n",
        "z=====95\n",
        "z=====96"
       ]
      },
      {
       "output_type": "stream",
       "stream": "stdout",
       "text": [
        "\n",
        "z=====97\n",
        "z=====98\n",
        "z=====99\n",
        "z=====100\n",
        "z=====101"
       ]
      },
      {
       "output_type": "stream",
       "stream": "stdout",
       "text": [
        "\n",
        "4\n",
        "r==========5\n",
        "z=====1\n",
        "z=====2\n",
        "z=====3\n",
        "z=====4\n",
        "z=====5"
       ]
      },
      {
       "output_type": "stream",
       "stream": "stdout",
       "text": [
        "\n",
        "z=====6\n",
        "z=====7\n",
        "z=====8\n",
        "z=====9"
       ]
      },
      {
       "output_type": "stream",
       "stream": "stdout",
       "text": [
        "\n",
        "z=====10\n",
        "z=====11\n",
        "z=====12\n",
        "z=====13\n",
        "z=====14\n",
        "z=====15"
       ]
      },
      {
       "output_type": "stream",
       "stream": "stdout",
       "text": [
        "\n",
        "z=====16\n",
        "z=====17\n",
        "z=====18"
       ]
      },
      {
       "output_type": "stream",
       "stream": "stdout",
       "text": [
        "\n",
        "z=====19\n",
        "z=====20\n",
        "z=====21\n",
        "z=====22\n",
        "z=====23\n",
        "z=====24"
       ]
      },
      {
       "output_type": "stream",
       "stream": "stdout",
       "text": [
        "\n",
        "z=====25\n",
        "z=====26\n",
        "z=====27"
       ]
      },
      {
       "output_type": "stream",
       "stream": "stdout",
       "text": [
        "\n",
        "z=====28\n",
        "z=====29\n",
        "z=====30\n",
        "z=====31\n",
        "z=====32\n",
        "z=====33"
       ]
      },
      {
       "output_type": "stream",
       "stream": "stdout",
       "text": [
        "\n",
        "z=====34\n",
        "z=====35\n",
        "z=====36\n",
        "z=====37\n",
        "z=====38"
       ]
      },
      {
       "output_type": "stream",
       "stream": "stdout",
       "text": [
        "\n",
        "z=====39\n",
        "z=====40\n",
        "z=====41\n",
        "z=====42\n",
        "z=====43\n",
        "z=====44"
       ]
      },
      {
       "output_type": "stream",
       "stream": "stdout",
       "text": [
        "\n",
        "z=====45\n",
        "z=====46\n",
        "z=====47\n",
        "z=====48\n",
        "z=====49"
       ]
      },
      {
       "output_type": "stream",
       "stream": "stdout",
       "text": [
        "\n",
        "z=====50\n",
        "z=====51\n",
        "z=====52\n",
        "z=====53\n",
        "z=====54\n",
        "z=====55"
       ]
      },
      {
       "output_type": "stream",
       "stream": "stdout",
       "text": [
        "\n",
        "z=====56\n",
        "z=====57\n",
        "z=====58\n",
        "z=====59\n",
        "z=====60"
       ]
      },
      {
       "output_type": "stream",
       "stream": "stdout",
       "text": [
        "\n",
        "z=====61\n",
        "z=====62\n",
        "z=====63\n",
        "z=====64\n",
        "z=====65\n",
        "z=====66"
       ]
      },
      {
       "output_type": "stream",
       "stream": "stdout",
       "text": [
        "\n",
        "z=====67\n",
        "z=====68\n",
        "z=====69\n",
        "z=====70\n",
        "z=====71"
       ]
      },
      {
       "output_type": "stream",
       "stream": "stdout",
       "text": [
        "\n",
        "z=====72\n",
        "z=====73\n",
        "z=====74\n",
        "z=====75\n",
        "z=====76\n",
        "z=====77"
       ]
      },
      {
       "output_type": "stream",
       "stream": "stdout",
       "text": [
        "\n",
        "z=====78\n",
        "z=====79\n",
        "z=====80\n",
        "z=====81\n",
        "z=====82"
       ]
      },
      {
       "output_type": "stream",
       "stream": "stdout",
       "text": [
        "\n",
        "z=====83\n",
        "z=====84\n",
        "z=====85\n",
        "z=====86\n",
        "z=====87\n",
        "z=====88"
       ]
      },
      {
       "output_type": "stream",
       "stream": "stdout",
       "text": [
        "\n",
        "z=====89\n",
        "z=====90\n",
        "z=====91\n",
        "z=====92\n",
        "z=====93"
       ]
      },
      {
       "output_type": "stream",
       "stream": "stdout",
       "text": [
        "\n",
        "z=====94\n",
        "z=====95\n",
        "z=====96\n",
        "z=====97\n",
        "z=====98\n",
        "z=====99"
       ]
      },
      {
       "output_type": "stream",
       "stream": "stdout",
       "text": [
        "\n",
        "z=====100\n",
        "z=====101\n",
        "5\n",
        "r==========6\n",
        "z=====1\n",
        "z=====2"
       ]
      },
      {
       "output_type": "stream",
       "stream": "stdout",
       "text": [
        "\n",
        "z=====3\n",
        "z=====4\n",
        "z=====5\n",
        "z=====6\n",
        "z=====7\n",
        "z=====8"
       ]
      },
      {
       "output_type": "stream",
       "stream": "stdout",
       "text": [
        "\n",
        "z=====9\n",
        "z=====10\n",
        "z=====11\n",
        "z=====12\n",
        "z=====13"
       ]
      },
      {
       "output_type": "stream",
       "stream": "stdout",
       "text": [
        "\n",
        "z=====14\n",
        "z=====15\n",
        "z=====16\n",
        "z=====17\n",
        "z=====18\n",
        "z=====19"
       ]
      },
      {
       "output_type": "stream",
       "stream": "stdout",
       "text": [
        "\n",
        "z=====20\n",
        "z=====21\n",
        "z=====22\n",
        "z=====23\n",
        "z=====24"
       ]
      },
      {
       "output_type": "stream",
       "stream": "stdout",
       "text": [
        "\n",
        "z=====25\n",
        "z=====26\n",
        "z=====27\n",
        "z=====28\n",
        "z=====29\n",
        "z=====30"
       ]
      },
      {
       "output_type": "stream",
       "stream": "stdout",
       "text": [
        "\n",
        "z=====31\n",
        "z=====32\n",
        "z=====33\n",
        "z=====34\n",
        "z=====35"
       ]
      },
      {
       "output_type": "stream",
       "stream": "stdout",
       "text": [
        "\n",
        "z=====36\n",
        "z=====37\n",
        "z=====38\n",
        "z=====39\n",
        "z=====40\n",
        "z=====41"
       ]
      },
      {
       "output_type": "stream",
       "stream": "stdout",
       "text": [
        "\n",
        "z=====42\n",
        "z=====43\n",
        "z=====44\n",
        "z=====45\n",
        "z=====46"
       ]
      },
      {
       "output_type": "stream",
       "stream": "stdout",
       "text": [
        "\n",
        "z=====47\n",
        "z=====48\n",
        "z=====49\n",
        "z=====50\n",
        "z=====51\n",
        "z=====52"
       ]
      },
      {
       "output_type": "stream",
       "stream": "stdout",
       "text": [
        "\n",
        "z=====53\n",
        "z=====54\n",
        "z=====55\n",
        "z=====56\n",
        "z=====57"
       ]
      },
      {
       "output_type": "stream",
       "stream": "stdout",
       "text": [
        "\n",
        "z=====58\n",
        "z=====59\n",
        "z=====60\n",
        "z=====61\n",
        "z=====62\n",
        "z=====63"
       ]
      },
      {
       "output_type": "stream",
       "stream": "stdout",
       "text": [
        "\n",
        "z=====64\n",
        "z=====65\n",
        "z=====66\n",
        "z=====67\n",
        "z=====68"
       ]
      },
      {
       "output_type": "stream",
       "stream": "stdout",
       "text": [
        "\n",
        "z=====69\n",
        "z=====70\n",
        "z=====71\n",
        "z=====72\n",
        "z=====73\n",
        "z=====74"
       ]
      },
      {
       "output_type": "stream",
       "stream": "stdout",
       "text": [
        "\n",
        "z=====75\n",
        "z=====76\n",
        "z=====77\n",
        "z=====78\n",
        "z=====79"
       ]
      },
      {
       "output_type": "stream",
       "stream": "stdout",
       "text": [
        "\n",
        "z=====80\n",
        "z=====81\n",
        "z=====82\n",
        "z=====83\n",
        "z=====84\n",
        "z=====85"
       ]
      },
      {
       "output_type": "stream",
       "stream": "stdout",
       "text": [
        "\n",
        "z=====86\n",
        "z=====87\n",
        "z=====88\n",
        "z=====89\n",
        "z=====90"
       ]
      },
      {
       "output_type": "stream",
       "stream": "stdout",
       "text": [
        "\n",
        "z=====91\n",
        "z=====92\n",
        "z=====93\n",
        "z=====94\n",
        "z=====95\n",
        "z=====96"
       ]
      },
      {
       "output_type": "stream",
       "stream": "stdout",
       "text": [
        "\n",
        "z=====97\n",
        "z=====98\n",
        "z=====99\n",
        "z=====100\n",
        "z=====101"
       ]
      },
      {
       "output_type": "stream",
       "stream": "stdout",
       "text": [
        "\n",
        "6\n",
        "r==========7\n",
        "z=====1\n",
        "z=====2\n",
        "z=====3\n",
        "z=====4\n",
        "z=====5\n",
        "z=====6"
       ]
      },
      {
       "output_type": "stream",
       "stream": "stdout",
       "text": [
        "\n",
        "z=====7\n",
        "z=====8\n",
        "z=====9\n",
        "z=====10\n",
        "z=====11"
       ]
      },
      {
       "output_type": "stream",
       "stream": "stdout",
       "text": [
        "\n",
        "z=====12\n",
        "z=====13\n",
        "z=====14\n",
        "z=====15\n",
        "z=====16\n",
        "z=====17"
       ]
      },
      {
       "output_type": "stream",
       "stream": "stdout",
       "text": [
        "\n",
        "z=====18\n",
        "z=====19\n",
        "z=====20\n",
        "z=====21\n",
        "z=====22"
       ]
      },
      {
       "output_type": "stream",
       "stream": "stdout",
       "text": [
        "\n",
        "z=====23\n",
        "z=====24\n",
        "z=====25\n",
        "z=====26\n",
        "z=====27\n",
        "z=====28"
       ]
      },
      {
       "output_type": "stream",
       "stream": "stdout",
       "text": [
        "\n",
        "z=====29\n",
        "z=====30\n",
        "z=====31\n",
        "z=====32\n",
        "z=====33"
       ]
      },
      {
       "output_type": "stream",
       "stream": "stdout",
       "text": [
        "\n",
        "z=====34\n",
        "z=====35\n",
        "z=====36\n",
        "z=====37\n",
        "z=====38\n",
        "z=====39"
       ]
      },
      {
       "output_type": "stream",
       "stream": "stdout",
       "text": [
        "\n",
        "z=====40\n",
        "z=====41\n",
        "z=====42\n",
        "z=====43\n",
        "z=====44"
       ]
      },
      {
       "output_type": "stream",
       "stream": "stdout",
       "text": [
        "\n",
        "z=====45\n",
        "z=====46\n",
        "z=====47\n",
        "z=====48\n",
        "z=====49\n",
        "z=====50"
       ]
      },
      {
       "output_type": "stream",
       "stream": "stdout",
       "text": [
        "\n",
        "z=====51\n",
        "z=====52\n",
        "z=====53\n",
        "z=====54\n",
        "z=====55"
       ]
      },
      {
       "output_type": "stream",
       "stream": "stdout",
       "text": [
        "\n",
        "z=====56\n",
        "z=====57\n",
        "z=====58\n",
        "z=====59\n",
        "z=====60\n",
        "z=====61"
       ]
      },
      {
       "output_type": "stream",
       "stream": "stdout",
       "text": [
        "\n",
        "z=====62\n",
        "z=====63\n",
        "z=====64\n",
        "z=====65\n",
        "z=====66"
       ]
      },
      {
       "output_type": "stream",
       "stream": "stdout",
       "text": [
        "\n",
        "z=====67\n",
        "z=====68\n",
        "z=====69\n",
        "z=====70\n",
        "z=====71\n",
        "z=====72"
       ]
      },
      {
       "output_type": "stream",
       "stream": "stdout",
       "text": [
        "\n",
        "z=====73\n",
        "z=====74\n",
        "z=====75\n",
        "z=====76\n",
        "z=====77"
       ]
      },
      {
       "output_type": "stream",
       "stream": "stdout",
       "text": [
        "\n",
        "z=====78\n",
        "z=====79\n",
        "z=====80\n",
        "z=====81\n",
        "z=====82\n",
        "z=====83"
       ]
      },
      {
       "output_type": "stream",
       "stream": "stdout",
       "text": [
        "\n",
        "z=====84\n",
        "z=====85\n",
        "z=====86\n",
        "z=====87\n",
        "z=====88"
       ]
      },
      {
       "output_type": "stream",
       "stream": "stdout",
       "text": [
        "\n",
        "z=====89\n",
        "z=====90\n",
        "z=====91\n",
        "z=====92\n",
        "z=====93\n",
        "z=====94"
       ]
      },
      {
       "output_type": "stream",
       "stream": "stdout",
       "text": [
        "\n",
        "z=====95\n",
        "z=====96\n",
        "z=====97\n",
        "z=====98\n",
        "z=====99"
       ]
      },
      {
       "output_type": "stream",
       "stream": "stdout",
       "text": [
        "\n",
        "z=====100\n",
        "z=====101\n",
        "7\n",
        "r==========8\n",
        "z=====1\n",
        "z=====2\n",
        "z=====3\n",
        "z=====4"
       ]
      },
      {
       "output_type": "stream",
       "stream": "stdout",
       "text": [
        "\n",
        "z=====5\n",
        "z=====6\n",
        "z=====7\n",
        "z=====8\n",
        "z=====9"
       ]
      },
      {
       "output_type": "stream",
       "stream": "stdout",
       "text": [
        "\n",
        "z=====10\n",
        "z=====11\n",
        "z=====12\n",
        "z=====13\n",
        "z=====14\n",
        "z=====15"
       ]
      },
      {
       "output_type": "stream",
       "stream": "stdout",
       "text": [
        "\n",
        "z=====16\n",
        "z=====17\n",
        "z=====18\n",
        "z=====19\n",
        "z=====20"
       ]
      },
      {
       "output_type": "stream",
       "stream": "stdout",
       "text": [
        "\n",
        "z=====21\n",
        "z=====22\n",
        "z=====23\n",
        "z=====24\n",
        "z=====25\n",
        "z=====26"
       ]
      },
      {
       "output_type": "stream",
       "stream": "stdout",
       "text": [
        "\n",
        "z=====27\n",
        "z=====28\n",
        "z=====29\n",
        "z=====30\n",
        "z=====31"
       ]
      },
      {
       "output_type": "stream",
       "stream": "stdout",
       "text": [
        "\n",
        "z=====32\n",
        "z=====33\n",
        "z=====34\n",
        "z=====35\n",
        "z=====36\n",
        "z=====37"
       ]
      },
      {
       "output_type": "stream",
       "stream": "stdout",
       "text": [
        "\n",
        "z=====38\n",
        "z=====39\n",
        "z=====40\n",
        "z=====41\n",
        "z=====42"
       ]
      },
      {
       "output_type": "stream",
       "stream": "stdout",
       "text": [
        "\n",
        "z=====43\n",
        "z=====44\n",
        "z=====45\n",
        "z=====46\n",
        "z=====47\n",
        "z=====48"
       ]
      },
      {
       "output_type": "stream",
       "stream": "stdout",
       "text": [
        "\n",
        "z=====49\n",
        "z=====50\n",
        "z=====51\n",
        "z=====52\n",
        "z=====53"
       ]
      },
      {
       "output_type": "stream",
       "stream": "stdout",
       "text": [
        "\n",
        "z=====54\n",
        "z=====55\n",
        "z=====56\n",
        "z=====57\n",
        "z=====58\n",
        "z=====59"
       ]
      },
      {
       "output_type": "stream",
       "stream": "stdout",
       "text": [
        "\n",
        "z=====60\n",
        "z=====61\n",
        "z=====62\n",
        "z=====63"
       ]
      },
      {
       "output_type": "stream",
       "stream": "stdout",
       "text": [
        "\n",
        "z=====64\n",
        "z=====65"
       ]
      },
      {
       "output_type": "stream",
       "stream": "stdout",
       "text": [
        "\n",
        "z=====66\n",
        "z=====67\n",
        "z=====68\n",
        "z=====69"
       ]
      },
      {
       "output_type": "stream",
       "stream": "stdout",
       "text": [
        "\n",
        "z=====70\n",
        "z=====71\n",
        "z=====72\n",
        "z=====73\n",
        "z=====74"
       ]
      },
      {
       "output_type": "stream",
       "stream": "stdout",
       "text": [
        "\n",
        "z=====75\n",
        "z=====76\n",
        "z=====77"
       ]
      },
      {
       "output_type": "stream",
       "stream": "stdout",
       "text": [
        "\n",
        "z=====78\n",
        "z=====79\n",
        "z=====80\n",
        "z=====81\n",
        "z=====82\n",
        "z=====83"
       ]
      },
      {
       "output_type": "stream",
       "stream": "stdout",
       "text": [
        "\n",
        "z=====84\n",
        "z=====85\n",
        "z=====86"
       ]
      },
      {
       "output_type": "stream",
       "stream": "stdout",
       "text": [
        "\n",
        "z=====87\n",
        "z=====88\n",
        "z=====89\n",
        "z=====90\n",
        "z=====91\n",
        "z=====92"
       ]
      },
      {
       "output_type": "stream",
       "stream": "stdout",
       "text": [
        "\n",
        "z=====93\n",
        "z=====94\n",
        "z=====95\n",
        "z=====96\n",
        "z=====97"
       ]
      },
      {
       "output_type": "stream",
       "stream": "stdout",
       "text": [
        "\n",
        "z=====98\n",
        "z=====99\n",
        "z=====100\n",
        "z=====101\n",
        "8\n",
        "r==========9\n",
        "z=====1\n",
        "z=====2"
       ]
      },
      {
       "output_type": "stream",
       "stream": "stdout",
       "text": [
        "\n",
        "z=====3\n",
        "z=====4\n",
        "z=====5\n",
        "z=====6\n",
        "z=====7"
       ]
      },
      {
       "output_type": "stream",
       "stream": "stdout",
       "text": [
        "\n",
        "z=====8\n",
        "z=====9\n",
        "z=====10\n",
        "z=====11\n",
        "z=====12"
       ]
      },
      {
       "output_type": "stream",
       "stream": "stdout",
       "text": [
        "\n",
        "z=====13\n",
        "z=====14\n",
        "z=====15\n",
        "z=====16\n",
        "z=====17\n",
        "z=====18"
       ]
      },
      {
       "output_type": "stream",
       "stream": "stdout",
       "text": [
        "\n",
        "z=====19\n",
        "z=====20\n",
        "z=====21\n",
        "z=====22"
       ]
      },
      {
       "output_type": "stream",
       "stream": "stdout",
       "text": [
        "\n",
        "z=====23\n",
        "z=====24\n",
        "z=====25\n",
        "z=====26"
       ]
      },
      {
       "output_type": "stream",
       "stream": "stdout",
       "text": [
        "\n",
        "z=====27\n",
        "z=====28\n",
        "z=====29"
       ]
      },
      {
       "output_type": "stream",
       "stream": "stdout",
       "text": [
        "\n",
        "z=====30\n",
        "z=====31\n",
        "z=====32\n",
        "z=====33\n",
        "z=====34\n",
        "z=====35"
       ]
      },
      {
       "output_type": "stream",
       "stream": "stdout",
       "text": [
        "\n",
        "z=====36\n",
        "z=====37\n",
        "z=====38\n",
        "z=====39"
       ]
      },
      {
       "output_type": "stream",
       "stream": "stdout",
       "text": [
        "\n",
        "z=====40\n",
        "z=====41"
       ]
      },
      {
       "output_type": "stream",
       "stream": "stdout",
       "text": [
        "\n",
        "z=====42\n",
        "z=====43\n",
        "z=====44\n",
        "z=====45\n",
        "z=====46\n",
        "z=====47"
       ]
      },
      {
       "output_type": "stream",
       "stream": "stdout",
       "text": [
        "\n",
        "z=====48\n",
        "z=====49\n",
        "z=====50\n",
        "z=====51"
       ]
      },
      {
       "output_type": "stream",
       "stream": "stdout",
       "text": [
        "\n",
        "z=====52\n",
        "z=====53\n",
        "z=====54\n",
        "z=====55\n",
        "z=====56"
       ]
      },
      {
       "output_type": "stream",
       "stream": "stdout",
       "text": [
        "\n",
        "z=====57\n",
        "z=====58\n",
        "z=====59\n",
        "z=====60\n",
        "z=====61\n",
        "z=====62"
       ]
      },
      {
       "output_type": "stream",
       "stream": "stdout",
       "text": [
        "\n",
        "z=====63\n",
        "z=====64\n",
        "z=====65\n",
        "z=====66\n",
        "z=====67"
       ]
      },
      {
       "output_type": "stream",
       "stream": "stdout",
       "text": [
        "\n",
        "z=====68\n",
        "z=====69\n",
        "z=====70\n",
        "z=====71"
       ]
      },
      {
       "output_type": "stream",
       "stream": "stdout",
       "text": [
        "\n",
        "z=====72\n",
        "z=====73"
       ]
      },
      {
       "output_type": "stream",
       "stream": "stdout",
       "text": [
        "\n",
        "z=====74\n",
        "z=====75\n",
        "z=====76\n",
        "z=====77\n",
        "z=====78\n",
        "z=====79"
       ]
      },
      {
       "output_type": "stream",
       "stream": "stdout",
       "text": [
        "\n",
        "z=====80\n",
        "z=====81\n",
        "z=====82\n",
        "z=====83\n",
        "z=====84"
       ]
      },
      {
       "output_type": "stream",
       "stream": "stdout",
       "text": [
        "\n",
        "z=====85\n",
        "z=====86\n",
        "z=====87\n",
        "z=====88\n",
        "z=====89\n",
        "z=====90"
       ]
      },
      {
       "output_type": "stream",
       "stream": "stdout",
       "text": [
        "\n",
        "z=====91\n",
        "z=====92\n",
        "z=====93\n",
        "z=====94\n",
        "z=====95"
       ]
      },
      {
       "output_type": "stream",
       "stream": "stdout",
       "text": [
        "\n",
        "z=====96\n",
        "z=====97\n",
        "z=====98\n",
        "z=====99\n",
        "z=====100\n",
        "z=====101"
       ]
      },
      {
       "output_type": "stream",
       "stream": "stdout",
       "text": [
        "\n",
        "9\n",
        "r==========10\n",
        "z=====1\n",
        "z=====2\n",
        "z=====3\n",
        "z=====4"
       ]
      },
      {
       "output_type": "stream",
       "stream": "stdout",
       "text": [
        "\n",
        "z=====5\n",
        "z=====6\n",
        "z=====7\n",
        "z=====8\n",
        "z=====9\n",
        "z=====10"
       ]
      },
      {
       "output_type": "stream",
       "stream": "stdout",
       "text": [
        "\n",
        "z=====11\n",
        "z=====12\n",
        "z=====13\n",
        "z=====14\n",
        "z=====15"
       ]
      },
      {
       "output_type": "stream",
       "stream": "stdout",
       "text": [
        "\n",
        "z=====16\n",
        "z=====17\n",
        "z=====18\n",
        "z=====19\n",
        "z=====20\n",
        "z=====21"
       ]
      },
      {
       "output_type": "stream",
       "stream": "stdout",
       "text": [
        "\n",
        "z=====22\n",
        "z=====23\n",
        "z=====24\n",
        "z=====25\n",
        "z=====26"
       ]
      },
      {
       "output_type": "stream",
       "stream": "stdout",
       "text": [
        "\n",
        "z=====27\n",
        "z=====28\n",
        "z=====29\n",
        "z=====30\n",
        "z=====31\n",
        "z=====32"
       ]
      },
      {
       "output_type": "stream",
       "stream": "stdout",
       "text": [
        "\n",
        "z=====33\n",
        "z=====34\n",
        "z=====35\n",
        "z=====36\n",
        "z=====37"
       ]
      },
      {
       "output_type": "stream",
       "stream": "stdout",
       "text": [
        "\n",
        "z=====38\n",
        "z=====39\n",
        "z=====40\n",
        "z=====41\n",
        "z=====42\n",
        "z=====43\n",
        "z=====44"
       ]
      },
      {
       "output_type": "stream",
       "stream": "stdout",
       "text": [
        "\n",
        "z=====45\n",
        "z=====46\n",
        "z=====47\n",
        "z=====48"
       ]
      },
      {
       "output_type": "stream",
       "stream": "stdout",
       "text": [
        "\n",
        "z=====49\n",
        "z=====50\n",
        "z=====51\n",
        "z=====52\n",
        "z=====53\n",
        "z=====54\n",
        "z=====55"
       ]
      },
      {
       "output_type": "stream",
       "stream": "stdout",
       "text": [
        "\n",
        "z=====56\n",
        "z=====57\n",
        "z=====58\n",
        "z=====59"
       ]
      },
      {
       "output_type": "stream",
       "stream": "stdout",
       "text": [
        "\n",
        "z=====60\n",
        "z=====61\n",
        "z=====62\n",
        "z=====63\n",
        "z=====64\n",
        "z=====65"
       ]
      },
      {
       "output_type": "stream",
       "stream": "stdout",
       "text": [
        "\n",
        "z=====66\n",
        "z=====67\n",
        "z=====68\n",
        "z=====69\n",
        "z=====70"
       ]
      },
      {
       "output_type": "stream",
       "stream": "stdout",
       "text": [
        "\n",
        "z=====71\n",
        "z=====72\n",
        "z=====73\n",
        "z=====74\n",
        "z=====75\n",
        "z=====76"
       ]
      },
      {
       "output_type": "stream",
       "stream": "stdout",
       "text": [
        "\n",
        "z=====77\n",
        "z=====78\n",
        "z=====79\n",
        "z=====80\n",
        "z=====81"
       ]
      },
      {
       "output_type": "stream",
       "stream": "stdout",
       "text": [
        "\n",
        "z=====82\n",
        "z=====83\n",
        "z=====84\n",
        "z=====85\n",
        "z=====86\n",
        "z=====87"
       ]
      },
      {
       "output_type": "stream",
       "stream": "stdout",
       "text": [
        "\n",
        "z=====88\n",
        "z=====89\n",
        "z=====90\n",
        "z=====91\n",
        "z=====92"
       ]
      },
      {
       "output_type": "stream",
       "stream": "stdout",
       "text": [
        "\n",
        "z=====93\n",
        "z=====94\n",
        "z=====95\n",
        "z=====96\n",
        "z=====97\n",
        "z=====98"
       ]
      },
      {
       "output_type": "stream",
       "stream": "stdout",
       "text": [
        "\n",
        "z=====99\n",
        "z=====100\n",
        "z=====101\n",
        "10\n",
        "r==========11\n",
        "z=====1\n",
        "z=====2"
       ]
      },
      {
       "output_type": "stream",
       "stream": "stdout",
       "text": [
        "\n",
        "z=====3\n",
        "z=====4\n",
        "z=====5\n",
        "z=====6\n",
        "z=====7\n",
        "z=====8"
       ]
      },
      {
       "output_type": "stream",
       "stream": "stdout",
       "text": [
        "\n",
        "z=====9\n",
        "z=====10\n",
        "z=====11\n",
        "z=====12\n",
        "z=====13"
       ]
      },
      {
       "output_type": "stream",
       "stream": "stdout",
       "text": [
        "\n",
        "z=====14\n",
        "z=====15\n",
        "z=====16\n",
        "z=====17\n",
        "z=====18\n",
        "z=====19"
       ]
      },
      {
       "output_type": "stream",
       "stream": "stdout",
       "text": [
        "\n",
        "z=====20\n",
        "z=====21\n",
        "z=====22\n",
        "z=====23\n",
        "z=====24"
       ]
      },
      {
       "output_type": "stream",
       "stream": "stdout",
       "text": [
        "\n",
        "z=====25\n",
        "z=====26\n",
        "z=====27\n",
        "z=====28\n",
        "z=====29\n",
        "z=====30"
       ]
      },
      {
       "output_type": "stream",
       "stream": "stdout",
       "text": [
        "\n",
        "z=====31\n",
        "z=====32\n",
        "z=====33\n",
        "z=====34\n",
        "z=====35"
       ]
      },
      {
       "output_type": "stream",
       "stream": "stdout",
       "text": [
        "\n",
        "z=====36\n",
        "z=====37\n",
        "z=====38\n",
        "z=====39\n",
        "z=====40\n",
        "z=====41"
       ]
      },
      {
       "output_type": "stream",
       "stream": "stdout",
       "text": [
        "\n",
        "z=====42\n",
        "z=====43\n",
        "z=====44\n",
        "z=====45\n",
        "z=====46"
       ]
      },
      {
       "output_type": "stream",
       "stream": "stdout",
       "text": [
        "\n",
        "z=====47\n",
        "z=====48\n",
        "z=====49\n",
        "z=====50\n",
        "z=====51\n",
        "z=====52"
       ]
      },
      {
       "output_type": "stream",
       "stream": "stdout",
       "text": [
        "\n",
        "z=====53\n",
        "z=====54\n",
        "z=====55\n",
        "z=====56\n",
        "z=====57"
       ]
      },
      {
       "output_type": "stream",
       "stream": "stdout",
       "text": [
        "\n",
        "z=====58\n",
        "z=====59\n",
        "z=====60\n",
        "z=====61\n",
        "z=====62\n",
        "z=====63"
       ]
      },
      {
       "output_type": "stream",
       "stream": "stdout",
       "text": [
        "\n",
        "z=====64\n",
        "z=====65\n",
        "z=====66\n",
        "z=====67\n",
        "z=====68"
       ]
      },
      {
       "output_type": "stream",
       "stream": "stdout",
       "text": [
        "\n",
        "z=====69\n",
        "z=====70\n",
        "z=====71\n",
        "z=====72\n",
        "z=====73\n",
        "z=====74"
       ]
      },
      {
       "output_type": "stream",
       "stream": "stdout",
       "text": [
        "\n",
        "z=====75\n",
        "z=====76\n",
        "z=====77\n",
        "z=====78\n",
        "z=====79"
       ]
      },
      {
       "output_type": "stream",
       "stream": "stdout",
       "text": [
        "\n",
        "z=====80\n",
        "z=====81\n",
        "z=====82\n",
        "z=====83\n",
        "z=====84\n",
        "z=====85"
       ]
      },
      {
       "output_type": "stream",
       "stream": "stdout",
       "text": [
        "\n",
        "z=====86\n",
        "z=====87\n",
        "z=====88\n",
        "z=====89\n",
        "z=====90"
       ]
      },
      {
       "output_type": "stream",
       "stream": "stdout",
       "text": [
        "\n",
        "z=====91\n",
        "z=====92\n",
        "z=====93\n",
        "z=====94\n",
        "z=====95\n",
        "z=====96"
       ]
      },
      {
       "output_type": "stream",
       "stream": "stdout",
       "text": [
        "\n",
        "z=====97\n",
        "z=====98\n",
        "z=====99\n",
        "z=====100\n",
        "z=====101"
       ]
      },
      {
       "output_type": "stream",
       "stream": "stdout",
       "text": [
        "\n",
        "11\n",
        "r==========12\n",
        "z=====1\n",
        "z=====2\n",
        "z=====3\n",
        "z=====4\n",
        "z=====5\n",
        "z=====6"
       ]
      },
      {
       "output_type": "stream",
       "stream": "stdout",
       "text": [
        "\n",
        "z=====7\n",
        "z=====8\n",
        "z=====9\n",
        "z=====10\n",
        "z=====11"
       ]
      },
      {
       "output_type": "stream",
       "stream": "stdout",
       "text": [
        "\n",
        "z=====12\n",
        "z=====13\n",
        "z=====14\n",
        "z=====15\n",
        "z=====16\n",
        "z=====17"
       ]
      },
      {
       "output_type": "stream",
       "stream": "stdout",
       "text": [
        "\n",
        "z=====18\n",
        "z=====19\n",
        "z=====20\n",
        "z=====21\n",
        "z=====22"
       ]
      },
      {
       "output_type": "stream",
       "stream": "stdout",
       "text": [
        "\n",
        "z=====23\n",
        "z=====24\n",
        "z=====25\n",
        "z=====26\n",
        "z=====27\n",
        "z=====28"
       ]
      },
      {
       "output_type": "stream",
       "stream": "stdout",
       "text": [
        "\n",
        "z=====29\n",
        "z=====30\n",
        "z=====31\n",
        "z=====32\n",
        "z=====33"
       ]
      },
      {
       "output_type": "stream",
       "stream": "stdout",
       "text": [
        "\n",
        "z=====34\n",
        "z=====35\n",
        "z=====36\n",
        "z=====37\n",
        "z=====38\n",
        "z=====39"
       ]
      },
      {
       "output_type": "stream",
       "stream": "stdout",
       "text": [
        "\n",
        "z=====40\n",
        "z=====41\n",
        "z=====42\n",
        "z=====43\n",
        "z=====44"
       ]
      },
      {
       "output_type": "stream",
       "stream": "stdout",
       "text": [
        "\n",
        "z=====45\n",
        "z=====46\n",
        "z=====47\n",
        "z=====48\n",
        "z=====49\n",
        "z=====50"
       ]
      },
      {
       "output_type": "stream",
       "stream": "stdout",
       "text": [
        "\n",
        "z=====51\n",
        "z=====52\n",
        "z=====53\n",
        "z=====54\n",
        "z=====55"
       ]
      },
      {
       "output_type": "stream",
       "stream": "stdout",
       "text": [
        "\n",
        "z=====56\n",
        "z=====57\n",
        "z=====58\n",
        "z=====59\n",
        "z=====60\n",
        "z=====61"
       ]
      },
      {
       "output_type": "stream",
       "stream": "stdout",
       "text": [
        "\n",
        "z=====62\n",
        "z=====63\n",
        "z=====64\n",
        "z=====65\n",
        "z=====66"
       ]
      },
      {
       "output_type": "stream",
       "stream": "stdout",
       "text": [
        "\n",
        "z=====67\n",
        "z=====68\n",
        "z=====69\n",
        "z=====70\n",
        "z=====71\n",
        "z=====72"
       ]
      },
      {
       "output_type": "stream",
       "stream": "stdout",
       "text": [
        "\n",
        "z=====73\n",
        "z=====74\n",
        "z=====75\n",
        "z=====76\n",
        "z=====77"
       ]
      },
      {
       "output_type": "stream",
       "stream": "stdout",
       "text": [
        "\n",
        "z=====78\n",
        "z=====79\n",
        "z=====80\n",
        "z=====81\n",
        "z=====82\n",
        "z=====83"
       ]
      },
      {
       "output_type": "stream",
       "stream": "stdout",
       "text": [
        "\n",
        "z=====84\n",
        "z=====85\n",
        "z=====86\n",
        "z=====87\n",
        "z=====88"
       ]
      },
      {
       "output_type": "stream",
       "stream": "stdout",
       "text": [
        "\n",
        "z=====89\n",
        "z=====90\n",
        "z=====91\n",
        "z=====92\n",
        "z=====93\n",
        "z=====94\n",
        "z=====95"
       ]
      },
      {
       "output_type": "stream",
       "stream": "stdout",
       "text": [
        "\n",
        "z=====96\n",
        "z=====97\n",
        "z=====98\n",
        "z=====99"
       ]
      },
      {
       "output_type": "stream",
       "stream": "stdout",
       "text": [
        "\n",
        "z=====100\n",
        "z=====101\n",
        "12\n",
        "r==========13\n",
        "z=====1\n",
        "z=====2\n",
        "z=====3\n",
        "z=====4"
       ]
      },
      {
       "output_type": "stream",
       "stream": "stdout",
       "text": [
        "\n",
        "z=====5\n",
        "z=====6\n",
        "z=====7\n",
        "z=====8\n",
        "z=====9"
       ]
      },
      {
       "output_type": "stream",
       "stream": "stdout",
       "text": [
        "\n",
        "z=====10\n",
        "z=====11\n",
        "z=====12\n",
        "z=====13\n",
        "z=====14\n",
        "z=====15"
       ]
      },
      {
       "output_type": "stream",
       "stream": "stdout",
       "text": [
        "\n",
        "z=====16\n",
        "z=====17\n",
        "z=====18\n",
        "z=====19\n",
        "z=====20"
       ]
      },
      {
       "output_type": "stream",
       "stream": "stdout",
       "text": [
        "\n",
        "z=====21\n",
        "z=====22\n",
        "z=====23\n",
        "z=====24\n",
        "z=====25\n",
        "z=====26"
       ]
      },
      {
       "output_type": "stream",
       "stream": "stdout",
       "text": [
        "\n",
        "z=====27\n",
        "z=====28\n",
        "z=====29\n",
        "z=====30\n",
        "z=====31"
       ]
      },
      {
       "output_type": "stream",
       "stream": "stdout",
       "text": [
        "\n",
        "z=====32\n",
        "z=====33\n",
        "z=====34\n",
        "z=====35\n",
        "z=====36\n",
        "z=====37"
       ]
      },
      {
       "output_type": "stream",
       "stream": "stdout",
       "text": [
        "\n",
        "z=====38\n",
        "z=====39\n",
        "z=====40\n",
        "z=====41\n",
        "z=====42"
       ]
      },
      {
       "output_type": "stream",
       "stream": "stdout",
       "text": [
        "\n",
        "z=====43\n",
        "z=====44\n",
        "z=====45\n",
        "z=====46\n",
        "z=====47\n",
        "z=====48"
       ]
      },
      {
       "output_type": "stream",
       "stream": "stdout",
       "text": [
        "\n",
        "z=====49\n",
        "z=====50\n",
        "z=====51\n",
        "z=====52\n",
        "z=====53"
       ]
      },
      {
       "output_type": "stream",
       "stream": "stdout",
       "text": [
        "\n",
        "z=====54\n",
        "z=====55\n",
        "z=====56\n",
        "z=====57\n",
        "z=====58\n",
        "z=====59"
       ]
      },
      {
       "output_type": "stream",
       "stream": "stdout",
       "text": [
        "\n",
        "z=====60\n",
        "z=====61\n",
        "z=====62\n",
        "z=====63\n",
        "z=====64"
       ]
      },
      {
       "output_type": "stream",
       "stream": "stdout",
       "text": [
        "\n",
        "z=====65\n",
        "z=====66\n",
        "z=====67\n",
        "z=====68\n",
        "z=====69\n",
        "z=====70"
       ]
      },
      {
       "output_type": "stream",
       "stream": "stdout",
       "text": [
        "\n",
        "z=====71\n",
        "z=====72\n",
        "z=====73\n",
        "z=====74\n",
        "z=====75"
       ]
      },
      {
       "output_type": "stream",
       "stream": "stdout",
       "text": [
        "\n",
        "z=====76\n",
        "z=====77\n",
        "z=====78\n",
        "z=====79\n",
        "z=====80\n",
        "z=====81"
       ]
      },
      {
       "output_type": "stream",
       "stream": "stdout",
       "text": [
        "\n",
        "z=====82\n",
        "z=====83\n",
        "z=====84\n",
        "z=====85\n",
        "z=====86"
       ]
      },
      {
       "output_type": "stream",
       "stream": "stdout",
       "text": [
        "\n",
        "z=====87\n",
        "z=====88\n",
        "z=====89\n",
        "z=====90\n",
        "z=====91"
       ]
      },
      {
       "output_type": "stream",
       "stream": "stdout",
       "text": [
        "\n",
        "z=====92\n",
        "z=====93\n",
        "z=====94\n",
        "z=====95"
       ]
      },
      {
       "output_type": "stream",
       "stream": "stdout",
       "text": [
        "\n",
        "z=====96\n",
        "z=====97"
       ]
      },
      {
       "output_type": "stream",
       "stream": "stdout",
       "text": [
        "\n",
        "z=====98\n",
        "z=====99\n",
        "z=====100\n",
        "z=====101\n",
        "13"
       ]
      },
      {
       "output_type": "stream",
       "stream": "stdout",
       "text": [
        "\n",
        "r==========14\n",
        "z=====1\n",
        "z=====2\n",
        "z=====3\n",
        "z=====4\n",
        "z=====5\n",
        "z=====6"
       ]
      },
      {
       "output_type": "stream",
       "stream": "stdout",
       "text": [
        "\n",
        "z=====7\n",
        "z=====8\n",
        "z=====9"
       ]
      },
      {
       "output_type": "stream",
       "stream": "stdout",
       "text": [
        "\n",
        "z=====10\n",
        "z=====11\n",
        "z=====12\n",
        "z=====13\n",
        "z=====14\n",
        "z=====15"
       ]
      },
      {
       "output_type": "stream",
       "stream": "stdout",
       "text": [
        "\n",
        "z=====16\n",
        "z=====17\n",
        "z=====18"
       ]
      },
      {
       "output_type": "stream",
       "stream": "stdout",
       "text": [
        "\n",
        "z=====19\n",
        "z=====20\n",
        "z=====21\n",
        "z=====22\n",
        "z=====23\n",
        "z=====24"
       ]
      },
      {
       "output_type": "stream",
       "stream": "stdout",
       "text": [
        "\n",
        "z=====25\n",
        "z=====26\n",
        "z=====27\n",
        "z=====28"
       ]
      },
      {
       "output_type": "stream",
       "stream": "stdout",
       "text": [
        "\n",
        "z=====29\n",
        "z=====30\n",
        "z=====31\n",
        "z=====32\n",
        "z=====33\n",
        "z=====34"
       ]
      },
      {
       "output_type": "stream",
       "stream": "stdout",
       "text": [
        "\n",
        "z=====35\n",
        "z=====36\n",
        "z=====37\n",
        "z=====38\n",
        "z=====39"
       ]
      },
      {
       "output_type": "stream",
       "stream": "stdout",
       "text": [
        "\n",
        "z=====40\n",
        "z=====41\n",
        "z=====42\n",
        "z=====43\n",
        "z=====44\n",
        "z=====45"
       ]
      },
      {
       "output_type": "stream",
       "stream": "stdout",
       "text": [
        "\n",
        "z=====46\n",
        "z=====47\n",
        "z=====48\n",
        "z=====49\n",
        "z=====50"
       ]
      },
      {
       "output_type": "stream",
       "stream": "stdout",
       "text": [
        "\n",
        "z=====51\n",
        "z=====52\n",
        "z=====53\n",
        "z=====54\n",
        "z=====55"
       ]
      },
      {
       "output_type": "stream",
       "stream": "stdout",
       "text": [
        "\n",
        "z=====56\n",
        "z=====57\n",
        "z=====58\n",
        "z=====59\n",
        "z=====60\n",
        "z=====61"
       ]
      },
      {
       "output_type": "stream",
       "stream": "stdout",
       "text": [
        "\n",
        "z=====62\n",
        "z=====63\n",
        "z=====64\n",
        "z=====65\n",
        "z=====66"
       ]
      },
      {
       "output_type": "stream",
       "stream": "stdout",
       "text": [
        "\n",
        "z=====67\n",
        "z=====68\n",
        "z=====69\n",
        "z=====70\n",
        "z=====71"
       ]
      },
      {
       "output_type": "stream",
       "stream": "stdout",
       "text": [
        "\n",
        "z=====72\n",
        "z=====73"
       ]
      },
      {
       "output_type": "stream",
       "stream": "stdout",
       "text": [
        "\n",
        "z=====74\n",
        "z=====75\n",
        "z=====76\n",
        "z=====77\n",
        "z=====78\n",
        "z=====79"
       ]
      },
      {
       "output_type": "stream",
       "stream": "stdout",
       "text": [
        "\n",
        "z=====80\n",
        "z=====81\n",
        "z=====82\n",
        "z=====83"
       ]
      },
      {
       "output_type": "stream",
       "stream": "stdout",
       "text": [
        "\n",
        "z=====84\n",
        "z=====85\n",
        "z=====86\n",
        "z=====87\n",
        "z=====88"
       ]
      },
      {
       "output_type": "stream",
       "stream": "stdout",
       "text": [
        "\n",
        "z=====89\n",
        "z=====90\n",
        "z=====91\n",
        "z=====92\n",
        "z=====93"
       ]
      },
      {
       "output_type": "stream",
       "stream": "stdout",
       "text": [
        "\n",
        "z=====94\n",
        "z=====95"
       ]
      },
      {
       "output_type": "stream",
       "stream": "stdout",
       "text": [
        "\n",
        "z=====96\n",
        "z=====97\n",
        "z=====98\n",
        "z=====99\n",
        "z=====100"
       ]
      },
      {
       "output_type": "stream",
       "stream": "stdout",
       "text": [
        "\n",
        "z=====101\n",
        "14\n",
        "r==========15\n",
        "z=====1\n",
        "z=====2\n",
        "z=====3\n",
        "z=====4"
       ]
      },
      {
       "output_type": "stream",
       "stream": "stdout",
       "text": [
        "\n",
        "z=====5\n",
        "z=====6\n",
        "z=====7\n",
        "z=====8\n",
        "z=====9\n",
        "z=====10"
       ]
      },
      {
       "output_type": "stream",
       "stream": "stdout",
       "text": [
        "\n",
        "z=====11\n",
        "z=====12\n",
        "z=====13\n",
        "z=====14\n",
        "z=====15"
       ]
      },
      {
       "output_type": "stream",
       "stream": "stdout",
       "text": [
        "\n",
        "z=====16\n",
        "z=====17\n",
        "z=====18\n",
        "z=====19\n",
        "z=====20\n",
        "z=====21"
       ]
      },
      {
       "output_type": "stream",
       "stream": "stdout",
       "text": [
        "\n",
        "z=====22\n",
        "z=====23\n",
        "z=====24\n",
        "z=====25\n",
        "z=====26"
       ]
      },
      {
       "output_type": "stream",
       "stream": "stdout",
       "text": [
        "\n",
        "z=====27\n",
        "z=====28\n",
        "z=====29\n",
        "z=====30\n",
        "z=====31\n",
        "z=====32"
       ]
      },
      {
       "output_type": "stream",
       "stream": "stdout",
       "text": [
        "\n",
        "z=====33\n",
        "z=====34\n",
        "z=====35\n",
        "z=====36\n",
        "z=====37"
       ]
      },
      {
       "output_type": "stream",
       "stream": "stdout",
       "text": [
        "\n",
        "z=====38\n",
        "z=====39\n",
        "z=====40\n",
        "z=====41\n",
        "z=====42\n",
        "z=====43"
       ]
      },
      {
       "output_type": "stream",
       "stream": "stdout",
       "text": [
        "\n",
        "z=====44\n",
        "z=====45\n",
        "z=====46\n",
        "z=====47\n",
        "z=====48"
       ]
      },
      {
       "output_type": "stream",
       "stream": "stdout",
       "text": [
        "\n",
        "z=====49\n",
        "z=====50\n",
        "z=====51\n",
        "z=====52\n",
        "z=====53\n",
        "z=====54"
       ]
      },
      {
       "output_type": "stream",
       "stream": "stdout",
       "text": [
        "\n",
        "z=====55\n",
        "z=====56\n",
        "z=====57\n",
        "z=====58\n",
        "z=====59"
       ]
      },
      {
       "output_type": "stream",
       "stream": "stdout",
       "text": [
        "\n",
        "z=====60\n",
        "z=====61\n",
        "z=====62\n",
        "z=====63\n",
        "z=====64\n",
        "z=====65"
       ]
      },
      {
       "output_type": "stream",
       "stream": "stdout",
       "text": [
        "\n",
        "z=====66\n",
        "z=====67\n",
        "z=====68\n",
        "z=====69\n",
        "z=====70"
       ]
      },
      {
       "output_type": "stream",
       "stream": "stdout",
       "text": [
        "\n",
        "z=====71\n",
        "z=====72\n",
        "z=====73\n",
        "z=====74\n",
        "z=====75\n",
        "z=====76"
       ]
      },
      {
       "output_type": "stream",
       "stream": "stdout",
       "text": [
        "\n",
        "z=====77\n",
        "z=====78\n",
        "z=====79\n",
        "z=====80\n",
        "z=====81"
       ]
      },
      {
       "output_type": "stream",
       "stream": "stdout",
       "text": [
        "\n",
        "z=====82\n",
        "z=====83\n",
        "z=====84\n",
        "z=====85\n",
        "z=====86\n",
        "z=====87"
       ]
      },
      {
       "output_type": "stream",
       "stream": "stdout",
       "text": [
        "\n",
        "z=====88\n",
        "z=====89\n",
        "z=====90\n",
        "z=====91\n",
        "z=====92"
       ]
      },
      {
       "output_type": "stream",
       "stream": "stdout",
       "text": [
        "\n",
        "z=====93\n",
        "z=====94\n",
        "z=====95\n",
        "z=====96\n",
        "z=====97\n",
        "z=====98"
       ]
      },
      {
       "output_type": "stream",
       "stream": "stdout",
       "text": [
        "\n",
        "z=====99\n",
        "z=====100\n",
        "z=====101\n",
        "15\n",
        "r==========16\n",
        "z=====1\n",
        "z=====2"
       ]
      },
      {
       "output_type": "stream",
       "stream": "stdout",
       "text": [
        "\n",
        "z=====3\n",
        "z=====4\n",
        "z=====5\n",
        "z=====6\n",
        "z=====7\n",
        "z=====8"
       ]
      },
      {
       "output_type": "stream",
       "stream": "stdout",
       "text": [
        "\n",
        "z=====9\n",
        "z=====10\n",
        "z=====11\n",
        "z=====12\n",
        "z=====13"
       ]
      },
      {
       "output_type": "stream",
       "stream": "stdout",
       "text": [
        "\n",
        "z=====14\n",
        "z=====15\n",
        "z=====16\n",
        "z=====17\n",
        "z=====18"
       ]
      },
      {
       "output_type": "stream",
       "stream": "stdout",
       "text": [
        "\n",
        "z=====19\n",
        "z=====20\n",
        "z=====21\n",
        "z=====22\n",
        "z=====23"
       ]
      },
      {
       "output_type": "stream",
       "stream": "stdout",
       "text": [
        "\n",
        "z=====24\n",
        "z=====25"
       ]
      },
      {
       "output_type": "stream",
       "stream": "stdout",
       "text": [
        "\n",
        "z=====26\n",
        "z=====27\n",
        "z=====28\n",
        "z=====29"
       ]
      },
      {
       "output_type": "stream",
       "stream": "stdout",
       "text": [
        "\n",
        "z=====30\n",
        "z=====31\n",
        "z=====32\n",
        "z=====33\n",
        "z=====34"
       ]
      },
      {
       "output_type": "stream",
       "stream": "stdout",
       "text": [
        "\n",
        "z=====35\n",
        "z=====36\n",
        "z=====37"
       ]
      },
      {
       "output_type": "stream",
       "stream": "stdout",
       "text": [
        "\n",
        "z=====38\n",
        "z=====39\n",
        "z=====40\n",
        "z=====41\n",
        "z=====42"
       ]
      },
      {
       "output_type": "stream",
       "stream": "stdout",
       "text": [
        "\n",
        "z=====43\n",
        "z=====44\n",
        "z=====45\n",
        "z=====46"
       ]
      },
      {
       "output_type": "stream",
       "stream": "stdout",
       "text": [
        "\n",
        "z=====47\n",
        "z=====48\n",
        "z=====49\n",
        "z=====50"
       ]
      },
      {
       "output_type": "stream",
       "stream": "stdout",
       "text": [
        "\n",
        "z=====51\n",
        "z=====52\n",
        "z=====53\n",
        "z=====54\n",
        "z=====55"
       ]
      },
      {
       "output_type": "stream",
       "stream": "stdout",
       "text": [
        "\n",
        "z=====56\n",
        "z=====57\n",
        "z=====58"
       ]
      },
      {
       "output_type": "stream",
       "stream": "stdout",
       "text": [
        "\n",
        "z=====59\n",
        "z=====60\n",
        "z=====61\n",
        "z=====62\n",
        "z=====63"
       ]
      },
      {
       "output_type": "stream",
       "stream": "stdout",
       "text": [
        "\n",
        "z=====64\n",
        "z=====65\n",
        "z=====66\n",
        "z=====67\n",
        "z=====68"
       ]
      },
      {
       "output_type": "stream",
       "stream": "stdout",
       "text": [
        "\n",
        "z=====69\n",
        "z=====70\n",
        "z=====71\n",
        "z=====72\n",
        "z=====73\n",
        "z=====74"
       ]
      },
      {
       "output_type": "stream",
       "stream": "stdout",
       "text": [
        "\n",
        "z=====75\n",
        "z=====76\n",
        "z=====77\n",
        "z=====78"
       ]
      },
      {
       "output_type": "stream",
       "stream": "stdout",
       "text": [
        "\n",
        "z=====79\n",
        "z=====80"
       ]
      },
      {
       "output_type": "stream",
       "stream": "stdout",
       "text": [
        "\n",
        "z=====81\n",
        "z=====82\n",
        "z=====83\n",
        "z=====84\n",
        "z=====85\n",
        "z=====86"
       ]
      },
      {
       "output_type": "stream",
       "stream": "stdout",
       "text": [
        "\n",
        "z=====87\n",
        "z=====88\n",
        "z=====89\n",
        "z=====90"
       ]
      },
      {
       "output_type": "stream",
       "stream": "stdout",
       "text": [
        "\n",
        "z=====91\n",
        "z=====92\n",
        "z=====93\n",
        "z=====94\n",
        "z=====95"
       ]
      },
      {
       "output_type": "stream",
       "stream": "stdout",
       "text": [
        "\n",
        "z=====96\n",
        "z=====97\n",
        "z=====98\n",
        "z=====99\n",
        "z=====100"
       ]
      },
      {
       "output_type": "stream",
       "stream": "stdout",
       "text": [
        "\n",
        "z=====101\n",
        "16\n",
        "r==========17\n",
        "z=====1\n",
        "z=====2"
       ]
      },
      {
       "output_type": "stream",
       "stream": "stdout",
       "text": [
        "\n",
        "z=====3\n",
        "z=====4\n",
        "z=====5\n",
        "z=====6\n",
        "z=====7\n",
        "z=====8"
       ]
      },
      {
       "output_type": "stream",
       "stream": "stdout",
       "text": [
        "\n",
        "z=====9\n",
        "z=====10\n",
        "z=====11"
       ]
      },
      {
       "output_type": "stream",
       "stream": "stdout",
       "text": [
        "\n",
        "z=====12\n",
        "z=====13\n",
        "z=====14\n",
        "z=====15\n",
        "z=====16"
       ]
      },
      {
       "output_type": "stream",
       "stream": "stdout",
       "text": [
        "\n",
        "z=====17\n",
        "z=====18\n",
        "z=====19\n",
        "z=====20\n",
        "z=====21\n",
        "z=====22"
       ]
      },
      {
       "output_type": "stream",
       "stream": "stdout",
       "text": [
        "\n",
        "z=====23\n",
        "z=====24\n",
        "z=====25\n",
        "z=====26\n",
        "z=====27\n",
        "z=====28"
       ]
      },
      {
       "output_type": "stream",
       "stream": "stdout",
       "text": [
        "\n",
        "z=====29\n",
        "z=====30\n",
        "z=====31\n",
        "z=====32\n",
        "z=====33"
       ]
      },
      {
       "output_type": "stream",
       "stream": "stdout",
       "text": [
        "\n",
        "z=====34\n",
        "z=====35\n",
        "z=====36\n",
        "z=====37\n",
        "z=====38"
       ]
      },
      {
       "output_type": "stream",
       "stream": "stdout",
       "text": [
        "\n",
        "z=====39\n",
        "z=====40\n",
        "z=====41\n",
        "z=====42"
       ]
      },
      {
       "output_type": "stream",
       "stream": "stdout",
       "text": [
        "\n",
        "z=====43\n",
        "z=====44"
       ]
      },
      {
       "output_type": "stream",
       "stream": "stdout",
       "text": [
        "\n",
        "z=====45\n",
        "z=====46\n",
        "z=====47\n",
        "z=====48"
       ]
      },
      {
       "output_type": "stream",
       "stream": "stdout",
       "text": [
        "\n",
        "z=====49\n",
        "z=====50\n",
        "z=====51\n",
        "z=====52\n",
        "z=====53"
       ]
      },
      {
       "output_type": "stream",
       "stream": "stdout",
       "text": [
        "\n",
        "z=====54\n",
        "z=====55\n",
        "z=====56"
       ]
      },
      {
       "output_type": "stream",
       "stream": "stdout",
       "text": [
        "\n",
        "z=====57\n",
        "z=====58\n",
        "z=====59\n",
        "z=====60\n",
        "z=====61\n",
        "z=====62"
       ]
      },
      {
       "output_type": "stream",
       "stream": "stdout",
       "text": [
        "\n",
        "z=====63\n",
        "z=====64\n",
        "z=====65\n",
        "z=====66"
       ]
      },
      {
       "output_type": "stream",
       "stream": "stdout",
       "text": [
        "\n",
        "z=====67\n",
        "z=====68\n",
        "z=====69\n",
        "z=====70\n",
        "z=====71"
       ]
      },
      {
       "output_type": "stream",
       "stream": "stdout",
       "text": [
        "\n",
        "z=====72\n",
        "z=====73\n",
        "z=====74\n",
        "z=====75\n",
        "z=====76\n",
        "z=====77"
       ]
      },
      {
       "output_type": "stream",
       "stream": "stdout",
       "text": [
        "\n",
        "z=====78\n",
        "z=====79\n",
        "z=====80\n",
        "z=====81\n",
        "z=====82\n",
        "z=====83"
       ]
      },
      {
       "output_type": "stream",
       "stream": "stdout",
       "text": [
        "\n",
        "z=====84\n",
        "z=====85\n",
        "z=====86\n",
        "z=====87\n",
        "z=====88"
       ]
      },
      {
       "output_type": "stream",
       "stream": "stdout",
       "text": [
        "\n",
        "z=====89\n",
        "z=====90\n",
        "z=====91\n",
        "z=====92\n",
        "z=====93"
       ]
      },
      {
       "output_type": "stream",
       "stream": "stdout",
       "text": [
        "\n",
        "z=====94\n",
        "z=====95\n",
        "z=====96\n",
        "z=====97\n",
        "z=====98\n",
        "z=====99"
       ]
      },
      {
       "output_type": "stream",
       "stream": "stdout",
       "text": [
        "\n",
        "z=====100\n",
        "z=====101\n",
        "17\n",
        "r==========18\n",
        "z=====1\n",
        "z=====2"
       ]
      },
      {
       "output_type": "stream",
       "stream": "stdout",
       "text": [
        "\n",
        "z=====3\n",
        "z=====4\n",
        "z=====5\n",
        "z=====6\n",
        "z=====7"
       ]
      },
      {
       "output_type": "stream",
       "stream": "stdout",
       "text": [
        "\n",
        "z=====8\n",
        "z=====9\n",
        "z=====10"
       ]
      },
      {
       "output_type": "stream",
       "stream": "stdout",
       "text": [
        "\n",
        "z=====11\n",
        "z=====12\n",
        "z=====13\n",
        "z=====14\n",
        "z=====15\n",
        "z=====16"
       ]
      },
      {
       "output_type": "stream",
       "stream": "stdout",
       "text": [
        "\n",
        "z=====17\n",
        "z=====18\n",
        "z=====19"
       ]
      },
      {
       "output_type": "stream",
       "stream": "stdout",
       "text": [
        "\n",
        "z=====20\n",
        "z=====21\n",
        "z=====22\n",
        "z=====23\n",
        "z=====24\n",
        "z=====25"
       ]
      },
      {
       "output_type": "stream",
       "stream": "stdout",
       "text": [
        "\n",
        "z=====26\n",
        "z=====27\n",
        "z=====28\n",
        "z=====29\n",
        "z=====30"
       ]
      },
      {
       "output_type": "stream",
       "stream": "stdout",
       "text": [
        "\n",
        "z=====31\n",
        "z=====32\n",
        "z=====33\n",
        "z=====34\n",
        "z=====35\n",
        "z=====36"
       ]
      },
      {
       "output_type": "stream",
       "stream": "stdout",
       "text": [
        "\n",
        "z=====37\n",
        "z=====38\n",
        "z=====39\n",
        "z=====40\n",
        "z=====41"
       ]
      },
      {
       "output_type": "stream",
       "stream": "stdout",
       "text": [
        "\n",
        "z=====42\n",
        "z=====43\n",
        "z=====44\n",
        "z=====45\n",
        "z=====46\n",
        "z=====47"
       ]
      },
      {
       "output_type": "stream",
       "stream": "stdout",
       "text": [
        "\n",
        "z=====48\n",
        "z=====49\n",
        "z=====50\n",
        "z=====51\n",
        "z=====52"
       ]
      },
      {
       "output_type": "stream",
       "stream": "stdout",
       "text": [
        "\n",
        "z=====53\n",
        "z=====54\n",
        "z=====55\n",
        "z=====56\n",
        "z=====57\n",
        "z=====58"
       ]
      },
      {
       "output_type": "stream",
       "stream": "stdout",
       "text": [
        "\n",
        "z=====59\n",
        "z=====60\n",
        "z=====61\n",
        "z=====62\n",
        "z=====63"
       ]
      },
      {
       "output_type": "stream",
       "stream": "stdout",
       "text": [
        "\n",
        "z=====64\n",
        "z=====65\n",
        "z=====66\n",
        "z=====67\n",
        "z=====68\n",
        "z=====69"
       ]
      },
      {
       "output_type": "stream",
       "stream": "stdout",
       "text": [
        "\n",
        "z=====70\n",
        "z=====71\n",
        "z=====72\n",
        "z=====73\n",
        "z=====74"
       ]
      },
      {
       "output_type": "stream",
       "stream": "stdout",
       "text": [
        "\n",
        "z=====75\n",
        "z=====76\n",
        "z=====77\n",
        "z=====78\n",
        "z=====79"
       ]
      },
      {
       "output_type": "stream",
       "stream": "stdout",
       "text": [
        "\n",
        "z=====80\n",
        "z=====81\n",
        "z=====82\n",
        "z=====83\n",
        "z=====84"
       ]
      },
      {
       "output_type": "stream",
       "stream": "stdout",
       "text": [
        "\n",
        "z=====85\n",
        "z=====86\n",
        "z=====87"
       ]
      },
      {
       "output_type": "stream",
       "stream": "stdout",
       "text": [
        "\n",
        "z=====88\n",
        "z=====89\n",
        "z=====90\n",
        "z=====91\n",
        "z=====92\n",
        "z=====93"
       ]
      },
      {
       "output_type": "stream",
       "stream": "stdout",
       "text": [
        "\n",
        "z=====94\n",
        "z=====95\n",
        "z=====96"
       ]
      },
      {
       "output_type": "stream",
       "stream": "stdout",
       "text": [
        "\n",
        "z=====97\n",
        "z=====98\n",
        "z=====99\n",
        "z=====100\n",
        "z=====101\n",
        "18"
       ]
      },
      {
       "output_type": "stream",
       "stream": "stdout",
       "text": [
        "\n",
        "r==========19\n",
        "z=====1\n",
        "z=====2\n",
        "z=====3\n",
        "z=====4\n",
        "z=====5\n",
        "z=====6"
       ]
      },
      {
       "output_type": "stream",
       "stream": "stdout",
       "text": [
        "\n",
        "z=====7\n",
        "z=====8\n",
        "z=====9\n",
        "z=====10\n",
        "z=====11\n",
        "z=====12"
       ]
      },
      {
       "output_type": "stream",
       "stream": "stdout",
       "text": [
        "\n",
        "z=====13\n",
        "z=====14\n",
        "z=====15\n",
        "z=====16\n",
        "z=====17"
       ]
      },
      {
       "output_type": "stream",
       "stream": "stdout",
       "text": [
        "\n",
        "z=====18\n",
        "z=====19\n",
        "z=====20\n",
        "z=====21\n",
        "z=====22\n",
        "z=====23"
       ]
      },
      {
       "output_type": "stream",
       "stream": "stdout",
       "text": [
        "\n",
        "z=====24\n",
        "z=====25\n",
        "z=====26\n",
        "z=====27\n",
        "z=====28"
       ]
      },
      {
       "output_type": "stream",
       "stream": "stdout",
       "text": [
        "\n",
        "z=====29\n",
        "z=====30\n",
        "z=====31\n",
        "z=====32"
       ]
      },
      {
       "output_type": "stream",
       "stream": "stdout",
       "text": [
        "\n",
        "z=====33\n",
        "z=====34\n",
        "z=====35\n",
        "z=====36\n",
        "z=====37"
       ]
      },
      {
       "output_type": "stream",
       "stream": "stdout",
       "text": [
        "\n",
        "z=====38\n",
        "z=====39\n",
        "z=====40"
       ]
      },
      {
       "output_type": "stream",
       "stream": "stdout",
       "text": [
        "\n",
        "z=====41\n",
        "z=====42\n",
        "z=====43\n",
        "z=====44"
       ]
      },
      {
       "output_type": "stream",
       "stream": "stdout",
       "text": [
        "\n",
        "z=====45\n",
        "z=====46\n",
        "z=====47\n",
        "z=====48\n",
        "z=====49\n",
        "z=====50"
       ]
      },
      {
       "output_type": "stream",
       "stream": "stdout",
       "text": [
        "\n",
        "z=====51\n",
        "z=====52\n",
        "z=====53\n",
        "z=====54\n",
        "z=====55"
       ]
      },
      {
       "output_type": "stream",
       "stream": "stdout",
       "text": [
        "\n",
        "z=====56\n",
        "z=====57\n",
        "z=====58\n",
        "z=====59\n",
        "z=====60"
       ]
      },
      {
       "output_type": "stream",
       "stream": "stdout",
       "text": [
        "\n",
        "z=====61\n",
        "z=====62"
       ]
      },
      {
       "output_type": "stream",
       "stream": "stdout",
       "text": [
        "\n",
        "z=====63\n",
        "z=====64\n",
        "z=====65\n",
        "z=====66\n",
        "z=====67\n",
        "z=====68"
       ]
      },
      {
       "output_type": "stream",
       "stream": "stdout",
       "text": [
        "\n",
        "z=====69\n",
        "z=====70\n",
        "z=====71\n",
        "z=====72"
       ]
      },
      {
       "output_type": "stream",
       "stream": "stdout",
       "text": [
        "\n",
        "z=====73\n",
        "z=====74\n",
        "z=====75\n",
        "z=====76\n",
        "z=====77\n",
        "z=====78"
       ]
      },
      {
       "output_type": "stream",
       "stream": "stdout",
       "text": [
        "\n",
        "z=====79\n",
        "z=====80\n",
        "z=====81\n",
        "z=====82\n",
        "z=====83"
       ]
      },
      {
       "output_type": "stream",
       "stream": "stdout",
       "text": [
        "\n",
        "z=====84\n",
        "z=====85\n",
        "z=====86\n",
        "z=====87\n",
        "z=====88"
       ]
      },
      {
       "output_type": "stream",
       "stream": "stdout",
       "text": [
        "\n",
        "z=====89\n",
        "z=====90\n",
        "z=====91\n",
        "z=====92\n",
        "z=====93\n",
        "z=====94"
       ]
      },
      {
       "output_type": "stream",
       "stream": "stdout",
       "text": [
        "\n",
        "z=====95\n",
        "z=====96\n",
        "z=====97\n",
        "z=====98\n",
        "z=====99\n",
        "z=====100"
       ]
      },
      {
       "output_type": "stream",
       "stream": "stdout",
       "text": [
        "\n",
        "z=====101\n",
        "19\n",
        "r==========20\n",
        "z=====1\n",
        "z=====2\n",
        "z=====3\n",
        "z=====4"
       ]
      },
      {
       "output_type": "stream",
       "stream": "stdout",
       "text": [
        "\n",
        "z=====5\n",
        "z=====6\n",
        "z=====7\n",
        "z=====8\n",
        "z=====9"
       ]
      },
      {
       "output_type": "stream",
       "stream": "stdout",
       "text": [
        "\n",
        "z=====10\n",
        "z=====11\n",
        "z=====12\n",
        "z=====13\n",
        "z=====14\n",
        "z=====15"
       ]
      },
      {
       "output_type": "stream",
       "stream": "stdout",
       "text": [
        "\n",
        "z=====16\n",
        "z=====17\n",
        "z=====18\n",
        "z=====19\n",
        "z=====20\n",
        "z=====21"
       ]
      },
      {
       "output_type": "stream",
       "stream": "stdout",
       "text": [
        "\n",
        "z=====22\n",
        "z=====23\n",
        "z=====24\n",
        "z=====25\n",
        "z=====26"
       ]
      },
      {
       "output_type": "stream",
       "stream": "stdout",
       "text": [
        "\n",
        "z=====27\n",
        "z=====28\n",
        "z=====29\n",
        "z=====30"
       ]
      },
      {
       "output_type": "stream",
       "stream": "stdout",
       "text": [
        "\n",
        "z=====31\n",
        "z=====32\n",
        "z=====33\n",
        "z=====34"
       ]
      },
      {
       "output_type": "stream",
       "stream": "stdout",
       "text": [
        "\n",
        "z=====35\n",
        "z=====36\n",
        "z=====37"
       ]
      },
      {
       "output_type": "stream",
       "stream": "stdout",
       "text": [
        "\n",
        "z=====38\n",
        "z=====39\n",
        "z=====40\n",
        "z=====41\n",
        "z=====42\n",
        "z=====43"
       ]
      },
      {
       "output_type": "stream",
       "stream": "stdout",
       "text": [
        "\n",
        "z=====44\n",
        "z=====45\n",
        "z=====46\n",
        "z=====47\n",
        "z=====48"
       ]
      },
      {
       "output_type": "stream",
       "stream": "stdout",
       "text": [
        "\n",
        "z=====49\n",
        "z=====50\n",
        "z=====51\n",
        "z=====52\n",
        "z=====53"
       ]
      },
      {
       "output_type": "stream",
       "stream": "stdout",
       "text": [
        "\n",
        "z=====54\n",
        "z=====55\n",
        "z=====56\n",
        "z=====57\n",
        "z=====58\n",
        "z=====59"
       ]
      },
      {
       "output_type": "stream",
       "stream": "stdout",
       "text": [
        "\n",
        "z=====60\n",
        "z=====61\n",
        "z=====62\n",
        "z=====63\n",
        "z=====64"
       ]
      },
      {
       "output_type": "stream",
       "stream": "stdout",
       "text": [
        "\n",
        "z=====65\n",
        "z=====66\n",
        "z=====67\n",
        "z=====68\n",
        "z=====69"
       ]
      },
      {
       "output_type": "stream",
       "stream": "stdout",
       "text": [
        "\n",
        "z=====70\n",
        "z=====71\n",
        "z=====72"
       ]
      },
      {
       "output_type": "stream",
       "stream": "stdout",
       "text": [
        "\n",
        "z=====73\n",
        "z=====74\n",
        "z=====75\n",
        "z=====76\n",
        "z=====77\n",
        "z=====78"
       ]
      },
      {
       "output_type": "stream",
       "stream": "stdout",
       "text": [
        "\n",
        "z=====79\n",
        "z=====80\n",
        "z=====81"
       ]
      },
      {
       "output_type": "stream",
       "stream": "stdout",
       "text": [
        "\n",
        "z=====82\n",
        "z=====83\n",
        "z=====84\n",
        "z=====85\n",
        "z=====86\n",
        "z=====87"
       ]
      },
      {
       "output_type": "stream",
       "stream": "stdout",
       "text": [
        "\n",
        "z=====88\n",
        "z=====89\n",
        "z=====90\n",
        "z=====91\n",
        "z=====92"
       ]
      },
      {
       "output_type": "stream",
       "stream": "stdout",
       "text": [
        "\n",
        "z=====93\n",
        "z=====94\n",
        "z=====95\n",
        "z=====96\n",
        "z=====97"
       ]
      },
      {
       "output_type": "stream",
       "stream": "stdout",
       "text": [
        "\n",
        "z=====98\n",
        "z=====99\n",
        "z=====100\n",
        "z=====101\n",
        "20\n",
        "r==========21\n",
        "z=====1\n",
        "z=====2"
       ]
      },
      {
       "output_type": "stream",
       "stream": "stdout",
       "text": [
        "\n",
        "z=====3\n",
        "z=====4\n",
        "z=====5\n",
        "z=====6\n",
        "z=====7\n",
        "z=====8"
       ]
      },
      {
       "output_type": "stream",
       "stream": "stdout",
       "text": [
        "\n",
        "z=====9\n",
        "z=====10\n",
        "z=====11\n",
        "z=====12\n",
        "z=====13"
       ]
      },
      {
       "output_type": "stream",
       "stream": "stdout",
       "text": [
        "\n",
        "z=====14\n",
        "z=====15\n",
        "z=====16\n",
        "z=====17\n",
        "z=====18\n",
        "z=====19"
       ]
      },
      {
       "output_type": "stream",
       "stream": "stdout",
       "text": [
        "\n",
        "z=====20\n",
        "z=====21\n",
        "z=====22\n",
        "z=====23\n",
        "z=====24"
       ]
      },
      {
       "output_type": "stream",
       "stream": "stdout",
       "text": [
        "\n",
        "z=====25\n",
        "z=====26\n",
        "z=====27\n",
        "z=====28\n",
        "z=====29\n",
        "z=====30"
       ]
      },
      {
       "output_type": "stream",
       "stream": "stdout",
       "text": [
        "\n",
        "z=====31\n",
        "z=====32\n",
        "z=====33\n",
        "z=====34\n",
        "z=====35"
       ]
      },
      {
       "output_type": "stream",
       "stream": "stdout",
       "text": [
        "\n",
        "z=====36\n",
        "z=====37\n",
        "z=====38\n",
        "z=====39\n",
        "z=====40\n",
        "z=====41"
       ]
      },
      {
       "output_type": "stream",
       "stream": "stdout",
       "text": [
        "\n",
        "z=====42\n",
        "z=====43\n",
        "z=====44\n",
        "z=====45\n",
        "z=====46"
       ]
      },
      {
       "output_type": "stream",
       "stream": "stdout",
       "text": [
        "\n",
        "z=====47\n",
        "z=====48\n",
        "z=====49\n",
        "z=====50\n",
        "z=====51\n",
        "z=====52"
       ]
      },
      {
       "output_type": "stream",
       "stream": "stdout",
       "text": [
        "\n",
        "z=====53\n",
        "z=====54\n",
        "z=====55\n",
        "z=====56\n",
        "z=====57"
       ]
      },
      {
       "output_type": "stream",
       "stream": "stdout",
       "text": [
        "\n",
        "z=====58\n",
        "z=====59\n",
        "z=====60\n",
        "z=====61\n",
        "z=====62\n",
        "z=====63"
       ]
      },
      {
       "output_type": "stream",
       "stream": "stdout",
       "text": [
        "\n",
        "z=====64\n",
        "z=====65\n",
        "z=====66\n",
        "z=====67\n",
        "z=====68"
       ]
      },
      {
       "output_type": "stream",
       "stream": "stdout",
       "text": [
        "\n",
        "z=====69\n",
        "z=====70\n",
        "z=====71\n",
        "z=====72\n",
        "z=====73\n",
        "z=====74"
       ]
      },
      {
       "output_type": "stream",
       "stream": "stdout",
       "text": [
        "\n",
        "z=====75\n",
        "z=====76\n",
        "z=====77\n",
        "z=====78\n",
        "z=====79"
       ]
      },
      {
       "output_type": "stream",
       "stream": "stdout",
       "text": [
        "\n",
        "z=====80\n",
        "z=====81\n",
        "z=====82\n",
        "z=====83\n",
        "z=====84\n",
        "z=====85"
       ]
      },
      {
       "output_type": "stream",
       "stream": "stdout",
       "text": [
        "\n",
        "z=====86\n",
        "z=====87\n",
        "z=====88\n",
        "z=====89\n",
        "z=====90"
       ]
      },
      {
       "output_type": "stream",
       "stream": "stdout",
       "text": [
        "\n",
        "z=====91\n",
        "z=====92\n",
        "z=====93\n",
        "z=====94\n",
        "z=====95\n",
        "z=====96"
       ]
      },
      {
       "output_type": "stream",
       "stream": "stdout",
       "text": [
        "\n",
        "z=====97\n",
        "z=====98\n",
        "z=====99\n",
        "z=====100\n",
        "z=====101"
       ]
      },
      {
       "output_type": "stream",
       "stream": "stdout",
       "text": [
        "\n",
        "21\n",
        "r==========22\n",
        "z=====1\n",
        "z=====2\n",
        "z=====3\n",
        "z=====4\n",
        "z=====5\n",
        "z=====6"
       ]
      },
      {
       "output_type": "stream",
       "stream": "stdout",
       "text": [
        "\n",
        "z=====7\n",
        "z=====8\n",
        "z=====9\n",
        "z=====10\n",
        "z=====11"
       ]
      },
      {
       "output_type": "stream",
       "stream": "stdout",
       "text": [
        "\n",
        "z=====12\n",
        "z=====13\n",
        "z=====14\n",
        "z=====15\n",
        "z=====16\n",
        "z=====17"
       ]
      },
      {
       "output_type": "stream",
       "stream": "stdout",
       "text": [
        "\n",
        "z=====18\n",
        "z=====19\n",
        "z=====20\n",
        "z=====21\n",
        "z=====22"
       ]
      },
      {
       "output_type": "stream",
       "stream": "stdout",
       "text": [
        "\n",
        "z=====23\n",
        "z=====24\n",
        "z=====25\n",
        "z=====26\n",
        "z=====27\n",
        "z=====28"
       ]
      },
      {
       "output_type": "stream",
       "stream": "stdout",
       "text": [
        "\n",
        "z=====29\n",
        "z=====30\n",
        "z=====31\n",
        "z=====32"
       ]
      },
      {
       "output_type": "stream",
       "stream": "stdout",
       "text": [
        "\n",
        "z=====33\n",
        "z=====34\n",
        "z=====35\n",
        "z=====36\n",
        "z=====37"
       ]
      },
      {
       "output_type": "stream",
       "stream": "stdout",
       "text": [
        "\n",
        "z=====38\n",
        "z=====39\n",
        "z=====40\n",
        "z=====41\n",
        "z=====42"
       ]
      },
      {
       "output_type": "stream",
       "stream": "stdout",
       "text": [
        "\n",
        "z=====43\n",
        "z=====44"
       ]
      },
      {
       "output_type": "stream",
       "stream": "stdout",
       "text": [
        "\n",
        "z=====45\n",
        "z=====46\n",
        "z=====47\n",
        "z=====48"
       ]
      },
      {
       "output_type": "stream",
       "stream": "stdout",
       "text": [
        "\n",
        "z=====49\n",
        "z=====50\n",
        "z=====51\n",
        "z=====52\n",
        "z=====53"
       ]
      },
      {
       "output_type": "stream",
       "stream": "stdout",
       "text": [
        "\n",
        "z=====54\n",
        "z=====55\n",
        "z=====56"
       ]
      },
      {
       "output_type": "stream",
       "stream": "stdout",
       "text": [
        "\n",
        "z=====57\n",
        "z=====58\n",
        "z=====59\n",
        "z=====60\n",
        "z=====61\n",
        "z=====62"
       ]
      },
      {
       "output_type": "stream",
       "stream": "stdout",
       "text": [
        "\n",
        "z=====63\n",
        "z=====64\n",
        "z=====65"
       ]
      },
      {
       "output_type": "stream",
       "stream": "stdout",
       "text": [
        "\n",
        "z=====66\n",
        "z=====67\n",
        "z=====68\n",
        "z=====69\n",
        "z=====70\n",
        "z=====71"
       ]
      },
      {
       "output_type": "stream",
       "stream": "stdout",
       "text": [
        "\n",
        "z=====72\n",
        "z=====73\n",
        "z=====74\n",
        "z=====75\n",
        "z=====76"
       ]
      },
      {
       "output_type": "stream",
       "stream": "stdout",
       "text": [
        "\n",
        "z=====77\n",
        "z=====78\n",
        "z=====79\n",
        "z=====80\n",
        "z=====81"
       ]
      },
      {
       "output_type": "stream",
       "stream": "stdout",
       "text": [
        "\n",
        "z=====82\n",
        "z=====83\n",
        "z=====84\n",
        "z=====85\n",
        "z=====86"
       ]
      },
      {
       "output_type": "stream",
       "stream": "stdout",
       "text": [
        "\n",
        "z=====87\n",
        "z=====88\n",
        "z=====89"
       ]
      },
      {
       "output_type": "stream",
       "stream": "stdout",
       "text": [
        "\n",
        "z=====90\n",
        "z=====91\n",
        "z=====92\n",
        "z=====93\n",
        "z=====94\n",
        "z=====95"
       ]
      },
      {
       "output_type": "stream",
       "stream": "stdout",
       "text": [
        "\n",
        "z=====96\n",
        "z=====97\n",
        "z=====98"
       ]
      },
      {
       "output_type": "stream",
       "stream": "stdout",
       "text": [
        "\n",
        "z=====99\n",
        "z=====100\n",
        "z=====101\n",
        "22\n",
        "r==========23\n",
        "z=====1\n",
        "z=====2\n",
        "z=====3"
       ]
      },
      {
       "output_type": "stream",
       "stream": "stdout",
       "text": [
        "\n",
        "z=====4\n",
        "z=====5\n",
        "z=====6\n",
        "z=====7\n",
        "z=====8"
       ]
      },
      {
       "output_type": "stream",
       "stream": "stdout",
       "text": [
        "\n",
        "z=====9\n",
        "z=====10\n",
        "z=====11\n",
        "z=====12\n",
        "z=====13\n",
        "z=====14"
       ]
      },
      {
       "output_type": "stream",
       "stream": "stdout",
       "text": [
        "\n",
        "z=====15\n",
        "z=====16\n",
        "z=====17\n",
        "z=====18\n",
        "z=====19"
       ]
      },
      {
       "output_type": "stream",
       "stream": "stdout",
       "text": [
        "\n",
        "z=====20\n",
        "z=====21\n",
        "z=====22\n",
        "z=====23\n",
        "z=====24\n",
        "z=====25"
       ]
      },
      {
       "output_type": "stream",
       "stream": "stdout",
       "text": [
        "\n",
        "z=====26\n",
        "z=====27\n",
        "z=====28\n",
        "z=====29\n",
        "z=====30"
       ]
      },
      {
       "output_type": "stream",
       "stream": "stdout",
       "text": [
        "\n",
        "z=====31\n",
        "z=====32\n",
        "z=====33\n",
        "z=====34\n",
        "z=====35\n",
        "z=====36"
       ]
      },
      {
       "output_type": "stream",
       "stream": "stdout",
       "text": [
        "\n",
        "z=====37\n",
        "z=====38\n",
        "z=====39\n",
        "z=====40\n",
        "z=====41"
       ]
      },
      {
       "output_type": "stream",
       "stream": "stdout",
       "text": [
        "\n",
        "z=====42\n",
        "z=====43\n",
        "z=====44\n",
        "z=====45\n",
        "z=====46\n",
        "z=====47"
       ]
      },
      {
       "output_type": "stream",
       "stream": "stdout",
       "text": [
        "\n",
        "z=====48\n",
        "z=====49\n",
        "z=====50\n",
        "z=====51\n",
        "z=====52"
       ]
      },
      {
       "output_type": "stream",
       "stream": "stdout",
       "text": [
        "\n",
        "z=====53\n",
        "z=====54\n",
        "z=====55\n",
        "z=====56\n",
        "z=====57"
       ]
      },
      {
       "output_type": "stream",
       "stream": "stdout",
       "text": [
        "\n",
        "z=====58\n",
        "z=====59\n",
        "z=====60\n",
        "z=====61\n",
        "z=====62\n",
        "z=====63"
       ]
      },
      {
       "output_type": "stream",
       "stream": "stdout",
       "text": [
        "\n",
        "z=====64\n",
        "z=====65\n",
        "z=====66\n",
        "z=====67\n",
        "z=====68\n",
        "z=====69"
       ]
      },
      {
       "output_type": "stream",
       "stream": "stdout",
       "text": [
        "\n",
        "z=====70\n",
        "z=====71\n",
        "z=====72\n",
        "z=====73\n",
        "z=====74"
       ]
      },
      {
       "output_type": "stream",
       "stream": "stdout",
       "text": [
        "\n",
        "z=====75\n",
        "z=====76\n",
        "z=====77\n",
        "z=====78\n",
        "z=====79\n",
        "z=====80"
       ]
      },
      {
       "output_type": "stream",
       "stream": "stdout",
       "text": [
        "\n",
        "z=====81\n",
        "z=====82\n",
        "z=====83\n",
        "z=====84\n",
        "z=====85"
       ]
      },
      {
       "output_type": "stream",
       "stream": "stdout",
       "text": [
        "\n",
        "z=====86\n",
        "z=====87\n",
        "z=====88\n",
        "z=====89\n",
        "z=====90\n",
        "z=====91"
       ]
      },
      {
       "output_type": "stream",
       "stream": "stdout",
       "text": [
        "\n",
        "z=====92\n",
        "z=====93\n",
        "z=====94\n",
        "z=====95\n",
        "z=====96"
       ]
      },
      {
       "output_type": "stream",
       "stream": "stdout",
       "text": [
        "\n",
        "z=====97\n",
        "z=====98\n",
        "z=====99\n",
        "z=====100\n",
        "z=====101\n",
        "23"
       ]
      },
      {
       "output_type": "stream",
       "stream": "stdout",
       "text": [
        "\n",
        "r==========24\n",
        "z=====1\n",
        "z=====2\n",
        "z=====3\n",
        "z=====4\n",
        "z=====5\n",
        "z=====6"
       ]
      },
      {
       "output_type": "stream",
       "stream": "stdout",
       "text": [
        "\n",
        "z=====7\n",
        "z=====8\n",
        "z=====9\n",
        "z=====10\n",
        "z=====11\n",
        "z=====12"
       ]
      },
      {
       "output_type": "stream",
       "stream": "stdout",
       "text": [
        "\n",
        "z=====13\n",
        "z=====14\n",
        "z=====15\n",
        "z=====16\n",
        "z=====17"
       ]
      },
      {
       "output_type": "stream",
       "stream": "stdout",
       "text": [
        "\n",
        "z=====18\n",
        "z=====19\n",
        "z=====20\n",
        "z=====21\n",
        "z=====22\n",
        "z=====23"
       ]
      },
      {
       "output_type": "stream",
       "stream": "stdout",
       "text": [
        "\n",
        "z=====24\n",
        "z=====25\n",
        "z=====26\n",
        "z=====27"
       ]
      },
      {
       "output_type": "stream",
       "stream": "stdout",
       "text": [
        "\n",
        "z=====28\n",
        "z=====29"
       ]
      },
      {
       "output_type": "stream",
       "stream": "stdout",
       "text": [
        "\n",
        "z=====30\n",
        "z=====31\n",
        "z=====32\n",
        "z=====33\n",
        "z=====34"
       ]
      },
      {
       "output_type": "stream",
       "stream": "stdout",
       "text": [
        "\n",
        "z=====35\n",
        "z=====36\n",
        "z=====37\n",
        "z=====38\n",
        "z=====39"
       ]
      },
      {
       "output_type": "stream",
       "stream": "stdout",
       "text": [
        "\n",
        "z=====40\n",
        "z=====41\n",
        "z=====42\n",
        "z=====43\n",
        "z=====44\n",
        "z=====45"
       ]
      },
      {
       "output_type": "stream",
       "stream": "stdout",
       "text": [
        "\n",
        "z=====46\n",
        "z=====47\n",
        "z=====48\n",
        "z=====49\n",
        "z=====50"
       ]
      },
      {
       "output_type": "stream",
       "stream": "stdout",
       "text": [
        "\n",
        "z=====51\n",
        "z=====52\n",
        "z=====53\n",
        "z=====54\n",
        "z=====55\n",
        "z=====56"
       ]
      },
      {
       "output_type": "stream",
       "stream": "stdout",
       "text": [
        "\n",
        "z=====57\n",
        "z=====58\n",
        "z=====59\n",
        "z=====60\n",
        "z=====61"
       ]
      },
      {
       "output_type": "stream",
       "stream": "stdout",
       "text": [
        "\n",
        "z=====62\n",
        "z=====63\n",
        "z=====64\n",
        "z=====65\n",
        "z=====66\n",
        "z=====67"
       ]
      },
      {
       "output_type": "stream",
       "stream": "stdout",
       "text": [
        "\n",
        "z=====68\n",
        "z=====69\n",
        "z=====70\n",
        "z=====71\n",
        "z=====72"
       ]
      },
      {
       "output_type": "stream",
       "stream": "stdout",
       "text": [
        "\n",
        "z=====73\n",
        "z=====74\n",
        "z=====75\n",
        "z=====76\n",
        "z=====77\n",
        "z=====78"
       ]
      },
      {
       "output_type": "stream",
       "stream": "stdout",
       "text": [
        "\n",
        "z=====79\n",
        "z=====80\n",
        "z=====81\n",
        "z=====82\n",
        "z=====83"
       ]
      },
      {
       "output_type": "stream",
       "stream": "stdout",
       "text": [
        "\n",
        "z=====84\n",
        "z=====85\n",
        "z=====86\n",
        "z=====87\n",
        "z=====88\n",
        "z=====89"
       ]
      },
      {
       "output_type": "stream",
       "stream": "stdout",
       "text": [
        "\n",
        "z=====90\n",
        "z=====91\n",
        "z=====92\n",
        "z=====93\n",
        "z=====94"
       ]
      },
      {
       "output_type": "stream",
       "stream": "stdout",
       "text": [
        "\n",
        "z=====95\n",
        "z=====96\n",
        "z=====97\n",
        "z=====98\n",
        "z=====99\n",
        "z=====100"
       ]
      },
      {
       "output_type": "stream",
       "stream": "stdout",
       "text": [
        "\n",
        "z=====101\n",
        "24\n",
        "r==========25\n",
        "z=====1\n",
        "z=====2\n",
        "z=====3\n",
        "z=====4"
       ]
      },
      {
       "output_type": "stream",
       "stream": "stdout",
       "text": [
        "\n",
        "z=====5\n",
        "z=====6\n",
        "z=====7\n",
        "z=====8\n",
        "z=====9\n",
        "z=====10"
       ]
      },
      {
       "output_type": "stream",
       "stream": "stdout",
       "text": [
        "\n",
        "z=====11\n",
        "z=====12\n",
        "z=====13\n",
        "z=====14\n",
        "z=====15"
       ]
      },
      {
       "output_type": "stream",
       "stream": "stdout",
       "text": [
        "\n",
        "z=====16\n",
        "z=====17\n",
        "z=====18\n",
        "z=====19\n",
        "z=====20\n",
        "z=====21"
       ]
      },
      {
       "output_type": "stream",
       "stream": "stdout",
       "text": [
        "\n",
        "z=====22\n",
        "z=====23\n",
        "z=====24\n",
        "z=====25\n",
        "z=====26"
       ]
      },
      {
       "output_type": "stream",
       "stream": "stdout",
       "text": [
        "\n",
        "z=====27\n",
        "z=====28\n",
        "z=====29\n",
        "z=====30\n",
        "z=====31\n",
        "z=====32"
       ]
      },
      {
       "output_type": "stream",
       "stream": "stdout",
       "text": [
        "\n",
        "z=====33\n",
        "z=====34\n",
        "z=====35\n",
        "z=====36\n",
        "z=====37"
       ]
      },
      {
       "output_type": "stream",
       "stream": "stdout",
       "text": [
        "\n",
        "z=====38\n",
        "z=====39\n",
        "z=====40\n",
        "z=====41\n",
        "z=====42\n",
        "z=====43"
       ]
      },
      {
       "output_type": "stream",
       "stream": "stdout",
       "text": [
        "\n",
        "z=====44\n",
        "z=====45\n",
        "z=====46\n",
        "z=====47\n",
        "z=====48"
       ]
      },
      {
       "output_type": "stream",
       "stream": "stdout",
       "text": [
        "\n",
        "z=====49\n",
        "z=====50\n",
        "z=====51\n",
        "z=====52\n",
        "z=====53\n",
        "z=====54"
       ]
      },
      {
       "output_type": "stream",
       "stream": "stdout",
       "text": [
        "\n",
        "z=====55\n",
        "z=====56\n",
        "z=====57\n",
        "z=====58\n",
        "z=====59"
       ]
      },
      {
       "output_type": "stream",
       "stream": "stdout",
       "text": [
        "\n",
        "z=====60\n",
        "z=====61\n",
        "z=====62\n",
        "z=====63\n",
        "z=====64\n",
        "z=====65"
       ]
      },
      {
       "output_type": "stream",
       "stream": "stdout",
       "text": [
        "\n",
        "z=====66\n",
        "z=====67\n",
        "z=====68\n",
        "z=====69\n",
        "z=====70"
       ]
      },
      {
       "output_type": "stream",
       "stream": "stdout",
       "text": [
        "\n",
        "z=====71\n",
        "z=====72\n",
        "z=====73\n",
        "z=====74\n",
        "z=====75\n",
        "z=====76"
       ]
      },
      {
       "output_type": "stream",
       "stream": "stdout",
       "text": [
        "\n",
        "z=====77\n",
        "z=====78\n",
        "z=====79\n",
        "z=====80\n",
        "z=====81"
       ]
      },
      {
       "output_type": "stream",
       "stream": "stdout",
       "text": [
        "\n",
        "z=====82\n",
        "z=====83\n",
        "z=====84\n",
        "z=====85\n",
        "z=====86\n",
        "z=====87"
       ]
      },
      {
       "output_type": "stream",
       "stream": "stdout",
       "text": [
        "\n",
        "z=====88\n",
        "z=====89\n",
        "z=====90\n",
        "z=====91\n",
        "z=====92"
       ]
      },
      {
       "output_type": "stream",
       "stream": "stdout",
       "text": [
        "\n",
        "z=====93\n",
        "z=====94\n",
        "z=====95\n",
        "z=====96\n",
        "z=====97\n",
        "z=====98"
       ]
      },
      {
       "output_type": "stream",
       "stream": "stdout",
       "text": [
        "\n",
        "z=====99\n",
        "z=====100\n",
        "z=====101\n",
        "25\n",
        "r==========26\n",
        "z=====1\n",
        "z=====2"
       ]
      },
      {
       "output_type": "stream",
       "stream": "stdout",
       "text": [
        "\n",
        "z=====3\n",
        "z=====4\n",
        "z=====5\n",
        "z=====6\n",
        "z=====7\n",
        "z=====8"
       ]
      },
      {
       "output_type": "stream",
       "stream": "stdout",
       "text": [
        "\n",
        "z=====9\n",
        "z=====10\n",
        "z=====11\n",
        "z=====12\n",
        "z=====13"
       ]
      },
      {
       "output_type": "stream",
       "stream": "stdout",
       "text": [
        "\n",
        "z=====14\n",
        "z=====15\n",
        "z=====16\n",
        "z=====17\n",
        "z=====18\n",
        "z=====19"
       ]
      },
      {
       "output_type": "stream",
       "stream": "stdout",
       "text": [
        "\n",
        "z=====20\n",
        "z=====21\n",
        "z=====22\n",
        "z=====23\n",
        "z=====24"
       ]
      },
      {
       "output_type": "stream",
       "stream": "stdout",
       "text": [
        "\n",
        "z=====25\n",
        "z=====26\n",
        "z=====27\n",
        "z=====28\n",
        "z=====29"
       ]
      },
      {
       "output_type": "stream",
       "stream": "stdout",
       "text": [
        "\n",
        "z=====30\n",
        "z=====31\n",
        "z=====32\n",
        "z=====33"
       ]
      },
      {
       "output_type": "stream",
       "stream": "stdout",
       "text": [
        "\n",
        "z=====34\n",
        "z=====35"
       ]
      },
      {
       "output_type": "stream",
       "stream": "stdout",
       "text": [
        "\n",
        "z=====36\n",
        "z=====37\n",
        "z=====38\n",
        "z=====39\n",
        "z=====40"
       ]
      },
      {
       "output_type": "stream",
       "stream": "stdout",
       "text": [
        "\n",
        "z=====41\n",
        "z=====42\n",
        "z=====43\n",
        "z=====44\n",
        "z=====45"
       ]
      },
      {
       "output_type": "stream",
       "stream": "stdout",
       "text": [
        "\n",
        "z=====46\n",
        "z=====47\n",
        "z=====48\n",
        "z=====49\n",
        "z=====50\n",
        "z=====51"
       ]
      },
      {
       "output_type": "stream",
       "stream": "stdout",
       "text": [
        "\n",
        "z=====52\n",
        "z=====53\n",
        "z=====54\n",
        "z=====55\n",
        "z=====56"
       ]
      },
      {
       "output_type": "stream",
       "stream": "stdout",
       "text": [
        "\n",
        "z=====57\n",
        "z=====58\n",
        "z=====59\n",
        "z=====60\n",
        "z=====61\n",
        "z=====62"
       ]
      },
      {
       "output_type": "stream",
       "stream": "stdout",
       "text": [
        "\n",
        "z=====63\n",
        "z=====64\n",
        "z=====65\n",
        "z=====66\n",
        "z=====67"
       ]
      },
      {
       "output_type": "stream",
       "stream": "stdout",
       "text": [
        "\n",
        "z=====68\n",
        "z=====69\n",
        "z=====70\n",
        "z=====71\n",
        "z=====72\n",
        "z=====73"
       ]
      },
      {
       "output_type": "stream",
       "stream": "stdout",
       "text": [
        "\n",
        "z=====74\n",
        "z=====75\n",
        "z=====76\n",
        "z=====77"
       ]
      },
      {
       "output_type": "stream",
       "stream": "stdout",
       "text": [
        "\n",
        "z=====78\n",
        "z=====79"
       ]
      },
      {
       "output_type": "stream",
       "stream": "stdout",
       "text": [
        "\n",
        "z=====80\n",
        "z=====81\n",
        "z=====82\n",
        "z=====83"
       ]
      },
      {
       "output_type": "stream",
       "stream": "stdout",
       "text": [
        "\n",
        "z=====84\n",
        "z=====85\n",
        "z=====86\n",
        "z=====87"
       ]
      },
      {
       "output_type": "stream",
       "stream": "stdout",
       "text": [
        "\n",
        "z=====88\n",
        "z=====89"
       ]
      },
      {
       "output_type": "stream",
       "stream": "stdout",
       "text": [
        "\n",
        "z=====90\n",
        "z=====91\n",
        "z=====92\n",
        "z=====93"
       ]
      },
      {
       "output_type": "stream",
       "stream": "stdout",
       "text": [
        "\n",
        "z=====94\n",
        "z=====95\n",
        "z=====96\n",
        "z=====97"
       ]
      },
      {
       "output_type": "stream",
       "stream": "stdout",
       "text": [
        "\n",
        "z=====98\n",
        "z=====99\n",
        "z=====100"
       ]
      },
      {
       "output_type": "stream",
       "stream": "stdout",
       "text": [
        "\n",
        "z=====101\n",
        "26\n",
        "r==========27\n",
        "z=====1\n",
        "z=====2\n",
        "z=====3"
       ]
      },
      {
       "output_type": "stream",
       "stream": "stdout",
       "text": [
        "\n",
        "z=====4\n",
        "z=====5\n",
        "z=====6\n",
        "z=====7"
       ]
      },
      {
       "output_type": "stream",
       "stream": "stdout",
       "text": [
        "\n",
        "z=====8\n",
        "z=====9\n",
        "z=====10"
       ]
      },
      {
       "output_type": "stream",
       "stream": "stdout",
       "text": [
        "\n",
        "z=====11\n",
        "z=====12\n",
        "z=====13\n",
        "z=====14"
       ]
      },
      {
       "output_type": "stream",
       "stream": "stdout",
       "text": [
        "\n",
        "z=====15\n",
        "z=====16\n",
        "z=====17\n",
        "z=====18"
       ]
      },
      {
       "output_type": "stream",
       "stream": "stdout",
       "text": [
        "\n",
        "z=====19\n",
        "z=====20\n",
        "z=====21"
       ]
      },
      {
       "output_type": "stream",
       "stream": "stdout",
       "text": [
        "\n",
        "z=====22\n",
        "z=====23\n",
        "z=====24\n",
        "z=====25\n",
        "z=====26"
       ]
      },
      {
       "output_type": "stream",
       "stream": "stdout",
       "text": [
        "\n",
        "z=====27\n",
        "z=====28\n",
        "z=====29\n",
        "z=====30\n",
        "z=====31\n",
        "z=====32"
       ]
      },
      {
       "output_type": "stream",
       "stream": "stdout",
       "text": [
        "\n",
        "z=====33\n",
        "z=====34\n",
        "z=====35\n",
        "z=====36\n",
        "z=====37\n",
        "z=====38"
       ]
      },
      {
       "output_type": "stream",
       "stream": "stdout",
       "text": [
        "\n",
        "z=====39\n",
        "z=====40\n",
        "z=====41\n",
        "z=====42\n",
        "z=====43"
       ]
      },
      {
       "output_type": "stream",
       "stream": "stdout",
       "text": [
        "\n",
        "z=====44\n",
        "z=====45\n",
        "z=====46\n",
        "z=====47\n",
        "z=====48"
       ]
      },
      {
       "output_type": "stream",
       "stream": "stdout",
       "text": [
        "\n",
        "z=====49\n",
        "z=====50\n",
        "z=====51\n",
        "z=====52"
       ]
      },
      {
       "output_type": "stream",
       "stream": "stdout",
       "text": [
        "\n",
        "z=====53\n",
        "z=====54"
       ]
      },
      {
       "output_type": "stream",
       "stream": "stdout",
       "text": [
        "\n",
        "z=====55\n",
        "z=====56\n",
        "z=====57\n",
        "z=====58\n",
        "z=====59\n",
        "z=====60"
       ]
      },
      {
       "output_type": "stream",
       "stream": "stdout",
       "text": [
        "\n",
        "z=====61\n",
        "z=====62\n",
        "z=====63\n",
        "z=====64\n",
        "z=====65"
       ]
      },
      {
       "output_type": "stream",
       "stream": "stdout",
       "text": [
        "\n",
        "z=====66\n",
        "z=====67\n",
        "z=====68\n",
        "z=====69\n",
        "z=====70\n",
        "z=====71"
       ]
      },
      {
       "output_type": "stream",
       "stream": "stdout",
       "text": [
        "\n",
        "z=====72\n",
        "z=====73\n",
        "z=====74\n",
        "z=====75\n",
        "z=====76"
       ]
      },
      {
       "output_type": "stream",
       "stream": "stdout",
       "text": [
        "\n",
        "z=====77\n",
        "z=====78\n",
        "z=====79\n",
        "z=====80\n",
        "z=====81\n",
        "z=====82\n",
        "z=====83"
       ]
      },
      {
       "output_type": "stream",
       "stream": "stdout",
       "text": [
        "\n",
        "z=====84\n",
        "z=====85\n",
        "z=====86\n",
        "z=====87"
       ]
      },
      {
       "output_type": "stream",
       "stream": "stdout",
       "text": [
        "\n",
        "z=====88\n",
        "z=====89\n",
        "z=====90\n",
        "z=====91\n",
        "z=====92\n",
        "z=====93"
       ]
      },
      {
       "output_type": "stream",
       "stream": "stdout",
       "text": [
        "\n",
        "z=====94\n",
        "z=====95\n",
        "z=====96\n",
        "z=====97\n",
        "z=====98"
       ]
      },
      {
       "output_type": "stream",
       "stream": "stdout",
       "text": [
        "\n",
        "z=====99\n",
        "z=====100\n",
        "z=====101\n",
        "27\n",
        "r==========28\n",
        "z=====1\n",
        "z=====2\n",
        "z=====3\n",
        "z=====4"
       ]
      },
      {
       "output_type": "stream",
       "stream": "stdout",
       "text": [
        "\n",
        "z=====5\n",
        "z=====6\n",
        "z=====7\n",
        "z=====8"
       ]
      },
      {
       "output_type": "stream",
       "stream": "stdout",
       "text": [
        "\n",
        "z=====9\n",
        "z=====10\n",
        "z=====11\n",
        "z=====12\n",
        "z=====13\n",
        "z=====14"
       ]
      },
      {
       "output_type": "stream",
       "stream": "stdout",
       "text": [
        "\n",
        "z=====15\n",
        "z=====16\n",
        "z=====17\n",
        "z=====18\n",
        "z=====19"
       ]
      },
      {
       "output_type": "stream",
       "stream": "stdout",
       "text": [
        "\n",
        "z=====20\n",
        "z=====21\n",
        "z=====22\n",
        "z=====23\n",
        "z=====24\n",
        "z=====25"
       ]
      },
      {
       "output_type": "stream",
       "stream": "stdout",
       "text": [
        "\n",
        "z=====26\n",
        "z=====27\n",
        "z=====28\n",
        "z=====29\n",
        "z=====30"
       ]
      },
      {
       "output_type": "stream",
       "stream": "stdout",
       "text": [
        "\n",
        "z=====31\n",
        "z=====32\n",
        "z=====33\n",
        "z=====34\n",
        "z=====35\n",
        "z=====36"
       ]
      },
      {
       "output_type": "stream",
       "stream": "stdout",
       "text": [
        "\n",
        "z=====37\n",
        "z=====38\n",
        "z=====39\n",
        "z=====40\n",
        "z=====41"
       ]
      },
      {
       "output_type": "stream",
       "stream": "stdout",
       "text": [
        "\n",
        "z=====42\n",
        "z=====43\n",
        "z=====44\n",
        "z=====45\n",
        "z=====46\n",
        "z=====47"
       ]
      },
      {
       "output_type": "stream",
       "stream": "stdout",
       "text": [
        "\n",
        "z=====48\n",
        "z=====49\n",
        "z=====50\n",
        "z=====51\n",
        "z=====52"
       ]
      },
      {
       "output_type": "stream",
       "stream": "stdout",
       "text": [
        "\n",
        "z=====53\n",
        "z=====54\n",
        "z=====55\n",
        "z=====56\n",
        "z=====57\n",
        "z=====58"
       ]
      },
      {
       "output_type": "stream",
       "stream": "stdout",
       "text": [
        "\n",
        "z=====59\n",
        "z=====60\n",
        "z=====61\n",
        "z=====62\n",
        "z=====63"
       ]
      },
      {
       "output_type": "stream",
       "stream": "stdout",
       "text": [
        "\n",
        "z=====64\n",
        "z=====65\n",
        "z=====66\n",
        "z=====67\n",
        "z=====68\n",
        "z=====69"
       ]
      },
      {
       "output_type": "stream",
       "stream": "stdout",
       "text": [
        "\n",
        "z=====70\n",
        "z=====71\n",
        "z=====72\n",
        "z=====73\n",
        "z=====74"
       ]
      },
      {
       "output_type": "stream",
       "stream": "stdout",
       "text": [
        "\n",
        "z=====75\n",
        "z=====76\n",
        "z=====77\n",
        "z=====78\n",
        "z=====79\n",
        "z=====80"
       ]
      },
      {
       "output_type": "stream",
       "stream": "stdout",
       "text": [
        "\n",
        "z=====81\n",
        "z=====82\n",
        "z=====83\n",
        "z=====84\n",
        "z=====85"
       ]
      },
      {
       "output_type": "stream",
       "stream": "stdout",
       "text": [
        "\n",
        "z=====86\n",
        "z=====87\n",
        "z=====88\n",
        "z=====89\n",
        "z=====90\n",
        "z=====91"
       ]
      },
      {
       "output_type": "stream",
       "stream": "stdout",
       "text": [
        "\n",
        "z=====92\n",
        "z=====93\n",
        "z=====94\n",
        "z=====95\n",
        "z=====96"
       ]
      },
      {
       "output_type": "stream",
       "stream": "stdout",
       "text": [
        "\n",
        "z=====97\n",
        "z=====98\n",
        "z=====99\n",
        "z=====100\n",
        "z=====101\n",
        "28"
       ]
      },
      {
       "output_type": "stream",
       "stream": "stdout",
       "text": [
        "\n",
        "r==========29\n",
        "z=====1\n",
        "z=====2\n",
        "z=====3\n",
        "z=====4\n",
        "z=====5\n",
        "z=====6"
       ]
      },
      {
       "output_type": "stream",
       "stream": "stdout",
       "text": [
        "\n",
        "z=====7\n",
        "z=====8\n",
        "z=====9\n",
        "z=====10\n",
        "z=====11\n",
        "z=====12\n",
        "z=====13"
       ]
      },
      {
       "output_type": "stream",
       "stream": "stdout",
       "text": [
        "\n",
        "z=====14\n",
        "z=====15\n",
        "z=====16\n",
        "z=====17"
       ]
      },
      {
       "output_type": "stream",
       "stream": "stdout",
       "text": [
        "\n",
        "z=====18\n",
        "z=====19\n",
        "z=====20\n",
        "z=====21\n",
        "z=====22\n",
        "z=====23"
       ]
      },
      {
       "output_type": "stream",
       "stream": "stdout",
       "text": [
        "\n",
        "z=====24\n",
        "z=====25\n",
        "z=====26\n",
        "z=====27\n",
        "z=====28"
       ]
      },
      {
       "output_type": "stream",
       "stream": "stdout",
       "text": [
        "\n",
        "z=====29\n",
        "z=====30\n",
        "z=====31\n",
        "z=====32\n",
        "z=====33\n",
        "z=====34"
       ]
      },
      {
       "output_type": "stream",
       "stream": "stdout",
       "text": [
        "\n",
        "z=====35\n",
        "z=====36\n",
        "z=====37\n",
        "z=====38\n",
        "z=====39"
       ]
      },
      {
       "output_type": "stream",
       "stream": "stdout",
       "text": [
        "\n",
        "z=====40\n",
        "z=====41\n",
        "z=====42\n",
        "z=====43\n",
        "z=====44\n",
        "z=====45"
       ]
      },
      {
       "output_type": "stream",
       "stream": "stdout",
       "text": [
        "\n",
        "z=====46\n",
        "z=====47\n",
        "z=====48\n",
        "z=====49\n",
        "z=====50"
       ]
      },
      {
       "output_type": "stream",
       "stream": "stdout",
       "text": [
        "\n",
        "z=====51\n",
        "z=====52\n",
        "z=====53\n",
        "z=====54\n",
        "z=====55\n",
        "z=====56"
       ]
      },
      {
       "output_type": "stream",
       "stream": "stdout",
       "text": [
        "\n",
        "z=====57\n",
        "z=====58\n",
        "z=====59\n",
        "z=====60\n",
        "z=====61"
       ]
      },
      {
       "output_type": "stream",
       "stream": "stdout",
       "text": [
        "\n",
        "z=====62\n",
        "z=====63\n",
        "z=====64\n",
        "z=====65\n",
        "z=====66\n",
        "z=====67\n",
        "z=====68"
       ]
      },
      {
       "output_type": "stream",
       "stream": "stdout",
       "text": [
        "\n",
        "z=====69\n",
        "z=====70\n",
        "z=====71\n",
        "z=====72"
       ]
      },
      {
       "output_type": "stream",
       "stream": "stdout",
       "text": [
        "\n",
        "z=====73\n",
        "z=====74\n",
        "z=====75\n",
        "z=====76\n",
        "z=====77\n",
        "z=====78"
       ]
      },
      {
       "output_type": "stream",
       "stream": "stdout",
       "text": [
        "\n",
        "z=====79\n",
        "z=====80\n",
        "z=====81\n",
        "z=====82\n",
        "z=====83"
       ]
      },
      {
       "output_type": "stream",
       "stream": "stdout",
       "text": [
        "\n",
        "z=====84\n",
        "z=====85\n",
        "z=====86\n",
        "z=====87\n",
        "z=====88\n",
        "z=====89"
       ]
      },
      {
       "output_type": "stream",
       "stream": "stdout",
       "text": [
        "\n",
        "z=====90\n",
        "z=====91\n",
        "z=====92\n",
        "z=====93\n",
        "z=====94"
       ]
      },
      {
       "output_type": "stream",
       "stream": "stdout",
       "text": [
        "\n",
        "z=====95\n",
        "z=====96\n",
        "z=====97\n",
        "z=====98\n",
        "z=====99\n",
        "z=====100"
       ]
      },
      {
       "output_type": "stream",
       "stream": "stdout",
       "text": [
        "\n",
        "z=====101\n",
        "29\n",
        "r==========30\n",
        "z=====1\n",
        "z=====2\n",
        "z=====3\n",
        "z=====4"
       ]
      },
      {
       "output_type": "stream",
       "stream": "stdout",
       "text": [
        "\n",
        "z=====5\n",
        "z=====6\n",
        "z=====7\n",
        "z=====8\n",
        "z=====9\n",
        "z=====10"
       ]
      },
      {
       "output_type": "stream",
       "stream": "stdout",
       "text": [
        "\n",
        "z=====11\n",
        "z=====12\n",
        "z=====13\n",
        "z=====14\n",
        "z=====15"
       ]
      },
      {
       "output_type": "stream",
       "stream": "stdout",
       "text": [
        "\n",
        "z=====16\n",
        "z=====17\n",
        "z=====18\n",
        "z=====19\n",
        "z=====20\n",
        "z=====21"
       ]
      },
      {
       "output_type": "stream",
       "stream": "stdout",
       "text": [
        "\n",
        "z=====22\n",
        "z=====23\n",
        "z=====24\n",
        "z=====25\n",
        "z=====26"
       ]
      },
      {
       "output_type": "stream",
       "stream": "stdout",
       "text": [
        "\n",
        "z=====27\n",
        "z=====28\n",
        "z=====29\n",
        "z=====30\n",
        "z=====31\n",
        "z=====32"
       ]
      },
      {
       "output_type": "stream",
       "stream": "stdout",
       "text": [
        "\n",
        "z=====33\n",
        "z=====34\n",
        "z=====35\n",
        "z=====36\n",
        "z=====37"
       ]
      },
      {
       "output_type": "stream",
       "stream": "stdout",
       "text": [
        "\n",
        "z=====38\n",
        "z=====39\n",
        "z=====40\n",
        "z=====41\n",
        "z=====42\n",
        "z=====43"
       ]
      },
      {
       "output_type": "stream",
       "stream": "stdout",
       "text": [
        "\n",
        "z=====44\n",
        "z=====45\n",
        "z=====46\n",
        "z=====47"
       ]
      },
      {
       "output_type": "stream",
       "stream": "stdout",
       "text": [
        "\n",
        "z=====48\n",
        "z=====49\n",
        "z=====50\n",
        "z=====51\n",
        "z=====52\n",
        "z=====53"
       ]
      },
      {
       "output_type": "stream",
       "stream": "stdout",
       "text": [
        "\n",
        "z=====54\n",
        "z=====55\n",
        "z=====56\n",
        "z=====57\n",
        "z=====58"
       ]
      },
      {
       "output_type": "stream",
       "stream": "stdout",
       "text": [
        "\n",
        "z=====59\n",
        "z=====60\n",
        "z=====61\n",
        "z=====62\n",
        "z=====63\n",
        "z=====64"
       ]
      },
      {
       "output_type": "stream",
       "stream": "stdout",
       "text": [
        "\n",
        "z=====65\n",
        "z=====66\n",
        "z=====67\n",
        "z=====68\n",
        "z=====69"
       ]
      },
      {
       "output_type": "stream",
       "stream": "stdout",
       "text": [
        "\n",
        "z=====70\n",
        "z=====71\n",
        "z=====72\n",
        "z=====73\n",
        "z=====74\n",
        "z=====75"
       ]
      },
      {
       "output_type": "stream",
       "stream": "stdout",
       "text": [
        "\n",
        "z=====76\n",
        "z=====77\n",
        "z=====78\n",
        "z=====79\n",
        "z=====80"
       ]
      },
      {
       "output_type": "stream",
       "stream": "stdout",
       "text": [
        "\n",
        "z=====81\n",
        "z=====82\n",
        "z=====83\n",
        "z=====84\n",
        "z=====85"
       ]
      },
      {
       "output_type": "stream",
       "stream": "stdout",
       "text": [
        "\n",
        "z=====86\n",
        "z=====87\n",
        "z=====88\n",
        "z=====89\n",
        "z=====90"
       ]
      },
      {
       "output_type": "stream",
       "stream": "stdout",
       "text": [
        "\n",
        "z=====91\n",
        "z=====92"
       ]
      },
      {
       "output_type": "stream",
       "stream": "stdout",
       "text": [
        "\n",
        "z=====93\n",
        "z=====94\n",
        "z=====95\n",
        "z=====96"
       ]
      },
      {
       "output_type": "stream",
       "stream": "stdout",
       "text": [
        "\n",
        "z=====97\n",
        "z=====98\n",
        "z=====99\n",
        "z=====100"
       ]
      },
      {
       "output_type": "stream",
       "stream": "stdout",
       "text": [
        "\n",
        "z=====101\n",
        "30"
       ]
      },
      {
       "output_type": "stream",
       "stream": "stdout",
       "text": [
        "\n",
        "r==========31\n",
        "z=====1\n",
        "z=====2\n",
        "z=====3\n",
        "z=====4\n",
        "z=====5\n",
        "z=====6\n",
        "z=====7"
       ]
      },
      {
       "output_type": "stream",
       "stream": "stdout",
       "text": [
        "\n",
        "z=====8\n",
        "z=====9\n",
        "z=====10\n",
        "z=====11"
       ]
      },
      {
       "output_type": "stream",
       "stream": "stdout",
       "text": [
        "\n",
        "z=====12\n",
        "z=====13"
       ]
      },
      {
       "output_type": "stream",
       "stream": "stdout",
       "text": [
        "\n",
        "z=====14\n",
        "z=====15\n",
        "z=====16\n",
        "z=====17"
       ]
      },
      {
       "output_type": "stream",
       "stream": "stdout",
       "text": [
        "\n",
        "z=====18\n",
        "z=====19\n",
        "z=====20\n",
        "z=====21"
       ]
      },
      {
       "output_type": "stream",
       "stream": "stdout",
       "text": [
        "\n",
        "z=====22\n",
        "z=====23"
       ]
      },
      {
       "output_type": "stream",
       "stream": "stdout",
       "text": [
        "\n",
        "z=====24\n",
        "z=====25\n",
        "z=====26\n",
        "z=====27"
       ]
      },
      {
       "output_type": "stream",
       "stream": "stdout",
       "text": [
        "\n",
        "z=====28\n",
        "z=====29\n",
        "z=====30\n",
        "z=====31\n",
        "z=====32\n",
        "z=====33\n",
        "z=====34"
       ]
      },
      {
       "output_type": "stream",
       "stream": "stdout",
       "text": [
        "\n",
        "z=====35\n",
        "z=====36\n",
        "z=====37\n",
        "z=====38"
       ]
      },
      {
       "output_type": "stream",
       "stream": "stdout",
       "text": [
        "\n",
        "z=====39\n",
        "z=====40\n",
        "z=====41\n",
        "z=====42"
       ]
      },
      {
       "output_type": "stream",
       "stream": "stdout",
       "text": [
        "\n",
        "z=====43\n",
        "z=====44\n",
        "z=====45"
       ]
      },
      {
       "output_type": "stream",
       "stream": "stdout",
       "text": [
        "\n",
        "z=====46\n",
        "z=====47\n",
        "z=====48\n",
        "z=====49"
       ]
      },
      {
       "output_type": "stream",
       "stream": "stdout",
       "text": [
        "\n",
        "z=====50\n",
        "z=====51\n",
        "z=====52\n",
        "z=====53"
       ]
      },
      {
       "output_type": "stream",
       "stream": "stdout",
       "text": [
        "\n",
        "z=====54\n",
        "z=====55\n",
        "z=====56"
       ]
      },
      {
       "output_type": "stream",
       "stream": "stdout",
       "text": [
        "\n",
        "z=====57\n",
        "z=====58\n",
        "z=====59\n",
        "z=====60"
       ]
      },
      {
       "output_type": "stream",
       "stream": "stdout",
       "text": [
        "\n",
        "z=====61\n",
        "z=====62\n",
        "z=====63\n",
        "z=====64\n",
        "z=====65"
       ]
      },
      {
       "output_type": "stream",
       "stream": "stdout",
       "text": [
        "\n",
        "z=====66\n",
        "z=====67"
       ]
      },
      {
       "output_type": "stream",
       "stream": "stdout",
       "text": [
        "\n",
        "z=====68\n",
        "z=====69\n",
        "z=====70\n",
        "z=====71\n",
        "z=====72\n",
        "z=====73"
       ]
      },
      {
       "output_type": "stream",
       "stream": "stdout",
       "text": [
        "\n",
        "z=====74\n",
        "z=====75\n",
        "z=====76\n",
        "z=====77\n",
        "z=====78"
       ]
      },
      {
       "output_type": "stream",
       "stream": "stdout",
       "text": [
        "\n",
        "z=====79\n",
        "z=====80\n",
        "z=====81\n",
        "z=====82\n",
        "z=====83\n",
        "z=====84"
       ]
      },
      {
       "output_type": "stream",
       "stream": "stdout",
       "text": [
        "\n",
        "z=====85\n",
        "z=====86\n",
        "z=====87\n",
        "z=====88\n",
        "z=====89"
       ]
      },
      {
       "output_type": "stream",
       "stream": "stdout",
       "text": [
        "\n",
        "z=====90\n",
        "z=====91\n",
        "z=====92\n",
        "z=====93\n",
        "z=====94\n",
        "z=====95\n",
        "z=====96"
       ]
      },
      {
       "output_type": "stream",
       "stream": "stdout",
       "text": [
        "\n",
        "z=====97\n",
        "z=====98\n",
        "z=====99\n",
        "z=====100"
       ]
      },
      {
       "output_type": "stream",
       "stream": "stdout",
       "text": [
        "\n",
        "z=====101\n",
        "31\n",
        "r==========32\n",
        "z=====1\n",
        "z=====2\n",
        "z=====3\n",
        "z=====4\n",
        "z=====5"
       ]
      },
      {
       "output_type": "stream",
       "stream": "stdout",
       "text": [
        "\n",
        "z=====6\n",
        "z=====7\n",
        "z=====8\n",
        "z=====9\n",
        "z=====10"
       ]
      },
      {
       "output_type": "stream",
       "stream": "stdout",
       "text": [
        "\n",
        "z=====11\n",
        "z=====12\n",
        "z=====13\n",
        "z=====14\n",
        "z=====15\n",
        "z=====16"
       ]
      },
      {
       "output_type": "stream",
       "stream": "stdout",
       "text": [
        "\n",
        "z=====17\n",
        "z=====18\n",
        "z=====19\n",
        "z=====20\n",
        "z=====21"
       ]
      },
      {
       "output_type": "stream",
       "stream": "stdout",
       "text": [
        "\n",
        "z=====22\n",
        "z=====23\n",
        "z=====24\n",
        "z=====25\n",
        "z=====26\n",
        "z=====27"
       ]
      },
      {
       "output_type": "stream",
       "stream": "stdout",
       "text": [
        "\n",
        "z=====28\n",
        "z=====29\n",
        "z=====30\n",
        "z=====31\n",
        "z=====32"
       ]
      },
      {
       "output_type": "stream",
       "stream": "stdout",
       "text": [
        "\n",
        "z=====33\n",
        "z=====34\n",
        "z=====35\n",
        "z=====36\n",
        "z=====37\n",
        "z=====38"
       ]
      },
      {
       "output_type": "stream",
       "stream": "stdout",
       "text": [
        "\n",
        "z=====39\n",
        "z=====40\n",
        "z=====41\n",
        "z=====42\n",
        "z=====43"
       ]
      },
      {
       "output_type": "stream",
       "stream": "stdout",
       "text": [
        "\n",
        "z=====44\n",
        "z=====45\n",
        "z=====46\n",
        "z=====47\n",
        "z=====48\n",
        "z=====49"
       ]
      },
      {
       "output_type": "stream",
       "stream": "stdout",
       "text": [
        "\n",
        "z=====50\n",
        "z=====51\n",
        "z=====52\n",
        "z=====53\n",
        "z=====54"
       ]
      },
      {
       "output_type": "stream",
       "stream": "stdout",
       "text": [
        "\n",
        "z=====55\n",
        "z=====56\n",
        "z=====57\n",
        "z=====58\n",
        "z=====59"
       ]
      },
      {
       "output_type": "stream",
       "stream": "stdout",
       "text": [
        "\n",
        "z=====60\n",
        "z=====61\n",
        "z=====62\n",
        "z=====63\n",
        "z=====64\n",
        "z=====65"
       ]
      },
      {
       "output_type": "stream",
       "stream": "stdout",
       "text": [
        "\n",
        "z=====66\n",
        "z=====67\n",
        "z=====68\n",
        "z=====69"
       ]
      },
      {
       "output_type": "stream",
       "stream": "stdout",
       "text": [
        "\n",
        "z=====70\n",
        "z=====71\n",
        "z=====72\n",
        "z=====73"
       ]
      },
      {
       "output_type": "stream",
       "stream": "stdout",
       "text": [
        "\n",
        "z=====74\n",
        "z=====75\n",
        "z=====76"
       ]
      },
      {
       "output_type": "stream",
       "stream": "stdout",
       "text": [
        "\n",
        "z=====77\n",
        "z=====78\n",
        "z=====79\n",
        "z=====80\n",
        "z=====81"
       ]
      },
      {
       "output_type": "stream",
       "stream": "stdout",
       "text": [
        "\n",
        "z=====82\n",
        "z=====83\n",
        "z=====84\n",
        "z=====85\n",
        "z=====86\n",
        "z=====87"
       ]
      },
      {
       "output_type": "stream",
       "stream": "stdout",
       "text": [
        "\n",
        "z=====88\n",
        "z=====89\n",
        "z=====90\n",
        "z=====91\n",
        "z=====92\n",
        "z=====93"
       ]
      },
      {
       "output_type": "stream",
       "stream": "stdout",
       "text": [
        "\n",
        "z=====94\n",
        "z=====95\n",
        "z=====96\n",
        "z=====97\n",
        "z=====98"
       ]
      },
      {
       "output_type": "stream",
       "stream": "stdout",
       "text": [
        "\n",
        "z=====99\n",
        "z=====100\n",
        "z=====101\n",
        "32\n",
        "r==========33\n",
        "z=====1\n",
        "z=====2\n",
        "z=====3"
       ]
      },
      {
       "output_type": "stream",
       "stream": "stdout",
       "text": [
        "\n",
        "z=====4\n",
        "z=====5\n",
        "z=====6\n",
        "z=====7\n",
        "z=====8"
       ]
      },
      {
       "output_type": "stream",
       "stream": "stdout",
       "text": [
        "\n",
        "z=====9\n",
        "z=====10\n",
        "z=====11\n",
        "z=====12\n",
        "z=====13\n",
        "z=====14"
       ]
      },
      {
       "output_type": "stream",
       "stream": "stdout",
       "text": [
        "\n",
        "z=====15\n",
        "z=====16\n",
        "z=====17\n",
        "z=====18\n",
        "z=====19"
       ]
      },
      {
       "output_type": "stream",
       "stream": "stdout",
       "text": [
        "\n",
        "z=====20\n",
        "z=====21\n",
        "z=====22\n",
        "z=====23\n",
        "z=====24\n",
        "z=====25"
       ]
      },
      {
       "output_type": "stream",
       "stream": "stdout",
       "text": [
        "\n",
        "z=====26\n",
        "z=====27\n",
        "z=====28\n",
        "z=====29\n",
        "z=====30"
       ]
      },
      {
       "output_type": "stream",
       "stream": "stdout",
       "text": [
        "\n",
        "z=====31\n",
        "z=====32\n",
        "z=====33\n",
        "z=====34\n",
        "z=====35\n",
        "z=====36"
       ]
      },
      {
       "output_type": "stream",
       "stream": "stdout",
       "text": [
        "\n",
        "z=====37\n",
        "z=====38\n",
        "z=====39\n",
        "z=====40\n",
        "z=====41"
       ]
      },
      {
       "output_type": "stream",
       "stream": "stdout",
       "text": [
        "\n",
        "z=====42\n",
        "z=====43\n",
        "z=====44\n",
        "z=====45\n",
        "z=====46\n",
        "z=====47"
       ]
      },
      {
       "output_type": "stream",
       "stream": "stdout",
       "text": [
        "\n",
        "z=====48\n",
        "z=====49\n",
        "z=====50\n",
        "z=====51\n",
        "z=====52"
       ]
      },
      {
       "output_type": "stream",
       "stream": "stdout",
       "text": [
        "\n",
        "z=====53\n",
        "z=====54\n",
        "z=====55\n",
        "z=====56\n",
        "z=====57\n",
        "z=====58"
       ]
      },
      {
       "output_type": "stream",
       "stream": "stdout",
       "text": [
        "\n",
        "z=====59\n",
        "z=====60\n",
        "z=====61\n",
        "z=====62\n",
        "z=====63"
       ]
      },
      {
       "output_type": "stream",
       "stream": "stdout",
       "text": [
        "\n",
        "z=====64\n",
        "z=====65\n",
        "z=====66\n",
        "z=====67\n",
        "z=====68"
       ]
      },
      {
       "output_type": "stream",
       "stream": "stdout",
       "text": [
        "\n",
        "z=====69\n",
        "z=====70\n",
        "z=====71\n",
        "z=====72"
       ]
      },
      {
       "output_type": "stream",
       "stream": "stdout",
       "text": [
        "\n",
        "z=====73\n",
        "z=====74"
       ]
      },
      {
       "output_type": "stream",
       "stream": "stdout",
       "text": [
        "\n",
        "z=====75\n",
        "z=====76\n",
        "z=====77\n",
        "z=====78"
       ]
      },
      {
       "output_type": "stream",
       "stream": "stdout",
       "text": [
        "\n",
        "z=====79\n",
        "z=====80\n",
        "z=====81\n",
        "z=====82"
       ]
      },
      {
       "output_type": "stream",
       "stream": "stdout",
       "text": [
        "\n",
        "z=====83\n",
        "z=====84\n",
        "z=====85"
       ]
      },
      {
       "output_type": "stream",
       "stream": "stdout",
       "text": [
        "\n",
        "z=====86\n",
        "z=====87\n",
        "z=====88\n",
        "z=====89"
       ]
      },
      {
       "output_type": "stream",
       "stream": "stdout",
       "text": [
        "\n",
        "z=====90\n",
        "z=====91\n",
        "z=====92\n",
        "z=====93"
       ]
      },
      {
       "output_type": "stream",
       "stream": "stdout",
       "text": [
        "\n",
        "z=====94\n",
        "z=====95\n",
        "z=====96"
       ]
      },
      {
       "output_type": "stream",
       "stream": "stdout",
       "text": [
        "\n",
        "z=====97\n",
        "z=====98\n",
        "z=====99\n",
        "z=====100"
       ]
      },
      {
       "output_type": "stream",
       "stream": "stdout",
       "text": [
        "\n",
        "z=====101\n",
        "33\n",
        "r==========34\n",
        "z=====1\n",
        "z=====2\n",
        "z=====3"
       ]
      },
      {
       "output_type": "stream",
       "stream": "stdout",
       "text": [
        "\n",
        "z=====4\n",
        "z=====5\n",
        "z=====6"
       ]
      },
      {
       "output_type": "stream",
       "stream": "stdout",
       "text": [
        "\n",
        "z=====7\n",
        "z=====8\n",
        "z=====9\n",
        "z=====10"
       ]
      },
      {
       "output_type": "stream",
       "stream": "stdout",
       "text": [
        "\n",
        "z=====11\n",
        "z=====12\n",
        "z=====13\n",
        "z=====14\n",
        "z=====15"
       ]
      },
      {
       "output_type": "stream",
       "stream": "stdout",
       "text": [
        "\n",
        "z=====16\n",
        "z=====17"
       ]
      },
      {
       "output_type": "stream",
       "stream": "stdout",
       "text": [
        "\n",
        "z=====18\n",
        "z=====19\n",
        "z=====20\n",
        "z=====21"
       ]
      },
      {
       "output_type": "stream",
       "stream": "stdout",
       "text": [
        "\n",
        "z=====22\n",
        "z=====23\n",
        "z=====24\n",
        "z=====25"
       ]
      },
      {
       "output_type": "stream",
       "stream": "stdout",
       "text": [
        "\n",
        "z=====26\n",
        "z=====27\n",
        "z=====28"
       ]
      },
      {
       "output_type": "stream",
       "stream": "stdout",
       "text": [
        "\n",
        "z=====29\n",
        "z=====30\n",
        "z=====31\n",
        "z=====32\n",
        "z=====33\n",
        "z=====34"
       ]
      },
      {
       "output_type": "stream",
       "stream": "stdout",
       "text": [
        "\n",
        "z=====35\n",
        "z=====36\n",
        "z=====37\n",
        "z=====38"
       ]
      },
      {
       "output_type": "stream",
       "stream": "stdout",
       "text": [
        "\n",
        "z=====39\n",
        "z=====40\n",
        "z=====41\n",
        "z=====42\n",
        "z=====43\n",
        "z=====44"
       ]
      },
      {
       "output_type": "stream",
       "stream": "stdout",
       "text": [
        "\n",
        "z=====45\n",
        "z=====46\n",
        "z=====47\n",
        "z=====48\n",
        "z=====49"
       ]
      },
      {
       "output_type": "stream",
       "stream": "stdout",
       "text": [
        "\n",
        "z=====50\n",
        "z=====51\n",
        "z=====52\n",
        "z=====53\n",
        "z=====54\n",
        "z=====55\n",
        "z=====56"
       ]
      },
      {
       "output_type": "stream",
       "stream": "stdout",
       "text": [
        "\n",
        "z=====57\n",
        "z=====58\n",
        "z=====59\n",
        "z=====60"
       ]
      },
      {
       "output_type": "stream",
       "stream": "stdout",
       "text": [
        "\n",
        "z=====61\n",
        "z=====62\n",
        "z=====63\n",
        "z=====64\n",
        "z=====65\n",
        "z=====66"
       ]
      },
      {
       "output_type": "stream",
       "stream": "stdout",
       "text": [
        "\n",
        "z=====67\n",
        "z=====68\n",
        "z=====69\n",
        "z=====70\n",
        "z=====71"
       ]
      },
      {
       "output_type": "stream",
       "stream": "stdout",
       "text": [
        "\n",
        "z=====72\n",
        "z=====73\n",
        "z=====74\n",
        "z=====75\n",
        "z=====76\n",
        "z=====77"
       ]
      },
      {
       "output_type": "stream",
       "stream": "stdout",
       "text": [
        "\n",
        "z=====78\n",
        "z=====79\n",
        "z=====80\n",
        "z=====81\n",
        "z=====82"
       ]
      },
      {
       "output_type": "stream",
       "stream": "stdout",
       "text": [
        "\n",
        "z=====83\n",
        "z=====84\n",
        "z=====85\n",
        "z=====86\n",
        "z=====87\n",
        "z=====88"
       ]
      },
      {
       "output_type": "stream",
       "stream": "stdout",
       "text": [
        "\n",
        "z=====89\n",
        "z=====90\n",
        "z=====91\n",
        "z=====92\n",
        "z=====93"
       ]
      },
      {
       "output_type": "stream",
       "stream": "stdout",
       "text": [
        "\n",
        "z=====94\n",
        "z=====95\n",
        "z=====96\n",
        "z=====97\n",
        "z=====98\n",
        "z=====99"
       ]
      },
      {
       "output_type": "stream",
       "stream": "stdout",
       "text": [
        "\n",
        "z=====100\n",
        "z=====101\n",
        "34\n",
        "r==========35\n",
        "z=====1\n",
        "z=====2\n",
        "z=====3"
       ]
      },
      {
       "output_type": "stream",
       "stream": "stdout",
       "text": [
        "\n",
        "z=====4\n",
        "z=====5\n",
        "z=====6\n",
        "z=====7\n",
        "z=====8\n",
        "z=====9"
       ]
      },
      {
       "output_type": "stream",
       "stream": "stdout",
       "text": [
        "\n",
        "z=====10\n",
        "z=====11\n",
        "z=====12\n",
        "z=====13\n",
        "z=====14"
       ]
      },
      {
       "output_type": "stream",
       "stream": "stdout",
       "text": [
        "\n",
        "z=====15\n",
        "z=====16\n",
        "z=====17\n",
        "z=====18\n",
        "z=====19\n",
        "z=====20"
       ]
      },
      {
       "output_type": "stream",
       "stream": "stdout",
       "text": [
        "\n",
        "z=====21\n",
        "z=====22\n",
        "z=====23\n",
        "z=====24\n",
        "z=====25"
       ]
      },
      {
       "output_type": "stream",
       "stream": "stdout",
       "text": [
        "\n",
        "z=====26\n",
        "z=====27\n",
        "z=====28\n",
        "z=====29\n",
        "z=====30"
       ]
      },
      {
       "output_type": "stream",
       "stream": "stdout",
       "text": [
        "\n",
        "z=====31\n",
        "z=====32\n",
        "z=====33\n",
        "z=====34\n",
        "z=====35"
       ]
      },
      {
       "output_type": "stream",
       "stream": "stdout",
       "text": [
        "\n",
        "z=====36\n",
        "z=====37"
       ]
      },
      {
       "output_type": "stream",
       "stream": "stdout",
       "text": [
        "\n",
        "z=====38\n",
        "z=====39\n",
        "z=====40\n",
        "z=====41\n",
        "z=====42\n",
        "z=====43"
       ]
      },
      {
       "output_type": "stream",
       "stream": "stdout",
       "text": [
        "\n",
        "z=====44\n",
        "z=====45\n",
        "z=====46\n",
        "z=====47"
       ]
      },
      {
       "output_type": "stream",
       "stream": "stdout",
       "text": [
        "\n",
        "z=====48\n",
        "z=====49\n",
        "z=====50\n",
        "z=====51\n",
        "z=====52\n",
        "z=====53\n",
        "z=====54"
       ]
      },
      {
       "output_type": "stream",
       "stream": "stdout",
       "text": [
        "\n",
        "z=====55\n",
        "z=====56\n",
        "z=====57\n",
        "z=====58"
       ]
      },
      {
       "output_type": "stream",
       "stream": "stdout",
       "text": [
        "\n",
        "z=====59\n",
        "z=====60\n",
        "z=====61\n",
        "z=====62\n",
        "z=====63\n",
        "z=====64"
       ]
      },
      {
       "output_type": "stream",
       "stream": "stdout",
       "text": [
        "\n",
        "z=====65\n",
        "z=====66\n",
        "z=====67\n",
        "z=====68\n",
        "z=====69"
       ]
      },
      {
       "output_type": "stream",
       "stream": "stdout",
       "text": [
        "\n",
        "z=====70\n",
        "z=====71\n",
        "z=====72\n",
        "z=====73\n",
        "z=====74\n",
        "z=====75"
       ]
      },
      {
       "output_type": "stream",
       "stream": "stdout",
       "text": [
        "\n",
        "z=====76\n",
        "z=====77\n",
        "z=====78\n",
        "z=====79\n",
        "z=====80"
       ]
      },
      {
       "output_type": "stream",
       "stream": "stdout",
       "text": [
        "\n",
        "z=====81\n",
        "z=====82\n",
        "z=====83\n",
        "z=====84"
       ]
      },
      {
       "output_type": "stream",
       "stream": "stdout",
       "text": [
        "\n",
        "z=====85\n",
        "z=====86\n",
        "z=====87\n",
        "z=====88"
       ]
      },
      {
       "output_type": "stream",
       "stream": "stdout",
       "text": [
        "\n",
        "z=====89\n",
        "z=====90\n",
        "z=====91"
       ]
      },
      {
       "output_type": "stream",
       "stream": "stdout",
       "text": [
        "\n",
        "z=====92\n",
        "z=====93\n",
        "z=====94\n",
        "z=====95"
       ]
      },
      {
       "output_type": "stream",
       "stream": "stdout",
       "text": [
        "\n",
        "z=====96\n",
        "z=====97\n",
        "z=====98\n",
        "z=====99"
       ]
      },
      {
       "output_type": "stream",
       "stream": "stdout",
       "text": [
        "\n",
        "z=====100\n",
        "z=====101\n",
        "35"
       ]
      },
      {
       "output_type": "stream",
       "stream": "stdout",
       "text": [
        "\n",
        "r==========36\n",
        "z=====1\n",
        "z=====2\n",
        "z=====3\n",
        "z=====4\n",
        "z=====5"
       ]
      },
      {
       "output_type": "stream",
       "stream": "stdout",
       "text": [
        "\n",
        "z=====6\n",
        "z=====7\n",
        "z=====8\n",
        "z=====9\n",
        "z=====10"
       ]
      },
      {
       "output_type": "stream",
       "stream": "stdout",
       "text": [
        "\n",
        "z=====11\n",
        "z=====12\n",
        "z=====13"
       ]
      },
      {
       "output_type": "stream",
       "stream": "stdout",
       "text": [
        "\n",
        "z=====14\n",
        "z=====15\n",
        "z=====16\n",
        "z=====17\n",
        "z=====18\n",
        "z=====19"
       ]
      },
      {
       "output_type": "stream",
       "stream": "stdout",
       "text": [
        "\n",
        "z=====20\n",
        "z=====21\n",
        "z=====22\n",
        "z=====23"
       ]
      },
      {
       "output_type": "stream",
       "stream": "stdout",
       "text": [
        "\n",
        "z=====24\n",
        "z=====25\n",
        "z=====26\n",
        "z=====27\n",
        "z=====28\n",
        "z=====29"
       ]
      },
      {
       "output_type": "stream",
       "stream": "stdout",
       "text": [
        "\n",
        "z=====30\n",
        "z=====31\n",
        "z=====32\n",
        "z=====33\n",
        "z=====34"
       ]
      },
      {
       "output_type": "stream",
       "stream": "stdout",
       "text": [
        "\n",
        "z=====35\n",
        "z=====36\n",
        "z=====37\n",
        "z=====38\n",
        "z=====39\n",
        "z=====40"
       ]
      },
      {
       "output_type": "stream",
       "stream": "stdout",
       "text": [
        "\n",
        "z=====41\n",
        "z=====42\n",
        "z=====43\n",
        "z=====44\n",
        "z=====45"
       ]
      },
      {
       "output_type": "stream",
       "stream": "stdout",
       "text": [
        "\n",
        "z=====46\n",
        "z=====47\n",
        "z=====48\n",
        "z=====49\n",
        "z=====50\n",
        "z=====51"
       ]
      },
      {
       "output_type": "stream",
       "stream": "stdout",
       "text": [
        "\n",
        "z=====52\n",
        "z=====53\n",
        "z=====54\n",
        "z=====55\n",
        "z=====56"
       ]
      },
      {
       "output_type": "stream",
       "stream": "stdout",
       "text": [
        "\n",
        "z=====57\n",
        "z=====58\n",
        "z=====59\n",
        "z=====60\n",
        "z=====61"
       ]
      },
      {
       "output_type": "stream",
       "stream": "stdout",
       "text": [
        "\n",
        "z=====62\n",
        "z=====63\n",
        "z=====64\n",
        "z=====65\n",
        "z=====66\n",
        "z=====67"
       ]
      },
      {
       "output_type": "stream",
       "stream": "stdout",
       "text": [
        "\n",
        "z=====68\n",
        "z=====69\n",
        "z=====70\n",
        "z=====71\n",
        "z=====72\n",
        "z=====73"
       ]
      },
      {
       "output_type": "stream",
       "stream": "stdout",
       "text": [
        "\n",
        "z=====74\n",
        "z=====75\n",
        "z=====76\n",
        "z=====77\n",
        "z=====78"
       ]
      },
      {
       "output_type": "stream",
       "stream": "stdout",
       "text": [
        "\n",
        "z=====79\n",
        "z=====80\n",
        "z=====81\n",
        "z=====82\n",
        "z=====83"
       ]
      },
      {
       "output_type": "stream",
       "stream": "stdout",
       "text": [
        "\n",
        "z=====84\n",
        "z=====85\n",
        "z=====86\n",
        "z=====87\n"
       ]
      },
      {
       "output_type": "stream",
       "stream": "stdout",
       "text": [
        "z=====88\n",
        "z=====89\n",
        "z=====90"
       ]
      },
      {
       "output_type": "stream",
       "stream": "stdout",
       "text": [
        "\n",
        "z=====91\n",
        "z=====92\n",
        "z=====93\n",
        "z=====94"
       ]
      },
      {
       "output_type": "stream",
       "stream": "stdout",
       "text": [
        "\n",
        "z=====95\n",
        "z=====96\n",
        "z=====97\n",
        "z=====98"
       ]
      },
      {
       "output_type": "stream",
       "stream": "stdout",
       "text": [
        "\n",
        "z=====99\n",
        "z=====100"
       ]
      },
      {
       "output_type": "stream",
       "stream": "stdout",
       "text": [
        "\n",
        "z=====101\n",
        "36\n",
        "r==========37\n",
        "z=====1\n",
        "z=====2\n",
        "z=====3"
       ]
      },
      {
       "output_type": "stream",
       "stream": "stdout",
       "text": [
        "\n",
        "z=====4\n",
        "z=====5\n",
        "z=====6\n",
        "z=====7"
       ]
      },
      {
       "output_type": "stream",
       "stream": "stdout",
       "text": [
        "\n",
        "z=====8\n",
        "z=====9\n",
        "z=====10"
       ]
      },
      {
       "output_type": "stream",
       "stream": "stdout",
       "text": [
        "\n",
        "z=====11\n",
        "z=====12\n",
        "z=====13\n",
        "z=====14\n",
        "z=====15"
       ]
      },
      {
       "output_type": "stream",
       "stream": "stdout",
       "text": [
        "\n",
        "z=====16\n",
        "z=====17\n",
        "z=====18\n",
        "z=====19\n",
        "z=====20\n",
        "z=====21"
       ]
      },
      {
       "output_type": "stream",
       "stream": "stdout",
       "text": [
        "\n",
        "z=====22\n",
        "z=====23\n",
        "z=====24\n",
        "z=====25\n",
        "z=====26\n",
        "z=====27"
       ]
      },
      {
       "output_type": "stream",
       "stream": "stdout",
       "text": [
        "\n",
        "z=====28\n",
        "z=====29\n",
        "z=====30\n",
        "z=====31\n",
        "z=====32"
       ]
      },
      {
       "output_type": "stream",
       "stream": "stdout",
       "text": [
        "\n",
        "z=====33\n",
        "z=====34\n",
        "z=====35\n",
        "z=====36\n",
        "z=====37\n",
        "z=====38"
       ]
      },
      {
       "output_type": "stream",
       "stream": "stdout",
       "text": [
        "\n",
        "z=====39\n",
        "z=====40\n",
        "z=====41\n",
        "z=====42\n",
        "z=====43"
       ]
      },
      {
       "output_type": "stream",
       "stream": "stdout",
       "text": [
        "\n",
        "z=====44\n",
        "z=====45\n",
        "z=====46\n",
        "z=====47\n",
        "z=====48\n",
        "z=====49"
       ]
      },
      {
       "output_type": "stream",
       "stream": "stdout",
       "text": [
        "\n",
        "z=====50\n",
        "z=====51\n",
        "z=====52\n",
        "z=====53\n",
        "z=====54"
       ]
      },
      {
       "output_type": "stream",
       "stream": "stdout",
       "text": [
        "\n",
        "z=====55\n",
        "z=====56\n",
        "z=====57\n",
        "z=====58\n",
        "z=====59"
       ]
      },
      {
       "output_type": "stream",
       "stream": "stdout",
       "text": [
        "\n",
        "z=====60\n",
        "z=====61\n",
        "z=====62\n",
        "z=====63\n",
        "z=====64\n",
        "z=====65"
       ]
      },
      {
       "output_type": "stream",
       "stream": "stdout",
       "text": [
        "\n",
        "z=====66\n",
        "z=====67\n",
        "z=====68\n",
        "z=====69\n",
        "z=====70\n",
        "z=====71"
       ]
      },
      {
       "output_type": "stream",
       "stream": "stdout",
       "text": [
        "\n",
        "z=====72\n",
        "z=====73\n",
        "z=====74\n",
        "z=====75\n",
        "z=====76"
       ]
      },
      {
       "output_type": "stream",
       "stream": "stdout",
       "text": [
        "\n",
        "z=====77\n",
        "z=====78\n",
        "z=====79\n",
        "z=====80\n",
        "z=====81\n",
        "z=====82"
       ]
      },
      {
       "output_type": "stream",
       "stream": "stdout",
       "text": [
        "\n",
        "z=====83\n",
        "z=====84\n",
        "z=====85\n",
        "z=====86\n",
        "z=====87"
       ]
      },
      {
       "output_type": "stream",
       "stream": "stdout",
       "text": [
        "\n",
        "z=====88\n",
        "z=====89\n",
        "z=====90\n",
        "z=====91\n",
        "z=====92\n",
        "z=====93"
       ]
      },
      {
       "output_type": "stream",
       "stream": "stdout",
       "text": [
        "\n",
        "z=====94\n",
        "z=====95\n",
        "z=====96\n",
        "z=====97\n",
        "z=====98"
       ]
      },
      {
       "output_type": "stream",
       "stream": "stdout",
       "text": [
        "\n",
        "z=====99\n",
        "z=====100\n",
        "z=====101\n",
        "37\n",
        "r==========38\n",
        "z=====1\n",
        "z=====2\n",
        "z=====3"
       ]
      },
      {
       "output_type": "stream",
       "stream": "stdout",
       "text": [
        "\n",
        "z=====4\n",
        "z=====5\n",
        "z=====6\n",
        "z=====7\n",
        "z=====8"
       ]
      },
      {
       "output_type": "stream",
       "stream": "stdout",
       "text": [
        "\n",
        "z=====9\n",
        "z=====10\n",
        "z=====11\n",
        "z=====12\n",
        "z=====13\n",
        "z=====14"
       ]
      },
      {
       "output_type": "stream",
       "stream": "stdout",
       "text": [
        "\n",
        "z=====15\n",
        "z=====16\n",
        "z=====17\n",
        "z=====18\n",
        "z=====19"
       ]
      },
      {
       "output_type": "stream",
       "stream": "stdout",
       "text": [
        "\n",
        "z=====20\n",
        "z=====21\n",
        "z=====22\n",
        "z=====23\n",
        "z=====24"
       ]
      },
      {
       "output_type": "stream",
       "stream": "stdout",
       "text": [
        "\n",
        "z=====25\n",
        "z=====26\n",
        "z=====27\n",
        "z=====28\n",
        "z=====29"
       ]
      },
      {
       "output_type": "stream",
       "stream": "stdout",
       "text": [
        "\n",
        "z=====30\n",
        "z=====31\n",
        "z=====32"
       ]
      },
      {
       "output_type": "stream",
       "stream": "stdout",
       "text": [
        "\n",
        "z=====33\n",
        "z=====34\n",
        "z=====35\n",
        "z=====36"
       ]
      },
      {
       "output_type": "stream",
       "stream": "stdout",
       "text": [
        "\n",
        "z=====37\n",
        "z=====38\n",
        "z=====39\n",
        "z=====40"
       ]
      },
      {
       "output_type": "stream",
       "stream": "stdout",
       "text": [
        "\n",
        "z=====41\n",
        "z=====42\n",
        "z=====43\n",
        "z=====44"
       ]
      },
      {
       "output_type": "stream",
       "stream": "stdout",
       "text": [
        "\n",
        "z=====45\n",
        "z=====46\n",
        "z=====47\n",
        "z=====48\n",
        "z=====49\n",
        "z=====50"
       ]
      },
      {
       "output_type": "stream",
       "stream": "stdout",
       "text": [
        "\n",
        "z=====51\n",
        "z=====52\n",
        "z=====53"
       ]
      },
      {
       "output_type": "stream",
       "stream": "stdout",
       "text": [
        "\n",
        "z=====54\n",
        "z=====55\n",
        "z=====56\n",
        "z=====57\n",
        "z=====58"
       ]
      },
      {
       "output_type": "stream",
       "stream": "stdout",
       "text": [
        "\n",
        "z=====59\n",
        "z=====60\n",
        "z=====61\n",
        "z=====62"
       ]
      },
      {
       "output_type": "stream",
       "stream": "stdout",
       "text": [
        "\n",
        "z=====63\n",
        "z=====64\n",
        "z=====65\n",
        "z=====66\n",
        "z=====67\n",
        "z=====68"
       ]
      },
      {
       "output_type": "stream",
       "stream": "stdout",
       "text": [
        "\n",
        "z=====69\n",
        "z=====70\n",
        "z=====71\n",
        "z=====72\n",
        "z=====73"
       ]
      },
      {
       "output_type": "stream",
       "stream": "stdout",
       "text": [
        "\n",
        "z=====74\n",
        "z=====75\n",
        "z=====76\n",
        "z=====77\n",
        "z=====78\n",
        "z=====79"
       ]
      },
      {
       "output_type": "stream",
       "stream": "stdout",
       "text": [
        "\n",
        "z=====80\n",
        "z=====81\n",
        "z=====82\n",
        "z=====83\n",
        "z=====84"
       ]
      },
      {
       "output_type": "stream",
       "stream": "stdout",
       "text": [
        "\n",
        "z=====85\n",
        "z=====86\n",
        "z=====87\n",
        "z=====88\n",
        "z=====89\n",
        "z=====90"
       ]
      },
      {
       "output_type": "stream",
       "stream": "stdout",
       "text": [
        "\n",
        "z=====91\n",
        "z=====92\n",
        "z=====93\n",
        "z=====94\n",
        "z=====95"
       ]
      },
      {
       "output_type": "stream",
       "stream": "stdout",
       "text": [
        "\n",
        "z=====96\n",
        "z=====97\n",
        "z=====98\n",
        "z=====99"
       ]
      },
      {
       "output_type": "stream",
       "stream": "stdout",
       "text": [
        "\n",
        "z=====100\n",
        "z=====101\n",
        "38\n",
        "r==========39\n",
        "z=====1\n",
        "z=====2\n",
        "z=====3\n",
        "z=====4"
       ]
      },
      {
       "output_type": "stream",
       "stream": "stdout",
       "text": [
        "\n",
        "z=====5\n",
        "z=====6\n",
        "z=====7"
       ]
      },
      {
       "output_type": "stream",
       "stream": "stdout",
       "text": [
        "\n",
        "z=====8\n",
        "z=====9\n",
        "z=====10\n",
        "z=====11\n",
        "z=====12\n",
        "z=====13"
       ]
      },
      {
       "output_type": "stream",
       "stream": "stdout",
       "text": [
        "\n",
        "z=====14\n",
        "z=====15\n",
        "z=====16"
       ]
      },
      {
       "output_type": "stream",
       "stream": "stdout",
       "text": [
        "\n",
        "z=====17\n",
        "z=====18\n",
        "z=====19\n",
        "z=====20\n",
        "z=====21\n",
        "z=====22"
       ]
      },
      {
       "output_type": "stream",
       "stream": "stdout",
       "text": [
        "\n",
        "z=====23\n",
        "z=====24\n",
        "z=====25\n",
        "z=====26\n",
        "z=====27"
       ]
      },
      {
       "output_type": "stream",
       "stream": "stdout",
       "text": [
        "\n",
        "z=====28\n",
        "z=====29\n",
        "z=====30\n",
        "z=====31\n",
        "z=====32"
       ]
      },
      {
       "output_type": "stream",
       "stream": "stdout",
       "text": [
        "\n",
        "z=====33\n",
        "z=====34\n",
        "z=====35\n",
        "z=====36"
       ]
      },
      {
       "output_type": "stream",
       "stream": "stdout",
       "text": [
        "\n",
        "z=====37\n",
        "z=====38"
       ]
      },
      {
       "output_type": "stream",
       "stream": "stdout",
       "text": [
        "\n",
        "z=====39\n",
        "z=====40\n",
        "z=====41\n",
        "z=====42"
       ]
      },
      {
       "output_type": "stream",
       "stream": "stdout",
       "text": [
        "\n",
        "z=====43\n",
        "z=====44\n",
        "z=====45\n",
        "z=====46"
       ]
      },
      {
       "output_type": "stream",
       "stream": "stdout",
       "text": [
        "\n",
        "z=====47\n",
        "z=====48\n",
        "z=====49"
       ]
      },
      {
       "output_type": "stream",
       "stream": "stdout",
       "text": [
        "\n",
        "z=====50\n",
        "z=====51\n",
        "z=====52\n",
        "z=====53\n",
        "z=====54\n",
        "z=====55"
       ]
      },
      {
       "output_type": "stream",
       "stream": "stdout",
       "text": [
        "\n",
        "z=====56\n",
        "z=====57\n",
        "z=====58\n",
        "z=====59\n",
        "z=====60"
       ]
      },
      {
       "output_type": "stream",
       "stream": "stdout",
       "text": [
        "\n",
        "z=====61\n",
        "z=====62\n",
        "z=====63\n",
        "z=====64\n",
        "z=====65\n",
        "z=====66"
       ]
      },
      {
       "output_type": "stream",
       "stream": "stdout",
       "text": [
        "\n",
        "z=====67\n",
        "z=====68\n",
        "z=====69\n",
        "z=====70\n",
        "z=====71"
       ]
      },
      {
       "output_type": "stream",
       "stream": "stdout",
       "text": [
        "\n",
        "z=====72\n",
        "z=====73\n",
        "z=====74\n",
        "z=====75\n",
        "z=====76\n",
        "z=====77"
       ]
      },
      {
       "output_type": "stream",
       "stream": "stdout",
       "text": [
        "\n",
        "z=====78\n",
        "z=====79\n",
        "z=====80\n",
        "z=====81\n",
        "z=====82"
       ]
      },
      {
       "output_type": "stream",
       "stream": "stdout",
       "text": [
        "\n",
        "z=====83\n",
        "z=====84\n",
        "z=====85\n",
        "z=====86\n",
        "z=====87\n",
        "z=====88"
       ]
      },
      {
       "output_type": "stream",
       "stream": "stdout",
       "text": [
        "\n",
        "z=====89\n",
        "z=====90\n",
        "z=====91\n",
        "z=====92\n",
        "z=====93"
       ]
      },
      {
       "output_type": "stream",
       "stream": "stdout",
       "text": [
        "\n",
        "z=====94\n",
        "z=====95\n",
        "z=====96\n",
        "z=====97\n",
        "z=====98\n",
        "z=====99"
       ]
      },
      {
       "output_type": "stream",
       "stream": "stdout",
       "text": [
        "\n",
        "z=====100\n",
        "z=====101\n",
        "39\n",
        "r==========40\n",
        "z=====1\n",
        "z=====2"
       ]
      },
      {
       "output_type": "stream",
       "stream": "stdout",
       "text": [
        "\n",
        "z=====3\n",
        "z=====4"
       ]
      },
      {
       "output_type": "stream",
       "stream": "stdout",
       "text": [
        "\n",
        "z=====5\n",
        "z=====6\n",
        "z=====7\n",
        "z=====8"
       ]
      },
      {
       "output_type": "stream",
       "stream": "stdout",
       "text": [
        "\n",
        "z=====9\n",
        "z=====10\n",
        "z=====11\n",
        "z=====12"
       ]
      },
      {
       "output_type": "stream",
       "stream": "stdout",
       "text": [
        "\n",
        "z=====13\n",
        "z=====14"
       ]
      },
      {
       "output_type": "stream",
       "stream": "stdout",
       "text": [
        "\n",
        "z=====15\n",
        "z=====16\n",
        "z=====17\n",
        "z=====18"
       ]
      },
      {
       "output_type": "stream",
       "stream": "stdout",
       "text": [
        "\n",
        "z=====19\n",
        "z=====20\n",
        "z=====21\n",
        "z=====22"
       ]
      },
      {
       "output_type": "stream",
       "stream": "stdout",
       "text": [
        "\n",
        "z=====23\n",
        "z=====24\n",
        "z=====25"
       ]
      },
      {
       "output_type": "stream",
       "stream": "stdout",
       "text": [
        "\n",
        "z=====26\n",
        "z=====27\n",
        "z=====28\n",
        "z=====29\n",
        "z=====30"
       ]
      },
      {
       "output_type": "stream",
       "stream": "stdout",
       "text": [
        "\n",
        "z=====31\n",
        "z=====32\n",
        "z=====33\n",
        "z=====34\n",
        "z=====35"
       ]
      },
      {
       "output_type": "stream",
       "stream": "stdout",
       "text": [
        "\n",
        "z=====36\n",
        "z=====37"
       ]
      },
      {
       "output_type": "stream",
       "stream": "stdout",
       "text": [
        "\n",
        "z=====38\n",
        "z=====39\n",
        "z=====40\n",
        "z=====41\n",
        "z=====42\n",
        "z=====43"
       ]
      },
      {
       "output_type": "stream",
       "stream": "stdout",
       "text": [
        "\n",
        "z=====44\n",
        "z=====45\n",
        "z=====46\n",
        "z=====47"
       ]
      },
      {
       "output_type": "stream",
       "stream": "stdout",
       "text": [
        "\n",
        "z=====48\n",
        "z=====49\n",
        "z=====50\n",
        "z=====51\n",
        "z=====52"
       ]
      },
      {
       "output_type": "stream",
       "stream": "stdout",
       "text": [
        "\n",
        "z=====53\n",
        "z=====54\n",
        "z=====55\n",
        "z=====56\n",
        "z=====57\n",
        "z=====58"
       ]
      },
      {
       "output_type": "stream",
       "stream": "stdout",
       "text": [
        "\n",
        "z=====59\n",
        "z=====60\n",
        "z=====61\n",
        "z=====62\n",
        "z=====63\n",
        "z=====64"
       ]
      },
      {
       "output_type": "stream",
       "stream": "stdout",
       "text": [
        "\n",
        "z=====65\n",
        "z=====66\n",
        "z=====67\n",
        "z=====68\n",
        "z=====69"
       ]
      },
      {
       "output_type": "stream",
       "stream": "stdout",
       "text": [
        "\n",
        "z=====70\n",
        "z=====71\n",
        "z=====72\n",
        "z=====73\n",
        "z=====74\n",
        "z=====75"
       ]
      },
      {
       "output_type": "stream",
       "stream": "stdout",
       "text": [
        "\n",
        "z=====76\n",
        "z=====77\n",
        "z=====78\n",
        "z=====79\n",
        "z=====80"
       ]
      },
      {
       "output_type": "stream",
       "stream": "stdout",
       "text": [
        "\n",
        "z=====81\n",
        "z=====82\n",
        "z=====83\n",
        "z=====84\n",
        "z=====85\n",
        "z=====86"
       ]
      },
      {
       "output_type": "stream",
       "stream": "stdout",
       "text": [
        "\n",
        "z=====87\n",
        "z=====88\n",
        "z=====89\n",
        "z=====90\n",
        "z=====91"
       ]
      },
      {
       "output_type": "stream",
       "stream": "stdout",
       "text": [
        "\n",
        "z=====92\n",
        "z=====93\n",
        "z=====94\n",
        "z=====95\n",
        "z=====96\n",
        "z=====97"
       ]
      },
      {
       "output_type": "stream",
       "stream": "stdout",
       "text": [
        "\n",
        "z=====98\n",
        "z=====99\n",
        "z=====100\n",
        "z=====101\n",
        "40"
       ]
      },
      {
       "output_type": "stream",
       "stream": "stdout",
       "text": [
        "\n",
        "r==========41\n",
        "z=====1\n",
        "z=====2\n",
        "z=====3\n",
        "z=====4\n",
        "z=====5\n",
        "z=====6\n",
        "z=====7"
       ]
      },
      {
       "output_type": "stream",
       "stream": "stdout",
       "text": [
        "\n",
        "z=====8\n",
        "z=====9\n",
        "z=====10\n",
        "z=====11\n",
        "z=====12"
       ]
      },
      {
       "output_type": "stream",
       "stream": "stdout",
       "text": [
        "\n",
        "z=====13\n",
        "z=====14\n",
        "z=====15\n",
        "z=====16\n",
        "z=====17\n",
        "z=====18"
       ]
      },
      {
       "output_type": "stream",
       "stream": "stdout",
       "text": [
        "\n",
        "z=====19\n",
        "z=====20\n",
        "z=====21\n",
        "z=====22\n",
        "z=====23"
       ]
      },
      {
       "output_type": "stream",
       "stream": "stdout",
       "text": [
        "\n",
        "z=====24\n",
        "z=====25\n",
        "z=====26\n",
        "z=====27\n",
        "z=====28\n",
        "z=====29"
       ]
      },
      {
       "output_type": "stream",
       "stream": "stdout",
       "text": [
        "\n",
        "z=====30\n",
        "z=====31\n",
        "z=====32\n",
        "z=====33\n",
        "z=====34"
       ]
      },
      {
       "output_type": "stream",
       "stream": "stdout",
       "text": [
        "\n",
        "z=====35\n",
        "z=====36\n",
        "z=====37\n",
        "z=====38\n",
        "z=====39\n",
        "z=====40"
       ]
      },
      {
       "output_type": "stream",
       "stream": "stdout",
       "text": [
        "\n",
        "z=====41\n",
        "z=====42\n",
        "z=====43\n",
        "z=====44"
       ]
      },
      {
       "output_type": "stream",
       "stream": "stdout",
       "text": [
        "\n",
        "z=====45\n",
        "z=====46\n",
        "z=====47\n",
        "z=====48"
       ]
      },
      {
       "output_type": "stream",
       "stream": "stdout",
       "text": [
        "\n",
        "z=====49\n",
        "z=====50\n",
        "z=====51\n",
        "z=====52\n",
        "z=====53\n",
        "z=====54"
       ]
      },
      {
       "output_type": "stream",
       "stream": "stdout",
       "text": [
        "\n",
        "z=====55\n",
        "z=====56\n",
        "z=====57"
       ]
      },
      {
       "output_type": "stream",
       "stream": "stdout",
       "text": [
        "\n",
        "z=====58\n",
        "z=====59\n",
        "z=====60\n",
        "z=====61\n",
        "z=====62\n",
        "z=====63"
       ]
      },
      {
       "output_type": "stream",
       "stream": "stdout",
       "text": [
        "\n",
        "z=====64\n",
        "z=====65\n",
        "z=====66\n",
        "z=====67"
       ]
      },
      {
       "output_type": "stream",
       "stream": "stdout",
       "text": [
        "\n",
        "z=====68\n",
        "z=====69\n",
        "z=====70\n",
        "z=====71\n",
        "z=====72\n",
        "z=====73"
       ]
      },
      {
       "output_type": "stream",
       "stream": "stdout",
       "text": [
        "\n",
        "z=====74\n",
        "z=====75\n",
        "z=====76\n",
        "z=====77\n",
        "z=====78"
       ]
      },
      {
       "output_type": "stream",
       "stream": "stdout",
       "text": [
        "\n",
        "z=====79\n",
        "z=====80\n",
        "z=====81\n",
        "z=====82"
       ]
      },
      {
       "output_type": "stream",
       "stream": "stdout",
       "text": [
        "\n",
        "z=====83\n",
        "z=====84\n",
        "z=====85\n",
        "z=====86"
       ]
      },
      {
       "output_type": "stream",
       "stream": "stdout",
       "text": [
        "\n",
        "z=====87\n",
        "z=====88\n",
        "z=====89"
       ]
      },
      {
       "output_type": "stream",
       "stream": "stdout",
       "text": [
        "\n",
        "z=====90\n",
        "z=====91\n",
        "z=====92\n",
        "z=====93"
       ]
      },
      {
       "output_type": "stream",
       "stream": "stdout",
       "text": [
        "\n",
        "z=====94\n",
        "z=====95\n",
        "z=====96\n",
        "z=====97"
       ]
      },
      {
       "output_type": "stream",
       "stream": "stdout",
       "text": [
        "\n",
        "z=====98\n",
        "z=====99\n",
        "z=====100"
       ]
      },
      {
       "output_type": "stream",
       "stream": "stdout",
       "text": [
        "\n",
        "z=====101\n",
        "41\n",
        "r==========42\n",
        "z=====1\n",
        "z=====2\n",
        "z=====3"
       ]
      },
      {
       "output_type": "stream",
       "stream": "stdout",
       "text": [
        "\n",
        "z=====4\n",
        "z=====5\n",
        "z=====6\n",
        "z=====7\n",
        "z=====8\n",
        "z=====9"
       ]
      },
      {
       "output_type": "stream",
       "stream": "stdout",
       "text": [
        "\n",
        "z=====10\n",
        "z=====11\n",
        "z=====12"
       ]
      },
      {
       "output_type": "stream",
       "stream": "stdout",
       "text": [
        "\n",
        "z=====13\n",
        "z=====14\n",
        "z=====15\n",
        "z=====16\n",
        "z=====17"
       ]
      },
      {
       "output_type": "stream",
       "stream": "stdout",
       "text": [
        "\n",
        "z=====18\n",
        "z=====19\n",
        "z=====20\n",
        "z=====21"
       ]
      },
      {
       "output_type": "stream",
       "stream": "stdout",
       "text": [
        "\n",
        "z=====22\n",
        "z=====23\n",
        "z=====24\n",
        "z=====25\n",
        "z=====26\n",
        "z=====27"
       ]
      },
      {
       "output_type": "stream",
       "stream": "stdout",
       "text": [
        "\n",
        "z=====28\n",
        "z=====29\n",
        "z=====30\n",
        "z=====31\n",
        "z=====32"
       ]
      },
      {
       "output_type": "stream",
       "stream": "stdout",
       "text": [
        "\n",
        "z=====33\n",
        "z=====34\n",
        "z=====35\n",
        "z=====36\n",
        "z=====37\n",
        "z=====38"
       ]
      },
      {
       "output_type": "stream",
       "stream": "stdout",
       "text": [
        "\n",
        "z=====39\n",
        "z=====40\n",
        "z=====41\n",
        "z=====42"
       ]
      },
      {
       "output_type": "stream",
       "stream": "stdout",
       "text": [
        "\n",
        "z=====43\n",
        "z=====44\n",
        "z=====45\n",
        "z=====46\n",
        "z=====47\n",
        "z=====48"
       ]
      },
      {
       "output_type": "stream",
       "stream": "stdout",
       "text": [
        "\n",
        "z=====49\n",
        "z=====50\n",
        "z=====51\n",
        "z=====52\n",
        "z=====53"
       ]
      },
      {
       "output_type": "stream",
       "stream": "stdout",
       "text": [
        "\n",
        "z=====54\n",
        "z=====55\n",
        "z=====56\n",
        "z=====57\n",
        "z=====58\n",
        "z=====59"
       ]
      },
      {
       "output_type": "stream",
       "stream": "stdout",
       "text": [
        "\n",
        "z=====60\n",
        "z=====61\n",
        "z=====62\n",
        "z=====63"
       ]
      },
      {
       "output_type": "stream",
       "stream": "stdout",
       "text": [
        "\n",
        "z=====64\n",
        "z=====65\n",
        "z=====66"
       ]
      },
      {
       "output_type": "stream",
       "stream": "stdout",
       "text": [
        "\n",
        "z=====67\n",
        "z=====68\n",
        "z=====69\n",
        "z=====70\n",
        "z=====71\n",
        "z=====72"
       ]
      },
      {
       "output_type": "stream",
       "stream": "stdout",
       "text": [
        "\n",
        "z=====73\n",
        "z=====74\n",
        "z=====75"
       ]
      },
      {
       "output_type": "stream",
       "stream": "stdout",
       "text": [
        "\n",
        "z=====76\n",
        "z=====77\n",
        "z=====78\n",
        "z=====79\n",
        "z=====80"
       ]
      },
      {
       "output_type": "stream",
       "stream": "stdout",
       "text": [
        "\n",
        "z=====81\n",
        "z=====82\n",
        "z=====83\n",
        "z=====84"
       ]
      },
      {
       "output_type": "stream",
       "stream": "stdout",
       "text": [
        "\n",
        "z=====85\n",
        "z=====86\n",
        "z=====87"
       ]
      },
      {
       "output_type": "stream",
       "stream": "stdout",
       "text": [
        "\n",
        "z=====88\n",
        "z=====89\n",
        "z=====90\n",
        "z=====91\n",
        "z=====92\n",
        "z=====93"
       ]
      },
      {
       "output_type": "stream",
       "stream": "stdout",
       "text": [
        "\n",
        "z=====94\n",
        "z=====95\n",
        "z=====96\n",
        "z=====97"
       ]
      },
      {
       "output_type": "stream",
       "stream": "stdout",
       "text": [
        "\n",
        "z=====98\n",
        "z=====99\n",
        "z=====100\n",
        "z=====101\n",
        "42\n",
        "r==========43\n",
        "z=====1\n",
        "z=====2"
       ]
      },
      {
       "output_type": "stream",
       "stream": "stdout",
       "text": [
        "\n",
        "z=====3\n",
        "z=====4\n",
        "z=====5\n",
        "z=====6\n",
        "z=====7"
       ]
      },
      {
       "output_type": "stream",
       "stream": "stdout",
       "text": [
        "\n",
        "z=====8\n",
        "z=====9\n",
        "z=====10\n",
        "z=====11\n",
        "z=====12\n",
        "z=====13"
       ]
      },
      {
       "output_type": "stream",
       "stream": "stdout",
       "text": [
        "\n",
        "z=====14\n",
        "z=====15\n",
        "z=====16\n",
        "z=====17\n",
        "z=====18"
       ]
      },
      {
       "output_type": "stream",
       "stream": "stdout",
       "text": [
        "\n",
        "z=====19\n",
        "z=====20\n",
        "z=====21\n",
        "z=====22\n",
        "z=====23\n",
        "z=====24"
       ]
      },
      {
       "output_type": "stream",
       "stream": "stdout",
       "text": [
        "\n",
        "z=====25\n",
        "z=====26\n",
        "z=====27\n",
        "z=====28\n",
        "z=====29"
       ]
      },
      {
       "output_type": "stream",
       "stream": "stdout",
       "text": [
        "\n",
        "z=====30\n",
        "z=====31\n",
        "z=====32\n",
        "z=====33\n",
        "z=====34\n",
        "z=====35"
       ]
      },
      {
       "output_type": "stream",
       "stream": "stdout",
       "text": [
        "\n",
        "z=====36\n",
        "z=====37\n",
        "z=====38\n",
        "z=====39\n",
        "z=====40"
       ]
      },
      {
       "output_type": "stream",
       "stream": "stdout",
       "text": [
        "\n",
        "z=====41\n",
        "z=====42\n",
        "z=====43\n",
        "z=====44"
       ]
      },
      {
       "output_type": "stream",
       "stream": "stdout",
       "text": [
        "\n",
        "z=====45\n",
        "z=====46\n",
        "z=====47\n",
        "z=====48"
       ]
      },
      {
       "output_type": "stream",
       "stream": "stdout",
       "text": [
        "\n",
        "z=====49\n",
        "z=====50\n",
        "z=====51"
       ]
      },
      {
       "output_type": "stream",
       "stream": "stdout",
       "text": [
        "\n",
        "z=====52\n",
        "z=====53\n",
        "z=====54\n",
        "z=====55\n",
        "z=====56\n",
        "z=====57"
       ]
      },
      {
       "output_type": "stream",
       "stream": "stdout",
       "text": [
        "\n",
        "z=====58\n",
        "z=====59\n",
        "z=====60\n",
        "z=====61\n",
        "z=====62"
       ]
      },
      {
       "output_type": "stream",
       "stream": "stdout",
       "text": [
        "\n",
        "z=====63\n",
        "z=====64\n",
        "z=====65\n",
        "z=====66\n",
        "z=====67\n",
        "z=====68"
       ]
      },
      {
       "output_type": "stream",
       "stream": "stdout",
       "text": [
        "\n",
        "z=====69\n",
        "z=====70\n",
        "z=====71\n",
        "z=====72\n",
        "z=====73"
       ]
      },
      {
       "output_type": "stream",
       "stream": "stdout",
       "text": [
        "\n",
        "z=====74\n",
        "z=====75\n",
        "z=====76\n",
        "z=====77\n",
        "z=====78"
       ]
      },
      {
       "output_type": "stream",
       "stream": "stdout",
       "text": [
        "\n",
        "z=====79\n",
        "z=====80\n",
        "z=====81\n",
        "z=====82\n",
        "z=====83\n",
        "z=====84"
       ]
      },
      {
       "output_type": "stream",
       "stream": "stdout",
       "text": [
        "\n",
        "z=====85\n",
        "z=====86\n",
        "z=====87\n",
        "z=====88\n",
        "z=====89\n",
        "z=====90"
       ]
      },
      {
       "output_type": "stream",
       "stream": "stdout",
       "text": [
        "\n",
        "z=====91\n",
        "z=====92\n",
        "z=====93\n",
        "z=====94\n",
        "z=====95"
       ]
      },
      {
       "output_type": "stream",
       "stream": "stdout",
       "text": [
        "\n",
        "z=====96\n",
        "z=====97\n",
        "z=====98\n",
        "z=====99\n",
        "z=====100\n",
        "z=====101"
       ]
      },
      {
       "output_type": "stream",
       "stream": "stdout",
       "text": [
        "\n",
        "43\n",
        "r==========44\n",
        "z=====1\n",
        "z=====2\n",
        "z=====3\n",
        "z=====4\n",
        "z=====5"
       ]
      },
      {
       "output_type": "stream",
       "stream": "stdout",
       "text": [
        "\n",
        "z=====6\n",
        "z=====7\n",
        "z=====8\n",
        "z=====9\n",
        "z=====10\n",
        "z=====11"
       ]
      },
      {
       "output_type": "stream",
       "stream": "stdout",
       "text": [
        "\n",
        "z=====12\n",
        "z=====13\n",
        "z=====14\n",
        "z=====15\n",
        "z=====16"
       ]
      },
      {
       "output_type": "stream",
       "stream": "stdout",
       "text": [
        "\n",
        "z=====17\n",
        "z=====18\n",
        "z=====19\n",
        "z=====20\n",
        "z=====21\n",
        "z=====22"
       ]
      },
      {
       "output_type": "stream",
       "stream": "stdout",
       "text": [
        "\n",
        "z=====23\n",
        "z=====24\n",
        "z=====25\n",
        "z=====26\n",
        "z=====27"
       ]
      },
      {
       "output_type": "stream",
       "stream": "stdout",
       "text": [
        "\n",
        "z=====28\n",
        "z=====29\n",
        "z=====30\n",
        "z=====31\n",
        "z=====32\n",
        "z=====33"
       ]
      },
      {
       "output_type": "stream",
       "stream": "stdout",
       "text": [
        "\n",
        "z=====34\n",
        "z=====35\n",
        "z=====36\n",
        "z=====37\n",
        "z=====38"
       ]
      },
      {
       "output_type": "stream",
       "stream": "stdout",
       "text": [
        "\n",
        "z=====39\n",
        "z=====40\n",
        "z=====41\n",
        "z=====42\n",
        "z=====43\n",
        "z=====44"
       ]
      },
      {
       "output_type": "stream",
       "stream": "stdout",
       "text": [
        "\n",
        "z=====45\n",
        "z=====46\n",
        "z=====47\n",
        "z=====48\n",
        "z=====49"
       ]
      },
      {
       "output_type": "stream",
       "stream": "stdout",
       "text": [
        "\n",
        "z=====50\n",
        "z=====51\n",
        "z=====52\n",
        "z=====53\n",
        "z=====54\n",
        "z=====55"
       ]
      },
      {
       "output_type": "stream",
       "stream": "stdout",
       "text": [
        "\n",
        "z=====56\n",
        "z=====57\n",
        "z=====58\n",
        "z=====59\n",
        "z=====60"
       ]
      },
      {
       "output_type": "stream",
       "stream": "stdout",
       "text": [
        "\n",
        "z=====61\n",
        "z=====62\n",
        "z=====63\n",
        "z=====64\n",
        "z=====65\n",
        "z=====66"
       ]
      },
      {
       "output_type": "stream",
       "stream": "stdout",
       "text": [
        "\n",
        "z=====67\n",
        "z=====68\n",
        "z=====69\n",
        "z=====70\n",
        "z=====71"
       ]
      },
      {
       "output_type": "stream",
       "stream": "stdout",
       "text": [
        "\n",
        "z=====72\n",
        "z=====73\n",
        "z=====74\n",
        "z=====75\n",
        "z=====76\n",
        "z=====77"
       ]
      },
      {
       "output_type": "stream",
       "stream": "stdout",
       "text": [
        "\n",
        "z=====78\n",
        "z=====79\n",
        "z=====80\n",
        "z=====81\n",
        "z=====82"
       ]
      },
      {
       "output_type": "stream",
       "stream": "stdout",
       "text": [
        "\n",
        "z=====83\n",
        "z=====84\n",
        "z=====85\n",
        "z=====86\n",
        "z=====87\n",
        "z=====88"
       ]
      },
      {
       "output_type": "stream",
       "stream": "stdout",
       "text": [
        "\n",
        "z=====89\n",
        "z=====90\n",
        "z=====91\n",
        "z=====92\n",
        "z=====93"
       ]
      },
      {
       "output_type": "stream",
       "stream": "stdout",
       "text": [
        "\n",
        "z=====94\n",
        "z=====95\n",
        "z=====96\n",
        "z=====97\n",
        "z=====98\n",
        "z=====99"
       ]
      },
      {
       "output_type": "stream",
       "stream": "stdout",
       "text": [
        "\n",
        "z=====100\n",
        "z=====101\n",
        "44\n",
        "r==========45\n",
        "z=====1\n",
        "z=====2\n",
        "z=====3"
       ]
      },
      {
       "output_type": "stream",
       "stream": "stdout",
       "text": [
        "\n",
        "z=====4\n",
        "z=====5\n",
        "z=====6\n",
        "z=====7\n",
        "z=====8\n",
        "z=====9"
       ]
      },
      {
       "output_type": "stream",
       "stream": "stdout",
       "text": [
        "\n",
        "z=====10\n",
        "z=====11\n",
        "z=====12\n",
        "z=====13\n",
        "z=====14"
       ]
      },
      {
       "output_type": "stream",
       "stream": "stdout",
       "text": [
        "\n",
        "z=====15\n",
        "z=====16\n",
        "z=====17\n",
        "z=====18\n",
        "z=====19\n",
        "z=====20"
       ]
      },
      {
       "output_type": "stream",
       "stream": "stdout",
       "text": [
        "\n",
        "z=====21\n",
        "z=====22\n",
        "z=====23\n",
        "z=====24\n",
        "z=====25"
       ]
      },
      {
       "output_type": "stream",
       "stream": "stdout",
       "text": [
        "\n",
        "z=====26\n",
        "z=====27\n",
        "z=====28\n",
        "z=====29\n",
        "z=====30\n",
        "z=====31"
       ]
      },
      {
       "output_type": "stream",
       "stream": "stdout",
       "text": [
        "\n",
        "z=====32\n",
        "z=====33\n",
        "z=====34\n",
        "z=====35\n",
        "z=====36"
       ]
      },
      {
       "output_type": "stream",
       "stream": "stdout",
       "text": [
        "\n",
        "z=====37\n",
        "z=====38\n",
        "z=====39\n",
        "z=====40\n",
        "z=====41\n",
        "z=====42"
       ]
      },
      {
       "output_type": "stream",
       "stream": "stdout",
       "text": [
        "\n",
        "z=====43\n",
        "z=====44\n",
        "z=====45\n",
        "z=====46\n",
        "z=====47"
       ]
      },
      {
       "output_type": "stream",
       "stream": "stdout",
       "text": [
        "\n",
        "z=====48\n",
        "z=====49\n",
        "z=====50\n",
        "z=====51\n",
        "z=====52\n",
        "z=====53"
       ]
      },
      {
       "output_type": "stream",
       "stream": "stdout",
       "text": [
        "\n",
        "z=====54\n",
        "z=====55\n",
        "z=====56\n",
        "z=====57\n",
        "z=====58"
       ]
      },
      {
       "output_type": "stream",
       "stream": "stdout",
       "text": [
        "\n",
        "z=====59\n",
        "z=====60\n",
        "z=====61\n",
        "z=====62\n",
        "z=====63\n",
        "z=====64"
       ]
      },
      {
       "output_type": "stream",
       "stream": "stdout",
       "text": [
        "\n",
        "z=====65\n",
        "z=====66\n",
        "z=====67\n",
        "z=====68\n",
        "z=====69"
       ]
      },
      {
       "output_type": "stream",
       "stream": "stdout",
       "text": [
        "\n",
        "z=====70\n",
        "z=====71\n",
        "z=====72\n",
        "z=====73\n",
        "z=====74\n",
        "z=====75"
       ]
      },
      {
       "output_type": "stream",
       "stream": "stdout",
       "text": [
        "\n",
        "z=====76\n",
        "z=====77\n",
        "z=====78\n",
        "z=====79\n",
        "z=====80"
       ]
      },
      {
       "output_type": "stream",
       "stream": "stdout",
       "text": [
        "\n",
        "z=====81\n",
        "z=====82\n",
        "z=====83\n",
        "z=====84\n",
        "z=====85\n",
        "z=====86"
       ]
      },
      {
       "output_type": "stream",
       "stream": "stdout",
       "text": [
        "\n",
        "z=====87\n",
        "z=====88\n",
        "z=====89\n",
        "z=====90\n",
        "z=====91"
       ]
      },
      {
       "output_type": "stream",
       "stream": "stdout",
       "text": [
        "\n",
        "z=====92\n",
        "z=====93\n",
        "z=====94\n",
        "z=====95\n",
        "z=====96\n",
        "z=====97"
       ]
      },
      {
       "output_type": "stream",
       "stream": "stdout",
       "text": [
        "\n",
        "z=====98\n",
        "z=====99\n",
        "z=====100\n",
        "z=====101\n",
        "45"
       ]
      },
      {
       "output_type": "stream",
       "stream": "stdout",
       "text": [
        "\n",
        "r==========46\n",
        "z=====1\n",
        "z=====2\n",
        "z=====3\n",
        "z=====4\n",
        "z=====5\n",
        "z=====6\n",
        "z=====7"
       ]
      },
      {
       "output_type": "stream",
       "stream": "stdout",
       "text": [
        "\n",
        "z=====8\n",
        "z=====9\n",
        "z=====10\n",
        "z=====11\n",
        "z=====12"
       ]
      },
      {
       "output_type": "stream",
       "stream": "stdout",
       "text": [
        "\n",
        "z=====13\n",
        "z=====14\n",
        "z=====15\n",
        "z=====16\n",
        "z=====17\n",
        "z=====18"
       ]
      },
      {
       "output_type": "stream",
       "stream": "stdout",
       "text": [
        "\n",
        "z=====19\n",
        "z=====20\n",
        "z=====21\n",
        "z=====22\n",
        "z=====23"
       ]
      },
      {
       "output_type": "stream",
       "stream": "stdout",
       "text": [
        "\n",
        "z=====24\n",
        "z=====25\n",
        "z=====26\n",
        "z=====27\n",
        "z=====28\n",
        "z=====29"
       ]
      },
      {
       "output_type": "stream",
       "stream": "stdout",
       "text": [
        "\n",
        "z=====30\n",
        "z=====31\n",
        "z=====32\n",
        "z=====33\n",
        "z=====34"
       ]
      },
      {
       "output_type": "stream",
       "stream": "stdout",
       "text": [
        "\n",
        "z=====35\n",
        "z=====36\n",
        "z=====37\n",
        "z=====38\n",
        "z=====39\n",
        "z=====40"
       ]
      },
      {
       "output_type": "stream",
       "stream": "stdout",
       "text": [
        "\n",
        "z=====41\n",
        "z=====42\n",
        "z=====43\n",
        "z=====44\n",
        "z=====45"
       ]
      },
      {
       "output_type": "stream",
       "stream": "stdout",
       "text": [
        "\n",
        "z=====46\n",
        "z=====47\n",
        "z=====48\n",
        "z=====49\n",
        "z=====50\n",
        "z=====51"
       ]
      },
      {
       "output_type": "stream",
       "stream": "stdout",
       "text": [
        "\n",
        "z=====52\n",
        "z=====53\n",
        "z=====54\n",
        "z=====55"
       ]
      },
      {
       "output_type": "stream",
       "stream": "stdout",
       "text": [
        "\n",
        "z=====56\n",
        "z=====57\n",
        "z=====58\n",
        "z=====59\n",
        "z=====60\n",
        "z=====61"
       ]
      },
      {
       "output_type": "stream",
       "stream": "stdout",
       "text": [
        "\n",
        "z=====62\n",
        "z=====63\n",
        "z=====64\n",
        "z=====65\n",
        "z=====66"
       ]
      },
      {
       "output_type": "stream",
       "stream": "stdout",
       "text": [
        "\n",
        "z=====67\n",
        "z=====68\n",
        "z=====69\n",
        "z=====70\n",
        "z=====71"
       ]
      },
      {
       "output_type": "stream",
       "stream": "stdout",
       "text": [
        "\n",
        "z=====72\n",
        "z=====73\n",
        "z=====74\n",
        "z=====75\n",
        "z=====76\n",
        "z=====77"
       ]
      },
      {
       "output_type": "stream",
       "stream": "stdout",
       "text": [
        "\n",
        "z=====78\n",
        "z=====79\n",
        "z=====80\n",
        "z=====81\n",
        "z=====82"
       ]
      },
      {
       "output_type": "stream",
       "stream": "stdout",
       "text": [
        "\n",
        "z=====83\n",
        "z=====84\n",
        "z=====85\n",
        "z=====86\n",
        "z=====87\n",
        "z=====88"
       ]
      },
      {
       "output_type": "stream",
       "stream": "stdout",
       "text": [
        "\n",
        "z=====89\n",
        "z=====90\n",
        "z=====91\n",
        "z=====92\n",
        "z=====93\n",
        "z=====94"
       ]
      },
      {
       "output_type": "stream",
       "stream": "stdout",
       "text": [
        "\n",
        "z=====95\n",
        "z=====96\n",
        "z=====97\n",
        "z=====98\n",
        "z=====99"
       ]
      },
      {
       "output_type": "stream",
       "stream": "stdout",
       "text": [
        "\n",
        "z=====100\n",
        "z=====101\n",
        "46\n",
        "r==========47\n",
        "z=====1\n",
        "z=====2"
       ]
      },
      {
       "output_type": "stream",
       "stream": "stdout",
       "text": [
        "\n",
        "z=====3\n",
        "z=====4\n",
        "z=====5\n",
        "z=====6\n",
        "z=====7\n",
        "z=====8"
       ]
      },
      {
       "output_type": "stream",
       "stream": "stdout",
       "text": [
        "\n",
        "z=====9\n",
        "z=====10\n",
        "z=====11"
       ]
      },
      {
       "output_type": "stream",
       "stream": "stdout",
       "text": [
        "\n",
        "z=====12\n",
        "z=====13\n",
        "z=====14\n",
        "z=====15\n",
        "z=====16\n",
        "z=====17"
       ]
      },
      {
       "output_type": "stream",
       "stream": "stdout",
       "text": [
        "\n",
        "z=====18\n",
        "z=====19\n",
        "z=====20"
       ]
      },
      {
       "output_type": "stream",
       "stream": "stdout",
       "text": [
        "\n",
        "z=====21\n",
        "z=====22\n",
        "z=====23\n",
        "z=====24\n",
        "z=====25"
       ]
      },
      {
       "output_type": "stream",
       "stream": "stdout",
       "text": [
        "\n",
        "z=====26\n",
        "z=====27\n",
        "z=====28\n",
        "z=====29\n",
        "z=====30\n",
        "z=====31"
       ]
      },
      {
       "output_type": "stream",
       "stream": "stdout",
       "text": [
        "\n",
        "z=====32\n",
        "z=====33\n",
        "z=====34\n",
        "z=====35\n",
        "z=====36\n",
        "z=====37"
       ]
      },
      {
       "output_type": "stream",
       "stream": "stdout",
       "text": [
        "\n",
        "z=====38\n",
        "z=====39\n",
        "z=====40\n",
        "z=====41\n",
        "z=====42"
       ]
      },
      {
       "output_type": "stream",
       "stream": "stdout",
       "text": [
        "\n",
        "z=====43\n",
        "z=====44\n",
        "z=====45\n",
        "z=====46\n",
        "z=====47\n",
        "z=====48"
       ]
      },
      {
       "output_type": "stream",
       "stream": "stdout",
       "text": [
        "\n",
        "z=====49\n",
        "z=====50\n",
        "z=====51\n",
        "z=====52\n",
        "z=====53"
       ]
      },
      {
       "output_type": "stream",
       "stream": "stdout",
       "text": [
        "\n",
        "z=====54\n",
        "z=====55\n",
        "z=====56\n",
        "z=====57\n",
        "z=====58\n",
        "z=====59"
       ]
      },
      {
       "output_type": "stream",
       "stream": "stdout",
       "text": [
        "\n",
        "z=====60\n",
        "z=====61\n",
        "z=====62\n",
        "z=====63\n",
        "z=====64"
       ]
      },
      {
       "output_type": "stream",
       "stream": "stdout",
       "text": [
        "\n",
        "z=====65\n",
        "z=====66\n",
        "z=====67\n",
        "z=====68\n",
        "z=====69\n",
        "z=====70"
       ]
      },
      {
       "output_type": "stream",
       "stream": "stdout",
       "text": [
        "\n",
        "z=====71\n",
        "z=====72\n",
        "z=====73\n",
        "z=====74\n",
        "z=====75"
       ]
      },
      {
       "output_type": "stream",
       "stream": "stdout",
       "text": [
        "\n",
        "z=====76\n",
        "z=====77\n",
        "z=====78\n",
        "z=====79"
       ]
      },
      {
       "output_type": "stream",
       "stream": "stdout",
       "text": [
        "\n",
        "z=====80\n",
        "z=====81\n",
        "z=====82\n",
        "z=====83"
       ]
      },
      {
       "output_type": "stream",
       "stream": "stdout",
       "text": [
        "\n",
        "z=====84\n",
        "z=====85\n",
        "z=====86"
       ]
      },
      {
       "output_type": "stream",
       "stream": "stdout",
       "text": [
        "\n",
        "z=====87\n",
        "z=====88\n",
        "z=====89\n",
        "z=====90"
       ]
      },
      {
       "output_type": "stream",
       "stream": "stdout",
       "text": [
        "\n",
        "z=====91\n",
        "z=====92\n",
        "z=====93\n",
        "z=====94\n",
        "z=====95"
       ]
      },
      {
       "output_type": "stream",
       "stream": "stdout",
       "text": [
        "\n",
        "z=====96\n",
        "z=====97\n",
        "z=====98"
       ]
      },
      {
       "output_type": "stream",
       "stream": "stdout",
       "text": [
        "\n",
        "z=====99\n",
        "z=====100\n",
        "z=====101\n",
        "47\n",
        "r==========48\n",
        "z=====1\n",
        "z=====2\n",
        "z=====3"
       ]
      },
      {
       "output_type": "stream",
       "stream": "stdout",
       "text": [
        "\n",
        "z=====4\n",
        "z=====5\n",
        "z=====6\n",
        "z=====7"
       ]
      },
      {
       "output_type": "stream",
       "stream": "stdout",
       "text": [
        "\n",
        "z=====8\n",
        "z=====9\n",
        "z=====10\n",
        "z=====11\n",
        "z=====12\n",
        "z=====13"
       ]
      },
      {
       "output_type": "stream",
       "stream": "stdout",
       "text": [
        "\n",
        "z=====14\n",
        "z=====15\n",
        "z=====16\n",
        "z=====17\n",
        "z=====18"
       ]
      },
      {
       "output_type": "stream",
       "stream": "stdout",
       "text": [
        "\n",
        "z=====19\n",
        "z=====20\n",
        "z=====21\n",
        "z=====22\n",
        "z=====23\n",
        "z=====24"
       ]
      },
      {
       "output_type": "stream",
       "stream": "stdout",
       "text": [
        "\n",
        "z=====25\n",
        "z=====26\n",
        "z=====27\n",
        "z=====28\n",
        "z=====29"
       ]
      },
      {
       "output_type": "stream",
       "stream": "stdout",
       "text": [
        "\n",
        "z=====30\n",
        "z=====31\n",
        "z=====32\n",
        "z=====33\n",
        "z=====34\n",
        "z=====35"
       ]
      },
      {
       "output_type": "stream",
       "stream": "stdout",
       "text": [
        "\n",
        "z=====36\n",
        "z=====37\n",
        "z=====38\n",
        "z=====39\n",
        "z=====40"
       ]
      },
      {
       "output_type": "stream",
       "stream": "stdout",
       "text": [
        "\n",
        "z=====41\n",
        "z=====42\n",
        "z=====43\n",
        "z=====44\n",
        "z=====45\n",
        "z=====46"
       ]
      },
      {
       "output_type": "stream",
       "stream": "stdout",
       "text": [
        "\n",
        "z=====47\n",
        "z=====48\n",
        "z=====49\n",
        "z=====50\n",
        "z=====51"
       ]
      },
      {
       "output_type": "stream",
       "stream": "stdout",
       "text": [
        "\n",
        "z=====52\n",
        "z=====53\n",
        "z=====54\n",
        "z=====55\n",
        "z=====56\n",
        "z=====57"
       ]
      },
      {
       "output_type": "stream",
       "stream": "stdout",
       "text": [
        "\n",
        "z=====58\n",
        "z=====59\n",
        "z=====60\n",
        "z=====61\n",
        "z=====62"
       ]
      },
      {
       "output_type": "stream",
       "stream": "stdout",
       "text": [
        "\n",
        "z=====63\n",
        "z=====64\n",
        "z=====65\n",
        "z=====66\n",
        "z=====67\n",
        "z=====68"
       ]
      },
      {
       "output_type": "stream",
       "stream": "stdout",
       "text": [
        "\n",
        "z=====69\n",
        "z=====70\n",
        "z=====71\n",
        "z=====72\n",
        "z=====73"
       ]
      },
      {
       "output_type": "stream",
       "stream": "stdout",
       "text": [
        "\n",
        "z=====74\n",
        "z=====75\n",
        "z=====76\n",
        "z=====77\n",
        "z=====78\n",
        "z=====79"
       ]
      },
      {
       "output_type": "stream",
       "stream": "stdout",
       "text": [
        "\n",
        "z=====80\n",
        "z=====81\n",
        "z=====82\n",
        "z=====83\n",
        "z=====84"
       ]
      },
      {
       "output_type": "stream",
       "stream": "stdout",
       "text": [
        "\n",
        "z=====85\n",
        "z=====86\n",
        "z=====87\n",
        "z=====88\n",
        "z=====89\n",
        "z=====90"
       ]
      },
      {
       "output_type": "stream",
       "stream": "stdout",
       "text": [
        "\n",
        "z=====91\n",
        "z=====92\n",
        "z=====93\n",
        "z=====94\n",
        "z=====95"
       ]
      },
      {
       "output_type": "stream",
       "stream": "stdout",
       "text": [
        "\n",
        "z=====96\n",
        "z=====97\n",
        "z=====98\n",
        "z=====99\n",
        "z=====100\n",
        "z=====101"
       ]
      },
      {
       "output_type": "stream",
       "stream": "stdout",
       "text": [
        "\n",
        "48\n",
        "r==========49\n",
        "z=====1\n",
        "z=====2\n",
        "z=====3\n",
        "z=====4\n",
        "z=====5"
       ]
      },
      {
       "output_type": "stream",
       "stream": "stdout",
       "text": [
        "\n",
        "z=====6\n",
        "z=====7\n",
        "z=====8\n",
        "z=====9\n",
        "z=====10\n",
        "z=====11"
       ]
      },
      {
       "output_type": "stream",
       "stream": "stdout",
       "text": [
        "\n",
        "z=====12\n",
        "z=====13\n",
        "z=====14\n",
        "z=====15\n",
        "z=====16"
       ]
      },
      {
       "output_type": "stream",
       "stream": "stdout",
       "text": [
        "\n",
        "z=====17\n",
        "z=====18\n",
        "z=====19\n",
        "z=====20\n",
        "z=====21\n",
        "z=====22"
       ]
      },
      {
       "output_type": "stream",
       "stream": "stdout",
       "text": [
        "\n",
        "z=====23\n",
        "z=====24\n",
        "z=====25\n",
        "z=====26\n",
        "z=====27"
       ]
      },
      {
       "output_type": "stream",
       "stream": "stdout",
       "text": [
        "\n",
        "z=====28\n",
        "z=====29\n",
        "z=====30\n",
        "z=====31\n",
        "z=====32\n",
        "z=====33"
       ]
      },
      {
       "output_type": "stream",
       "stream": "stdout",
       "text": [
        "\n",
        "z=====34\n",
        "z=====35\n",
        "z=====36\n",
        "z=====37"
       ]
      },
      {
       "output_type": "stream",
       "stream": "stdout",
       "text": [
        "\n",
        "z=====38\n",
        "z=====39\n",
        "z=====40"
       ]
      },
      {
       "output_type": "stream",
       "stream": "stdout",
       "text": [
        "\n",
        "z=====41\n",
        "z=====42\n",
        "z=====43\n",
        "z=====44\n",
        "z=====45\n",
        "z=====46"
       ]
      },
      {
       "output_type": "stream",
       "stream": "stdout",
       "text": [
        "\n",
        "z=====47\n",
        "z=====48\n",
        "z=====49"
       ]
      },
      {
       "output_type": "stream",
       "stream": "stdout",
       "text": [
        "\n",
        "z=====50\n",
        "z=====51\n",
        "z=====52\n",
        "z=====53\n",
        "z=====54\n",
        "z=====55"
       ]
      },
      {
       "output_type": "stream",
       "stream": "stdout",
       "text": [
        "\n",
        "z=====56\n",
        "z=====57\n",
        "z=====58\n",
        "z=====59\n",
        "z=====60"
       ]
      },
      {
       "output_type": "stream",
       "stream": "stdout",
       "text": [
        "\n",
        "z=====61\n",
        "z=====62\n",
        "z=====63\n",
        "z=====64"
       ]
      },
      {
       "output_type": "stream",
       "stream": "stdout",
       "text": [
        "\n",
        "z=====65\n",
        "z=====66\n",
        "z=====67\n",
        "z=====68"
       ]
      },
      {
       "output_type": "stream",
       "stream": "stdout",
       "text": [
        "\n",
        "z=====69\n",
        "z=====70\n",
        "z=====71"
       ]
      },
      {
       "output_type": "stream",
       "stream": "stdout",
       "text": [
        "\n",
        "z=====72\n",
        "z=====73\n",
        "z=====74\n",
        "z=====75\n",
        "z=====76\n",
        "z=====77"
       ]
      },
      {
       "output_type": "stream",
       "stream": "stdout",
       "text": [
        "\n",
        "z=====78\n",
        "z=====79\n",
        "z=====80\n",
        "z=====81"
       ]
      },
      {
       "output_type": "stream",
       "stream": "stdout",
       "text": [
        "\n",
        "z=====82\n",
        "z=====83"
       ]
      },
      {
       "output_type": "stream",
       "stream": "stdout",
       "text": [
        "\n",
        "z=====84\n",
        "z=====85\n",
        "z=====86\n",
        "z=====87"
       ]
      },
      {
       "output_type": "stream",
       "stream": "stdout",
       "text": [
        "\n",
        "z=====88\n",
        "z=====89\n",
        "z=====90\n",
        "z=====91\n",
        "z=====92\n",
        "z=====93"
       ]
      },
      {
       "output_type": "stream",
       "stream": "stdout",
       "text": [
        "\n",
        "z=====94\n",
        "z=====95\n",
        "z=====96\n",
        "z=====97\n",
        "z=====98\n",
        "z=====99"
       ]
      },
      {
       "output_type": "stream",
       "stream": "stdout",
       "text": [
        "\n",
        "z=====100\n",
        "z=====101\n",
        "49\n",
        "r==========50\n",
        "z=====1\n",
        "z=====2\n",
        "z=====3"
       ]
      },
      {
       "output_type": "stream",
       "stream": "stdout",
       "text": [
        "\n",
        "z=====4\n",
        "z=====5\n",
        "z=====6\n",
        "z=====7\n",
        "z=====8\n",
        "z=====9"
       ]
      },
      {
       "output_type": "stream",
       "stream": "stdout",
       "text": [
        "\n",
        "z=====10\n",
        "z=====11\n",
        "z=====12\n",
        "z=====13"
       ]
      },
      {
       "output_type": "stream",
       "stream": "stdout",
       "text": [
        "\n",
        "z=====14\n",
        "z=====15\n",
        "z=====16"
       ]
      },
      {
       "output_type": "stream",
       "stream": "stdout",
       "text": [
        "\n",
        "z=====17\n",
        "z=====18\n",
        "z=====19\n",
        "z=====20\n",
        "z=====21\n",
        "z=====22"
       ]
      },
      {
       "output_type": "stream",
       "stream": "stdout",
       "text": [
        "\n",
        "z=====23\n",
        "z=====24\n",
        "z=====25"
       ]
      },
      {
       "output_type": "stream",
       "stream": "stdout",
       "text": [
        "\n",
        "z=====26\n",
        "z=====27\n",
        "z=====28\n",
        "z=====29\n",
        "z=====30\n",
        "z=====31"
       ]
      },
      {
       "output_type": "stream",
       "stream": "stdout",
       "text": [
        "\n",
        "z=====32\n",
        "z=====33\n",
        "z=====34\n",
        "z=====35\n",
        "z=====36"
       ]
      },
      {
       "output_type": "stream",
       "stream": "stdout",
       "text": [
        "\n",
        "z=====37\n",
        "z=====38\n",
        "z=====39\n",
        "z=====40\n",
        "z=====41\n",
        "z=====42"
       ]
      },
      {
       "output_type": "stream",
       "stream": "stdout",
       "text": [
        "\n",
        "z=====43\n",
        "z=====44\n",
        "z=====45\n",
        "z=====46"
       ]
      },
      {
       "output_type": "stream",
       "stream": "stdout",
       "text": [
        "\n",
        "z=====47\n",
        "z=====48\n",
        "z=====49"
       ]
      },
      {
       "output_type": "stream",
       "stream": "stdout",
       "text": [
        "\n",
        "z=====50\n",
        "z=====51\n",
        "z=====52\n",
        "z=====53\n",
        "z=====54\n",
        "z=====55"
       ]
      },
      {
       "output_type": "stream",
       "stream": "stdout",
       "text": [
        "\n",
        "z=====56\n",
        "z=====57\n",
        "z=====58"
       ]
      },
      {
       "output_type": "stream",
       "stream": "stdout",
       "text": [
        "\n",
        "z=====59\n",
        "z=====60\n",
        "z=====61\n",
        "z=====62\n",
        "z=====63\n",
        "z=====64"
       ]
      },
      {
       "output_type": "stream",
       "stream": "stdout",
       "text": [
        "\n",
        "z=====65\n",
        "z=====66\n",
        "z=====67\n",
        "z=====68"
       ]
      },
      {
       "output_type": "stream",
       "stream": "stdout",
       "text": [
        "\n",
        "z=====69\n",
        "z=====70\n",
        "z=====71\n",
        "z=====72"
       ]
      },
      {
       "output_type": "stream",
       "stream": "stdout",
       "text": [
        "\n",
        "z=====73\n",
        "z=====74\n",
        "z=====75\n",
        "z=====76\n",
        "z=====77\n",
        "z=====78\n"
       ]
      },
      {
       "output_type": "stream",
       "stream": "stdout",
       "text": [
        "z=====79\n",
        "z=====80\n",
        "z=====81"
       ]
      },
      {
       "output_type": "stream",
       "stream": "stdout",
       "text": [
        "\n",
        "z=====82\n",
        "z=====83\n",
        "z=====84\n",
        "z=====85\n",
        "z=====86\n",
        "z=====87"
       ]
      },
      {
       "output_type": "stream",
       "stream": "stdout",
       "text": [
        "\n",
        "z=====88\n",
        "z=====89\n",
        "z=====90"
       ]
      },
      {
       "output_type": "stream",
       "stream": "stdout",
       "text": [
        "\n",
        "z=====91\n",
        "z=====92\n",
        "z=====93\n",
        "z=====94\n",
        "z=====95\n",
        "z=====96"
       ]
      },
      {
       "output_type": "stream",
       "stream": "stdout",
       "text": [
        "\n",
        "z=====97\n",
        "z=====98\n",
        "z=====99\n",
        "z=====100\n",
        "z=====101"
       ]
      },
      {
       "output_type": "stream",
       "stream": "stdout",
       "text": [
        "\n",
        "50\n",
        "r==========51\n",
        "z=====1\n",
        "z=====2\n",
        "z=====3\n",
        "z=====4\n",
        "z=====5\n",
        "z=====6"
       ]
      },
      {
       "output_type": "stream",
       "stream": "stdout",
       "text": [
        "\n",
        "z=====7\n",
        "z=====8\n",
        "z=====9\n",
        "z=====10\n",
        "z=====11"
       ]
      },
      {
       "output_type": "stream",
       "stream": "stdout",
       "text": [
        "\n",
        "z=====12\n",
        "z=====13\n",
        "z=====14\n",
        "z=====15"
       ]
      },
      {
       "output_type": "stream",
       "stream": "stdout",
       "text": [
        "\n",
        "z=====16\n",
        "z=====17\n",
        "z=====18\n",
        "z=====19"
       ]
      },
      {
       "output_type": "stream",
       "stream": "stdout",
       "text": [
        "\n",
        "z=====20\n",
        "z=====21\n",
        "z=====22"
       ]
      },
      {
       "output_type": "stream",
       "stream": "stdout",
       "text": [
        "\n",
        "z=====23\n",
        "z=====24\n",
        "z=====25\n",
        "z=====26"
       ]
      },
      {
       "output_type": "stream",
       "stream": "stdout",
       "text": [
        "\n",
        "z=====27\n",
        "z=====28\n",
        "z=====29\n",
        "z=====30"
       ]
      },
      {
       "output_type": "stream",
       "stream": "stdout",
       "text": [
        "\n",
        "z=====31\n",
        "z=====32\n",
        "z=====33"
       ]
      },
      {
       "output_type": "stream",
       "stream": "stdout",
       "text": [
        "\n",
        "z=====34\n",
        "z=====35\n",
        "z=====36\n",
        "z=====37\n",
        "z=====38\n",
        "z=====39"
       ]
      },
      {
       "output_type": "stream",
       "stream": "stdout",
       "text": [
        "\n",
        "z=====40\n",
        "z=====41\n",
        "z=====42\n",
        "z=====43\n",
        "z=====44"
       ]
      },
      {
       "output_type": "stream",
       "stream": "stdout",
       "text": [
        "\n",
        "z=====45\n",
        "z=====46\n",
        "z=====47\n",
        "z=====48\n",
        "z=====49\n",
        "z=====50"
       ]
      },
      {
       "output_type": "stream",
       "stream": "stdout",
       "text": [
        "\n",
        "z=====51\n",
        "z=====52\n",
        "z=====53\n",
        "z=====54"
       ]
      },
      {
       "output_type": "stream",
       "stream": "stdout",
       "text": [
        "\n",
        "z=====55\n",
        "z=====56\n",
        "z=====57"
       ]
      },
      {
       "output_type": "stream",
       "stream": "stdout",
       "text": [
        "\n",
        "z=====58\n",
        "z=====59\n",
        "z=====60\n",
        "z=====61\n",
        "z=====62"
       ]
      },
      {
       "output_type": "stream",
       "stream": "stdout",
       "text": [
        "\n",
        "z=====63\n",
        "z=====64\n",
        "z=====65\n",
        "z=====66"
       ]
      },
      {
       "output_type": "stream",
       "stream": "stdout",
       "text": [
        "\n",
        "z=====67\n",
        "z=====68\n",
        "z=====69\n",
        "z=====70"
       ]
      },
      {
       "output_type": "stream",
       "stream": "stdout",
       "text": [
        "\n",
        "z=====71\n",
        "z=====72\n",
        "z=====73\n",
        "z=====74\n",
        "z=====75\n",
        "z=====76"
       ]
      },
      {
       "output_type": "stream",
       "stream": "stdout",
       "text": [
        "\n",
        "z=====77\n",
        "z=====78\n",
        "z=====79"
       ]
      },
      {
       "output_type": "stream",
       "stream": "stdout",
       "text": [
        "\n",
        "z=====80\n",
        "z=====81\n",
        "z=====82\n",
        "z=====83\n",
        "z=====84\n",
        "z=====85"
       ]
      },
      {
       "output_type": "stream",
       "stream": "stdout",
       "text": [
        "\n",
        "z=====86\n",
        "z=====87\n",
        "z=====88"
       ]
      },
      {
       "output_type": "stream",
       "stream": "stdout",
       "text": [
        "\n",
        "z=====89\n",
        "z=====90\n",
        "z=====91\n",
        "z=====92\n",
        "z=====93\n",
        "z=====94"
       ]
      },
      {
       "output_type": "stream",
       "stream": "stdout",
       "text": [
        "\n",
        "z=====95\n",
        "z=====96\n",
        "z=====97\n",
        "z=====98"
       ]
      },
      {
       "output_type": "stream",
       "stream": "stdout",
       "text": [
        "\n",
        "z=====99\n",
        "z=====100"
       ]
      },
      {
       "output_type": "stream",
       "stream": "stdout",
       "text": [
        "\n",
        "z=====101\n",
        "51\n",
        "r==========52\n",
        "z=====1\n",
        "z=====2\n",
        "z=====3\n",
        "z=====4\n",
        "z=====5"
       ]
      },
      {
       "output_type": "stream",
       "stream": "stdout",
       "text": [
        "\n",
        "z=====6\n",
        "z=====7\n",
        "z=====8\n",
        "z=====9"
       ]
      },
      {
       "output_type": "stream",
       "stream": "stdout",
       "text": [
        "\n",
        "z=====10\n",
        "z=====11\n",
        "z=====12\n",
        "z=====13\n",
        "z=====14\n",
        "z=====15"
       ]
      },
      {
       "output_type": "stream",
       "stream": "stdout",
       "text": [
        "\n",
        "z=====16\n",
        "z=====17\n",
        "z=====18\n",
        "z=====19\n",
        "z=====20"
       ]
      },
      {
       "output_type": "stream",
       "stream": "stdout",
       "text": [
        "\n",
        "z=====21\n",
        "z=====22\n",
        "z=====23\n",
        "z=====24\n",
        "z=====25"
       ]
      },
      {
       "output_type": "stream",
       "stream": "stdout",
       "text": [
        "\n",
        "z=====26\n",
        "z=====27\n",
        "z=====28\n",
        "z=====29\n",
        "z=====30\n",
        "z=====31"
       ]
      },
      {
       "output_type": "stream",
       "stream": "stdout",
       "text": [
        "\n",
        "z=====32\n",
        "z=====33\n",
        "z=====34\n",
        "z=====35"
       ]
      },
      {
       "output_type": "stream",
       "stream": "stdout",
       "text": [
        "\n",
        "z=====36\n",
        "z=====37\n",
        "z=====38\n",
        "z=====39"
       ]
      },
      {
       "output_type": "stream",
       "stream": "stdout",
       "text": [
        "\n",
        "z=====40\n",
        "z=====41\n",
        "z=====42"
       ]
      },
      {
       "output_type": "stream",
       "stream": "stdout",
       "text": [
        "\n",
        "z=====43\n",
        "z=====44\n",
        "z=====45\n",
        "z=====46\n",
        "z=====47"
       ]
      },
      {
       "output_type": "stream",
       "stream": "stdout",
       "text": [
        "\n",
        "z=====48\n",
        "z=====49\n",
        "z=====50\n",
        "z=====51"
       ]
      },
      {
       "output_type": "stream",
       "stream": "stdout",
       "text": [
        "\n",
        "z=====52\n",
        "z=====53"
       ]
      },
      {
       "output_type": "stream",
       "stream": "stdout",
       "text": [
        "\n",
        "z=====54\n",
        "z=====55\n",
        "z=====56\n",
        "z=====57\n",
        "z=====58\n",
        "z=====59"
       ]
      },
      {
       "output_type": "stream",
       "stream": "stdout",
       "text": [
        "\n",
        "z=====60\n",
        "z=====61\n",
        "z=====62\n",
        "z=====63\n",
        "z=====64"
       ]
      },
      {
       "output_type": "stream",
       "stream": "stdout",
       "text": [
        "\n",
        "z=====65\n",
        "z=====66\n",
        "z=====67\n",
        "z=====68\n",
        "z=====69\n",
        "z=====70\n",
        "z=====71"
       ]
      },
      {
       "output_type": "stream",
       "stream": "stdout",
       "text": [
        "\n",
        "z=====72\n",
        "z=====73\n",
        "z=====74\n",
        "z=====75"
       ]
      },
      {
       "output_type": "stream",
       "stream": "stdout",
       "text": [
        "\n",
        "z=====76\n",
        "z=====77\n",
        "z=====78\n",
        "z=====79"
       ]
      },
      {
       "output_type": "stream",
       "stream": "stdout",
       "text": [
        "\n",
        "z=====80\n",
        "z=====81\n",
        "z=====82\n",
        "z=====83"
       ]
      },
      {
       "output_type": "stream",
       "stream": "stdout",
       "text": [
        "\n",
        "z=====84\n",
        "z=====85\n",
        "z=====86"
       ]
      },
      {
       "output_type": "stream",
       "stream": "stdout",
       "text": [
        "\n",
        "z=====87\n",
        "z=====88\n",
        "z=====89\n",
        "z=====90"
       ]
      },
      {
       "output_type": "stream",
       "stream": "stdout",
       "text": [
        "\n",
        "z=====91\n",
        "z=====92\n",
        "z=====93\n",
        "z=====94"
       ]
      },
      {
       "output_type": "stream",
       "stream": "stdout",
       "text": [
        "\n",
        "z=====95\n",
        "z=====96\n",
        "z=====97"
       ]
      },
      {
       "output_type": "stream",
       "stream": "stdout",
       "text": [
        "\n",
        "z=====98\n",
        "z=====99\n",
        "z=====100\n",
        "z=====101"
       ]
      },
      {
       "output_type": "stream",
       "stream": "stdout",
       "text": [
        "\n",
        "52\n",
        "r==========53\n",
        "z=====1\n",
        "z=====2\n",
        "z=====3\n",
        "z=====4\n",
        "z=====5"
       ]
      },
      {
       "output_type": "stream",
       "stream": "stdout",
       "text": [
        "\n",
        "z=====6\n",
        "z=====7"
       ]
      },
      {
       "output_type": "stream",
       "stream": "stdout",
       "text": [
        "\n",
        "z=====8\n",
        "z=====9\n",
        "z=====10\n",
        "z=====11"
       ]
      },
      {
       "output_type": "stream",
       "stream": "stdout",
       "text": [
        "\n",
        "z=====12\n",
        "z=====13\n",
        "z=====14\n",
        "z=====15"
       ]
      },
      {
       "output_type": "stream",
       "stream": "stdout",
       "text": [
        "\n",
        "z=====16\n",
        "z=====17\n",
        "z=====18"
       ]
      },
      {
       "output_type": "stream",
       "stream": "stdout",
       "text": [
        "\n",
        "z=====19\n",
        "z=====20\n",
        "z=====21\n",
        "z=====22\n",
        "z=====23\n",
        "z=====24"
       ]
      },
      {
       "output_type": "stream",
       "stream": "stdout",
       "text": [
        "\n",
        "z=====25\n",
        "z=====26\n",
        "z=====27\n",
        "z=====28\n",
        "z=====29"
       ]
      },
      {
       "output_type": "stream",
       "stream": "stdout",
       "text": [
        "\n",
        "z=====30\n",
        "z=====31\n",
        "z=====32\n",
        "z=====33\n",
        "z=====34\n",
        "z=====35"
       ]
      },
      {
       "output_type": "stream",
       "stream": "stdout",
       "text": [
        "\n",
        "z=====36\n",
        "z=====37\n",
        "z=====38\n",
        "z=====39\n",
        "z=====40"
       ]
      },
      {
       "output_type": "stream",
       "stream": "stdout",
       "text": [
        "\n",
        "z=====41\n",
        "z=====42\n",
        "z=====43\n",
        "z=====44\n",
        "z=====45"
       ]
      },
      {
       "output_type": "stream",
       "stream": "stdout",
       "text": [
        "\n",
        "z=====46\n",
        "z=====47\n",
        "z=====48\n",
        "z=====49\n",
        "z=====50\n",
        "z=====51"
       ]
      },
      {
       "output_type": "stream",
       "stream": "stdout",
       "text": [
        "\n",
        "z=====52\n",
        "z=====53\n",
        "z=====54\n",
        "z=====55\n",
        "z=====56\n",
        "z=====57"
       ]
      },
      {
       "output_type": "stream",
       "stream": "stdout",
       "text": [
        "\n",
        "z=====58\n",
        "z=====59\n",
        "z=====60\n",
        "z=====61\n",
        "z=====62"
       ]
      },
      {
       "output_type": "stream",
       "stream": "stdout",
       "text": [
        "\n",
        "z=====63\n",
        "z=====64\n",
        "z=====65\n",
        "z=====66\n",
        "z=====67\n",
        "z=====68"
       ]
      },
      {
       "output_type": "stream",
       "stream": "stdout",
       "text": [
        "\n",
        "z=====69\n",
        "z=====70\n",
        "z=====71\n",
        "z=====72\n",
        "z=====73"
       ]
      },
      {
       "output_type": "stream",
       "stream": "stdout",
       "text": [
        "\n",
        "z=====74\n",
        "z=====75\n",
        "z=====76\n",
        "z=====77\n",
        "z=====78\n",
        "z=====79"
       ]
      },
      {
       "output_type": "stream",
       "stream": "stdout",
       "text": [
        "\n",
        "z=====80\n",
        "z=====81\n",
        "z=====82\n",
        "z=====83\n",
        "z=====84"
       ]
      },
      {
       "output_type": "stream",
       "stream": "stdout",
       "text": [
        "\n",
        "z=====85\n",
        "z=====86\n",
        "z=====87\n",
        "z=====88\n",
        "z=====89\n",
        "z=====90"
       ]
      },
      {
       "output_type": "stream",
       "stream": "stdout",
       "text": [
        "\n",
        "z=====91\n",
        "z=====92\n",
        "z=====93\n",
        "z=====94\n",
        "z=====95"
       ]
      },
      {
       "output_type": "stream",
       "stream": "stdout",
       "text": [
        "\n",
        "z=====96\n",
        "z=====97\n",
        "z=====98\n",
        "z=====99\n",
        "z=====100\n",
        "z=====101"
       ]
      },
      {
       "output_type": "stream",
       "stream": "stdout",
       "text": [
        "\n",
        "53\n",
        "r==========54\n",
        "z=====1\n",
        "z=====2\n",
        "z=====3\n",
        "z=====4\n",
        "z=====5"
       ]
      },
      {
       "output_type": "stream",
       "stream": "stdout",
       "text": [
        "\n",
        "z=====6\n",
        "z=====7\n",
        "z=====8\n",
        "z=====9\n",
        "z=====10\n",
        "z=====11"
       ]
      },
      {
       "output_type": "stream",
       "stream": "stdout",
       "text": [
        "\n",
        "z=====12\n",
        "z=====13\n",
        "z=====14\n",
        "z=====15\n",
        "z=====16"
       ]
      },
      {
       "output_type": "stream",
       "stream": "stdout",
       "text": [
        "\n",
        "z=====17\n",
        "z=====18\n",
        "z=====19\n",
        "z=====20\n",
        "z=====21\n",
        "z=====22"
       ]
      },
      {
       "output_type": "stream",
       "stream": "stdout",
       "text": [
        "\n",
        "z=====23\n",
        "z=====24\n",
        "z=====25\n",
        "z=====26\n",
        "z=====27"
       ]
      },
      {
       "output_type": "stream",
       "stream": "stdout",
       "text": [
        "\n",
        "z=====28\n",
        "z=====29\n",
        "z=====30\n",
        "z=====31\n",
        "z=====32\n",
        "z=====33"
       ]
      },
      {
       "output_type": "stream",
       "stream": "stdout",
       "text": [
        "\n",
        "z=====34\n",
        "z=====35\n",
        "z=====36\n",
        "z=====37\n",
        "z=====38"
       ]
      },
      {
       "output_type": "stream",
       "stream": "stdout",
       "text": [
        "\n",
        "z=====39\n",
        "z=====40\n",
        "z=====41\n",
        "z=====42\n",
        "z=====43\n",
        "z=====44"
       ]
      },
      {
       "output_type": "stream",
       "stream": "stdout",
       "text": [
        "\n",
        "z=====45\n",
        "z=====46\n",
        "z=====47\n",
        "z=====48\n",
        "z=====49"
       ]
      },
      {
       "output_type": "stream",
       "stream": "stdout",
       "text": [
        "\n",
        "z=====50\n",
        "z=====51\n",
        "z=====52\n",
        "z=====53\n",
        "z=====54\n",
        "z=====55"
       ]
      },
      {
       "output_type": "stream",
       "stream": "stdout",
       "text": [
        "\n",
        "z=====56\n",
        "z=====57\n",
        "z=====58\n",
        "z=====59"
       ]
      },
      {
       "output_type": "stream",
       "stream": "stdout",
       "text": [
        "\n",
        "z=====60\n",
        "z=====61\n",
        "z=====62\n",
        "z=====63\n",
        "z=====64\n",
        "z=====65"
       ]
      },
      {
       "output_type": "stream",
       "stream": "stdout",
       "text": [
        "\n",
        "z=====66\n",
        "z=====67\n",
        "z=====68\n",
        "z=====69\n",
        "z=====70"
       ]
      },
      {
       "output_type": "stream",
       "stream": "stdout",
       "text": [
        "\n",
        "z=====71\n",
        "z=====72\n",
        "z=====73\n",
        "z=====74\n",
        "z=====75"
       ]
      },
      {
       "output_type": "stream",
       "stream": "stdout",
       "text": [
        "\n",
        "z=====76\n",
        "z=====77\n",
        "z=====78\n",
        "z=====79\n",
        "z=====80"
       ]
      },
      {
       "output_type": "stream",
       "stream": "stdout",
       "text": [
        "\n",
        "z=====81\n",
        "z=====82\n",
        "z=====83"
       ]
      },
      {
       "output_type": "stream",
       "stream": "stdout",
       "text": [
        "\n",
        "z=====84\n",
        "z=====85\n",
        "z=====86\n",
        "z=====87\n",
        "z=====88\n",
        "z=====89"
       ]
      },
      {
       "output_type": "stream",
       "stream": "stdout",
       "text": [
        "\n",
        "z=====90\n",
        "z=====91\n",
        "z=====92"
       ]
      },
      {
       "output_type": "stream",
       "stream": "stdout",
       "text": [
        "\n",
        "z=====93\n",
        "z=====94\n",
        "z=====95\n",
        "z=====96\n",
        "z=====97\n",
        "z=====98"
       ]
      },
      {
       "output_type": "stream",
       "stream": "stdout",
       "text": [
        "\n",
        "z=====99\n",
        "z=====100\n",
        "z=====101\n",
        "54\n",
        "r==========55\n",
        "z=====1\n",
        "z=====2"
       ]
      },
      {
       "output_type": "stream",
       "stream": "stdout",
       "text": [
        "\n",
        "z=====3\n",
        "z=====4\n",
        "z=====5\n",
        "z=====6\n",
        "z=====7\n",
        "z=====8"
       ]
      },
      {
       "output_type": "stream",
       "stream": "stdout",
       "text": [
        "\n",
        "z=====9\n",
        "z=====10\n",
        "z=====11\n",
        "z=====12"
       ]
      },
      {
       "output_type": "stream",
       "stream": "stdout",
       "text": [
        "\n",
        "z=====13\n",
        "z=====14"
       ]
      },
      {
       "output_type": "stream",
       "stream": "stdout",
       "text": [
        "\n",
        "z=====15\n",
        "z=====16\n",
        "z=====17\n",
        "z=====18"
       ]
      },
      {
       "output_type": "stream",
       "stream": "stdout",
       "text": [
        "\n",
        "z=====19\n",
        "z=====20\n",
        "z=====21\n",
        "z=====22"
       ]
      },
      {
       "output_type": "stream",
       "stream": "stdout",
       "text": [
        "\n",
        "z=====23\n",
        "z=====24"
       ]
      },
      {
       "output_type": "stream",
       "stream": "stdout",
       "text": [
        "\n",
        "z=====25\n",
        "z=====26\n",
        "z=====27\n",
        "z=====28\n",
        "z=====29\n",
        "z=====30"
       ]
      },
      {
       "output_type": "stream",
       "stream": "stdout",
       "text": [
        "\n",
        "z=====31\n",
        "z=====32\n",
        "z=====33\n",
        "z=====34\n",
        "z=====35"
       ]
      },
      {
       "output_type": "stream",
       "stream": "stdout",
       "text": [
        "\n",
        "z=====36\n",
        "z=====37\n",
        "z=====38\n",
        "z=====39\n",
        "z=====40\n",
        "z=====41"
       ]
      },
      {
       "output_type": "stream",
       "stream": "stdout",
       "text": [
        "\n",
        "z=====42\n",
        "z=====43\n",
        "z=====44\n",
        "z=====45\n",
        "z=====46"
       ]
      },
      {
       "output_type": "stream",
       "stream": "stdout",
       "text": [
        "\n",
        "z=====47\n",
        "z=====48\n",
        "z=====49\n",
        "z=====50\n",
        "z=====51\n",
        "z=====52"
       ]
      },
      {
       "output_type": "stream",
       "stream": "stdout",
       "text": [
        "\n",
        "z=====53\n",
        "z=====54\n",
        "z=====55\n",
        "z=====56\n",
        "z=====57"
       ]
      },
      {
       "output_type": "stream",
       "stream": "stdout",
       "text": [
        "\n",
        "z=====58\n",
        "z=====59\n",
        "z=====60\n",
        "z=====61\n",
        "z=====62\n",
        "z=====63"
       ]
      },
      {
       "output_type": "stream",
       "stream": "stdout",
       "text": [
        "\n",
        "z=====64\n",
        "z=====65\n",
        "z=====66\n",
        "z=====67\n",
        "z=====68"
       ]
      },
      {
       "output_type": "stream",
       "stream": "stdout",
       "text": [
        "\n",
        "z=====69\n",
        "z=====70\n",
        "z=====71\n",
        "z=====72"
       ]
      },
      {
       "output_type": "stream",
       "stream": "stdout",
       "text": [
        "\n",
        "z=====73\n",
        "z=====74\n",
        "z=====75\n",
        "z=====76\n",
        "z=====77"
       ]
      },
      {
       "output_type": "stream",
       "stream": "stdout",
       "text": [
        "\n",
        "z=====78\n",
        "z=====79"
       ]
      },
      {
       "output_type": "stream",
       "stream": "stdout",
       "text": [
        "\n",
        "z=====80\n",
        "z=====81\n",
        "z=====82\n",
        "z=====83"
       ]
      },
      {
       "output_type": "stream",
       "stream": "stdout",
       "text": [
        "\n",
        "z=====84\n",
        "z=====85\n",
        "z=====86\n",
        "z=====87"
       ]
      },
      {
       "output_type": "stream",
       "stream": "stdout",
       "text": [
        "\n",
        "z=====88\n",
        "z=====89\n",
        "z=====90"
       ]
      },
      {
       "output_type": "stream",
       "stream": "stdout",
       "text": [
        "\n",
        "z=====91\n",
        "z=====92\n",
        "z=====93\n",
        "z=====94\n",
        "z=====95\n",
        "z=====96"
       ]
      },
      {
       "output_type": "stream",
       "stream": "stdout",
       "text": [
        "\n",
        "z=====97\n",
        "z=====98\n",
        "z=====99\n",
        "z=====100\n",
        "z=====101"
       ]
      },
      {
       "output_type": "stream",
       "stream": "stdout",
       "text": [
        "\n",
        "55\n",
        "r==========56\n",
        "z=====1\n",
        "z=====2\n",
        "z=====3\n",
        "z=====4"
       ]
      },
      {
       "output_type": "stream",
       "stream": "stdout",
       "text": [
        "\n",
        "z=====5\n",
        "z=====6\n",
        "z=====7\n",
        "z=====8"
       ]
      },
      {
       "output_type": "stream",
       "stream": "stdout",
       "text": [
        "\n",
        "z=====9\n",
        "z=====10\n",
        "z=====11"
       ]
      },
      {
       "output_type": "stream",
       "stream": "stdout",
       "text": [
        "\n",
        "z=====12\n",
        "z=====13\n",
        "z=====14\n",
        "z=====15\n",
        "z=====16\n",
        "z=====17"
       ]
      },
      {
       "output_type": "stream",
       "stream": "stdout",
       "text": [
        "\n",
        "z=====18\n",
        "z=====19\n",
        "z=====20\n",
        "z=====21"
       ]
      },
      {
       "output_type": "stream",
       "stream": "stdout",
       "text": [
        "\n",
        "z=====22\n",
        "z=====23"
       ]
      },
      {
       "output_type": "stream",
       "stream": "stdout",
       "text": [
        "\n",
        "z=====24\n",
        "z=====25\n",
        "z=====26\n",
        "z=====27"
       ]
      },
      {
       "output_type": "stream",
       "stream": "stdout",
       "text": [
        "\n",
        "z=====28\n",
        "z=====29\n",
        "z=====30\n",
        "z=====31"
       ]
      },
      {
       "output_type": "stream",
       "stream": "stdout",
       "text": [
        "\n",
        "z=====32\n",
        "z=====33\n",
        "z=====34"
       ]
      },
      {
       "output_type": "stream",
       "stream": "stdout",
       "text": [
        "\n",
        "z=====35\n",
        "z=====36\n",
        "z=====37\n",
        "z=====38\n",
        "z=====39"
       ]
      },
      {
       "output_type": "stream",
       "stream": "stdout",
       "text": [
        "\n",
        "z=====40\n",
        "z=====41\n",
        "z=====42\n",
        "z=====43"
       ]
      },
      {
       "output_type": "stream",
       "stream": "stdout",
       "text": [
        "\n",
        "z=====44\n",
        "z=====45"
       ]
      },
      {
       "output_type": "stream",
       "stream": "stdout",
       "text": [
        "\n",
        "z=====46\n",
        "z=====47\n",
        "z=====48\n",
        "z=====49"
       ]
      },
      {
       "output_type": "stream",
       "stream": "stdout",
       "text": [
        "\n",
        "z=====50\n",
        "z=====51\n",
        "z=====52\n",
        "z=====53"
       ]
      },
      {
       "output_type": "stream",
       "stream": "stdout",
       "text": [
        "\n",
        "z=====54\n",
        "z=====55"
       ]
      },
      {
       "output_type": "stream",
       "stream": "stdout",
       "text": [
        "\n",
        "z=====56\n",
        "z=====57\n",
        "z=====58\n",
        "z=====59"
       ]
      },
      {
       "output_type": "stream",
       "stream": "stdout",
       "text": [
        "\n",
        "z=====60\n",
        "z=====61\n",
        "z=====62\n",
        "z=====63"
       ]
      },
      {
       "output_type": "stream",
       "stream": "stdout",
       "text": [
        "\n",
        "z=====64\n",
        "z=====65\n",
        "z=====66"
       ]
      },
      {
       "output_type": "stream",
       "stream": "stdout",
       "text": [
        "\n",
        "z=====67\n",
        "z=====68\n",
        "z=====69\n",
        "z=====70\n",
        "z=====71\n",
        "z=====72"
       ]
      },
      {
       "output_type": "stream",
       "stream": "stdout",
       "text": [
        "\n",
        "z=====73\n",
        "z=====74\n",
        "z=====75\n",
        "z=====76\n",
        "z=====77"
       ]
      },
      {
       "output_type": "stream",
       "stream": "stdout",
       "text": [
        "\n",
        "z=====78\n",
        "z=====79\n",
        "z=====80\n",
        "z=====81"
       ]
      },
      {
       "output_type": "stream",
       "stream": "stdout",
       "text": [
        "\n",
        "z=====82\n",
        "z=====83\n",
        "z=====84\n",
        "z=====85\n",
        "z=====86\n",
        "z=====87"
       ]
      },
      {
       "output_type": "stream",
       "stream": "stdout",
       "text": [
        "\n",
        "z=====88\n",
        "z=====89\n",
        "z=====90"
       ]
      },
      {
       "output_type": "stream",
       "stream": "stdout",
       "text": [
        "\n",
        "z=====91\n",
        "z=====92\n",
        "z=====93\n",
        "z=====94\n",
        "z=====95\n",
        "z=====96"
       ]
      },
      {
       "output_type": "stream",
       "stream": "stdout",
       "text": [
        "\n",
        "z=====97\n",
        "z=====98\n",
        "z=====99"
       ]
      },
      {
       "output_type": "stream",
       "stream": "stdout",
       "text": [
        "\n",
        "z=====100\n",
        "z=====101\n",
        "56\n",
        "r==========57\n",
        "z=====1\n",
        "z=====2\n",
        "z=====3\n",
        "z=====4"
       ]
      },
      {
       "output_type": "stream",
       "stream": "stdout",
       "text": [
        "\n",
        "z=====5\n",
        "z=====6\n",
        "z=====7\n",
        "z=====8\n",
        "z=====9"
       ]
      },
      {
       "output_type": "stream",
       "stream": "stdout",
       "text": [
        "\n",
        "z=====10\n",
        "z=====11\n",
        "z=====12\n",
        "z=====13\n",
        "z=====14"
       ]
      },
      {
       "output_type": "stream",
       "stream": "stdout",
       "text": [
        "\n",
        "z=====15\n",
        "z=====16\n",
        "z=====17\n",
        "z=====18\n",
        "z=====19\n",
        "z=====20"
       ]
      },
      {
       "output_type": "stream",
       "stream": "stdout",
       "text": [
        "\n",
        "z=====21\n",
        "z=====22\n",
        "z=====23\n",
        "z=====24\n",
        "z=====25\n",
        "z=====26"
       ]
      },
      {
       "output_type": "stream",
       "stream": "stdout",
       "text": [
        "\n",
        "z=====27\n",
        "z=====28\n",
        "z=====29\n",
        "z=====30\n",
        "z=====31"
       ]
      },
      {
       "output_type": "stream",
       "stream": "stdout",
       "text": [
        "\n",
        "z=====32\n",
        "z=====33\n",
        "z=====34\n",
        "z=====35\n",
        "z=====36\n",
        "z=====37"
       ]
      },
      {
       "output_type": "stream",
       "stream": "stdout",
       "text": [
        "\n",
        "z=====38\n",
        "z=====39\n",
        "z=====40\n",
        "z=====41\n",
        "z=====42"
       ]
      },
      {
       "output_type": "stream",
       "stream": "stdout",
       "text": [
        "\n",
        "z=====43\n",
        "z=====44\n",
        "z=====45\n",
        "z=====46\n",
        "z=====47\n",
        "z=====48"
       ]
      },
      {
       "output_type": "stream",
       "stream": "stdout",
       "text": [
        "\n",
        "z=====49\n",
        "z=====50\n",
        "z=====51\n",
        "z=====52\n",
        "z=====53"
       ]
      },
      {
       "output_type": "stream",
       "stream": "stdout",
       "text": [
        "\n",
        "z=====54\n",
        "z=====55\n",
        "z=====56\n",
        "z=====57\n",
        "z=====58\n",
        "z=====59"
       ]
      },
      {
       "output_type": "stream",
       "stream": "stdout",
       "text": [
        "\n",
        "z=====60\n",
        "z=====61\n",
        "z=====62\n",
        "z=====63\n",
        "z=====64"
       ]
      },
      {
       "output_type": "stream",
       "stream": "stdout",
       "text": [
        "\n",
        "z=====65\n",
        "z=====66\n",
        "z=====67\n",
        "z=====68\n",
        "z=====69"
       ]
      },
      {
       "output_type": "stream",
       "stream": "stdout",
       "text": [
        "\n",
        "z=====70\n",
        "z=====71\n",
        "z=====72\n",
        "z=====73\n",
        "z=====74\n",
        "z=====75"
       ]
      },
      {
       "output_type": "stream",
       "stream": "stdout",
       "text": [
        "\n",
        "z=====76\n",
        "z=====77\n",
        "z=====78\n",
        "z=====79\n",
        "z=====80\n",
        "z=====81"
       ]
      },
      {
       "output_type": "stream",
       "stream": "stdout",
       "text": [
        "\n",
        "z=====82\n",
        "z=====83\n",
        "z=====84\n",
        "z=====85\n",
        "z=====86"
       ]
      },
      {
       "output_type": "stream",
       "stream": "stdout",
       "text": [
        "\n",
        "z=====87\n",
        "z=====88\n",
        "z=====89\n",
        "z=====90\n",
        "z=====91\n",
        "z=====92"
       ]
      },
      {
       "output_type": "stream",
       "stream": "stdout",
       "text": [
        "\n",
        "z=====93\n",
        "z=====94\n",
        "z=====95\n",
        "z=====96\n",
        "z=====97"
       ]
      },
      {
       "output_type": "stream",
       "stream": "stdout",
       "text": [
        "\n",
        "z=====98\n",
        "z=====99\n",
        "z=====100\n",
        "z=====101\n",
        "57\n",
        "r==========58\n",
        "z=====1\n",
        "z=====2"
       ]
      },
      {
       "output_type": "stream",
       "stream": "stdout",
       "text": [
        "\n",
        "z=====3\n",
        "z=====4\n",
        "z=====5\n",
        "z=====6\n",
        "z=====7"
       ]
      },
      {
       "output_type": "stream",
       "stream": "stdout",
       "text": [
        "\n",
        "z=====8\n",
        "z=====9\n",
        "z=====10\n",
        "z=====11\n",
        "z=====12\n",
        "z=====13"
       ]
      },
      {
       "output_type": "stream",
       "stream": "stdout",
       "text": [
        "\n",
        "z=====14\n",
        "z=====15\n",
        "z=====16\n",
        "z=====17\n",
        "z=====18"
       ]
      },
      {
       "output_type": "stream",
       "stream": "stdout",
       "text": [
        "\n",
        "z=====19\n",
        "z=====20\n",
        "z=====21\n",
        "z=====22\n",
        "z=====23\n",
        "z=====24"
       ]
      },
      {
       "output_type": "stream",
       "stream": "stdout",
       "text": [
        "\n",
        "z=====25\n",
        "z=====26\n",
        "z=====27\n",
        "z=====28\n",
        "z=====29"
       ]
      },
      {
       "output_type": "stream",
       "stream": "stdout",
       "text": [
        "\n",
        "z=====30\n",
        "z=====31\n",
        "z=====32\n",
        "z=====33\n",
        "z=====34\n",
        "z=====35"
       ]
      },
      {
       "output_type": "stream",
       "stream": "stdout",
       "text": [
        "\n",
        "z=====36\n",
        "z=====37\n",
        "z=====38\n",
        "z=====39\n",
        "z=====40"
       ]
      },
      {
       "output_type": "stream",
       "stream": "stdout",
       "text": [
        "\n",
        "z=====41\n",
        "z=====42\n",
        "z=====43\n",
        "z=====44\n",
        "z=====45"
       ]
      },
      {
       "output_type": "stream",
       "stream": "stdout",
       "text": [
        "\n",
        "z=====46\n",
        "z=====47\n",
        "z=====48\n",
        "z=====49\n",
        "z=====50"
       ]
      },
      {
       "output_type": "stream",
       "stream": "stdout",
       "text": [
        "\n",
        "z=====51\n",
        "z=====52\n",
        "z=====53\n",
        "z=====54\n",
        "z=====55\n",
        "z=====56"
       ]
      },
      {
       "output_type": "stream",
       "stream": "stdout",
       "text": [
        "\n",
        "z=====57\n",
        "z=====58\n",
        "z=====59\n",
        "z=====60"
       ]
      },
      {
       "output_type": "stream",
       "stream": "stdout",
       "text": [
        "\n",
        "z=====61\n",
        "z=====62"
       ]
      },
      {
       "output_type": "stream",
       "stream": "stdout",
       "text": [
        "\n",
        "z=====63\n",
        "z=====64\n",
        "z=====65\n",
        "z=====66"
       ]
      },
      {
       "output_type": "stream",
       "stream": "stdout",
       "text": [
        "\n",
        "z=====67\n",
        "z=====68\n",
        "z=====69\n",
        "z=====70"
       ]
      },
      {
       "output_type": "stream",
       "stream": "stdout",
       "text": [
        "\n",
        "z=====71\n",
        "z=====72"
       ]
      },
      {
       "output_type": "stream",
       "stream": "stdout",
       "text": [
        "\n",
        "z=====73\n",
        "z=====74\n",
        "z=====75\n",
        "z=====76"
       ]
      },
      {
       "output_type": "stream",
       "stream": "stdout",
       "text": [
        "\n",
        "z=====77\n",
        "z=====78\n",
        "z=====79\n",
        "z=====80\n",
        "z=====81\n",
        "z=====82"
       ]
      },
      {
       "output_type": "stream",
       "stream": "stdout",
       "text": [
        "\n",
        "z=====83\n",
        "z=====84\n",
        "z=====85"
       ]
      },
      {
       "output_type": "stream",
       "stream": "stdout",
       "text": [
        "\n",
        "z=====86\n",
        "z=====87\n",
        "z=====88\n",
        "z=====89"
       ]
      },
      {
       "output_type": "stream",
       "stream": "stdout",
       "text": [
        "\n",
        "z=====90\n",
        "z=====91\n",
        "z=====92\n",
        "z=====93\n",
        "z=====94"
       ]
      },
      {
       "output_type": "stream",
       "stream": "stdout",
       "text": [
        "\n",
        "z=====95\n",
        "z=====96\n",
        "z=====97\n",
        "z=====98\n",
        "z=====99\n",
        "z=====100"
       ]
      },
      {
       "output_type": "stream",
       "stream": "stdout",
       "text": [
        "\n",
        "z=====101\n",
        "58\n",
        "r==========59\n",
        "z=====1\n",
        "z=====2\n",
        "z=====3\n",
        "z=====4"
       ]
      },
      {
       "output_type": "stream",
       "stream": "stdout",
       "text": [
        "\n",
        "z=====5\n",
        "z=====6\n",
        "z=====7\n",
        "z=====8\n",
        "z=====9\n",
        "z=====10"
       ]
      },
      {
       "output_type": "stream",
       "stream": "stdout",
       "text": [
        "\n",
        "z=====11\n",
        "z=====12\n",
        "z=====13\n",
        "z=====14\n",
        "z=====15"
       ]
      },
      {
       "output_type": "stream",
       "stream": "stdout",
       "text": [
        "\n",
        "z=====16\n",
        "z=====17\n",
        "z=====18\n",
        "z=====19"
       ]
      },
      {
       "output_type": "stream",
       "stream": "stdout",
       "text": [
        "\n",
        "z=====20\n",
        "z=====21\n",
        "z=====22\n",
        "z=====23\n",
        "z=====24"
       ]
      },
      {
       "output_type": "stream",
       "stream": "stdout",
       "text": [
        "\n",
        "z=====25\n",
        "z=====26"
       ]
      },
      {
       "output_type": "stream",
       "stream": "stdout",
       "text": [
        "\n",
        "z=====27\n",
        "z=====28\n",
        "z=====29\n",
        "z=====30"
       ]
      },
      {
       "output_type": "stream",
       "stream": "stdout",
       "text": [
        "\n",
        "z=====31\n",
        "z=====32\n",
        "z=====33\n",
        "z=====34"
       ]
      },
      {
       "output_type": "stream",
       "stream": "stdout",
       "text": [
        "\n",
        "z=====35\n",
        "z=====36\n",
        "z=====37"
       ]
      },
      {
       "output_type": "stream",
       "stream": "stdout",
       "text": [
        "\n",
        "z=====38\n",
        "z=====39\n",
        "z=====40\n",
        "z=====41\n",
        "z=====42\n",
        "z=====43"
       ]
      },
      {
       "output_type": "stream",
       "stream": "stdout",
       "text": [
        "\n",
        "z=====44\n",
        "z=====45\n",
        "z=====46\n",
        "z=====47\n",
        "z=====48"
       ]
      },
      {
       "output_type": "stream",
       "stream": "stdout",
       "text": [
        "\n",
        "z=====49\n",
        "z=====50\n",
        "z=====51\n",
        "z=====52\n",
        "z=====53\n",
        "z=====54"
       ]
      },
      {
       "output_type": "stream",
       "stream": "stdout",
       "text": [
        "\n",
        "z=====55\n",
        "z=====56\n",
        "z=====57\n",
        "z=====58\n",
        "z=====59"
       ]
      },
      {
       "output_type": "stream",
       "stream": "stdout",
       "text": [
        "\n",
        "z=====60\n",
        "z=====61\n",
        "z=====62\n",
        "z=====63\n",
        "z=====64\n",
        "z=====65"
       ]
      },
      {
       "output_type": "stream",
       "stream": "stdout",
       "text": [
        "\n",
        "z=====66\n",
        "z=====67\n",
        "z=====68\n",
        "z=====69\n",
        "z=====70"
       ]
      },
      {
       "output_type": "stream",
       "stream": "stdout",
       "text": [
        "\n",
        "z=====71\n",
        "z=====72\n",
        "z=====73\n",
        "z=====74"
       ]
      },
      {
       "output_type": "stream",
       "stream": "stdout",
       "text": [
        "\n",
        "z=====75\n",
        "z=====76\n",
        "z=====77\n",
        "z=====78"
       ]
      },
      {
       "output_type": "stream",
       "stream": "stdout",
       "text": [
        "\n",
        "z=====79\n",
        "z=====80\n",
        "z=====81"
       ]
      },
      {
       "output_type": "stream",
       "stream": "stdout",
       "text": [
        "\n",
        "z=====82\n",
        "z=====83\n",
        "z=====84\n",
        "z=====85\n",
        "z=====86\n",
        "z=====87"
       ]
      },
      {
       "output_type": "stream",
       "stream": "stdout",
       "text": [
        "\n",
        "z=====88\n",
        "z=====89\n",
        "z=====90\n",
        "z=====91\n",
        "z=====92"
       ]
      },
      {
       "output_type": "stream",
       "stream": "stdout",
       "text": [
        "\n",
        "z=====93\n",
        "z=====94\n",
        "z=====95\n",
        "z=====96\n",
        "z=====97\n",
        "z=====98"
       ]
      },
      {
       "output_type": "stream",
       "stream": "stdout",
       "text": [
        "\n",
        "z=====99\n",
        "z=====100\n",
        "z=====101\n",
        "59\n",
        "r==========60\n",
        "z=====1\n",
        "z=====2"
       ]
      },
      {
       "output_type": "stream",
       "stream": "stdout",
       "text": [
        "\n",
        "z=====3\n",
        "z=====4\n",
        "z=====5\n",
        "z=====6\n",
        "z=====7\n",
        "z=====8"
       ]
      },
      {
       "output_type": "stream",
       "stream": "stdout",
       "text": [
        "\n",
        "z=====9\n",
        "z=====10\n",
        "z=====11\n",
        "z=====12\n",
        "z=====13"
       ]
      },
      {
       "output_type": "stream",
       "stream": "stdout",
       "text": [
        "\n",
        "z=====14\n",
        "z=====15\n",
        "z=====16\n",
        "z=====17"
       ]
      },
      {
       "output_type": "stream",
       "stream": "stdout",
       "text": [
        "\n",
        "z=====18\n",
        "z=====19\n",
        "z=====20\n",
        "z=====21"
       ]
      },
      {
       "output_type": "stream",
       "stream": "stdout",
       "text": [
        "\n",
        "z=====22\n",
        "z=====23\n",
        "z=====24"
       ]
      },
      {
       "output_type": "stream",
       "stream": "stdout",
       "text": [
        "\n",
        "z=====25\n",
        "z=====26\n",
        "z=====27\n",
        "z=====28\n",
        "z=====29\n",
        "z=====30"
       ]
      },
      {
       "output_type": "stream",
       "stream": "stdout",
       "text": [
        "\n",
        "z=====31\n",
        "z=====32\n",
        "z=====33\n",
        "z=====34\n",
        "z=====35"
       ]
      },
      {
       "output_type": "stream",
       "stream": "stdout",
       "text": [
        "\n",
        "z=====36\n",
        "z=====37\n",
        "z=====38\n",
        "z=====39\n",
        "z=====40\n",
        "z=====41"
       ]
      },
      {
       "output_type": "stream",
       "stream": "stdout",
       "text": [
        "\n",
        "z=====42\n",
        "z=====43\n",
        "z=====44\n",
        "z=====45\n",
        "z=====46"
       ]
      },
      {
       "output_type": "stream",
       "stream": "stdout",
       "text": [
        "\n",
        "z=====47\n",
        "z=====48\n",
        "z=====49\n",
        "z=====50\n",
        "z=====51\n",
        "z=====52"
       ]
      },
      {
       "output_type": "stream",
       "stream": "stdout",
       "text": [
        "\n",
        "z=====53\n",
        "z=====54\n",
        "z=====55\n",
        "z=====56\n",
        "z=====57"
       ]
      },
      {
       "output_type": "stream",
       "stream": "stdout",
       "text": [
        "\n",
        "z=====58\n",
        "z=====59\n",
        "z=====60\n",
        "z=====61\n",
        "z=====62\n",
        "z=====63"
       ]
      },
      {
       "output_type": "stream",
       "stream": "stdout",
       "text": [
        "\n",
        "z=====64\n",
        "z=====65\n",
        "z=====66\n",
        "z=====67\n",
        "z=====68"
       ]
      },
      {
       "output_type": "stream",
       "stream": "stdout",
       "text": [
        "\n",
        "z=====69\n",
        "z=====70\n",
        "z=====71\n",
        "z=====72\n",
        "z=====73\n",
        "z=====74"
       ]
      },
      {
       "output_type": "stream",
       "stream": "stdout",
       "text": [
        "\n",
        "z=====75\n",
        "z=====76\n",
        "z=====77\n",
        "z=====78\n",
        "z=====79"
       ]
      },
      {
       "output_type": "stream",
       "stream": "stdout",
       "text": [
        "\n",
        "z=====80\n",
        "z=====81\n",
        "z=====82\n",
        "z=====83\n",
        "z=====84\n",
        "z=====85"
       ]
      },
      {
       "output_type": "stream",
       "stream": "stdout",
       "text": [
        "\n",
        "z=====86\n",
        "z=====87\n",
        "z=====88\n",
        "z=====89\n",
        "z=====90"
       ]
      },
      {
       "output_type": "stream",
       "stream": "stdout",
       "text": [
        "\n",
        "z=====91\n",
        "z=====92\n",
        "z=====93\n",
        "z=====94\n",
        "z=====95\n",
        "z=====96"
       ]
      },
      {
       "output_type": "stream",
       "stream": "stdout",
       "text": [
        "\n",
        "z=====97\n",
        "z=====98\n",
        "z=====99\n",
        "z=====100\n",
        "z=====101"
       ]
      },
      {
       "output_type": "stream",
       "stream": "stdout",
       "text": [
        "\n",
        "60\n",
        "r==========61\n",
        "z=====1\n",
        "z=====2\n",
        "z=====3\n",
        "z=====4\n",
        "z=====5\n",
        "z=====6"
       ]
      },
      {
       "output_type": "stream",
       "stream": "stdout",
       "text": [
        "\n",
        "z=====7\n",
        "z=====8\n",
        "z=====9\n",
        "z=====10\n",
        "z=====11"
       ]
      },
      {
       "output_type": "stream",
       "stream": "stdout",
       "text": [
        "\n",
        "z=====12\n",
        "z=====13\n",
        "z=====14\n",
        "z=====15\n",
        "z=====16\n",
        "z=====17"
       ]
      },
      {
       "output_type": "stream",
       "stream": "stdout",
       "text": [
        "\n",
        "z=====18\n",
        "z=====19\n",
        "z=====20\n",
        "z=====21\n",
        "z=====22"
       ]
      },
      {
       "output_type": "stream",
       "stream": "stdout",
       "text": [
        "\n",
        "z=====23\n",
        "z=====24\n",
        "z=====25\n",
        "z=====26\n",
        "z=====27\n",
        "z=====28"
       ]
      },
      {
       "output_type": "stream",
       "stream": "stdout",
       "text": [
        "\n",
        "z=====29\n",
        "z=====30\n",
        "z=====31\n",
        "z=====32\n",
        "z=====33"
       ]
      },
      {
       "output_type": "stream",
       "stream": "stdout",
       "text": [
        "\n",
        "z=====34\n",
        "z=====35\n",
        "z=====36\n",
        "z=====37\n",
        "z=====38\n",
        "z=====39"
       ]
      },
      {
       "output_type": "stream",
       "stream": "stdout",
       "text": [
        "\n",
        "z=====40\n",
        "z=====41\n",
        "z=====42\n",
        "z=====43\n",
        "z=====44"
       ]
      },
      {
       "output_type": "stream",
       "stream": "stdout",
       "text": [
        "\n",
        "z=====45\n",
        "z=====46\n",
        "z=====47\n",
        "z=====48\n",
        "z=====49"
       ]
      },
      {
       "output_type": "stream",
       "stream": "stdout",
       "text": [
        "\n",
        "z=====50\n",
        "z=====51\n",
        "z=====52\n",
        "z=====53\n",
        "z=====54\n",
        "z=====55"
       ]
      },
      {
       "output_type": "stream",
       "stream": "stdout",
       "text": [
        "\n",
        "z=====56\n",
        "z=====57\n",
        "z=====58\n",
        "z=====59\n",
        "z=====60\n",
        "z=====61"
       ]
      },
      {
       "output_type": "stream",
       "stream": "stdout",
       "text": [
        "\n",
        "z=====62\n",
        "z=====63\n",
        "z=====64\n",
        "z=====65\n",
        "z=====66"
       ]
      },
      {
       "output_type": "stream",
       "stream": "stdout",
       "text": [
        "\n",
        "z=====67\n",
        "z=====68\n",
        "z=====69\n",
        "z=====70\n",
        "z=====71\n",
        "z=====72"
       ]
      },
      {
       "output_type": "stream",
       "stream": "stdout",
       "text": [
        "\n",
        "z=====73\n",
        "z=====74\n",
        "z=====75\n",
        "z=====76\n",
        "z=====77"
       ]
      },
      {
       "output_type": "stream",
       "stream": "stdout",
       "text": [
        "\n",
        "z=====78\n",
        "z=====79\n",
        "z=====80\n",
        "z=====81\n",
        "z=====82\n",
        "z=====83"
       ]
      },
      {
       "output_type": "stream",
       "stream": "stdout",
       "text": [
        "\n",
        "z=====84\n",
        "z=====85\n",
        "z=====86\n",
        "z=====87\n",
        "z=====88"
       ]
      },
      {
       "output_type": "stream",
       "stream": "stdout",
       "text": [
        "\n",
        "z=====89\n",
        "z=====90\n",
        "z=====91\n",
        "z=====92\n",
        "z=====93\n",
        "z=====94"
       ]
      },
      {
       "output_type": "stream",
       "stream": "stdout",
       "text": [
        "\n",
        "z=====95\n",
        "z=====96\n",
        "z=====97\n",
        "z=====98\n",
        "z=====99"
       ]
      },
      {
       "output_type": "stream",
       "stream": "stdout",
       "text": [
        "\n",
        "z=====100\n",
        "z=====101\n",
        "61\n",
        "r==========62\n",
        "z=====1\n",
        "z=====2\n",
        "z=====3\n",
        "z=====4"
       ]
      },
      {
       "output_type": "stream",
       "stream": "stdout",
       "text": [
        "\n",
        "z=====5\n",
        "z=====6\n",
        "z=====7\n",
        "z=====8\n",
        "z=====9"
       ]
      },
      {
       "output_type": "stream",
       "stream": "stdout",
       "text": [
        "\n",
        "z=====10\n",
        "z=====11\n",
        "z=====12\n",
        "z=====13\n",
        "z=====14"
       ]
      },
      {
       "output_type": "stream",
       "stream": "stdout",
       "text": [
        "\n",
        "z=====15\n",
        "z=====16\n",
        "z=====17\n",
        "z=====18"
       ]
      },
      {
       "output_type": "stream",
       "stream": "stdout",
       "text": [
        "\n",
        "z=====19\n",
        "z=====20"
       ]
      },
      {
       "output_type": "stream",
       "stream": "stdout",
       "text": [
        "\n",
        "z=====21\n",
        "z=====22\n",
        "z=====23\n",
        "z=====24"
       ]
      },
      {
       "output_type": "stream",
       "stream": "stdout",
       "text": [
        "\n",
        "z=====25\n",
        "z=====26\n",
        "z=====27\n",
        "z=====28"
       ]
      },
      {
       "output_type": "stream",
       "stream": "stdout",
       "text": [
        "\n",
        "z=====29\n",
        "z=====30\n",
        "z=====31"
       ]
      },
      {
       "output_type": "stream",
       "stream": "stdout",
       "text": [
        "\n",
        "z=====32\n",
        "z=====33\n",
        "z=====34\n",
        "z=====35"
       ]
      },
      {
       "output_type": "stream",
       "stream": "stdout",
       "text": [
        "\n",
        "z=====36\n",
        "z=====37\n",
        "z=====38\n",
        "z=====39"
       ]
      },
      {
       "output_type": "stream",
       "stream": "stdout",
       "text": [
        "\n",
        "z=====40\n",
        "z=====41\n",
        "z=====42"
       ]
      },
      {
       "output_type": "stream",
       "stream": "stdout",
       "text": [
        "\n",
        "z=====43\n",
        "z=====44\n",
        "z=====45\n",
        "z=====46\n",
        "z=====47"
       ]
      },
      {
       "output_type": "stream",
       "stream": "stdout",
       "text": [
        "\n",
        "z=====48\n",
        "z=====49\n",
        "z=====50\n",
        "z=====51\n",
        "z=====52"
       ]
      },
      {
       "output_type": "stream",
       "stream": "stdout",
       "text": [
        "\n",
        "z=====53\n",
        "z=====54\n",
        "z=====55\n",
        "z=====56\n",
        "z=====57\n",
        "z=====58"
       ]
      },
      {
       "output_type": "stream",
       "stream": "stdout",
       "text": [
        "\n",
        "z=====59\n",
        "z=====60\n",
        "z=====61\n",
        "z=====62\n",
        "z=====63"
       ]
      },
      {
       "output_type": "stream",
       "stream": "stdout",
       "text": [
        "\n",
        "z=====64\n",
        "z=====65\n",
        "z=====66\n",
        "z=====67\n",
        "z=====68\n",
        "z=====69"
       ]
      },
      {
       "output_type": "stream",
       "stream": "stdout",
       "text": [
        "\n",
        "z=====70\n",
        "z=====71\n",
        "z=====72\n",
        "z=====73\n",
        "z=====74"
       ]
      },
      {
       "output_type": "stream",
       "stream": "stdout",
       "text": [
        "\n",
        "z=====75\n",
        "z=====76\n",
        "z=====77\n",
        "z=====78\n",
        "z=====79"
       ]
      },
      {
       "output_type": "stream",
       "stream": "stdout",
       "text": [
        "\n",
        "z=====80\n",
        "z=====81\n",
        "z=====82\n",
        "z=====83\n",
        "z=====84\n",
        "z=====85"
       ]
      },
      {
       "output_type": "stream",
       "stream": "stdout",
       "text": [
        "\n",
        "z=====86\n",
        "z=====87\n",
        "z=====88\n",
        "z=====89\n",
        "z=====90\n",
        "z=====91"
       ]
      },
      {
       "output_type": "stream",
       "stream": "stdout",
       "text": [
        "\n",
        "z=====92\n",
        "z=====93\n",
        "z=====94\n",
        "z=====95\n",
        "z=====96"
       ]
      },
      {
       "output_type": "stream",
       "stream": "stdout",
       "text": [
        "\n",
        "z=====97\n",
        "z=====98\n",
        "z=====99\n",
        "z=====100"
       ]
      },
      {
       "output_type": "stream",
       "stream": "stdout",
       "text": [
        "\n",
        "z=====101\n",
        "62\n",
        "r==========63\n",
        "z=====1\n",
        "z=====2\n",
        "z=====3\n",
        "z=====4\n",
        "z=====5"
       ]
      },
      {
       "output_type": "stream",
       "stream": "stdout",
       "text": [
        "\n",
        "z=====6\n",
        "z=====7\n",
        "z=====8"
       ]
      },
      {
       "output_type": "stream",
       "stream": "stdout",
       "text": [
        "\n",
        "z=====9\n",
        "z=====10\n",
        "z=====11\n",
        "z=====12\n",
        "z=====13\n",
        "z=====14"
       ]
      },
      {
       "output_type": "stream",
       "stream": "stdout",
       "text": [
        "\n",
        "z=====15\n",
        "z=====16\n",
        "z=====17"
       ]
      },
      {
       "output_type": "stream",
       "stream": "stdout",
       "text": [
        "\n",
        "z=====18\n",
        "z=====19\n",
        "z=====20\n",
        "z=====21"
       ]
      },
      {
       "output_type": "stream",
       "stream": "stdout",
       "text": [
        "\n",
        "z=====22\n",
        "z=====23\n",
        "z=====24\n",
        "z=====25"
       ]
      },
      {
       "output_type": "stream",
       "stream": "stdout",
       "text": [
        "\n",
        "z=====26\n",
        "z=====27\n",
        "z=====28"
       ]
      },
      {
       "output_type": "stream",
       "stream": "stdout",
       "text": [
        "\n",
        "z=====29\n",
        "z=====30\n",
        "z=====31\n",
        "z=====32"
       ]
      },
      {
       "output_type": "stream",
       "stream": "stdout",
       "text": [
        "\n",
        "z=====33\n",
        "z=====34\n",
        "z=====35\n",
        "z=====36"
       ]
      },
      {
       "output_type": "stream",
       "stream": "stdout",
       "text": [
        "\n",
        "z=====37\n",
        "z=====38\n",
        "z=====39"
       ]
      },
      {
       "output_type": "stream",
       "stream": "stdout",
       "text": [
        "\n",
        "z=====40\n",
        "z=====41\n",
        "z=====42\n",
        "z=====43"
       ]
      },
      {
       "output_type": "stream",
       "stream": "stdout",
       "text": [
        "\n",
        "z=====44\n",
        "z=====45\n",
        "z=====46\n",
        "z=====47"
       ]
      },
      {
       "output_type": "stream",
       "stream": "stdout",
       "text": [
        "\n",
        "z=====48\n",
        "z=====49\n",
        "z=====50"
       ]
      },
      {
       "output_type": "stream",
       "stream": "stdout",
       "text": [
        "\n",
        "z=====51\n",
        "z=====52\n",
        "z=====53\n",
        "z=====54"
       ]
      },
      {
       "output_type": "stream",
       "stream": "stdout",
       "text": [
        "\n",
        "z=====55\n",
        "z=====56\n",
        "z=====57\n",
        "z=====58"
       ]
      },
      {
       "output_type": "stream",
       "stream": "stdout",
       "text": [
        "\n",
        "z=====59\n",
        "z=====60\n",
        "z=====61"
       ]
      },
      {
       "output_type": "stream",
       "stream": "stdout",
       "text": [
        "\n",
        "z=====62\n",
        "z=====63\n",
        "z=====64\n",
        "z=====65"
       ]
      },
      {
       "output_type": "stream",
       "stream": "stdout",
       "text": [
        "\n",
        "z=====66\n",
        "z=====67\n",
        "z=====68\n",
        "z=====69"
       ]
      },
      {
       "output_type": "stream",
       "stream": "stdout",
       "text": [
        "\n",
        "z=====70\n",
        "z=====71\n",
        "z=====72"
       ]
      },
      {
       "output_type": "stream",
       "stream": "stdout",
       "text": [
        "\n",
        "z=====73\n",
        "z=====74\n",
        "z=====75\n",
        "z=====76"
       ]
      },
      {
       "output_type": "stream",
       "stream": "stdout",
       "text": [
        "\n",
        "z=====77\n",
        "z=====78\n",
        "z=====79\n",
        "z=====80"
       ]
      },
      {
       "output_type": "stream",
       "stream": "stdout",
       "text": [
        "\n",
        "z=====81\n",
        "z=====82\n",
        "z=====83"
       ]
      },
      {
       "output_type": "stream",
       "stream": "stdout",
       "text": [
        "\n",
        "z=====84\n",
        "z=====85\n",
        "z=====86\n",
        "z=====87"
       ]
      },
      {
       "output_type": "stream",
       "stream": "stdout",
       "text": [
        "\n",
        "z=====88\n",
        "z=====89\n",
        "z=====90\n",
        "z=====91"
       ]
      },
      {
       "output_type": "stream",
       "stream": "stdout",
       "text": [
        "\n",
        "z=====92\n",
        "z=====93\n",
        "z=====94"
       ]
      },
      {
       "output_type": "stream",
       "stream": "stdout",
       "text": [
        "\n",
        "z=====95\n",
        "z=====96\n",
        "z=====97\n",
        "z=====98"
       ]
      },
      {
       "output_type": "stream",
       "stream": "stdout",
       "text": [
        "\n",
        "z=====99\n",
        "z=====100\n",
        "z=====101\n",
        "63"
       ]
      },
      {
       "output_type": "stream",
       "stream": "stdout",
       "text": [
        "\n",
        "r==========64\n",
        "z=====1\n",
        "z=====2\n",
        "z=====3\n",
        "z=====4"
       ]
      },
      {
       "output_type": "stream",
       "stream": "stdout",
       "text": [
        "\n",
        "z=====5\n",
        "z=====6\n",
        "z=====7\n",
        "z=====8"
       ]
      },
      {
       "output_type": "stream",
       "stream": "stdout",
       "text": [
        "\n",
        "z=====9\n",
        "z=====10\n",
        "z=====11\n",
        "z=====12"
       ]
      },
      {
       "output_type": "stream",
       "stream": "stdout",
       "text": [
        "\n",
        "z=====13\n",
        "z=====14\n",
        "z=====15"
       ]
      },
      {
       "output_type": "stream",
       "stream": "stdout",
       "text": [
        "\n",
        "z=====16\n",
        "z=====17\n",
        "z=====18\n",
        "z=====19"
       ]
      },
      {
       "output_type": "stream",
       "stream": "stdout",
       "text": [
        "\n",
        "z=====20\n",
        "z=====21\n",
        "z=====22\n",
        "z=====23"
       ]
      },
      {
       "output_type": "stream",
       "stream": "stdout",
       "text": [
        "\n",
        "z=====24\n",
        "z=====25\n",
        "z=====26"
       ]
      },
      {
       "output_type": "stream",
       "stream": "stdout",
       "text": [
        "\n",
        "z=====27\n",
        "z=====28\n",
        "z=====29\n",
        "z=====30"
       ]
      },
      {
       "output_type": "stream",
       "stream": "stdout",
       "text": [
        "\n",
        "z=====31\n",
        "z=====32\n",
        "z=====33\n",
        "z=====34"
       ]
      },
      {
       "output_type": "stream",
       "stream": "stdout",
       "text": [
        "\n",
        "z=====35\n",
        "z=====36\n",
        "z=====37"
       ]
      },
      {
       "output_type": "stream",
       "stream": "stdout",
       "text": [
        "\n",
        "z=====38\n",
        "z=====39\n",
        "z=====40\n",
        "z=====41"
       ]
      },
      {
       "output_type": "stream",
       "stream": "stdout",
       "text": [
        "\n",
        "z=====42\n",
        "z=====43\n",
        "z=====44\n",
        "z=====45"
       ]
      },
      {
       "output_type": "stream",
       "stream": "stdout",
       "text": [
        "\n",
        "z=====46\n",
        "z=====47\n",
        "z=====48"
       ]
      },
      {
       "output_type": "stream",
       "stream": "stdout",
       "text": [
        "\n",
        "z=====49\n",
        "z=====50\n",
        "z=====51\n",
        "z=====52\n",
        "z=====53"
       ]
      },
      {
       "output_type": "stream",
       "stream": "stdout",
       "text": [
        "\n",
        "z=====54\n",
        "z=====55\n",
        "z=====56\n",
        "z=====57\n",
        "z=====58\n",
        "z=====59"
       ]
      },
      {
       "output_type": "stream",
       "stream": "stdout",
       "text": [
        "\n",
        "z=====60\n",
        "z=====61\n",
        "z=====62\n",
        "z=====63"
       ]
      },
      {
       "output_type": "stream",
       "stream": "stdout",
       "text": [
        "\n",
        "z=====64\n",
        "z=====65\n",
        "z=====66\n",
        "z=====67"
       ]
      },
      {
       "output_type": "stream",
       "stream": "stdout",
       "text": [
        "\n",
        "z=====68\n",
        "z=====69\n",
        "z=====70"
       ]
      },
      {
       "output_type": "stream",
       "stream": "stdout",
       "text": [
        "\n",
        "z=====71\n",
        "z=====72\n",
        "z=====73\n",
        "z=====74"
       ]
      },
      {
       "output_type": "stream",
       "stream": "stdout",
       "text": [
        "\n",
        "z=====75\n",
        "z=====76\n",
        "z=====77\n",
        "z=====78"
       ]
      },
      {
       "output_type": "stream",
       "stream": "stdout",
       "text": [
        "\n",
        "z=====79\n",
        "z=====80\n",
        "z=====81"
       ]
      },
      {
       "output_type": "stream",
       "stream": "stdout",
       "text": [
        "\n",
        "z=====82\n",
        "z=====83\n",
        "z=====84\n",
        "z=====85"
       ]
      },
      {
       "output_type": "stream",
       "stream": "stdout",
       "text": [
        "\n",
        "z=====86\n",
        "z=====87\n",
        "z=====88\n",
        "z=====89"
       ]
      },
      {
       "output_type": "stream",
       "stream": "stdout",
       "text": [
        "\n",
        "z=====90\n",
        "z=====91\n",
        "z=====92"
       ]
      },
      {
       "output_type": "stream",
       "stream": "stdout",
       "text": [
        "\n",
        "z=====93\n",
        "z=====94\n",
        "z=====95\n",
        "z=====96"
       ]
      },
      {
       "output_type": "stream",
       "stream": "stdout",
       "text": [
        "\n",
        "z=====97\n",
        "z=====98\n",
        "z=====99\n",
        "z=====100"
       ]
      },
      {
       "output_type": "stream",
       "stream": "stdout",
       "text": [
        "\n",
        "z=====101\n",
        "64\n",
        "r==========65\n",
        "z=====1\n",
        "z=====2"
       ]
      },
      {
       "output_type": "stream",
       "stream": "stdout",
       "text": [
        "\n",
        "z=====3\n",
        "z=====4\n",
        "z=====5\n",
        "z=====6"
       ]
      },
      {
       "output_type": "stream",
       "stream": "stdout",
       "text": [
        "\n",
        "z=====7\n",
        "z=====8\n",
        "z=====9\n",
        "z=====10"
       ]
      },
      {
       "output_type": "stream",
       "stream": "stdout",
       "text": [
        "\n",
        "z=====11\n",
        "z=====12\n",
        "z=====13"
       ]
      },
      {
       "output_type": "stream",
       "stream": "stdout",
       "text": [
        "\n",
        "z=====14\n",
        "z=====15\n",
        "z=====16\n",
        "z=====17"
       ]
      },
      {
       "output_type": "stream",
       "stream": "stdout",
       "text": [
        "\n",
        "z=====18\n",
        "z=====19\n",
        "z=====20\n",
        "z=====21"
       ]
      },
      {
       "output_type": "stream",
       "stream": "stdout",
       "text": [
        "\n",
        "z=====22\n",
        "z=====23\n",
        "z=====24"
       ]
      },
      {
       "output_type": "stream",
       "stream": "stdout",
       "text": [
        "\n",
        "z=====25\n",
        "z=====26\n",
        "z=====27\n",
        "z=====28"
       ]
      },
      {
       "output_type": "stream",
       "stream": "stdout",
       "text": [
        "\n",
        "z=====29\n",
        "z=====30\n",
        "z=====31\n",
        "z=====32"
       ]
      },
      {
       "output_type": "stream",
       "stream": "stdout",
       "text": [
        "\n",
        "z=====33\n",
        "z=====34\n",
        "z=====35"
       ]
      },
      {
       "output_type": "stream",
       "stream": "stdout",
       "text": [
        "\n",
        "z=====36\n",
        "z=====37\n",
        "z=====38\n",
        "z=====39"
       ]
      },
      {
       "output_type": "stream",
       "stream": "stdout",
       "text": [
        "\n",
        "z=====40\n",
        "z=====41\n",
        "z=====42\n",
        "z=====43"
       ]
      },
      {
       "output_type": "stream",
       "stream": "stdout",
       "text": [
        "\n",
        "z=====44\n",
        "z=====45\n",
        "z=====46"
       ]
      },
      {
       "output_type": "stream",
       "stream": "stdout",
       "text": [
        "\n",
        "z=====47\n",
        "z=====48\n",
        "z=====49\n",
        "z=====50"
       ]
      },
      {
       "output_type": "stream",
       "stream": "stdout",
       "text": [
        "\n",
        "z=====51\n",
        "z=====52\n",
        "z=====53\n",
        "z=====54"
       ]
      },
      {
       "output_type": "stream",
       "stream": "stdout",
       "text": [
        "\n",
        "z=====55\n",
        "z=====56\n",
        "z=====57"
       ]
      },
      {
       "output_type": "stream",
       "stream": "stdout",
       "text": [
        "\n",
        "z=====58\n",
        "z=====59\n",
        "z=====60\n",
        "z=====61"
       ]
      },
      {
       "output_type": "stream",
       "stream": "stdout",
       "text": [
        "\n",
        "z=====62\n",
        "z=====63\n",
        "z=====64\n",
        "z=====65"
       ]
      },
      {
       "output_type": "stream",
       "stream": "stdout",
       "text": [
        "\n",
        "z=====66\n",
        "z=====67\n",
        "z=====68"
       ]
      },
      {
       "output_type": "stream",
       "stream": "stdout",
       "text": [
        "\n",
        "z=====69\n",
        "z=====70\n",
        "z=====71\n",
        "z=====72\n",
        "z=====73\n",
        "z=====74\n",
        "z=====75"
       ]
      },
      {
       "output_type": "stream",
       "stream": "stdout",
       "text": [
        "\n",
        "z=====76\n",
        "z=====77\n",
        "z=====78\n",
        "z=====79"
       ]
      },
      {
       "output_type": "stream",
       "stream": "stdout",
       "text": [
        "\n",
        "z=====80\n",
        "z=====81\n",
        "z=====82\n",
        "z=====83\n",
        "z=====84\n",
        "z=====85"
       ]
      },
      {
       "output_type": "stream",
       "stream": "stdout",
       "text": [
        "\n",
        "z=====86\n",
        "z=====87\n",
        "z=====88\n",
        "z=====89\n",
        "z=====90"
       ]
      },
      {
       "output_type": "stream",
       "stream": "stdout",
       "text": [
        "\n",
        "z=====91\n",
        "z=====92\n",
        "z=====93\n",
        "z=====94\n",
        "z=====95\n",
        "z=====96"
       ]
      },
      {
       "output_type": "stream",
       "stream": "stdout",
       "text": [
        "\n",
        "z=====97\n",
        "z=====98\n",
        "z=====99\n",
        "z=====100\n",
        "z=====101"
       ]
      },
      {
       "output_type": "stream",
       "stream": "stdout",
       "text": [
        "\n",
        "65\n",
        "r==========66\n",
        "z=====1\n",
        "z=====2\n",
        "z=====3\n",
        "z=====4\n",
        "z=====5\n",
        "z=====6"
       ]
      },
      {
       "output_type": "stream",
       "stream": "stdout",
       "text": [
        "\n",
        "z=====7\n",
        "z=====8\n",
        "z=====9\n",
        "z=====10\n",
        "z=====11"
       ]
      },
      {
       "output_type": "stream",
       "stream": "stdout",
       "text": [
        "\n",
        "z=====12\n",
        "z=====13\n",
        "z=====14\n",
        "z=====15\n",
        "z=====16\n",
        "z=====17"
       ]
      },
      {
       "output_type": "stream",
       "stream": "stdout",
       "text": [
        "\n",
        "z=====18\n",
        "z=====19\n",
        "z=====20\n",
        "z=====21\n",
        "z=====22"
       ]
      },
      {
       "output_type": "stream",
       "stream": "stdout",
       "text": [
        "\n",
        "z=====23\n",
        "z=====24\n",
        "z=====25\n",
        "z=====26\n",
        "z=====27\n",
        "z=====28"
       ]
      },
      {
       "output_type": "stream",
       "stream": "stdout",
       "text": [
        "\n",
        "z=====29\n",
        "z=====30\n",
        "z=====31\n",
        "z=====32\n",
        "z=====33"
       ]
      },
      {
       "output_type": "stream",
       "stream": "stdout",
       "text": [
        "\n",
        "z=====34\n",
        "z=====35\n",
        "z=====36\n",
        "z=====37"
       ]
      },
      {
       "output_type": "stream",
       "stream": "stdout",
       "text": [
        "\n",
        "z=====38\n",
        "z=====39\n",
        "z=====40\n",
        "z=====41"
       ]
      },
      {
       "output_type": "stream",
       "stream": "stdout",
       "text": [
        "\n",
        "z=====42\n",
        "z=====43"
       ]
      },
      {
       "output_type": "stream",
       "stream": "stdout",
       "text": [
        "\n",
        "z=====44\n",
        "z=====45\n",
        "z=====46\n",
        "z=====47\n",
        "z=====48\n",
        "z=====49\n",
        "z=====50"
       ]
      },
      {
       "output_type": "stream",
       "stream": "stdout",
       "text": [
        "\n",
        "z=====51\n",
        "z=====52\n",
        "z=====53\n",
        "z=====54"
       ]
      },
      {
       "output_type": "stream",
       "stream": "stdout",
       "text": [
        "\n",
        "z=====55\n",
        "z=====56\n",
        "z=====57\n",
        "z=====58\n",
        "z=====59\n",
        "z=====60"
       ]
      },
      {
       "output_type": "stream",
       "stream": "stdout",
       "text": [
        "\n",
        "z=====61\n",
        "z=====62\n",
        "z=====63\n",
        "z=====64\n",
        "z=====65"
       ]
      },
      {
       "output_type": "stream",
       "stream": "stdout",
       "text": [
        "\n",
        "z=====66\n",
        "z=====67\n",
        "z=====68\n",
        "z=====69\n",
        "z=====70\n",
        "z=====71"
       ]
      },
      {
       "output_type": "stream",
       "stream": "stdout",
       "text": [
        "\n",
        "z=====72\n",
        "z=====73\n",
        "z=====74\n",
        "z=====75\n",
        "z=====76"
       ]
      },
      {
       "output_type": "stream",
       "stream": "stdout",
       "text": [
        "\n",
        "z=====77\n",
        "z=====78\n",
        "z=====79\n",
        "z=====80\n",
        "z=====81\n",
        "z=====82"
       ]
      },
      {
       "output_type": "stream",
       "stream": "stdout",
       "text": [
        "\n",
        "z=====83\n",
        "z=====84\n",
        "z=====85\n",
        "z=====86\n",
        "z=====87"
       ]
      },
      {
       "output_type": "stream",
       "stream": "stdout",
       "text": [
        "\n",
        "z=====88\n",
        "z=====89\n",
        "z=====90\n",
        "z=====91"
       ]
      },
      {
       "output_type": "stream",
       "stream": "stdout",
       "text": [
        "\n",
        "z=====92\n",
        "z=====93\n",
        "z=====94\n",
        "z=====95"
       ]
      },
      {
       "output_type": "stream",
       "stream": "stdout",
       "text": [
        "\n",
        "z=====96\n",
        "z=====97\n",
        "z=====98"
       ]
      },
      {
       "output_type": "stream",
       "stream": "stdout",
       "text": [
        "\n",
        "z=====99\n",
        "z=====100\n",
        "z=====101\n",
        "66"
       ]
      },
      {
       "output_type": "stream",
       "stream": "stdout",
       "text": [
        "\n",
        "r==========67\n",
        "z=====1\n",
        "z=====2\n",
        "z=====3\n",
        "z=====4\n",
        "z=====5"
       ]
      },
      {
       "output_type": "stream",
       "stream": "stdout",
       "text": [
        "\n",
        "z=====6\n",
        "z=====7\n",
        "z=====8"
       ]
      },
      {
       "output_type": "stream",
       "stream": "stdout",
       "text": [
        "\n",
        "z=====9\n",
        "z=====10\n",
        "z=====11\n",
        "z=====12"
       ]
      },
      {
       "output_type": "stream",
       "stream": "stdout",
       "text": [
        "\n",
        "z=====13\n",
        "z=====14\n",
        "z=====15\n",
        "z=====16"
       ]
      },
      {
       "output_type": "stream",
       "stream": "stdout",
       "text": [
        "\n",
        "z=====17\n",
        "z=====18\n",
        "z=====19"
       ]
      },
      {
       "output_type": "stream",
       "stream": "stdout",
       "text": [
        "\n",
        "z=====20\n",
        "z=====21\n",
        "z=====22\n",
        "z=====23"
       ]
      },
      {
       "output_type": "stream",
       "stream": "stdout",
       "text": [
        "\n",
        "z=====24\n",
        "z=====25\n",
        "z=====26\n",
        "z=====27"
       ]
      },
      {
       "output_type": "stream",
       "stream": "stdout",
       "text": [
        "\n",
        "z=====28\n",
        "z=====29\n",
        "z=====30"
       ]
      },
      {
       "output_type": "stream",
       "stream": "stdout",
       "text": [
        "\n",
        "z=====31\n",
        "z=====32\n",
        "z=====33\n",
        "z=====34"
       ]
      },
      {
       "output_type": "stream",
       "stream": "stdout",
       "text": [
        "\n",
        "z=====35\n",
        "z=====36\n",
        "z=====37\n",
        "z=====38\n",
        "z=====39\n",
        "z=====40\n",
        "z=====41"
       ]
      },
      {
       "output_type": "stream",
       "stream": "stdout",
       "text": [
        "\n",
        "z=====42\n",
        "z=====43\n",
        "z=====44\n",
        "z=====45"
       ]
      },
      {
       "output_type": "stream",
       "stream": "stdout",
       "text": [
        "\n",
        "z=====46\n",
        "z=====47\n",
        "z=====48\n",
        "z=====49"
       ]
      },
      {
       "output_type": "stream",
       "stream": "stdout",
       "text": [
        "\n",
        "z=====50\n",
        "z=====51\n",
        "z=====52"
       ]
      },
      {
       "output_type": "stream",
       "stream": "stdout",
       "text": [
        "\n",
        "z=====53\n",
        "z=====54\n",
        "z=====55\n",
        "z=====56"
       ]
      },
      {
       "output_type": "stream",
       "stream": "stdout",
       "text": [
        "\n",
        "z=====57\n",
        "z=====58\n",
        "z=====59\n",
        "z=====60"
       ]
      },
      {
       "output_type": "stream",
       "stream": "stdout",
       "text": [
        "\n",
        "z=====61\n",
        "z=====62\n",
        "z=====63"
       ]
      },
      {
       "output_type": "stream",
       "stream": "stdout",
       "text": [
        "\n",
        "z=====64\n",
        "z=====65\n",
        "z=====66\n",
        "z=====67\n",
        "z=====68\n",
        "z=====69"
       ]
      },
      {
       "output_type": "stream",
       "stream": "stdout",
       "text": [
        "\n",
        "z=====70\n",
        "z=====71\n",
        "z=====72\n",
        "z=====73\n",
        "z=====74"
       ]
      },
      {
       "output_type": "stream",
       "stream": "stdout",
       "text": [
        "\n",
        "z=====75\n",
        "z=====76\n",
        "z=====77\n",
        "z=====78\n",
        "z=====79\n",
        "z=====80"
       ]
      },
      {
       "output_type": "stream",
       "stream": "stdout",
       "text": [
        "\n",
        "z=====81\n",
        "z=====82\n",
        "z=====83\n",
        "z=====84\n",
        "z=====85"
       ]
      },
      {
       "output_type": "stream",
       "stream": "stdout",
       "text": [
        "\n",
        "z=====86\n",
        "z=====87\n",
        "z=====88\n",
        "z=====89\n",
        "z=====90\n",
        "z=====91"
       ]
      },
      {
       "output_type": "stream",
       "stream": "stdout",
       "text": [
        "\n",
        "z=====92\n",
        "z=====93\n",
        "z=====94\n",
        "z=====95\n",
        "z=====96"
       ]
      },
      {
       "output_type": "stream",
       "stream": "stdout",
       "text": [
        "\n",
        "z=====97\n",
        "z=====98\n",
        "z=====99\n",
        "z=====100\n",
        "z=====101\n",
        "67"
       ]
      },
      {
       "output_type": "stream",
       "stream": "stdout",
       "text": [
        "\n",
        "r==========68\n",
        "z=====1\n",
        "z=====2\n",
        "z=====3\n",
        "z=====4\n",
        "z=====5\n",
        "z=====6"
       ]
      },
      {
       "output_type": "stream",
       "stream": "stdout",
       "text": [
        "\n",
        "z=====7\n",
        "z=====8\n",
        "z=====9\n",
        "z=====10\n",
        "z=====11\n",
        "z=====12"
       ]
      },
      {
       "output_type": "stream",
       "stream": "stdout",
       "text": [
        "\n",
        "z=====13\n",
        "z=====14\n",
        "z=====15\n",
        "z=====16\n",
        "z=====17"
       ]
      },
      {
       "output_type": "stream",
       "stream": "stdout",
       "text": [
        "\n",
        "z=====18\n",
        "z=====19\n",
        "z=====20\n",
        "z=====21\n",
        "z=====22\n",
        "z=====23"
       ]
      },
      {
       "output_type": "stream",
       "stream": "stdout",
       "text": [
        "\n",
        "z=====24\n",
        "z=====25\n",
        "z=====26\n",
        "z=====27\n",
        "z=====28"
       ]
      },
      {
       "output_type": "stream",
       "stream": "stdout",
       "text": [
        "\n",
        "z=====29\n",
        "z=====30\n",
        "z=====31\n",
        "z=====32\n",
        "z=====33\n",
        "z=====34"
       ]
      },
      {
       "output_type": "stream",
       "stream": "stdout",
       "text": [
        "\n",
        "z=====35\n",
        "z=====36\n",
        "z=====37\n",
        "z=====38\n",
        "z=====39"
       ]
      },
      {
       "output_type": "stream",
       "stream": "stdout",
       "text": [
        "\n",
        "z=====40\n",
        "z=====41\n",
        "z=====42\n",
        "z=====43\n",
        "z=====44\n",
        "z=====45"
       ]
      },
      {
       "output_type": "stream",
       "stream": "stdout",
       "text": [
        "\n",
        "z=====46\n",
        "z=====47\n",
        "z=====48\n",
        "z=====49\n",
        "z=====50"
       ]
      },
      {
       "output_type": "stream",
       "stream": "stdout",
       "text": [
        "\n",
        "z=====51\n",
        "z=====52\n",
        "z=====53\n",
        "z=====54\n",
        "z=====55\n",
        "z=====56"
       ]
      },
      {
       "output_type": "stream",
       "stream": "stdout",
       "text": [
        "\n",
        "z=====57\n",
        "z=====58\n",
        "z=====59\n",
        "z=====60"
       ]
      },
      {
       "output_type": "stream",
       "stream": "stdout",
       "text": [
        "\n",
        "z=====61\n",
        "z=====62"
       ]
      },
      {
       "output_type": "stream",
       "stream": "stdout",
       "text": [
        "\n",
        "z=====63\n",
        "z=====64\n",
        "z=====65\n",
        "z=====66"
       ]
      },
      {
       "output_type": "stream",
       "stream": "stdout",
       "text": [
        "\n",
        "z=====67\n",
        "z=====68\n",
        "z=====69\n",
        "z=====70\n",
        "z=====71"
       ]
      },
      {
       "output_type": "stream",
       "stream": "stdout",
       "text": [
        "\n",
        "z=====72\n",
        "z=====73\n",
        "z=====74"
       ]
      },
      {
       "output_type": "stream",
       "stream": "stdout",
       "text": [
        "\n",
        "z=====75\n",
        "z=====76\n",
        "z=====77\n",
        "z=====78\n",
        "z=====79\n",
        "z=====80"
       ]
      },
      {
       "output_type": "stream",
       "stream": "stdout",
       "text": [
        "\n",
        "z=====81\n",
        "z=====82\n",
        "z=====83"
       ]
      },
      {
       "output_type": "stream",
       "stream": "stdout",
       "text": [
        "\n",
        "z=====84\n",
        "z=====85\n",
        "z=====86\n",
        "z=====87\n",
        "z=====88\n",
        "z=====89"
       ]
      },
      {
       "output_type": "stream",
       "stream": "stdout",
       "text": [
        "\n",
        "z=====90\n",
        "z=====91\n",
        "z=====92\n",
        "z=====93\n",
        "z=====94"
       ]
      },
      {
       "output_type": "stream",
       "stream": "stdout",
       "text": [
        "\n",
        "z=====95\n",
        "z=====96\n",
        "z=====97\n",
        "z=====98\n",
        "z=====99\n",
        "z=====100"
       ]
      },
      {
       "output_type": "stream",
       "stream": "stdout",
       "text": [
        "\n",
        "z=====101\n",
        "68\n",
        "r==========69\n",
        "z=====1\n",
        "z=====2\n",
        "z=====3\n",
        "z=====4"
       ]
      },
      {
       "output_type": "stream",
       "stream": "stdout",
       "text": [
        "\n",
        "z=====5\n",
        "z=====6\n",
        "z=====7\n",
        "z=====8\n",
        "z=====9\n",
        "z=====10"
       ]
      },
      {
       "output_type": "stream",
       "stream": "stdout",
       "text": [
        "\n",
        "z=====11\n",
        "z=====12\n",
        "z=====13\n",
        "z=====14\n",
        "z=====15"
       ]
      },
      {
       "output_type": "stream",
       "stream": "stdout",
       "text": [
        "\n",
        "z=====16\n",
        "z=====17\n",
        "z=====18\n",
        "z=====19\n",
        "z=====20\n",
        "z=====21"
       ]
      },
      {
       "output_type": "stream",
       "stream": "stdout",
       "text": [
        "\n",
        "z=====22\n",
        "z=====23\n",
        "z=====24\n",
        "z=====25\n",
        "z=====26"
       ]
      },
      {
       "output_type": "stream",
       "stream": "stdout",
       "text": [
        "\n",
        "z=====27\n",
        "z=====28\n",
        "z=====29\n",
        "z=====30\n",
        "z=====31\n",
        "z=====32"
       ]
      },
      {
       "output_type": "stream",
       "stream": "stdout",
       "text": [
        "\n",
        "z=====33\n",
        "z=====34\n",
        "z=====35\n",
        "z=====36\n",
        "z=====37"
       ]
      },
      {
       "output_type": "stream",
       "stream": "stdout",
       "text": [
        "\n",
        "z=====38\n",
        "z=====39\n",
        "z=====40\n",
        "z=====41\n",
        "z=====42\n",
        "z=====43"
       ]
      },
      {
       "output_type": "stream",
       "stream": "stdout",
       "text": [
        "\n",
        "z=====44\n",
        "z=====45\n",
        "z=====46\n",
        "z=====47\n",
        "z=====48"
       ]
      },
      {
       "output_type": "stream",
       "stream": "stdout",
       "text": [
        "\n",
        "z=====49\n",
        "z=====50\n",
        "z=====51\n",
        "z=====52\n",
        "z=====53\n",
        "z=====54"
       ]
      },
      {
       "output_type": "stream",
       "stream": "stdout",
       "text": [
        "\n",
        "z=====55\n",
        "z=====56\n",
        "z=====57\n",
        "z=====58\n",
        "z=====59"
       ]
      },
      {
       "output_type": "stream",
       "stream": "stdout",
       "text": [
        "\n",
        "z=====60\n",
        "z=====61\n",
        "z=====62\n",
        "z=====63\n",
        "z=====64"
       ]
      },
      {
       "output_type": "stream",
       "stream": "stdout",
       "text": [
        "\n",
        "z=====65\n",
        "z=====66\n",
        "z=====67\n",
        "z=====68\n",
        "z=====69"
       ]
      },
      {
       "output_type": "stream",
       "stream": "stdout",
       "text": [
        "\n",
        "z=====70\n",
        "z=====71\n",
        "z=====72"
       ]
      },
      {
       "output_type": "stream",
       "stream": "stdout",
       "text": [
        "\n",
        "z=====73\n",
        "z=====74\n",
        "z=====75\n",
        "z=====76\n",
        "z=====77\n",
        "z=====78"
       ]
      },
      {
       "output_type": "stream",
       "stream": "stdout",
       "text": [
        "\n",
        "z=====79\n",
        "z=====80\n",
        "z=====81"
       ]
      },
      {
       "output_type": "stream",
       "stream": "stdout",
       "text": [
        "\n",
        "z=====82\n",
        "z=====83\n",
        "z=====84\n",
        "z=====85\n",
        "z=====86"
       ]
      },
      {
       "output_type": "stream",
       "stream": "stdout",
       "text": [
        "\n",
        "z=====87\n",
        "z=====88\n",
        "z=====89\n",
        "z=====90"
       ]
      },
      {
       "output_type": "stream",
       "stream": "stdout",
       "text": [
        "\n",
        "z=====91\n",
        "z=====92"
       ]
      },
      {
       "output_type": "stream",
       "stream": "stdout",
       "text": [
        "\n",
        "z=====93\n",
        "z=====94\n",
        "z=====95\n",
        "z=====96"
       ]
      },
      {
       "output_type": "stream",
       "stream": "stdout",
       "text": [
        "\n",
        "z=====97\n",
        "z=====98\n",
        "z=====99\n",
        "z=====100"
       ]
      },
      {
       "output_type": "stream",
       "stream": "stdout",
       "text": [
        "\n",
        "z=====101\n",
        "69\n",
        "r==========70\n",
        "z=====1\n",
        "z=====2"
       ]
      },
      {
       "output_type": "stream",
       "stream": "stdout",
       "text": [
        "\n",
        "z=====3\n",
        "z=====4\n",
        "z=====5\n",
        "z=====6"
       ]
      },
      {
       "output_type": "stream",
       "stream": "stdout",
       "text": [
        "\n",
        "z=====7\n",
        "z=====8\n",
        "z=====9\n",
        "z=====10"
       ]
      },
      {
       "output_type": "stream",
       "stream": "stdout",
       "text": [
        "\n",
        "z=====11\n",
        "z=====12\n",
        "z=====13"
       ]
      },
      {
       "output_type": "stream",
       "stream": "stdout",
       "text": [
        "\n",
        "z=====14\n",
        "z=====15\n",
        "z=====16\n",
        "z=====17\n",
        "z=====18\n",
        "z=====19"
       ]
      },
      {
       "output_type": "stream",
       "stream": "stdout",
       "text": [
        "\n",
        "z=====20\n",
        "z=====21\n",
        "z=====22\n",
        "z=====23\n",
        "z=====24"
       ]
      },
      {
       "output_type": "stream",
       "stream": "stdout",
       "text": [
        "\n",
        "z=====25\n",
        "z=====26\n",
        "z=====27\n",
        "z=====28\n",
        "z=====29\n",
        "z=====30"
       ]
      },
      {
       "output_type": "stream",
       "stream": "stdout",
       "text": [
        "\n",
        "z=====31\n",
        "z=====32\n",
        "z=====33\n",
        "z=====34"
       ]
      },
      {
       "output_type": "stream",
       "stream": "stdout",
       "text": [
        "\n",
        "z=====35\n",
        "z=====36\n",
        "z=====37\n",
        "z=====38\n",
        "z=====39\n",
        "z=====40"
       ]
      },
      {
       "output_type": "stream",
       "stream": "stdout",
       "text": [
        "\n",
        "z=====41\n",
        "z=====42\n",
        "z=====43\n",
        "z=====44\n",
        "z=====45"
       ]
      },
      {
       "output_type": "stream",
       "stream": "stdout",
       "text": [
        "\n",
        "z=====46\n",
        "z=====47\n",
        "z=====48\n",
        "z=====49\n",
        "z=====50\n",
        "z=====51"
       ]
      },
      {
       "output_type": "stream",
       "stream": "stdout",
       "text": [
        "\n",
        "z=====52\n",
        "z=====53\n",
        "z=====54\n",
        "z=====55\n",
        "z=====56"
       ]
      },
      {
       "output_type": "stream",
       "stream": "stdout",
       "text": [
        "\n",
        "z=====57\n",
        "z=====58\n",
        "z=====59\n",
        "z=====60\n",
        "z=====61\n",
        "z=====62"
       ]
      },
      {
       "output_type": "stream",
       "stream": "stdout",
       "text": [
        "\n",
        "z=====63\n",
        "z=====64\n",
        "z=====65\n",
        "z=====66\n",
        "z=====67"
       ]
      },
      {
       "output_type": "stream",
       "stream": "stdout",
       "text": [
        "\n",
        "z=====68\n",
        "z=====69\n",
        "z=====70\n",
        "z=====71\n",
        "z=====72\n",
        "z=====73"
       ]
      },
      {
       "output_type": "stream",
       "stream": "stdout",
       "text": [
        "\n",
        "z=====74\n",
        "z=====75\n",
        "z=====76\n",
        "z=====77\n",
        "z=====78"
       ]
      },
      {
       "output_type": "stream",
       "stream": "stdout",
       "text": [
        "\n",
        "z=====79\n",
        "z=====80\n",
        "z=====81\n",
        "z=====82\n",
        "z=====83\n",
        "z=====84"
       ]
      },
      {
       "output_type": "stream",
       "stream": "stdout",
       "text": [
        "\n",
        "z=====85\n",
        "z=====86\n",
        "z=====87\n",
        "z=====88\n",
        "z=====89"
       ]
      },
      {
       "output_type": "stream",
       "stream": "stdout",
       "text": [
        "\n",
        "z=====90\n",
        "z=====91\n",
        "z=====92\n",
        "z=====93"
       ]
      },
      {
       "output_type": "stream",
       "stream": "stdout",
       "text": [
        "\n",
        "z=====94\n",
        "z=====95\n",
        "z=====96\n",
        "z=====97"
       ]
      },
      {
       "output_type": "stream",
       "stream": "stdout",
       "text": [
        "\n",
        "z=====98\n",
        "z=====99\n",
        "z=====100"
       ]
      },
      {
       "output_type": "stream",
       "stream": "stdout",
       "text": [
        "\n",
        "z=====101\n",
        "70\n",
        "r==========71\n",
        "z=====1\n",
        "z=====2\n",
        "z=====3"
       ]
      },
      {
       "output_type": "stream",
       "stream": "stdout",
       "text": [
        "\n",
        "z=====4\n",
        "z=====5\n",
        "z=====6\n",
        "z=====7"
       ]
      },
      {
       "output_type": "stream",
       "stream": "stdout",
       "text": [
        "\n",
        "z=====8\n",
        "z=====9\n",
        "z=====10"
       ]
      },
      {
       "output_type": "stream",
       "stream": "stdout",
       "text": [
        "\n",
        "z=====11\n",
        "z=====12\n",
        "z=====13\n",
        "z=====14"
       ]
      },
      {
       "output_type": "stream",
       "stream": "stdout",
       "text": [
        "\n",
        "z=====15\n",
        "z=====16\n",
        "z=====17\n",
        "z=====18"
       ]
      },
      {
       "output_type": "stream",
       "stream": "stdout",
       "text": [
        "\n",
        "z=====19\n",
        "z=====20\n",
        "z=====21"
       ]
      },
      {
       "output_type": "stream",
       "stream": "stdout",
       "text": [
        "\n",
        "z=====22\n",
        "z=====23\n",
        "z=====24\n",
        "z=====25"
       ]
      },
      {
       "output_type": "stream",
       "stream": "stdout",
       "text": [
        "\n",
        "z=====26\n",
        "z=====27\n",
        "z=====28\n",
        "z=====29"
       ]
      },
      {
       "output_type": "stream",
       "stream": "stdout",
       "text": [
        "\n",
        "z=====30\n",
        "z=====31\n",
        "z=====32"
       ]
      },
      {
       "output_type": "stream",
       "stream": "stdout",
       "text": [
        "\n",
        "z=====33\n",
        "z=====34\n",
        "z=====35\n",
        "z=====36\n",
        "z=====37\n",
        "z=====38"
       ]
      },
      {
       "output_type": "stream",
       "stream": "stdout",
       "text": [
        "\n",
        "z=====39\n",
        "z=====40\n",
        "z=====41\n",
        "z=====42\n",
        "z=====43"
       ]
      },
      {
       "output_type": "stream",
       "stream": "stdout",
       "text": [
        "\n",
        "z=====44\n",
        "z=====45\n",
        "z=====46\n",
        "z=====47\n",
        "z=====48\n",
        "z=====49"
       ]
      },
      {
       "output_type": "stream",
       "stream": "stdout",
       "text": [
        "\n",
        "z=====50\n",
        "z=====51\n",
        "z=====52\n",
        "z=====53\n",
        "z=====54"
       ]
      },
      {
       "output_type": "stream",
       "stream": "stdout",
       "text": [
        "\n",
        "z=====55\n",
        "z=====56\n",
        "z=====57\n",
        "z=====58\n",
        "z=====59\n",
        "z=====60"
       ]
      },
      {
       "output_type": "stream",
       "stream": "stdout",
       "text": [
        "\n",
        "z=====61\n",
        "z=====62\n",
        "z=====63\n",
        "z=====64\n",
        "z=====65"
       ]
      },
      {
       "output_type": "stream",
       "stream": "stdout",
       "text": [
        "\n",
        "z=====66\n",
        "z=====67\n",
        "z=====68\n",
        "z=====69\n",
        "z=====70"
       ]
      },
      {
       "output_type": "stream",
       "stream": "stdout",
       "text": [
        "\n",
        "z=====71\n",
        "z=====72\n",
        "z=====73\n",
        "z=====74"
       ]
      },
      {
       "output_type": "stream",
       "stream": "stdout",
       "text": [
        "\n",
        "z=====75\n",
        "z=====76"
       ]
      },
      {
       "output_type": "stream",
       "stream": "stdout",
       "text": [
        "\n",
        "z=====77\n",
        "z=====78\n",
        "z=====79\n",
        "z=====80"
       ]
      },
      {
       "output_type": "stream",
       "stream": "stdout",
       "text": [
        "\n",
        "z=====81\n",
        "z=====82\n",
        "z=====83\n",
        "z=====84"
       ]
      },
      {
       "output_type": "stream",
       "stream": "stdout",
       "text": [
        "\n",
        "z=====85\n",
        "z=====86\n",
        "z=====87"
       ]
      },
      {
       "output_type": "stream",
       "stream": "stdout",
       "text": [
        "\n",
        "z=====88\n",
        "z=====89\n",
        "z=====90\n",
        "z=====91"
       ]
      },
      {
       "output_type": "stream",
       "stream": "stdout",
       "text": [
        "\n",
        "z=====92\n",
        "z=====93\n",
        "z=====94\n",
        "z=====95\n",
        "z=====96"
       ]
      },
      {
       "output_type": "stream",
       "stream": "stdout",
       "text": [
        "\n",
        "z=====97\n",
        "z=====98\n",
        "z=====99\n",
        "z=====100"
       ]
      },
      {
       "output_type": "stream",
       "stream": "stdout",
       "text": [
        "\n",
        "z=====101\n",
        "71\n",
        "r==========72\n",
        "z=====1\n",
        "z=====2\n",
        "z=====3\n",
        "z=====4\n",
        "z=====5\n",
        "z=====6"
       ]
      },
      {
       "output_type": "stream",
       "stream": "stdout",
       "text": [
        "\n",
        "z=====7\n",
        "z=====8\n",
        "z=====9\n",
        "z=====10"
       ]
      },
      {
       "output_type": "stream",
       "stream": "stdout",
       "text": [
        "\n",
        "z=====11\n",
        "z=====12\n",
        "z=====13\n",
        "z=====14\n",
        "z=====15\n",
        "z=====16\n",
        "z=====17"
       ]
      },
      {
       "output_type": "stream",
       "stream": "stdout",
       "text": [
        "\n",
        "z=====18\n",
        "z=====19\n",
        "z=====20"
       ]
      },
      {
       "output_type": "stream",
       "stream": "stdout",
       "text": [
        "\n",
        "z=====21\n",
        "z=====22\n",
        "z=====23\n",
        "z=====24\n",
        "z=====25\n",
        "z=====26\n",
        "z=====27"
       ]
      },
      {
       "output_type": "stream",
       "stream": "stdout",
       "text": [
        "\n",
        "z=====28\n",
        "z=====29\n",
        "z=====30\n",
        "z=====31"
       ]
      },
      {
       "output_type": "stream",
       "stream": "stdout",
       "text": [
        "\n",
        "z=====32\n",
        "z=====33\n",
        "z=====34\n",
        "z=====35\n",
        "z=====36\n",
        "z=====37\n",
        "z=====38"
       ]
      },
      {
       "output_type": "stream",
       "stream": "stdout",
       "text": [
        "\n",
        "z=====39\n",
        "z=====40\n",
        "z=====41\n",
        "z=====42"
       ]
      },
      {
       "output_type": "stream",
       "stream": "stdout",
       "text": [
        "\n",
        "z=====43\n",
        "z=====44\n",
        "z=====45\n",
        "z=====46\n",
        "z=====47\n",
        "z=====48\n",
        "z=====49"
       ]
      },
      {
       "output_type": "stream",
       "stream": "stdout",
       "text": [
        "\n",
        "z=====50\n",
        "z=====51\n",
        "z=====52\n",
        "z=====53"
       ]
      },
      {
       "output_type": "stream",
       "stream": "stdout",
       "text": [
        "\n",
        "z=====54\n",
        "z=====55\n",
        "z=====56\n",
        "z=====57\n",
        "z=====58\n",
        "z=====59\n",
        "z=====60"
       ]
      },
      {
       "output_type": "stream",
       "stream": "stdout",
       "text": [
        "\n",
        "z=====61\n",
        "z=====62\n",
        "z=====63\n",
        "z=====64"
       ]
      },
      {
       "output_type": "stream",
       "stream": "stdout",
       "text": [
        "\n",
        "z=====65\n",
        "z=====66\n",
        "z=====67\n",
        "z=====68\n",
        "z=====69\n",
        "z=====70\n",
        "z=====71"
       ]
      },
      {
       "output_type": "stream",
       "stream": "stdout",
       "text": [
        "\n",
        "z=====72\n",
        "z=====73\n",
        "z=====74"
       ]
      },
      {
       "output_type": "stream",
       "stream": "stdout",
       "text": [
        "\n",
        "z=====75\n",
        "z=====76\n",
        "z=====77\n",
        "z=====78\n",
        "z=====79\n",
        "z=====80"
       ]
      },
      {
       "output_type": "stream",
       "stream": "stdout",
       "text": [
        "\n",
        "z=====81\n",
        "z=====82\n",
        "z=====83\n",
        "z=====84\n",
        "z=====85"
       ]
      },
      {
       "output_type": "stream",
       "stream": "stdout",
       "text": [
        "\n",
        "z=====86\n",
        "z=====87\n",
        "z=====88\n",
        "z=====89\n",
        "z=====90\n",
        "z=====91\n",
        "z=====92"
       ]
      },
      {
       "output_type": "stream",
       "stream": "stdout",
       "text": [
        "\n",
        "z=====93\n",
        "z=====94\n",
        "z=====95\n",
        "z=====96"
       ]
      },
      {
       "output_type": "stream",
       "stream": "stdout",
       "text": [
        "\n",
        "z=====97\n",
        "z=====98\n",
        "z=====99\n",
        "z=====100\n",
        "z=====101\n",
        "72\n",
        "r==========73\n",
        "z=====1\n",
        "z=====2"
       ]
      },
      {
       "output_type": "stream",
       "stream": "stdout",
       "text": [
        "\n",
        "z=====3\n",
        "z=====4\n",
        "z=====5\n",
        "z=====6"
       ]
      },
      {
       "output_type": "stream",
       "stream": "stdout",
       "text": [
        "\n",
        "z=====7\n",
        "z=====8\n",
        "z=====9\n",
        "z=====10\n",
        "z=====11\n",
        "z=====12\n",
        "z=====13"
       ]
      },
      {
       "output_type": "stream",
       "stream": "stdout",
       "text": [
        "\n",
        "z=====14\n",
        "z=====15\n",
        "z=====16\n",
        "z=====17"
       ]
      },
      {
       "output_type": "stream",
       "stream": "stdout",
       "text": [
        "\n",
        "z=====18\n",
        "z=====19\n",
        "z=====20\n",
        "z=====21\n",
        "z=====22\n",
        "z=====23"
       ]
      },
      {
       "output_type": "stream",
       "stream": "stdout",
       "text": [
        "\n",
        "z=====24\n",
        "z=====25\n",
        "z=====26\n",
        "z=====27\n",
        "z=====28"
       ]
      },
      {
       "output_type": "stream",
       "stream": "stdout",
       "text": [
        "\n",
        "z=====29\n",
        "z=====30\n",
        "z=====31\n",
        "z=====32\n",
        "z=====33\n",
        "z=====34"
       ]
      },
      {
       "output_type": "stream",
       "stream": "stdout",
       "text": [
        "\n",
        "z=====35\n",
        "z=====36\n",
        "z=====37\n",
        "z=====38\n",
        "z=====39"
       ]
      },
      {
       "output_type": "stream",
       "stream": "stdout",
       "text": [
        "\n",
        "z=====40\n",
        "z=====41\n",
        "z=====42\n",
        "z=====43\n",
        "z=====44\n",
        "z=====45"
       ]
      },
      {
       "output_type": "stream",
       "stream": "stdout",
       "text": [
        "\n",
        "z=====46\n",
        "z=====47\n",
        "z=====48\n",
        "z=====49\n",
        "z=====50"
       ]
      },
      {
       "output_type": "stream",
       "stream": "stdout",
       "text": [
        "\n",
        "z=====51\n",
        "z=====52\n",
        "z=====53\n",
        "z=====54\n",
        "z=====55\n",
        "z=====56"
       ]
      },
      {
       "output_type": "stream",
       "stream": "stdout",
       "text": [
        "\n",
        "z=====57\n",
        "z=====58\n",
        "z=====59\n",
        "z=====60\n",
        "z=====61"
       ]
      },
      {
       "output_type": "stream",
       "stream": "stdout",
       "text": [
        "\n",
        "z=====62\n",
        "z=====63\n",
        "z=====64\n",
        "z=====65\n",
        "z=====66\n",
        "z=====67\n",
        "z=====68"
       ]
      },
      {
       "output_type": "stream",
       "stream": "stdout",
       "text": [
        "\n",
        "z=====69\n",
        "z=====70\n",
        "z=====71\n",
        "z=====72"
       ]
      },
      {
       "output_type": "stream",
       "stream": "stdout",
       "text": [
        "\n",
        "z=====73\n",
        "z=====74\n",
        "z=====75\n",
        "z=====76\n",
        "z=====77\n",
        "z=====78"
       ]
      },
      {
       "output_type": "stream",
       "stream": "stdout",
       "text": [
        "\n",
        "z=====79\n",
        "z=====80\n",
        "z=====81\n",
        "z=====82\n",
        "z=====83"
       ]
      },
      {
       "output_type": "stream",
       "stream": "stdout",
       "text": [
        "\n",
        "z=====84\n",
        "z=====85\n",
        "z=====86\n",
        "z=====87\n",
        "z=====88\n",
        "z=====89"
       ]
      },
      {
       "output_type": "stream",
       "stream": "stdout",
       "text": [
        "\n",
        "z=====90\n",
        "z=====91\n",
        "z=====92\n",
        "z=====93\n",
        "z=====94"
       ]
      },
      {
       "output_type": "stream",
       "stream": "stdout",
       "text": [
        "\n",
        "z=====95\n",
        "z=====96\n",
        "z=====97\n",
        "z=====98\n",
        "z=====99\n",
        "z=====100\n",
        "z=====101"
       ]
      },
      {
       "output_type": "stream",
       "stream": "stdout",
       "text": [
        "\n",
        "73\n",
        "r==========74\n",
        "z=====1\n",
        "z=====2\n",
        "z=====3\n",
        "z=====4"
       ]
      },
      {
       "output_type": "stream",
       "stream": "stdout",
       "text": [
        "\n",
        "z=====5\n",
        "z=====6\n",
        "z=====7\n",
        "z=====8\n",
        "z=====9\n",
        "z=====10"
       ]
      },
      {
       "output_type": "stream",
       "stream": "stdout",
       "text": [
        "\n",
        "z=====11\n",
        "z=====12\n",
        "z=====13\n",
        "z=====14\n",
        "z=====15"
       ]
      },
      {
       "output_type": "stream",
       "stream": "stdout",
       "text": [
        "\n",
        "z=====16\n",
        "z=====17\n",
        "z=====18\n",
        "z=====19\n",
        "z=====20\n",
        "z=====21\n",
        "z=====22"
       ]
      },
      {
       "output_type": "stream",
       "stream": "stdout",
       "text": [
        "\n",
        "z=====23\n",
        "z=====24\n",
        "z=====25\n",
        "z=====26"
       ]
      },
      {
       "output_type": "stream",
       "stream": "stdout",
       "text": [
        "\n",
        "z=====27\n",
        "z=====28\n",
        "z=====29\n",
        "z=====30\n",
        "z=====31\n",
        "z=====32"
       ]
      },
      {
       "output_type": "stream",
       "stream": "stdout",
       "text": [
        "\n",
        "z=====33\n",
        "z=====34\n",
        "z=====35\n",
        "z=====36\n",
        "z=====37"
       ]
      },
      {
       "output_type": "stream",
       "stream": "stdout",
       "text": [
        "\n",
        "z=====38\n",
        "z=====39\n",
        "z=====40\n",
        "z=====41\n",
        "z=====42\n",
        "z=====43\n",
        "z=====44"
       ]
      },
      {
       "output_type": "stream",
       "stream": "stdout",
       "text": [
        "\n",
        "z=====45\n",
        "z=====46\n",
        "z=====47"
       ]
      },
      {
       "output_type": "stream",
       "stream": "stdout",
       "text": [
        "\n",
        "z=====48\n",
        "z=====49\n",
        "z=====50\n",
        "z=====51\n",
        "z=====52\n",
        "z=====53\n",
        "z=====54"
       ]
      },
      {
       "output_type": "stream",
       "stream": "stdout",
       "text": [
        "\n",
        "z=====55\n",
        "z=====56\n",
        "z=====57\n",
        "z=====58"
       ]
      },
      {
       "output_type": "stream",
       "stream": "stdout",
       "text": [
        "\n",
        "z=====59\n",
        "z=====60\n",
        "z=====61\n",
        "z=====62\n",
        "z=====63\n",
        "z=====64"
       ]
      },
      {
       "output_type": "stream",
       "stream": "stdout",
       "text": [
        "\n",
        "z=====65\n",
        "z=====66\n",
        "z=====67\n",
        "z=====68\n",
        "z=====69"
       ]
      },
      {
       "output_type": "stream",
       "stream": "stdout",
       "text": [
        "\n",
        "z=====70\n",
        "z=====71\n",
        "z=====72\n",
        "z=====73\n",
        "z=====74\n",
        "z=====75"
       ]
      },
      {
       "output_type": "stream",
       "stream": "stdout",
       "text": [
        "\n",
        "z=====76\n",
        "z=====77\n",
        "z=====78\n",
        "z=====79\n",
        "z=====80"
       ]
      },
      {
       "output_type": "stream",
       "stream": "stdout",
       "text": [
        "\n",
        "z=====81\n",
        "z=====82\n",
        "z=====83\n",
        "z=====84\n",
        "z=====85\n",
        "z=====86\n",
        "z=====87"
       ]
      },
      {
       "output_type": "stream",
       "stream": "stdout",
       "text": [
        "\n",
        "z=====88\n",
        "z=====89\n",
        "z=====90\n",
        "z=====91"
       ]
      },
      {
       "output_type": "stream",
       "stream": "stdout",
       "text": [
        "\n",
        "z=====92\n",
        "z=====93\n",
        "z=====94\n",
        "z=====95\n",
        "z=====96\n",
        "z=====97"
       ]
      },
      {
       "output_type": "stream",
       "stream": "stdout",
       "text": [
        "\n",
        "z=====98\n",
        "z=====99\n",
        "z=====100\n",
        "z=====101\n",
        "74"
       ]
      },
      {
       "output_type": "stream",
       "stream": "stdout",
       "text": [
        "\n",
        "r==========75\n",
        "z=====1\n",
        "z=====2\n",
        "z=====3\n",
        "z=====4\n",
        "z=====5\n",
        "z=====6\n",
        "z=====7"
       ]
      },
      {
       "output_type": "stream",
       "stream": "stdout",
       "text": [
        "\n",
        "z=====8\n",
        "z=====9\n",
        "z=====10\n",
        "z=====11\n",
        "z=====12"
       ]
      },
      {
       "output_type": "stream",
       "stream": "stdout",
       "text": [
        "\n",
        "z=====13\n",
        "z=====14\n",
        "z=====15\n",
        "z=====16\n",
        "z=====17\n",
        "z=====18"
       ]
      },
      {
       "output_type": "stream",
       "stream": "stdout",
       "text": [
        "\n",
        "z=====19\n",
        "z=====20\n",
        "z=====21\n",
        "z=====22\n",
        "z=====23"
       ]
      },
      {
       "output_type": "stream",
       "stream": "stdout",
       "text": [
        "\n",
        "z=====24\n",
        "z=====25\n",
        "z=====26\n",
        "z=====27"
       ]
      },
      {
       "output_type": "stream",
       "stream": "stdout",
       "text": [
        "\n",
        "z=====28\n",
        "z=====29\n",
        "z=====30\n",
        "z=====31"
       ]
      },
      {
       "output_type": "stream",
       "stream": "stdout",
       "text": [
        "\n",
        "z=====32\n",
        "z=====33\n",
        "z=====34"
       ]
      },
      {
       "output_type": "stream",
       "stream": "stdout",
       "text": [
        "\n",
        "z=====35\n",
        "z=====36\n",
        "z=====37\n",
        "z=====38"
       ]
      },
      {
       "output_type": "stream",
       "stream": "stdout",
       "text": [
        "\n",
        "z=====39\n",
        "z=====40\n",
        "z=====41\n",
        "z=====42"
       ]
      },
      {
       "output_type": "stream",
       "stream": "stdout",
       "text": [
        "\n",
        "z=====43\n",
        "z=====44\n",
        "z=====45"
       ]
      },
      {
       "output_type": "stream",
       "stream": "stdout",
       "text": [
        "\n",
        "z=====46\n",
        "z=====47\n",
        "z=====48\n",
        "z=====49\n",
        "z=====50\n",
        "z=====51"
       ]
      },
      {
       "output_type": "stream",
       "stream": "stdout",
       "text": [
        "\n",
        "z=====52\n",
        "z=====53\n",
        "z=====54\n",
        "z=====55\n",
        "z=====56"
       ]
      },
      {
       "output_type": "stream",
       "stream": "stdout",
       "text": [
        "\n",
        "z=====57\n",
        "z=====58\n",
        "z=====59\n",
        "z=====60\n",
        "z=====61\n",
        "z=====62\n",
        "z=====63"
       ]
      },
      {
       "output_type": "stream",
       "stream": "stdout",
       "text": [
        "\n",
        "z=====64\n",
        "z=====65\n",
        "z=====66\n",
        "z=====67"
       ]
      },
      {
       "output_type": "stream",
       "stream": "stdout",
       "text": [
        "\n",
        "z=====68\n",
        "z=====69\n",
        "z=====70\n",
        "z=====71\n",
        "z=====72\n",
        "z=====73\n",
        "z=====74"
       ]
      },
      {
       "output_type": "stream",
       "stream": "stdout",
       "text": [
        "\n",
        "z=====75\n",
        "z=====76\n",
        "z=====77\n",
        "z=====78"
       ]
      },
      {
       "output_type": "stream",
       "stream": "stdout",
       "text": [
        "\n",
        "z=====79\n",
        "z=====80\n",
        "z=====81\n",
        "z=====82\n",
        "z=====83\n",
        "z=====84"
       ]
      },
      {
       "output_type": "stream",
       "stream": "stdout",
       "text": [
        "\n",
        "z=====85\n",
        "z=====86\n",
        "z=====87\n",
        "z=====88\n",
        "z=====89"
       ]
      },
      {
       "output_type": "stream",
       "stream": "stdout",
       "text": [
        "\n",
        "z=====90\n",
        "z=====91\n",
        "z=====92\n",
        "z=====93\n",
        "z=====94\n",
        "z=====95\n",
        "z=====96"
       ]
      },
      {
       "output_type": "stream",
       "stream": "stdout",
       "text": [
        "\n",
        "z=====97\n",
        "z=====98\n",
        "z=====99\n",
        "z=====100"
       ]
      },
      {
       "output_type": "stream",
       "stream": "stdout",
       "text": [
        "\n",
        "z=====101\n",
        "75\n",
        "r==========76\n",
        "z=====1\n",
        "z=====2\n",
        "z=====3\n",
        "z=====4\n",
        "z=====5"
       ]
      },
      {
       "output_type": "stream",
       "stream": "stdout",
       "text": [
        "\n",
        "z=====6\n",
        "z=====7\n",
        "z=====8\n",
        "z=====9\n",
        "z=====10"
       ]
      },
      {
       "output_type": "stream",
       "stream": "stdout",
       "text": [
        "\n",
        "z=====11\n",
        "z=====12\n",
        "z=====13\n",
        "z=====14\n",
        "z=====15\n",
        "z=====16\n",
        "z=====17"
       ]
      },
      {
       "output_type": "stream",
       "stream": "stdout",
       "text": [
        "\n",
        "z=====18\n",
        "z=====19\n",
        "z=====20\n",
        "z=====21"
       ]
      },
      {
       "output_type": "stream",
       "stream": "stdout",
       "text": [
        "\n",
        "z=====22\n",
        "z=====23\n",
        "z=====24\n",
        "z=====25\n",
        "z=====26\n",
        "z=====27"
       ]
      },
      {
       "output_type": "stream",
       "stream": "stdout",
       "text": [
        "\n",
        "z=====28\n",
        "z=====29\n",
        "z=====30\n",
        "z=====31\n",
        "z=====32"
       ]
      },
      {
       "output_type": "stream",
       "stream": "stdout",
       "text": [
        "\n",
        "z=====33\n",
        "z=====34\n",
        "z=====35\n",
        "z=====36\n",
        "z=====37\n",
        "z=====38"
       ]
      },
      {
       "output_type": "stream",
       "stream": "stdout",
       "text": [
        "\n",
        "z=====39\n",
        "z=====40\n",
        "z=====41\n",
        "z=====42\n",
        "z=====43"
       ]
      },
      {
       "output_type": "stream",
       "stream": "stdout",
       "text": [
        "\n",
        "z=====44\n",
        "z=====45\n",
        "z=====46\n",
        "z=====47\n",
        "z=====48\n",
        "z=====49"
       ]
      },
      {
       "output_type": "stream",
       "stream": "stdout",
       "text": [
        "\n",
        "z=====50\n",
        "z=====51\n",
        "z=====52\n",
        "z=====53\n",
        "z=====54"
       ]
      },
      {
       "output_type": "stream",
       "stream": "stdout",
       "text": [
        "\n",
        "z=====55\n",
        "z=====56\n",
        "z=====57\n",
        "z=====58\n",
        "z=====59\n",
        "z=====60\n",
        "z=====61"
       ]
      },
      {
       "output_type": "stream",
       "stream": "stdout",
       "text": [
        "\n",
        "z=====62\n",
        "z=====63\n",
        "z=====64\n",
        "z=====65"
       ]
      },
      {
       "output_type": "stream",
       "stream": "stdout",
       "text": [
        "\n",
        "z=====66\n",
        "z=====67\n",
        "z=====68\n",
        "z=====69\n",
        "z=====70\n",
        "z=====71"
       ]
      },
      {
       "output_type": "stream",
       "stream": "stdout",
       "text": [
        "\n",
        "z=====72\n",
        "z=====73\n",
        "z=====74\n",
        "z=====75\n",
        "z=====76"
       ]
      },
      {
       "output_type": "stream",
       "stream": "stdout",
       "text": [
        "\n",
        "z=====77\n",
        "z=====78\n",
        "z=====79\n",
        "z=====80\n",
        "z=====81\n",
        "z=====82"
       ]
      },
      {
       "output_type": "stream",
       "stream": "stdout",
       "text": [
        "\n",
        "z=====83\n",
        "z=====84\n",
        "z=====85\n",
        "z=====86\n",
        "z=====87"
       ]
      },
      {
       "output_type": "stream",
       "stream": "stdout",
       "text": [
        "\n",
        "z=====88\n",
        "z=====89\n",
        "z=====90\n",
        "z=====91\n",
        "z=====92\n",
        "z=====93"
       ]
      },
      {
       "output_type": "stream",
       "stream": "stdout",
       "text": [
        "\n",
        "z=====94\n",
        "z=====95\n",
        "z=====96\n",
        "z=====97\n",
        "z=====98"
       ]
      },
      {
       "output_type": "stream",
       "stream": "stdout",
       "text": [
        "\n",
        "z=====99\n",
        "z=====100\n",
        "z=====101\n",
        "76\n",
        "r==========77\n",
        "z=====1\n",
        "z=====2\n",
        "z=====3\n",
        "z=====4"
       ]
      },
      {
       "output_type": "stream",
       "stream": "stdout",
       "text": [
        "\n",
        "z=====5\n",
        "z=====6\n",
        "z=====7\n",
        "z=====8"
       ]
      },
      {
       "output_type": "stream",
       "stream": "stdout",
       "text": [
        "\n",
        "z=====9\n",
        "z=====10\n",
        "z=====11\n",
        "z=====12\n",
        "z=====13\n",
        "z=====14"
       ]
      },
      {
       "output_type": "stream",
       "stream": "stdout",
       "text": [
        "\n",
        "z=====15\n",
        "z=====16\n",
        "z=====17\n",
        "z=====18\n",
        "z=====19"
       ]
      },
      {
       "output_type": "stream",
       "stream": "stdout",
       "text": [
        "\n",
        "z=====20\n",
        "z=====21\n",
        "z=====22\n",
        "z=====23\n",
        "z=====24\n",
        "z=====25"
       ]
      },
      {
       "output_type": "stream",
       "stream": "stdout",
       "text": [
        "\n",
        "z=====26\n",
        "z=====27\n",
        "z=====28\n",
        "z=====29\n",
        "z=====30"
       ]
      },
      {
       "output_type": "stream",
       "stream": "stdout",
       "text": [
        "\n",
        "z=====31\n",
        "z=====32\n",
        "z=====33\n",
        "z=====34\n",
        "z=====35\n",
        "z=====36"
       ]
      },
      {
       "output_type": "stream",
       "stream": "stdout",
       "text": [
        "\n",
        "z=====37\n",
        "z=====38\n",
        "z=====39\n",
        "z=====40\n",
        "z=====41"
       ]
      },
      {
       "output_type": "stream",
       "stream": "stdout",
       "text": [
        "\n",
        "z=====42\n",
        "z=====43\n",
        "z=====44\n",
        "z=====45\n",
        "z=====46\n",
        "z=====47\n",
        "z=====48"
       ]
      },
      {
       "output_type": "stream",
       "stream": "stdout",
       "text": [
        "\n",
        "z=====49\n",
        "z=====50\n",
        "z=====51\n",
        "z=====52"
       ]
      },
      {
       "output_type": "stream",
       "stream": "stdout",
       "text": [
        "\n",
        "z=====53\n",
        "z=====54\n",
        "z=====55\n",
        "z=====56\n",
        "z=====57\n",
        "z=====58\n",
        "z=====59"
       ]
      },
      {
       "output_type": "stream",
       "stream": "stdout",
       "text": [
        "\n",
        "z=====60\n",
        "z=====61\n",
        "z=====62\n",
        "z=====63"
       ]
      },
      {
       "output_type": "stream",
       "stream": "stdout",
       "text": [
        "\n",
        "z=====64\n",
        "z=====65\n",
        "z=====66\n",
        "z=====67\n",
        "z=====68\n",
        "z=====69\n",
        "z=====70"
       ]
      },
      {
       "output_type": "stream",
       "stream": "stdout",
       "text": [
        "\n",
        "z=====71\n",
        "z=====72\n",
        "z=====73\n",
        "z=====74"
       ]
      },
      {
       "output_type": "stream",
       "stream": "stdout",
       "text": [
        "\n",
        "z=====75\n",
        "z=====76\n",
        "z=====77\n",
        "z=====78\n",
        "z=====79\n",
        "z=====80\n",
        "z=====81"
       ]
      },
      {
       "output_type": "stream",
       "stream": "stdout",
       "text": [
        "\n",
        "z=====82\n",
        "z=====83\n",
        "z=====84\n",
        "z=====85"
       ]
      },
      {
       "output_type": "stream",
       "stream": "stdout",
       "text": [
        "\n",
        "z=====86\n",
        "z=====87\n",
        "z=====88\n",
        "z=====89\n",
        "z=====90\n",
        "z=====91\n",
        "z=====92"
       ]
      },
      {
       "output_type": "stream",
       "stream": "stdout",
       "text": [
        "\n",
        "z=====93\n",
        "z=====94\n",
        "z=====95\n",
        "z=====96"
       ]
      },
      {
       "output_type": "stream",
       "stream": "stdout",
       "text": [
        "\n",
        "z=====97\n",
        "z=====98\n",
        "z=====99\n",
        "z=====100\n",
        "z=====101\n",
        "77\n",
        "r==========78\n",
        "z=====1\n",
        "z=====2"
       ]
      },
      {
       "output_type": "stream",
       "stream": "stdout",
       "text": [
        "\n",
        "z=====3\n",
        "z=====4\n",
        "z=====5\n",
        "z=====6"
       ]
      },
      {
       "output_type": "stream",
       "stream": "stdout",
       "text": [
        "\n",
        "z=====7\n",
        "z=====8\n",
        "z=====9\n",
        "z=====10\n",
        "z=====11\n",
        "z=====12\n",
        "z=====13"
       ]
      },
      {
       "output_type": "stream",
       "stream": "stdout",
       "text": [
        "\n",
        "z=====14\n",
        "z=====15\n",
        "z=====16\n",
        "z=====17"
       ]
      },
      {
       "output_type": "stream",
       "stream": "stdout",
       "text": [
        "\n",
        "z=====18\n",
        "z=====19\n",
        "z=====20\n",
        "z=====21\n",
        "z=====22\n",
        "z=====23"
       ]
      },
      {
       "output_type": "stream",
       "stream": "stdout",
       "text": [
        "\n",
        "z=====24\n",
        "z=====25\n",
        "z=====26\n",
        "z=====27\n",
        "z=====28"
       ]
      },
      {
       "output_type": "stream",
       "stream": "stdout",
       "text": [
        "\n",
        "z=====29\n",
        "z=====30\n",
        "z=====31\n",
        "z=====32\n",
        "z=====33\n",
        "z=====34\n",
        "z=====35"
       ]
      },
      {
       "output_type": "stream",
       "stream": "stdout",
       "text": [
        "\n",
        "z=====36\n",
        "z=====37\n",
        "z=====38\n",
        "z=====39"
       ]
      },
      {
       "output_type": "stream",
       "stream": "stdout",
       "text": [
        "\n",
        "z=====40\n",
        "z=====41\n",
        "z=====42\n",
        "z=====43\n",
        "z=====44\n",
        "z=====45\n",
        "z=====46"
       ]
      },
      {
       "output_type": "stream",
       "stream": "stdout",
       "text": [
        "\n",
        "z=====47\n",
        "z=====48\n",
        "z=====49\n",
        "z=====50"
       ]
      },
      {
       "output_type": "stream",
       "stream": "stdout",
       "text": [
        "\n",
        "z=====51\n",
        "z=====52\n",
        "z=====53\n",
        "z=====54\n",
        "z=====55\n",
        "z=====56"
       ]
      },
      {
       "output_type": "stream",
       "stream": "stdout",
       "text": [
        "\n",
        "z=====57\n",
        "z=====58\n",
        "z=====59\n",
        "z=====60"
       ]
      },
      {
       "output_type": "stream",
       "stream": "stdout",
       "text": [
        "\n",
        "z=====61\n",
        "z=====62\n",
        "z=====63\n",
        "z=====64\n",
        "z=====65\n",
        "z=====66\n",
        "z=====67"
       ]
      },
      {
       "output_type": "stream",
       "stream": "stdout",
       "text": [
        "\n",
        "z=====68\n",
        "z=====69\n",
        "z=====70\n",
        "z=====71"
       ]
      },
      {
       "output_type": "stream",
       "stream": "stdout",
       "text": [
        "\n",
        "z=====72\n",
        "z=====73\n",
        "z=====74\n",
        "z=====75\n",
        "z=====76\n",
        "z=====77"
       ]
      },
      {
       "output_type": "stream",
       "stream": "stdout",
       "text": [
        "\n",
        "z=====78\n",
        "z=====79\n",
        "z=====80\n",
        "z=====81\n",
        "z=====82"
       ]
      },
      {
       "output_type": "stream",
       "stream": "stdout",
       "text": [
        "\n",
        "z=====83\n",
        "z=====84\n",
        "z=====85\n",
        "z=====86\n",
        "z=====87\n",
        "z=====88\n",
        "z=====89"
       ]
      },
      {
       "output_type": "stream",
       "stream": "stdout",
       "text": [
        "\n",
        "z=====90\n",
        "z=====91\n",
        "z=====92\n",
        "z=====93"
       ]
      },
      {
       "output_type": "stream",
       "stream": "stdout",
       "text": [
        "\n",
        "z=====94\n",
        "z=====95\n",
        "z=====96\n",
        "z=====97\n",
        "z=====98\n",
        "z=====99"
       ]
      },
      {
       "output_type": "stream",
       "stream": "stdout",
       "text": [
        "\n",
        "z=====100\n",
        "z=====101\n",
        "78\n",
        "r==========79\n",
        "z=====1\n",
        "z=====2\n",
        "z=====3"
       ]
      },
      {
       "output_type": "stream",
       "stream": "stdout",
       "text": [
        "\n",
        "z=====4\n",
        "z=====5\n",
        "z=====6\n",
        "z=====7\n",
        "z=====8\n",
        "z=====9\n",
        "z=====10"
       ]
      },
      {
       "output_type": "stream",
       "stream": "stdout",
       "text": [
        "\n",
        "z=====11\n",
        "z=====12\n",
        "z=====13\n",
        "z=====14"
       ]
      },
      {
       "output_type": "stream",
       "stream": "stdout",
       "text": [
        "\n",
        "z=====15\n",
        "z=====16\n",
        "z=====17\n",
        "z=====18\n",
        "z=====19\n",
        "z=====20\n",
        "z=====21"
       ]
      },
      {
       "output_type": "stream",
       "stream": "stdout",
       "text": [
        "\n",
        "z=====22\n",
        "z=====23\n",
        "z=====24\n",
        "z=====25"
       ]
      },
      {
       "output_type": "stream",
       "stream": "stdout",
       "text": [
        "\n",
        "z=====26\n",
        "z=====27\n",
        "z=====28\n",
        "z=====29\n",
        "z=====30\n",
        "z=====31\n",
        "z=====32"
       ]
      },
      {
       "output_type": "stream",
       "stream": "stdout",
       "text": [
        "\n",
        "z=====33\n",
        "z=====34\n",
        "z=====35\n",
        "z=====36"
       ]
      },
      {
       "output_type": "stream",
       "stream": "stdout",
       "text": [
        "\n",
        "z=====37\n",
        "z=====38\n",
        "z=====39\n",
        "z=====40\n",
        "z=====41\n",
        "z=====42\n",
        "z=====43"
       ]
      },
      {
       "output_type": "stream",
       "stream": "stdout",
       "text": [
        "\n",
        "z=====44\n",
        "z=====45\n",
        "z=====46\n",
        "z=====47"
       ]
      },
      {
       "output_type": "stream",
       "stream": "stdout",
       "text": [
        "\n",
        "z=====48\n",
        "z=====49\n",
        "z=====50\n",
        "z=====51\n",
        "z=====52\n",
        "z=====53"
       ]
      },
      {
       "output_type": "stream",
       "stream": "stdout",
       "text": [
        "\n",
        "z=====54\n",
        "z=====55\n",
        "z=====56\n",
        "z=====57\n",
        "z=====58"
       ]
      },
      {
       "output_type": "stream",
       "stream": "stdout",
       "text": [
        "\n",
        "z=====59\n",
        "z=====60\n",
        "z=====61\n",
        "z=====62\n",
        "z=====63\n",
        "z=====64\n",
        "z=====65"
       ]
      },
      {
       "output_type": "stream",
       "stream": "stdout",
       "text": [
        "\n",
        "z=====66\n",
        "z=====67\n",
        "z=====68\n",
        "z=====69"
       ]
      },
      {
       "output_type": "stream",
       "stream": "stdout",
       "text": [
        "\n",
        "z=====70\n",
        "z=====71\n",
        "z=====72\n",
        "z=====73\n",
        "z=====74\n",
        "z=====75"
       ]
      },
      {
       "output_type": "stream",
       "stream": "stdout",
       "text": [
        "\n",
        "z=====76\n",
        "z=====77\n",
        "z=====78\n",
        "z=====79\n",
        "z=====80"
       ]
      },
      {
       "output_type": "stream",
       "stream": "stdout",
       "text": [
        "\n",
        "z=====81\n",
        "z=====82\n",
        "z=====83\n",
        "z=====84\n",
        "z=====85\n",
        "z=====86"
       ]
      },
      {
       "output_type": "stream",
       "stream": "stdout",
       "text": [
        "\n",
        "z=====87\n",
        "z=====88\n",
        "z=====89\n",
        "z=====90\n",
        "z=====91"
       ]
      },
      {
       "output_type": "stream",
       "stream": "stdout",
       "text": [
        "\n",
        "z=====92\n",
        "z=====93\n",
        "z=====94\n",
        "z=====95\n",
        "z=====96\n",
        "z=====97"
       ]
      },
      {
       "output_type": "stream",
       "stream": "stdout",
       "text": [
        "\n",
        "z=====98\n",
        "z=====99\n",
        "z=====100\n",
        "z=====101\n",
        "79"
       ]
      },
      {
       "output_type": "stream",
       "stream": "stdout",
       "text": [
        "\n",
        "r==========80\n",
        "z=====1\n",
        "z=====2\n",
        "z=====3\n",
        "z=====4\n",
        "z=====5\n",
        "z=====6\n",
        "z=====7\n",
        "z=====8"
       ]
      },
      {
       "output_type": "stream",
       "stream": "stdout",
       "text": [
        "\n",
        "z=====9\n",
        "z=====10\n",
        "z=====11\n",
        "z=====12"
       ]
      },
      {
       "output_type": "stream",
       "stream": "stdout",
       "text": [
        "\n",
        "z=====13\n",
        "z=====14\n",
        "z=====15\n",
        "z=====16\n",
        "z=====17\n",
        "z=====18\n",
        "z=====19"
       ]
      },
      {
       "output_type": "stream",
       "stream": "stdout",
       "text": [
        "\n",
        "z=====20\n",
        "z=====21\n",
        "z=====22\n",
        "z=====23"
       ]
      },
      {
       "output_type": "stream",
       "stream": "stdout",
       "text": [
        "\n",
        "z=====24\n",
        "z=====25\n",
        "z=====26\n",
        "z=====27\n",
        "z=====28\n",
        "z=====29\n",
        "z=====30"
       ]
      },
      {
       "output_type": "stream",
       "stream": "stdout",
       "text": [
        "\n",
        "z=====31\n",
        "z=====32\n",
        "z=====33\n",
        "z=====34"
       ]
      },
      {
       "output_type": "stream",
       "stream": "stdout",
       "text": [
        "\n",
        "z=====35\n",
        "z=====36\n",
        "z=====37\n",
        "z=====38\n",
        "z=====39\n",
        "z=====40"
       ]
      },
      {
       "output_type": "stream",
       "stream": "stdout",
       "text": [
        "\n",
        "z=====41\n",
        "z=====42\n",
        "z=====43\n",
        "z=====44\n",
        "z=====45"
       ]
      },
      {
       "output_type": "stream",
       "stream": "stdout",
       "text": [
        "\n",
        "z=====46\n",
        "z=====47\n",
        "z=====48\n",
        "z=====49\n",
        "z=====50\n",
        "z=====51"
       ]
      },
      {
       "output_type": "stream",
       "stream": "stdout",
       "text": [
        "\n",
        "z=====52\n",
        "z=====53\n",
        "z=====54\n",
        "z=====55\n",
        "z=====56"
       ]
      },
      {
       "output_type": "stream",
       "stream": "stdout",
       "text": [
        "\n",
        "z=====57\n",
        "z=====58\n",
        "z=====59\n",
        "z=====60\n",
        "z=====61\n",
        "z=====62\n",
        "z=====63"
       ]
      },
      {
       "output_type": "stream",
       "stream": "stdout",
       "text": [
        "\n",
        "z=====64\n",
        "z=====65\n",
        "z=====66\n",
        "z=====67"
       ]
      },
      {
       "output_type": "stream",
       "stream": "stdout",
       "text": [
        "\n",
        "z=====68\n",
        "z=====69\n",
        "z=====70\n",
        "z=====71\n",
        "z=====72\n",
        "z=====73"
       ]
      },
      {
       "output_type": "stream",
       "stream": "stdout",
       "text": [
        "\n",
        "z=====74\n",
        "z=====75\n",
        "z=====76\n",
        "z=====77\n",
        "z=====78"
       ]
      },
      {
       "output_type": "stream",
       "stream": "stdout",
       "text": [
        "\n",
        "z=====79\n",
        "z=====80\n",
        "z=====81\n",
        "z=====82\n",
        "z=====83"
       ]
      },
      {
       "output_type": "stream",
       "stream": "stdout",
       "text": [
        "\n",
        "z=====84\n",
        "z=====85\n",
        "z=====86\n",
        "z=====87"
       ]
      },
      {
       "output_type": "stream",
       "stream": "stdout",
       "text": [
        "\n",
        "z=====88\n",
        "z=====89"
       ]
      },
      {
       "output_type": "stream",
       "stream": "stdout",
       "text": [
        "\n",
        "z=====90\n",
        "z=====91\n",
        "z=====92\n",
        "z=====93"
       ]
      },
      {
       "output_type": "stream",
       "stream": "stdout",
       "text": [
        "\n",
        "z=====94\n",
        "z=====95\n",
        "z=====96\n",
        "z=====97"
       ]
      },
      {
       "output_type": "stream",
       "stream": "stdout",
       "text": [
        "\n",
        "z=====98\n",
        "z=====99\n",
        "z=====100"
       ]
      },
      {
       "output_type": "stream",
       "stream": "stdout",
       "text": [
        "\n",
        "z=====101\n",
        "80\n",
        "r==========81\n",
        "z=====1\n",
        "z=====2\n",
        "z=====3\n",
        "z=====4\n",
        "z=====5\n",
        "z=====6"
       ]
      },
      {
       "output_type": "stream",
       "stream": "stdout",
       "text": [
        "\n",
        "z=====7\n",
        "z=====8\n",
        "z=====9\n",
        "z=====10"
       ]
      },
      {
       "output_type": "stream",
       "stream": "stdout",
       "text": [
        "\n",
        "z=====11\n",
        "z=====12\n",
        "z=====13\n",
        "z=====14\n",
        "z=====15\n",
        "z=====16"
       ]
      },
      {
       "output_type": "stream",
       "stream": "stdout",
       "text": [
        "\n",
        "z=====17\n",
        "z=====18\n",
        "z=====19\n",
        "z=====20\n",
        "z=====21"
       ]
      },
      {
       "output_type": "stream",
       "stream": "stdout",
       "text": [
        "\n",
        "z=====22\n",
        "z=====23\n",
        "z=====24\n",
        "z=====25\n",
        "z=====26\n",
        "z=====27"
       ]
      },
      {
       "output_type": "stream",
       "stream": "stdout",
       "text": [
        "\n",
        "z=====28\n",
        "z=====29\n",
        "z=====30\n",
        "z=====31\n",
        "z=====32"
       ]
      },
      {
       "output_type": "stream",
       "stream": "stdout",
       "text": [
        "\n",
        "z=====33\n",
        "z=====34\n",
        "z=====35\n",
        "z=====36\n",
        "z=====37\n",
        "z=====38\n",
        "z=====39"
       ]
      },
      {
       "output_type": "stream",
       "stream": "stdout",
       "text": [
        "\n",
        "z=====40\n",
        "z=====41\n",
        "z=====42\n",
        "z=====43"
       ]
      },
      {
       "output_type": "stream",
       "stream": "stdout",
       "text": [
        "\n",
        "z=====44\n",
        "z=====45\n",
        "z=====46\n",
        "z=====47\n",
        "z=====48\n",
        "z=====49"
       ]
      },
      {
       "output_type": "stream",
       "stream": "stdout",
       "text": [
        "\n",
        "z=====50\n",
        "z=====51\n",
        "z=====52\n",
        "z=====53\n",
        "z=====54"
       ]
      },
      {
       "output_type": "stream",
       "stream": "stdout",
       "text": [
        "\n",
        "z=====55\n",
        "z=====56\n",
        "z=====57\n",
        "z=====58\n",
        "z=====59\n",
        "z=====60\n",
        "z=====61"
       ]
      },
      {
       "output_type": "stream",
       "stream": "stdout",
       "text": [
        "\n",
        "z=====62\n",
        "z=====63\n",
        "z=====64\n",
        "z=====65"
       ]
      },
      {
       "output_type": "stream",
       "stream": "stdout",
       "text": [
        "\n",
        "z=====66\n",
        "z=====67\n",
        "z=====68\n",
        "z=====69\n",
        "z=====70\n",
        "z=====71"
       ]
      },
      {
       "output_type": "stream",
       "stream": "stdout",
       "text": [
        "\n",
        "z=====72\n",
        "z=====73\n",
        "z=====74\n",
        "z=====75\n",
        "z=====76"
       ]
      },
      {
       "output_type": "stream",
       "stream": "stdout",
       "text": [
        "\n",
        "z=====77\n",
        "z=====78\n",
        "z=====79\n",
        "z=====80\n",
        "z=====81\n",
        "z=====82"
       ]
      },
      {
       "output_type": "stream",
       "stream": "stdout",
       "text": [
        "\n",
        "z=====83\n",
        "z=====84\n",
        "z=====85\n",
        "z=====86\n",
        "z=====87"
       ]
      },
      {
       "output_type": "stream",
       "stream": "stdout",
       "text": [
        "\n",
        "z=====88\n",
        "z=====89\n",
        "z=====90\n",
        "z=====91\n",
        "z=====92\n",
        "z=====93\n",
        "z=====94"
       ]
      },
      {
       "output_type": "stream",
       "stream": "stdout",
       "text": [
        "\n",
        "z=====95\n",
        "z=====96\n",
        "z=====97\n",
        "z=====98"
       ]
      },
      {
       "output_type": "stream",
       "stream": "stdout",
       "text": [
        "\n",
        "z=====99\n",
        "z=====100\n",
        "z=====101\n",
        "81\n",
        "r==========82\n",
        "z=====1\n",
        "z=====2\n",
        "z=====3\n"
       ]
      },
      {
       "output_type": "stream",
       "stream": "stdout",
       "text": [
        "z=====4\n",
        "z=====5\n",
        "z=====6\n",
        "z=====7\n",
        "z=====8"
       ]
      },
      {
       "output_type": "stream",
       "stream": "stdout",
       "text": [
        "\n",
        "z=====9\n",
        "z=====10\n",
        "z=====11\n",
        "z=====12\n",
        "z=====13\n",
        "z=====14"
       ]
      },
      {
       "output_type": "stream",
       "stream": "stdout",
       "text": [
        "\n",
        "z=====15\n",
        "z=====16\n",
        "z=====17\n",
        "z=====18\n",
        "z=====19"
       ]
      },
      {
       "output_type": "stream",
       "stream": "stdout",
       "text": [
        "\n",
        "z=====20\n",
        "z=====21\n",
        "z=====22\n",
        "z=====23\n",
        "z=====24\n",
        "z=====25"
       ]
      },
      {
       "output_type": "stream",
       "stream": "stdout",
       "text": [
        "\n",
        "z=====26\n",
        "z=====27\n",
        "z=====28\n",
        "z=====29\n",
        "z=====30"
       ]
      },
      {
       "output_type": "stream",
       "stream": "stdout",
       "text": [
        "\n",
        "z=====31\n",
        "z=====32\n",
        "z=====33\n",
        "z=====34\n",
        "z=====35\n",
        "z=====36"
       ]
      },
      {
       "output_type": "stream",
       "stream": "stdout",
       "text": [
        "\n",
        "z=====37\n",
        "z=====38\n",
        "z=====39\n",
        "z=====40\n",
        "z=====41"
       ]
      },
      {
       "output_type": "stream",
       "stream": "stdout",
       "text": [
        "\n",
        "z=====42\n",
        "z=====43\n",
        "z=====44\n",
        "z=====45\n",
        "z=====46\n",
        "z=====47\n",
        "z=====48"
       ]
      },
      {
       "output_type": "stream",
       "stream": "stdout",
       "text": [
        "\n",
        "z=====49\n",
        "z=====50\n",
        "z=====51\n",
        "z=====52"
       ]
      },
      {
       "output_type": "stream",
       "stream": "stdout",
       "text": [
        "\n",
        "z=====53\n",
        "z=====54\n",
        "z=====55\n",
        "z=====56\n",
        "z=====57\n",
        "z=====58\n",
        "z=====59"
       ]
      },
      {
       "output_type": "stream",
       "stream": "stdout",
       "text": [
        "\n",
        "z=====60\n",
        "z=====61\n",
        "z=====62"
       ]
      },
      {
       "output_type": "stream",
       "stream": "stdout",
       "text": [
        "\n",
        "z=====63\n",
        "z=====64\n",
        "z=====65\n",
        "z=====66\n",
        "z=====67\n",
        "z=====68"
       ]
      },
      {
       "output_type": "stream",
       "stream": "stdout",
       "text": [
        "\n",
        "z=====69\n",
        "z=====70\n",
        "z=====71\n",
        "z=====72\n",
        "z=====73"
       ]
      },
      {
       "output_type": "stream",
       "stream": "stdout",
       "text": [
        "\n",
        "z=====74\n",
        "z=====75\n",
        "z=====76\n",
        "z=====77\n",
        "z=====78\n",
        "z=====79\n",
        "z=====80"
       ]
      },
      {
       "output_type": "stream",
       "stream": "stdout",
       "text": [
        "\n",
        "z=====81\n",
        "z=====82\n",
        "z=====83\n",
        "z=====84"
       ]
      },
      {
       "output_type": "stream",
       "stream": "stdout",
       "text": [
        "\n",
        "z=====85\n",
        "z=====86\n",
        "z=====87\n",
        "z=====88\n",
        "z=====89\n",
        "z=====90"
       ]
      },
      {
       "output_type": "stream",
       "stream": "stdout",
       "text": [
        "\n",
        "z=====91\n",
        "z=====92\n",
        "z=====93\n",
        "z=====94\n",
        "z=====95"
       ]
      },
      {
       "output_type": "stream",
       "stream": "stdout",
       "text": [
        "\n",
        "z=====96\n",
        "z=====97\n",
        "z=====98\n",
        "z=====99\n",
        "z=====100\n",
        "z=====101\n",
        "82"
       ]
      },
      {
       "output_type": "stream",
       "stream": "stdout",
       "text": [
        "\n",
        "r==========83\n",
        "z=====1\n",
        "z=====2\n",
        "z=====3\n",
        "z=====4\n",
        "z=====5"
       ]
      },
      {
       "output_type": "stream",
       "stream": "stdout",
       "text": [
        "\n",
        "z=====6\n",
        "z=====7\n",
        "z=====8\n",
        "z=====9\n",
        "z=====10\n",
        "z=====11\n",
        "z=====12"
       ]
      },
      {
       "output_type": "stream",
       "stream": "stdout",
       "text": [
        "\n",
        "z=====13\n",
        "z=====14\n",
        "z=====15\n",
        "z=====16"
       ]
      },
      {
       "output_type": "stream",
       "stream": "stdout",
       "text": [
        "\n",
        "z=====17\n",
        "z=====18\n",
        "z=====19\n",
        "z=====20\n",
        "z=====21\n",
        "z=====22"
       ]
      },
      {
       "output_type": "stream",
       "stream": "stdout",
       "text": [
        "\n",
        "z=====23\n",
        "z=====24\n",
        "z=====25\n",
        "z=====26\n",
        "z=====27"
       ]
      },
      {
       "output_type": "stream",
       "stream": "stdout",
       "text": [
        "\n",
        "z=====28\n",
        "z=====29\n",
        "z=====30\n",
        "z=====31\n",
        "z=====32\n",
        "z=====33"
       ]
      },
      {
       "output_type": "stream",
       "stream": "stdout",
       "text": [
        "\n",
        "z=====34\n",
        "z=====35\n",
        "z=====36\n",
        "z=====37\n",
        "z=====38"
       ]
      },
      {
       "output_type": "stream",
       "stream": "stdout",
       "text": [
        "\n",
        "z=====39\n",
        "z=====40\n",
        "z=====41\n",
        "z=====42\n",
        "z=====43\n",
        "z=====44"
       ]
      },
      {
       "output_type": "stream",
       "stream": "stdout",
       "text": [
        "\n",
        "z=====45\n",
        "z=====46\n",
        "z=====47\n",
        "z=====48\n",
        "z=====49"
       ]
      },
      {
       "output_type": "stream",
       "stream": "stdout",
       "text": [
        "\n",
        "z=====50\n",
        "z=====51\n",
        "z=====52\n",
        "z=====53\n",
        "z=====54\n",
        "z=====55"
       ]
      },
      {
       "output_type": "stream",
       "stream": "stdout",
       "text": [
        "\n",
        "z=====56\n",
        "z=====57\n",
        "z=====58\n",
        "z=====59\n",
        "z=====60"
       ]
      },
      {
       "output_type": "stream",
       "stream": "stdout",
       "text": [
        "\n",
        "z=====61\n",
        "z=====62\n",
        "z=====63\n",
        "z=====64\n",
        "z=====65\n",
        "z=====66"
       ]
      },
      {
       "output_type": "stream",
       "stream": "stdout",
       "text": [
        "\n",
        "z=====67\n",
        "z=====68\n",
        "z=====69\n",
        "z=====70\n",
        "z=====71"
       ]
      },
      {
       "output_type": "stream",
       "stream": "stdout",
       "text": [
        "\n",
        "z=====72\n",
        "z=====73\n",
        "z=====74\n",
        "z=====75\n",
        "z=====76\n",
        "z=====77"
       ]
      },
      {
       "output_type": "stream",
       "stream": "stdout",
       "text": [
        "\n",
        "z=====78\n",
        "z=====79\n",
        "z=====80\n",
        "z=====81\n",
        "z=====82"
       ]
      },
      {
       "output_type": "stream",
       "stream": "stdout",
       "text": [
        "\n",
        "z=====83\n",
        "z=====84\n",
        "z=====85\n",
        "z=====86\n",
        "z=====87\n",
        "z=====88\n",
        "z=====89"
       ]
      },
      {
       "output_type": "stream",
       "stream": "stdout",
       "text": [
        "\n",
        "z=====90\n",
        "z=====91\n",
        "z=====92\n",
        "z=====93"
       ]
      },
      {
       "output_type": "stream",
       "stream": "stdout",
       "text": [
        "\n",
        "z=====94\n",
        "z=====95\n",
        "z=====96\n",
        "z=====97"
       ]
      },
      {
       "output_type": "stream",
       "stream": "stdout",
       "text": [
        "\n",
        "z=====98\n",
        "z=====99\n",
        "z=====100\n",
        "z=====101"
       ]
      },
      {
       "output_type": "stream",
       "stream": "stdout",
       "text": [
        "\n",
        "83\n",
        "r==========84\n",
        "z=====1\n",
        "z=====2\n",
        "z=====3"
       ]
      },
      {
       "output_type": "stream",
       "stream": "stdout",
       "text": [
        "\n",
        "z=====4\n",
        "z=====5\n",
        "z=====6\n",
        "z=====7"
       ]
      },
      {
       "output_type": "stream",
       "stream": "stdout",
       "text": [
        "\n",
        "z=====8\n",
        "z=====9\n",
        "z=====10\n",
        "z=====11"
       ]
      },
      {
       "output_type": "stream",
       "stream": "stdout",
       "text": [
        "\n",
        "z=====12\n",
        "z=====13\n",
        "z=====14"
       ]
      },
      {
       "output_type": "stream",
       "stream": "stdout",
       "text": [
        "\n",
        "z=====15\n",
        "z=====16\n",
        "z=====17\n",
        "z=====18\n",
        "z=====19\n",
        "z=====20\n",
        "z=====21"
       ]
      },
      {
       "output_type": "stream",
       "stream": "stdout",
       "text": [
        "\n",
        "z=====22\n",
        "z=====23\n",
        "z=====24\n",
        "z=====25"
       ]
      },
      {
       "output_type": "stream",
       "stream": "stdout",
       "text": [
        "\n",
        "z=====26\n",
        "z=====27\n",
        "z=====28\n",
        "z=====29\n",
        "z=====30\n",
        "z=====31\n",
        "z=====32"
       ]
      },
      {
       "output_type": "stream",
       "stream": "stdout",
       "text": [
        "\n",
        "z=====33\n",
        "z=====34\n",
        "z=====35\n",
        "z=====36"
       ]
      },
      {
       "output_type": "stream",
       "stream": "stdout",
       "text": [
        "\n",
        "z=====37\n",
        "z=====38\n",
        "z=====39\n",
        "z=====40\n",
        "z=====41\n",
        "z=====42"
       ]
      },
      {
       "output_type": "stream",
       "stream": "stdout",
       "text": [
        "\n",
        "z=====43\n",
        "z=====44\n",
        "z=====45\n",
        "z=====46\n",
        "z=====47"
       ]
      },
      {
       "output_type": "stream",
       "stream": "stdout",
       "text": [
        "\n",
        "z=====48\n",
        "z=====49\n",
        "z=====50\n",
        "z=====51\n",
        "z=====52\n",
        "z=====53"
       ]
      },
      {
       "output_type": "stream",
       "stream": "stdout",
       "text": [
        "\n",
        "z=====54\n",
        "z=====55\n",
        "z=====56\n",
        "z=====57\n",
        "z=====58"
       ]
      },
      {
       "output_type": "stream",
       "stream": "stdout",
       "text": [
        "\n",
        "z=====59\n",
        "z=====60\n",
        "z=====61\n",
        "z=====62\n",
        "z=====63\n",
        "z=====64\n",
        "z=====65"
       ]
      },
      {
       "output_type": "stream",
       "stream": "stdout",
       "text": [
        "\n",
        "z=====66\n",
        "z=====67\n",
        "z=====68\n",
        "z=====69"
       ]
      },
      {
       "output_type": "stream",
       "stream": "stdout",
       "text": [
        "\n",
        "z=====70\n",
        "z=====71\n",
        "z=====72\n",
        "z=====73\n",
        "z=====74\n",
        "z=====75\n",
        "z=====76"
       ]
      },
      {
       "output_type": "stream",
       "stream": "stdout",
       "text": [
        "\n",
        "z=====77\n",
        "z=====78\n",
        "z=====79\n",
        "z=====80"
       ]
      },
      {
       "output_type": "stream",
       "stream": "stdout",
       "text": [
        "\n",
        "z=====81\n",
        "z=====82\n",
        "z=====83\n",
        "z=====84\n",
        "z=====85\n",
        "z=====86"
       ]
      },
      {
       "output_type": "stream",
       "stream": "stdout",
       "text": [
        "\n",
        "z=====87\n",
        "z=====88\n",
        "z=====89\n",
        "z=====90\n",
        "z=====91"
       ]
      },
      {
       "output_type": "stream",
       "stream": "stdout",
       "text": [
        "\n",
        "z=====92\n",
        "z=====93\n",
        "z=====94\n",
        "z=====95\n",
        "z=====96\n",
        "z=====97\n",
        "z=====98"
       ]
      },
      {
       "output_type": "stream",
       "stream": "stdout",
       "text": [
        "\n",
        "z=====99\n",
        "z=====100\n",
        "z=====101\n",
        "84"
       ]
      },
      {
       "output_type": "stream",
       "stream": "stdout",
       "text": [
        "\n",
        "r==========85\n",
        "z=====1\n",
        "z=====2\n",
        "z=====3\n",
        "z=====4\n",
        "z=====5\n",
        "z=====6\n",
        "z=====7"
       ]
      },
      {
       "output_type": "stream",
       "stream": "stdout",
       "text": [
        "\n",
        "z=====8\n",
        "z=====9\n",
        "z=====10\n",
        "z=====11\n",
        "z=====12"
       ]
      },
      {
       "output_type": "stream",
       "stream": "stdout",
       "text": [
        "\n",
        "z=====13\n",
        "z=====14\n",
        "z=====15\n",
        "z=====16\n",
        "z=====17\n",
        "z=====18"
       ]
      },
      {
       "output_type": "stream",
       "stream": "stdout",
       "text": [
        "\n",
        "z=====19\n",
        "z=====20\n",
        "z=====21\n",
        "z=====22\n",
        "z=====23"
       ]
      },
      {
       "output_type": "stream",
       "stream": "stdout",
       "text": [
        "\n",
        "z=====24\n",
        "z=====25\n",
        "z=====26\n",
        "z=====27\n",
        "z=====28\n",
        "z=====29"
       ]
      },
      {
       "output_type": "stream",
       "stream": "stdout",
       "text": [
        "\n",
        "z=====30\n",
        "z=====31\n",
        "z=====32\n",
        "z=====33\n",
        "z=====34"
       ]
      },
      {
       "output_type": "stream",
       "stream": "stdout",
       "text": [
        "\n",
        "z=====35\n",
        "z=====36\n",
        "z=====37\n",
        "z=====38\n",
        "z=====39\n",
        "z=====40"
       ]
      },
      {
       "output_type": "stream",
       "stream": "stdout",
       "text": [
        "\n",
        "z=====41\n",
        "z=====42\n",
        "z=====43\n",
        "z=====44\n",
        "z=====45"
       ]
      },
      {
       "output_type": "stream",
       "stream": "stdout",
       "text": [
        "\n",
        "z=====46\n",
        "z=====47\n",
        "z=====48\n",
        "z=====49\n",
        "z=====50\n",
        "z=====51"
       ]
      },
      {
       "output_type": "stream",
       "stream": "stdout",
       "text": [
        "\n",
        "z=====52\n",
        "z=====53\n",
        "z=====54\n",
        "z=====55\n",
        "z=====56"
       ]
      },
      {
       "output_type": "stream",
       "stream": "stdout",
       "text": [
        "\n",
        "z=====57\n",
        "z=====58\n",
        "z=====59\n",
        "z=====60\n",
        "z=====61\n",
        "z=====62"
       ]
      },
      {
       "output_type": "stream",
       "stream": "stdout",
       "text": [
        "\n",
        "z=====63\n",
        "z=====64\n",
        "z=====65\n",
        "z=====66\n",
        "z=====67"
       ]
      },
      {
       "output_type": "stream",
       "stream": "stdout",
       "text": [
        "\n",
        "z=====68\n",
        "z=====69\n",
        "z=====70\n",
        "z=====71\n",
        "z=====72\n",
        "z=====73"
       ]
      },
      {
       "output_type": "stream",
       "stream": "stdout",
       "text": [
        "\n",
        "z=====74\n",
        "z=====75\n",
        "z=====76\n",
        "z=====77\n",
        "z=====78"
       ]
      },
      {
       "output_type": "stream",
       "stream": "stdout",
       "text": [
        "\n",
        "z=====79\n",
        "z=====80\n",
        "z=====81\n",
        "z=====82\n",
        "z=====83\n",
        "z=====84"
       ]
      },
      {
       "output_type": "stream",
       "stream": "stdout",
       "text": [
        "\n",
        "z=====85\n",
        "z=====86\n",
        "z=====87\n",
        "z=====88\n",
        "z=====89"
       ]
      },
      {
       "output_type": "stream",
       "stream": "stdout",
       "text": [
        "\n",
        "z=====90\n",
        "z=====91\n",
        "z=====92\n",
        "z=====93\n",
        "z=====94\n",
        "z=====95"
       ]
      },
      {
       "output_type": "stream",
       "stream": "stdout",
       "text": [
        "\n",
        "z=====96\n",
        "z=====97\n",
        "z=====98\n",
        "z=====99\n",
        "z=====100"
       ]
      },
      {
       "output_type": "stream",
       "stream": "stdout",
       "text": [
        "\n",
        "z=====101\n",
        "85\n",
        "r==========86\n",
        "z=====1\n",
        "z=====2\n",
        "z=====3\n",
        "z=====4\n",
        "z=====5"
       ]
      },
      {
       "output_type": "stream",
       "stream": "stdout",
       "text": [
        "\n",
        "z=====6\n",
        "z=====7\n",
        "z=====8\n",
        "z=====9\n",
        "z=====10"
       ]
      },
      {
       "output_type": "stream",
       "stream": "stdout",
       "text": [
        "\n",
        "z=====11\n",
        "z=====12\n",
        "z=====13\n",
        "z=====14\n",
        "z=====15\n",
        "z=====16\n",
        "z=====17"
       ]
      },
      {
       "output_type": "stream",
       "stream": "stdout",
       "text": [
        "\n",
        "z=====18\n",
        "z=====19\n",
        "z=====20\n",
        "z=====21"
       ]
      },
      {
       "output_type": "stream",
       "stream": "stdout",
       "text": [
        "\n",
        "z=====22\n",
        "z=====23\n",
        "z=====24\n",
        "z=====25\n",
        "z=====26\n",
        "z=====27"
       ]
      },
      {
       "output_type": "stream",
       "stream": "stdout",
       "text": [
        "\n",
        "z=====28\n",
        "z=====29\n",
        "z=====30\n",
        "z=====31\n",
        "z=====32"
       ]
      },
      {
       "output_type": "stream",
       "stream": "stdout",
       "text": [
        "\n",
        "z=====33\n",
        "z=====34\n",
        "z=====35\n",
        "z=====36\n",
        "z=====37\n",
        "z=====38"
       ]
      },
      {
       "output_type": "stream",
       "stream": "stdout",
       "text": [
        "\n",
        "z=====39\n",
        "z=====40\n",
        "z=====41\n",
        "z=====42\n",
        "z=====43"
       ]
      },
      {
       "output_type": "stream",
       "stream": "stdout",
       "text": [
        "\n",
        "z=====44\n",
        "z=====45\n",
        "z=====46\n",
        "z=====47\n",
        "z=====48\n",
        "z=====49\n",
        "z=====50"
       ]
      },
      {
       "output_type": "stream",
       "stream": "stdout",
       "text": [
        "\n",
        "z=====51\n",
        "z=====52\n",
        "z=====53\n",
        "z=====54"
       ]
      },
      {
       "output_type": "stream",
       "stream": "stdout",
       "text": [
        "\n",
        "z=====55\n",
        "z=====56\n",
        "z=====57\n",
        "z=====58\n",
        "z=====59\n",
        "z=====60"
       ]
      },
      {
       "output_type": "stream",
       "stream": "stdout",
       "text": [
        "\n",
        "z=====61\n",
        "z=====62\n",
        "z=====63\n",
        "z=====64\n",
        "z=====65"
       ]
      },
      {
       "output_type": "stream",
       "stream": "stdout",
       "text": [
        "\n",
        "z=====66\n",
        "z=====67\n",
        "z=====68\n",
        "z=====69\n",
        "z=====70\n",
        "z=====71"
       ]
      },
      {
       "output_type": "stream",
       "stream": "stdout",
       "text": [
        "\n",
        "z=====72\n",
        "z=====73\n",
        "z=====74\n",
        "z=====75"
       ]
      },
      {
       "output_type": "stream",
       "stream": "stdout",
       "text": [
        "\n",
        "z=====76\n",
        "z=====77\n",
        "z=====78\n",
        "z=====79\n",
        "z=====80\n",
        "z=====81\n",
        "z=====82"
       ]
      },
      {
       "output_type": "stream",
       "stream": "stdout",
       "text": [
        "\n",
        "z=====83\n",
        "z=====84\n",
        "z=====85\n",
        "z=====86"
       ]
      },
      {
       "output_type": "stream",
       "stream": "stdout",
       "text": [
        "\n",
        "z=====87\n",
        "z=====88\n",
        "z=====89\n",
        "z=====90\n",
        "z=====91\n",
        "z=====92"
       ]
      },
      {
       "output_type": "stream",
       "stream": "stdout",
       "text": [
        "\n",
        "z=====93\n",
        "z=====94\n",
        "z=====95\n",
        "z=====96\n",
        "z=====97"
       ]
      },
      {
       "output_type": "stream",
       "stream": "stdout",
       "text": [
        "\n",
        "z=====98\n",
        "z=====99\n",
        "z=====100\n",
        "z=====101\n",
        "86\n",
        "r==========87\n",
        "z=====1\n",
        "z=====2"
       ]
      },
      {
       "output_type": "stream",
       "stream": "stdout",
       "text": [
        "\n",
        "z=====3\n",
        "z=====4\n",
        "z=====5\n",
        "z=====6\n",
        "z=====7"
       ]
      },
      {
       "output_type": "stream",
       "stream": "stdout",
       "text": [
        "\n",
        "z=====8\n",
        "z=====9\n",
        "z=====10\n",
        "z=====11\n",
        "z=====12\n",
        "z=====13"
       ]
      },
      {
       "output_type": "stream",
       "stream": "stdout",
       "text": [
        "\n",
        "z=====14\n",
        "z=====15\n",
        "z=====16\n",
        "z=====17\n",
        "z=====18"
       ]
      },
      {
       "output_type": "stream",
       "stream": "stdout",
       "text": [
        "\n",
        "z=====19\n",
        "z=====20\n",
        "z=====21\n",
        "z=====22\n",
        "z=====23\n",
        "z=====24"
       ]
      },
      {
       "output_type": "stream",
       "stream": "stdout",
       "text": [
        "\n",
        "z=====25\n",
        "z=====26\n",
        "z=====27\n",
        "z=====28\n",
        "z=====29"
       ]
      },
      {
       "output_type": "stream",
       "stream": "stdout",
       "text": [
        "\n",
        "z=====30\n",
        "z=====31\n",
        "z=====32\n",
        "z=====33\n",
        "z=====34\n",
        "z=====35\n",
        "z=====36"
       ]
      },
      {
       "output_type": "stream",
       "stream": "stdout",
       "text": [
        "\n",
        "z=====37\n",
        "z=====38\n",
        "z=====39\n",
        "z=====40"
       ]
      },
      {
       "output_type": "stream",
       "stream": "stdout",
       "text": [
        "\n",
        "z=====41\n",
        "z=====42\n",
        "z=====43\n",
        "z=====44\n",
        "z=====45\n",
        "z=====46\n",
        "z=====47"
       ]
      },
      {
       "output_type": "stream",
       "stream": "stdout",
       "text": [
        "\n",
        "z=====48\n",
        "z=====49\n",
        "z=====50\n",
        "z=====51"
       ]
      },
      {
       "output_type": "stream",
       "stream": "stdout",
       "text": [
        "\n",
        "z=====52\n",
        "z=====53\n",
        "z=====54\n",
        "z=====55\n",
        "z=====56\n",
        "z=====57"
       ]
      },
      {
       "output_type": "stream",
       "stream": "stdout",
       "text": [
        "\n",
        "z=====58\n",
        "z=====59\n",
        "z=====60\n",
        "z=====61\n",
        "z=====62"
       ]
      },
      {
       "output_type": "stream",
       "stream": "stdout",
       "text": [
        "\n",
        "z=====63\n",
        "z=====64\n",
        "z=====65\n",
        "z=====66\n",
        "z=====67\n",
        "z=====68"
       ]
      },
      {
       "output_type": "stream",
       "stream": "stdout",
       "text": [
        "\n",
        "z=====69\n",
        "z=====70\n",
        "z=====71\n",
        "z=====72\n",
        "z=====73"
       ]
      },
      {
       "output_type": "stream",
       "stream": "stdout",
       "text": [
        "\n",
        "z=====74\n",
        "z=====75\n",
        "z=====76\n",
        "z=====77\n",
        "z=====78\n",
        "z=====79"
       ]
      },
      {
       "output_type": "stream",
       "stream": "stdout",
       "text": [
        "\n",
        "z=====80\n",
        "z=====81\n",
        "z=====82\n",
        "z=====83\n",
        "z=====84"
       ]
      },
      {
       "output_type": "stream",
       "stream": "stdout",
       "text": [
        "\n",
        "z=====85\n",
        "z=====86\n",
        "z=====87\n",
        "z=====88\n",
        "z=====89\n",
        "z=====90\n",
        "z=====91"
       ]
      },
      {
       "output_type": "stream",
       "stream": "stdout",
       "text": [
        "\n",
        "z=====92\n",
        "z=====93\n",
        "z=====94\n",
        "z=====95"
       ]
      },
      {
       "output_type": "stream",
       "stream": "stdout",
       "text": [
        "\n",
        "z=====96\n",
        "z=====97\n",
        "z=====98\n",
        "z=====99\n",
        "z=====100\n",
        "z=====101"
       ]
      },
      {
       "output_type": "stream",
       "stream": "stdout",
       "text": [
        "\n",
        "87\n",
        "r==========88\n",
        "z=====1\n",
        "z=====2\n",
        "z=====3\n",
        "z=====4"
       ]
      },
      {
       "output_type": "stream",
       "stream": "stdout",
       "text": [
        "\n",
        "z=====5\n",
        "z=====6"
       ]
      },
      {
       "output_type": "stream",
       "stream": "stdout",
       "text": [
        "\n",
        "z=====7\n",
        "z=====8\n",
        "z=====9\n",
        "z=====10"
       ]
      },
      {
       "output_type": "stream",
       "stream": "stdout",
       "text": [
        "\n",
        "z=====11\n",
        "z=====12\n",
        "z=====13\n",
        "z=====14"
       ]
      },
      {
       "output_type": "stream",
       "stream": "stdout",
       "text": [
        "\n",
        "z=====15\n",
        "z=====16"
       ]
      },
      {
       "output_type": "stream",
       "stream": "stdout",
       "text": [
        "\n",
        "z=====17\n",
        "z=====18\n",
        "z=====19\n",
        "z=====20"
       ]
      },
      {
       "output_type": "stream",
       "stream": "stdout",
       "text": [
        "\n",
        "z=====21\n",
        "z=====22\n",
        "z=====23\n",
        "z=====24\n",
        "z=====25\n",
        "z=====26"
       ]
      },
      {
       "output_type": "stream",
       "stream": "stdout",
       "text": [
        "\n",
        "z=====27\n",
        "z=====28\n",
        "z=====29\n",
        "z=====30"
       ]
      },
      {
       "output_type": "stream",
       "stream": "stdout",
       "text": [
        "\n",
        "z=====31\n",
        "z=====32\n",
        "z=====33\n",
        "z=====34\n",
        "z=====35\n",
        "z=====36\n",
        "z=====37"
       ]
      },
      {
       "output_type": "stream",
       "stream": "stdout",
       "text": [
        "\n",
        "z=====38\n",
        "z=====39\n",
        "z=====40\n",
        "z=====41"
       ]
      },
      {
       "output_type": "stream",
       "stream": "stdout",
       "text": [
        "\n",
        "z=====42\n",
        "z=====43\n",
        "z=====44\n",
        "z=====45\n",
        "z=====46\n",
        "z=====47\n",
        "z=====48"
       ]
      },
      {
       "output_type": "stream",
       "stream": "stdout",
       "text": [
        "\n",
        "z=====49\n",
        "z=====50\n",
        "z=====51"
       ]
      },
      {
       "output_type": "stream",
       "stream": "stdout",
       "text": [
        "\n",
        "z=====52\n",
        "z=====53\n",
        "z=====54\n",
        "z=====55\n",
        "z=====56\n",
        "z=====57"
       ]
      },
      {
       "output_type": "stream",
       "stream": "stdout",
       "text": [
        "\n",
        "z=====58\n",
        "z=====59\n",
        "z=====60\n",
        "z=====61"
       ]
      },
      {
       "output_type": "stream",
       "stream": "stdout",
       "text": [
        "\n",
        "z=====62\n",
        "z=====63\n",
        "z=====64\n",
        "z=====65\n",
        "z=====66\n",
        "z=====67"
       ]
      },
      {
       "output_type": "stream",
       "stream": "stdout",
       "text": [
        "\n",
        "z=====68\n",
        "z=====69\n",
        "z=====70\n",
        "z=====71"
       ]
      },
      {
       "output_type": "stream",
       "stream": "stdout",
       "text": [
        "\n",
        "z=====72\n",
        "z=====73\n",
        "z=====74\n",
        "z=====75\n",
        "z=====76\n",
        "z=====77\n",
        "z=====78"
       ]
      },
      {
       "output_type": "stream",
       "stream": "stdout",
       "text": [
        "\n",
        "z=====79\n",
        "z=====80\n",
        "z=====81\n",
        "z=====82"
       ]
      },
      {
       "output_type": "stream",
       "stream": "stdout",
       "text": [
        "\n",
        "z=====83\n",
        "z=====84\n",
        "z=====85\n",
        "z=====86\n",
        "z=====87\n",
        "z=====88"
       ]
      },
      {
       "output_type": "stream",
       "stream": "stdout",
       "text": [
        "\n",
        "z=====89\n",
        "z=====90\n",
        "z=====91\n",
        "z=====92\n",
        "z=====93"
       ]
      },
      {
       "output_type": "stream",
       "stream": "stdout",
       "text": [
        "\n",
        "z=====94\n",
        "z=====95\n",
        "z=====96\n",
        "z=====97\n",
        "z=====98\n",
        "z=====99"
       ]
      },
      {
       "output_type": "stream",
       "stream": "stdout",
       "text": [
        "\n",
        "z=====100\n",
        "z=====101\n",
        "88\n",
        "r==========89\n",
        "z=====1\n",
        "z=====2\n",
        "z=====3"
       ]
      },
      {
       "output_type": "stream",
       "stream": "stdout",
       "text": [
        "\n",
        "z=====4\n",
        "z=====5\n",
        "z=====6\n",
        "z=====7\n",
        "z=====8\n",
        "z=====9"
       ]
      },
      {
       "output_type": "stream",
       "stream": "stdout",
       "text": [
        "\n",
        "z=====10\n",
        "z=====11\n",
        "z=====12\n",
        "z=====13\n",
        "z=====14"
       ]
      },
      {
       "output_type": "stream",
       "stream": "stdout",
       "text": [
        "\n",
        "z=====15\n",
        "z=====16\n",
        "z=====17\n",
        "z=====18\n",
        "z=====19\n",
        "z=====20\n",
        "z=====21"
       ]
      },
      {
       "output_type": "stream",
       "stream": "stdout",
       "text": [
        "\n",
        "z=====22\n",
        "z=====23\n",
        "z=====24\n",
        "z=====25"
       ]
      },
      {
       "output_type": "stream",
       "stream": "stdout",
       "text": [
        "\n",
        "z=====26\n",
        "z=====27\n",
        "z=====28\n",
        "z=====29\n",
        "z=====30\n",
        "z=====31\n",
        "z=====32"
       ]
      },
      {
       "output_type": "stream",
       "stream": "stdout",
       "text": [
        "\n",
        "z=====33\n",
        "z=====34\n",
        "z=====35\n",
        "z=====36"
       ]
      },
      {
       "output_type": "stream",
       "stream": "stdout",
       "text": [
        "\n",
        "z=====37\n",
        "z=====38\n",
        "z=====39\n",
        "z=====40\n",
        "z=====41\n",
        "z=====42"
       ]
      },
      {
       "output_type": "stream",
       "stream": "stdout",
       "text": [
        "\n",
        "z=====43\n",
        "z=====44\n",
        "z=====45\n",
        "z=====46\n",
        "z=====47"
       ]
      },
      {
       "output_type": "stream",
       "stream": "stdout",
       "text": [
        "\n",
        "z=====48\n",
        "z=====49\n",
        "z=====50\n",
        "z=====51\n",
        "z=====52\n",
        "z=====53"
       ]
      },
      {
       "output_type": "stream",
       "stream": "stdout",
       "text": [
        "\n",
        "z=====54\n",
        "z=====55\n",
        "z=====56\n",
        "z=====57\n",
        "z=====58"
       ]
      },
      {
       "output_type": "stream",
       "stream": "stdout",
       "text": [
        "\n",
        "z=====59\n",
        "z=====60\n",
        "z=====61\n",
        "z=====62\n",
        "z=====63\n",
        "z=====64\n",
        "z=====65"
       ]
      },
      {
       "output_type": "stream",
       "stream": "stdout",
       "text": [
        "\n",
        "z=====66\n",
        "z=====67\n",
        "z=====68\n",
        "z=====69"
       ]
      },
      {
       "output_type": "stream",
       "stream": "stdout",
       "text": [
        "\n",
        "z=====70\n",
        "z=====71\n",
        "z=====72\n",
        "z=====73\n",
        "z=====74\n",
        "z=====75\n",
        "z=====76"
       ]
      },
      {
       "output_type": "stream",
       "stream": "stdout",
       "text": [
        "\n",
        "z=====77\n",
        "z=====78\n",
        "z=====79\n",
        "z=====80"
       ]
      },
      {
       "output_type": "stream",
       "stream": "stdout",
       "text": [
        "\n",
        "z=====81\n",
        "z=====82\n",
        "z=====83\n",
        "z=====84\n",
        "z=====85\n",
        "z=====86"
       ]
      },
      {
       "output_type": "stream",
       "stream": "stdout",
       "text": [
        "\n",
        "z=====87\n",
        "z=====88\n",
        "z=====89\n",
        "z=====90\n",
        "z=====91"
       ]
      },
      {
       "output_type": "stream",
       "stream": "stdout",
       "text": [
        "\n",
        "z=====92\n",
        "z=====93\n",
        "z=====94\n",
        "z=====95\n",
        "z=====96\n",
        "z=====97"
       ]
      },
      {
       "output_type": "stream",
       "stream": "stdout",
       "text": [
        "\n",
        "z=====98\n",
        "z=====99\n",
        "z=====100\n",
        "z=====101\n",
        "89"
       ]
      },
      {
       "output_type": "stream",
       "stream": "stdout",
       "text": [
        "\n",
        "r==========90\n",
        "z=====1\n",
        "z=====2\n",
        "z=====3\n",
        "z=====4\n",
        "z=====5\n",
        "z=====6\n",
        "z=====7"
       ]
      },
      {
       "output_type": "stream",
       "stream": "stdout",
       "text": [
        "\n",
        "z=====8\n",
        "z=====9\n",
        "z=====10\n",
        "z=====11\n",
        "z=====12"
       ]
      },
      {
       "output_type": "stream",
       "stream": "stdout",
       "text": [
        "\n",
        "z=====13\n",
        "z=====14\n",
        "z=====15\n",
        "z=====16\n",
        "z=====17\n",
        "z=====18"
       ]
      },
      {
       "output_type": "stream",
       "stream": "stdout",
       "text": [
        "\n",
        "z=====19\n",
        "z=====20\n",
        "z=====21\n",
        "z=====22\n",
        "z=====23"
       ]
      },
      {
       "output_type": "stream",
       "stream": "stdout",
       "text": [
        "\n",
        "z=====24\n",
        "z=====25\n",
        "z=====26\n",
        "z=====27\n",
        "z=====28\n",
        "z=====29\n",
        "z=====30"
       ]
      },
      {
       "output_type": "stream",
       "stream": "stdout",
       "text": [
        "\n",
        "z=====31\n",
        "z=====32\n",
        "z=====33\n",
        "z=====34"
       ]
      },
      {
       "output_type": "stream",
       "stream": "stdout",
       "text": [
        "\n",
        "z=====35\n",
        "z=====36\n",
        "z=====37\n",
        "z=====38\n",
        "z=====39\n",
        "z=====40\n",
        "z=====41"
       ]
      },
      {
       "output_type": "stream",
       "stream": "stdout",
       "text": [
        "\n",
        "z=====42\n",
        "z=====43\n",
        "z=====44\n",
        "z=====45"
       ]
      },
      {
       "output_type": "stream",
       "stream": "stdout",
       "text": [
        "\n",
        "z=====46\n",
        "z=====47\n",
        "z=====48\n",
        "z=====49\n",
        "z=====50\n",
        "z=====51"
       ]
      },
      {
       "output_type": "stream",
       "stream": "stdout",
       "text": [
        "\n",
        "z=====52\n",
        "z=====53\n",
        "z=====54\n",
        "z=====55\n",
        "z=====56"
       ]
      },
      {
       "output_type": "stream",
       "stream": "stdout",
       "text": [
        "\n",
        "z=====57\n",
        "z=====58\n",
        "z=====59\n",
        "z=====60\n",
        "z=====61\n",
        "z=====62\n",
        "z=====63"
       ]
      },
      {
       "output_type": "stream",
       "stream": "stdout",
       "text": [
        "\n",
        "z=====64\n",
        "z=====65\n",
        "z=====66\n",
        "z=====67"
       ]
      },
      {
       "output_type": "stream",
       "stream": "stdout",
       "text": [
        "\n",
        "z=====68\n",
        "z=====69\n",
        "z=====70\n",
        "z=====71\n",
        "z=====72\n",
        "z=====73"
       ]
      },
      {
       "output_type": "stream",
       "stream": "stdout",
       "text": [
        "\n",
        "z=====74\n",
        "z=====75\n",
        "z=====76\n",
        "z=====77\n",
        "z=====78"
       ]
      },
      {
       "output_type": "stream",
       "stream": "stdout",
       "text": [
        "\n",
        "z=====79\n",
        "z=====80\n",
        "z=====81\n",
        "z=====82\n",
        "z=====83\n",
        "z=====84"
       ]
      },
      {
       "output_type": "stream",
       "stream": "stdout",
       "text": [
        "\n",
        "z=====85\n",
        "z=====86\n",
        "z=====87\n",
        "z=====88"
       ]
      },
      {
       "output_type": "stream",
       "stream": "stdout",
       "text": [
        "\n",
        "z=====89\n",
        "z=====90\n",
        "z=====91\n",
        "z=====92\n",
        "z=====93\n",
        "z=====94"
       ]
      },
      {
       "output_type": "stream",
       "stream": "stdout",
       "text": [
        "\n",
        "z=====95\n",
        "z=====96\n",
        "z=====97\n",
        "z=====98\n",
        "z=====99"
       ]
      },
      {
       "output_type": "stream",
       "stream": "stdout",
       "text": [
        "\n",
        "z=====100\n",
        "z=====101\n",
        "90\n",
        "r==========91\n",
        "z=====1\n",
        "z=====2\n",
        "z=====3\n",
        "z=====4\n",
        "z=====5"
       ]
      },
      {
       "output_type": "stream",
       "stream": "stdout",
       "text": [
        "\n",
        "z=====6\n",
        "z=====7\n",
        "z=====8\n",
        "z=====9"
       ]
      },
      {
       "output_type": "stream",
       "stream": "stdout",
       "text": [
        "\n",
        "z=====10\n",
        "z=====11\n",
        "z=====12\n",
        "z=====13\n",
        "z=====14\n",
        "z=====15\n",
        "z=====16"
       ]
      },
      {
       "output_type": "stream",
       "stream": "stdout",
       "text": [
        "\n",
        "z=====17\n",
        "z=====18\n",
        "z=====19\n",
        "z=====20"
       ]
      },
      {
       "output_type": "stream",
       "stream": "stdout",
       "text": [
        "\n",
        "z=====21\n",
        "z=====22\n",
        "z=====23\n",
        "z=====24\n",
        "z=====25\n",
        "z=====26"
       ]
      },
      {
       "output_type": "stream",
       "stream": "stdout",
       "text": [
        "\n",
        "z=====27\n",
        "z=====28\n",
        "z=====29\n",
        "z=====30\n",
        "z=====31"
       ]
      },
      {
       "output_type": "stream",
       "stream": "stdout",
       "text": [
        "\n",
        "z=====32\n",
        "z=====33\n",
        "z=====34\n",
        "z=====35\n",
        "z=====36\n",
        "z=====37"
       ]
      },
      {
       "output_type": "stream",
       "stream": "stdout",
       "text": [
        "\n",
        "z=====38\n",
        "z=====39\n",
        "z=====40\n",
        "z=====41\n",
        "z=====42"
       ]
      },
      {
       "output_type": "stream",
       "stream": "stdout",
       "text": [
        "\n",
        "z=====43\n",
        "z=====44\n",
        "z=====45\n",
        "z=====46\n",
        "z=====47\n",
        "z=====48\n",
        "z=====49"
       ]
      },
      {
       "output_type": "stream",
       "stream": "stdout",
       "text": [
        "\n",
        "z=====50\n",
        "z=====51\n",
        "z=====52\n",
        "z=====53"
       ]
      },
      {
       "output_type": "stream",
       "stream": "stdout",
       "text": [
        "\n",
        "z=====54\n",
        "z=====55\n",
        "z=====56\n",
        "z=====57\n",
        "z=====58\n",
        "z=====59\n",
        "z=====60"
       ]
      },
      {
       "output_type": "stream",
       "stream": "stdout",
       "text": [
        "\n",
        "z=====61\n",
        "z=====62\n",
        "z=====63\n",
        "z=====64"
       ]
      },
      {
       "output_type": "stream",
       "stream": "stdout",
       "text": [
        "\n",
        "z=====65\n",
        "z=====66\n",
        "z=====67\n",
        "z=====68\n",
        "z=====69"
       ]
      },
      {
       "output_type": "stream",
       "stream": "stdout",
       "text": [
        "\n",
        "z=====70\n",
        "z=====71\n",
        "z=====72\n",
        "z=====73\n",
        "z=====74\n",
        "z=====75"
       ]
      },
      {
       "output_type": "stream",
       "stream": "stdout",
       "text": [
        "\n",
        "z=====76\n",
        "z=====77\n",
        "z=====78\n",
        "z=====79\n",
        "z=====80\n",
        "z=====81"
       ]
      },
      {
       "output_type": "stream",
       "stream": "stdout",
       "text": [
        "\n",
        "z=====82\n",
        "z=====83\n",
        "z=====84\n",
        "z=====85\n",
        "z=====86"
       ]
      },
      {
       "output_type": "stream",
       "stream": "stdout",
       "text": [
        "\n",
        "z=====87\n",
        "z=====88\n",
        "z=====89\n",
        "z=====90\n",
        "z=====91\n",
        "z=====92"
       ]
      },
      {
       "output_type": "stream",
       "stream": "stdout",
       "text": [
        "\n",
        "z=====93\n",
        "z=====94\n",
        "z=====95\n",
        "z=====96\n",
        "z=====97"
       ]
      },
      {
       "output_type": "stream",
       "stream": "stdout",
       "text": [
        "\n",
        "z=====98\n",
        "z=====99\n",
        "z=====100\n",
        "z=====101\n",
        "91\n",
        "r==========92\n",
        "z=====1\n",
        "z=====2"
       ]
      },
      {
       "output_type": "stream",
       "stream": "stdout",
       "text": [
        "\n",
        "z=====3\n",
        "z=====4\n",
        "z=====5\n",
        "z=====6\n",
        "z=====7"
       ]
      },
      {
       "output_type": "stream",
       "stream": "stdout",
       "text": [
        "\n",
        "z=====8\n",
        "z=====9\n",
        "z=====10\n",
        "z=====11\n",
        "z=====12\n",
        "z=====13"
       ]
      },
      {
       "output_type": "stream",
       "stream": "stdout",
       "text": [
        "\n",
        "z=====14\n",
        "z=====15\n",
        "z=====16\n",
        "z=====17\n",
        "z=====18"
       ]
      },
      {
       "output_type": "stream",
       "stream": "stdout",
       "text": [
        "\n",
        "z=====19\n",
        "z=====20\n",
        "z=====21\n",
        "z=====22\n",
        "z=====23\n",
        "z=====24"
       ]
      },
      {
       "output_type": "stream",
       "stream": "stdout",
       "text": [
        "\n",
        "z=====25\n",
        "z=====26\n",
        "z=====27\n",
        "z=====28\n",
        "z=====29"
       ]
      },
      {
       "output_type": "stream",
       "stream": "stdout",
       "text": [
        "\n",
        "z=====30\n",
        "z=====31\n",
        "z=====32\n",
        "z=====33\n",
        "z=====34\n",
        "z=====35\n",
        "z=====36"
       ]
      },
      {
       "output_type": "stream",
       "stream": "stdout",
       "text": [
        "\n",
        "z=====37\n",
        "z=====38\n",
        "z=====39\n",
        "z=====40"
       ]
      },
      {
       "output_type": "stream",
       "stream": "stdout",
       "text": [
        "\n",
        "z=====41\n",
        "z=====42\n",
        "z=====43\n",
        "z=====44\n",
        "z=====45\n",
        "z=====46"
       ]
      },
      {
       "output_type": "stream",
       "stream": "stdout",
       "text": [
        "\n",
        "z=====47\n",
        "z=====48\n",
        "z=====49\n",
        "z=====50\n",
        "z=====51"
       ]
      },
      {
       "output_type": "stream",
       "stream": "stdout",
       "text": [
        "\n",
        "z=====52\n",
        "z=====53\n",
        "z=====54\n",
        "z=====55\n",
        "z=====56\n",
        "z=====57"
       ]
      },
      {
       "output_type": "stream",
       "stream": "stdout",
       "text": [
        "\n",
        "z=====58\n",
        "z=====59\n",
        "z=====60\n",
        "z=====61\n",
        "z=====62"
       ]
      },
      {
       "output_type": "stream",
       "stream": "stdout",
       "text": [
        "\n",
        "z=====63\n",
        "z=====64\n",
        "z=====65\n",
        "z=====66\n",
        "z=====67\n",
        "z=====68"
       ]
      },
      {
       "output_type": "stream",
       "stream": "stdout",
       "text": [
        "\n",
        "z=====69\n",
        "z=====70\n",
        "z=====71\n",
        "z=====72\n",
        "z=====73"
       ]
      },
      {
       "output_type": "stream",
       "stream": "stdout",
       "text": [
        "\n",
        "z=====74\n",
        "z=====75\n",
        "z=====76\n",
        "z=====77\n",
        "z=====78\n",
        "z=====79"
       ]
      },
      {
       "output_type": "stream",
       "stream": "stdout",
       "text": [
        "\n",
        "z=====80\n",
        "z=====81\n",
        "z=====82\n",
        "z=====83\n",
        "z=====84"
       ]
      },
      {
       "output_type": "stream",
       "stream": "stdout",
       "text": [
        "\n",
        "z=====85\n",
        "z=====86\n",
        "z=====87\n",
        "z=====88"
       ]
      },
      {
       "output_type": "stream",
       "stream": "stdout",
       "text": [
        "\n",
        "z=====89\n",
        "z=====90\n",
        "z=====91\n",
        "z=====92"
       ]
      },
      {
       "output_type": "stream",
       "stream": "stdout",
       "text": [
        "\n",
        "z=====93\n",
        "z=====94\n",
        "z=====95"
       ]
      },
      {
       "output_type": "stream",
       "stream": "stdout",
       "text": [
        "\n",
        "z=====96\n",
        "z=====97\n",
        "z=====98\n",
        "z=====99"
       ]
      },
      {
       "output_type": "stream",
       "stream": "stdout",
       "text": [
        "\n",
        "z=====100\n",
        "z=====101\n",
        "92\n",
        "r==========93\n",
        "z=====1\n",
        "z=====2"
       ]
      },
      {
       "output_type": "stream",
       "stream": "stdout",
       "text": [
        "\n",
        "z=====3\n",
        "z=====4\n",
        "z=====5"
       ]
      },
      {
       "output_type": "stream",
       "stream": "stdout",
       "text": [
        "\n",
        "z=====6\n",
        "z=====7\n",
        "z=====8\n",
        "z=====9"
       ]
      },
      {
       "output_type": "stream",
       "stream": "stdout",
       "text": [
        "\n",
        "z=====10\n",
        "z=====11\n",
        "z=====12\n",
        "z=====13"
       ]
      },
      {
       "output_type": "stream",
       "stream": "stdout",
       "text": [
        "\n",
        "z=====14\n",
        "z=====15\n",
        "z=====16"
       ]
      },
      {
       "output_type": "stream",
       "stream": "stdout",
       "text": [
        "\n",
        "z=====17\n",
        "z=====18\n",
        "z=====19\n",
        "z=====20"
       ]
      },
      {
       "output_type": "stream",
       "stream": "stdout",
       "text": [
        "\n",
        "z=====21\n",
        "z=====22\n",
        "z=====23\n",
        "z=====24"
       ]
      },
      {
       "output_type": "stream",
       "stream": "stdout",
       "text": [
        "\n",
        "z=====25\n",
        "z=====26\n",
        "z=====27"
       ]
      },
      {
       "output_type": "stream",
       "stream": "stdout",
       "text": [
        "\n",
        "z=====28\n",
        "z=====29\n",
        "z=====30\n",
        "z=====31"
       ]
      },
      {
       "output_type": "stream",
       "stream": "stdout",
       "text": [
        "\n",
        "z=====32\n",
        "z=====33\n",
        "z=====34\n",
        "z=====35"
       ]
      },
      {
       "output_type": "stream",
       "stream": "stdout",
       "text": [
        "\n",
        "z=====36\n",
        "z=====37\n",
        "z=====38"
       ]
      },
      {
       "output_type": "stream",
       "stream": "stdout",
       "text": [
        "\n",
        "z=====39\n",
        "z=====40\n",
        "z=====41\n",
        "z=====42"
       ]
      },
      {
       "output_type": "stream",
       "stream": "stdout",
       "text": [
        "\n",
        "z=====43\n",
        "z=====44\n",
        "z=====45\n",
        "z=====46"
       ]
      },
      {
       "output_type": "stream",
       "stream": "stdout",
       "text": [
        "\n",
        "z=====47\n",
        "z=====48\n",
        "z=====49"
       ]
      },
      {
       "output_type": "stream",
       "stream": "stdout",
       "text": [
        "\n",
        "z=====50\n",
        "z=====51\n",
        "z=====52\n",
        "z=====53"
       ]
      },
      {
       "output_type": "stream",
       "stream": "stdout",
       "text": [
        "\n",
        "z=====54\n",
        "z=====55\n",
        "z=====56\n",
        "z=====57"
       ]
      },
      {
       "output_type": "stream",
       "stream": "stdout",
       "text": [
        "\n",
        "z=====58\n",
        "z=====59\n",
        "z=====60"
       ]
      },
      {
       "output_type": "stream",
       "stream": "stdout",
       "text": [
        "\n",
        "z=====61\n",
        "z=====62\n",
        "z=====63\n",
        "z=====64"
       ]
      },
      {
       "output_type": "stream",
       "stream": "stdout",
       "text": [
        "\n",
        "z=====65\n",
        "z=====66\n",
        "z=====67\n",
        "z=====68"
       ]
      },
      {
       "output_type": "stream",
       "stream": "stdout",
       "text": [
        "\n",
        "z=====69\n",
        "z=====70\n",
        "z=====71"
       ]
      },
      {
       "output_type": "stream",
       "stream": "stdout",
       "text": [
        "\n",
        "z=====72\n",
        "z=====73\n",
        "z=====74\n",
        "z=====75"
       ]
      },
      {
       "output_type": "stream",
       "stream": "stdout",
       "text": [
        "\n",
        "z=====76\n",
        "z=====77\n",
        "z=====78\n",
        "z=====79"
       ]
      },
      {
       "output_type": "stream",
       "stream": "stdout",
       "text": [
        "\n",
        "z=====80\n",
        "z=====81\n",
        "z=====82"
       ]
      },
      {
       "output_type": "stream",
       "stream": "stdout",
       "text": [
        "\n",
        "z=====83\n",
        "z=====84\n",
        "z=====85\n",
        "z=====86"
       ]
      },
      {
       "output_type": "stream",
       "stream": "stdout",
       "text": [
        "\n",
        "z=====87\n",
        "z=====88\n",
        "z=====89\n",
        "z=====90"
       ]
      },
      {
       "output_type": "stream",
       "stream": "stdout",
       "text": [
        "\n",
        "z=====91\n",
        "z=====92\n",
        "z=====93"
       ]
      },
      {
       "output_type": "stream",
       "stream": "stdout",
       "text": [
        "\n",
        "z=====94\n",
        "z=====95\n",
        "z=====96\n",
        "z=====97"
       ]
      },
      {
       "output_type": "stream",
       "stream": "stdout",
       "text": [
        "\n",
        "z=====98\n",
        "z=====99\n",
        "z=====100\n",
        "z=====101"
       ]
      },
      {
       "output_type": "stream",
       "stream": "stdout",
       "text": [
        "\n",
        "93\n",
        "r==========94\n",
        "z=====1\n",
        "z=====2\n",
        "z=====3"
       ]
      },
      {
       "output_type": "stream",
       "stream": "stdout",
       "text": [
        "\n",
        "z=====4\n",
        "z=====5\n",
        "z=====6\n",
        "z=====7"
       ]
      },
      {
       "output_type": "stream",
       "stream": "stdout",
       "text": [
        "\n",
        "z=====8\n",
        "z=====9\n",
        "z=====10\n",
        "z=====11"
       ]
      },
      {
       "output_type": "stream",
       "stream": "stdout",
       "text": [
        "\n",
        "z=====12\n",
        "z=====13\n",
        "z=====14"
       ]
      },
      {
       "output_type": "stream",
       "stream": "stdout",
       "text": [
        "\n",
        "z=====15\n",
        "z=====16\n",
        "z=====17\n",
        "z=====18"
       ]
      },
      {
       "output_type": "stream",
       "stream": "stdout",
       "text": [
        "\n",
        "z=====19\n",
        "z=====20\n",
        "z=====21\n",
        "z=====22"
       ]
      },
      {
       "output_type": "stream",
       "stream": "stdout",
       "text": [
        "\n",
        "z=====23\n",
        "z=====24\n",
        "z=====25"
       ]
      },
      {
       "output_type": "stream",
       "stream": "stdout",
       "text": [
        "\n",
        "z=====26\n",
        "z=====27\n",
        "z=====28\n",
        "z=====29"
       ]
      },
      {
       "output_type": "stream",
       "stream": "stdout",
       "text": [
        "\n",
        "z=====30\n",
        "z=====31\n",
        "z=====32\n",
        "z=====33"
       ]
      },
      {
       "output_type": "stream",
       "stream": "stdout",
       "text": [
        "\n",
        "z=====34\n",
        "z=====35\n",
        "z=====36"
       ]
      },
      {
       "output_type": "stream",
       "stream": "stdout",
       "text": [
        "\n",
        "z=====37\n",
        "z=====38\n",
        "z=====39\n",
        "z=====40"
       ]
      },
      {
       "output_type": "stream",
       "stream": "stdout",
       "text": [
        "\n",
        "z=====41\n",
        "z=====42\n",
        "z=====43\n",
        "z=====44"
       ]
      },
      {
       "output_type": "stream",
       "stream": "stdout",
       "text": [
        "\n",
        "z=====45\n",
        "z=====46\n",
        "z=====47"
       ]
      },
      {
       "output_type": "stream",
       "stream": "stdout",
       "text": [
        "\n",
        "z=====48\n",
        "z=====49\n",
        "z=====50\n",
        "z=====51"
       ]
      },
      {
       "output_type": "stream",
       "stream": "stdout",
       "text": [
        "\n",
        "z=====52\n",
        "z=====53\n",
        "z=====54\n",
        "z=====55"
       ]
      },
      {
       "output_type": "stream",
       "stream": "stdout",
       "text": [
        "\n",
        "z=====56\n",
        "z=====57\n",
        "z=====58"
       ]
      },
      {
       "output_type": "stream",
       "stream": "stdout",
       "text": [
        "\n",
        "z=====59\n",
        "z=====60\n",
        "z=====61\n",
        "z=====62"
       ]
      },
      {
       "output_type": "stream",
       "stream": "stdout",
       "text": [
        "\n",
        "z=====63\n",
        "z=====64\n",
        "z=====65\n",
        "z=====66"
       ]
      },
      {
       "output_type": "stream",
       "stream": "stdout",
       "text": [
        "\n",
        "z=====67\n",
        "z=====68\n",
        "z=====69"
       ]
      },
      {
       "output_type": "stream",
       "stream": "stdout",
       "text": [
        "\n",
        "z=====70\n",
        "z=====71\n",
        "z=====72\n",
        "z=====73"
       ]
      },
      {
       "output_type": "stream",
       "stream": "stdout",
       "text": [
        "\n",
        "z=====74\n",
        "z=====75\n",
        "z=====76\n",
        "z=====77"
       ]
      },
      {
       "output_type": "stream",
       "stream": "stdout",
       "text": [
        "\n",
        "z=====78\n",
        "z=====79"
       ]
      },
      {
       "output_type": "stream",
       "stream": "stdout",
       "text": [
        "\n",
        "z=====80\n",
        "z=====81\n",
        "z=====82\n",
        "z=====83"
       ]
      },
      {
       "output_type": "stream",
       "stream": "stdout",
       "text": [
        "\n",
        "z=====84\n",
        "z=====85\n",
        "z=====86\n",
        "z=====87"
       ]
      },
      {
       "output_type": "stream",
       "stream": "stdout",
       "text": [
        "\n",
        "z=====88\n",
        "z=====89\n",
        "z=====90"
       ]
      },
      {
       "output_type": "stream",
       "stream": "stdout",
       "text": [
        "\n",
        "z=====91\n",
        "z=====92\n",
        "z=====93\n",
        "z=====94"
       ]
      },
      {
       "output_type": "stream",
       "stream": "stdout",
       "text": [
        "\n",
        "z=====95\n",
        "z=====96\n",
        "z=====97\n",
        "z=====98"
       ]
      },
      {
       "output_type": "stream",
       "stream": "stdout",
       "text": [
        "\n",
        "z=====99\n",
        "z=====100\n",
        "z=====101"
       ]
      },
      {
       "output_type": "stream",
       "stream": "stdout",
       "text": [
        "\n",
        "94\n",
        "r==========95\n",
        "z=====1\n",
        "z=====2\n",
        "z=====3\n",
        "z=====4"
       ]
      },
      {
       "output_type": "stream",
       "stream": "stdout",
       "text": [
        "\n",
        "z=====5\n",
        "z=====6\n",
        "z=====7\n",
        "z=====8"
       ]
      },
      {
       "output_type": "stream",
       "stream": "stdout",
       "text": [
        "\n",
        "z=====9\n",
        "z=====10\n",
        "z=====11"
       ]
      },
      {
       "output_type": "stream",
       "stream": "stdout",
       "text": [
        "\n",
        "z=====12\n",
        "z=====13\n",
        "z=====14\n",
        "z=====15"
       ]
      },
      {
       "output_type": "stream",
       "stream": "stdout",
       "text": [
        "\n",
        "z=====16\n",
        "z=====17\n",
        "z=====18\n",
        "z=====19"
       ]
      },
      {
       "output_type": "stream",
       "stream": "stdout",
       "text": [
        "\n",
        "z=====20\n",
        "z=====21\n",
        "z=====22"
       ]
      },
      {
       "output_type": "stream",
       "stream": "stdout",
       "text": [
        "\n",
        "z=====23\n",
        "z=====24\n",
        "z=====25\n",
        "z=====26"
       ]
      },
      {
       "output_type": "stream",
       "stream": "stdout",
       "text": [
        "\n",
        "z=====27\n",
        "z=====28\n",
        "z=====29\n",
        "z=====30"
       ]
      },
      {
       "output_type": "stream",
       "stream": "stdout",
       "text": [
        "\n",
        "z=====31\n",
        "z=====32\n",
        "z=====33"
       ]
      },
      {
       "output_type": "stream",
       "stream": "stdout",
       "text": [
        "\n",
        "z=====34\n",
        "z=====35\n",
        "z=====36\n",
        "z=====37"
       ]
      },
      {
       "output_type": "stream",
       "stream": "stdout",
       "text": [
        "\n",
        "z=====38\n",
        "z=====39\n",
        "z=====40\n",
        "z=====41"
       ]
      },
      {
       "output_type": "stream",
       "stream": "stdout",
       "text": [
        "\n",
        "z=====42\n",
        "z=====43\n",
        "z=====44"
       ]
      },
      {
       "output_type": "stream",
       "stream": "stdout",
       "text": [
        "\n",
        "z=====45\n",
        "z=====46\n",
        "z=====47\n",
        "z=====48"
       ]
      },
      {
       "output_type": "stream",
       "stream": "stdout",
       "text": [
        "\n",
        "z=====49\n",
        "z=====50\n",
        "z=====51\n",
        "z=====52"
       ]
      },
      {
       "output_type": "stream",
       "stream": "stdout",
       "text": [
        "\n",
        "z=====53\n",
        "z=====54\n",
        "z=====55"
       ]
      },
      {
       "output_type": "stream",
       "stream": "stdout",
       "text": [
        "\n",
        "z=====56\n",
        "z=====57\n",
        "z=====58\n",
        "z=====59\n",
        "z=====60"
       ]
      },
      {
       "output_type": "stream",
       "stream": "stdout",
       "text": [
        "\n",
        "z=====61\n",
        "z=====62\n",
        "z=====63\n",
        "z=====64\n",
        "z=====65\n",
        "z=====66"
       ]
      },
      {
       "output_type": "stream",
       "stream": "stdout",
       "text": [
        "\n",
        "z=====67\n",
        "z=====68\n",
        "z=====69\n",
        "z=====70\n",
        "z=====71\n",
        "z=====72"
       ]
      },
      {
       "output_type": "stream",
       "stream": "stdout",
       "text": [
        "\n",
        "z=====73\n",
        "z=====74\n",
        "z=====75\n",
        "z=====76\n",
        "z=====77"
       ]
      },
      {
       "output_type": "stream",
       "stream": "stdout",
       "text": [
        "\n",
        "z=====78\n",
        "z=====79\n",
        "z=====80\n",
        "z=====81\n",
        "z=====82\n",
        "z=====83"
       ]
      },
      {
       "output_type": "stream",
       "stream": "stdout",
       "text": [
        "\n",
        "z=====84\n",
        "z=====85\n",
        "z=====86\n",
        "z=====87\n",
        "z=====88"
       ]
      },
      {
       "output_type": "stream",
       "stream": "stdout",
       "text": [
        "\n",
        "z=====89\n",
        "z=====90\n",
        "z=====91\n",
        "z=====92\n",
        "z=====93\n",
        "z=====94"
       ]
      },
      {
       "output_type": "stream",
       "stream": "stdout",
       "text": [
        "\n",
        "z=====95\n",
        "z=====96\n",
        "z=====97\n",
        "z=====98\n",
        "z=====99"
       ]
      },
      {
       "output_type": "stream",
       "stream": "stdout",
       "text": [
        "\n",
        "z=====100\n",
        "z=====101\n",
        "95\n",
        "r==========96\n",
        "z=====1\n",
        "z=====2\n",
        "z=====3\n",
        "z=====4"
       ]
      },
      {
       "output_type": "stream",
       "stream": "stdout",
       "text": [
        "\n",
        "z=====5\n",
        "z=====6\n",
        "z=====7\n",
        "z=====8\n",
        "z=====9"
       ]
      },
      {
       "output_type": "stream",
       "stream": "stdout",
       "text": [
        "\n",
        "z=====10\n",
        "z=====11\n",
        "z=====12\n",
        "z=====13\n",
        "z=====14\n",
        "z=====15"
       ]
      },
      {
       "output_type": "stream",
       "stream": "stdout",
       "text": [
        "\n",
        "z=====16\n",
        "z=====17\n",
        "z=====18\n",
        "z=====19\n",
        "z=====20"
       ]
      },
      {
       "output_type": "stream",
       "stream": "stdout",
       "text": [
        "\n",
        "z=====21\n",
        "z=====22\n",
        "z=====23\n",
        "z=====24\n",
        "z=====25\n",
        "z=====26\n",
        "z=====27"
       ]
      },
      {
       "output_type": "stream",
       "stream": "stdout",
       "text": [
        "\n",
        "z=====28\n",
        "z=====29\n",
        "z=====30\n",
        "z=====31"
       ]
      },
      {
       "output_type": "stream",
       "stream": "stdout",
       "text": [
        "\n",
        "z=====32\n",
        "z=====33\n",
        "z=====34\n",
        "z=====35\n",
        "z=====36\n",
        "z=====37"
       ]
      },
      {
       "output_type": "stream",
       "stream": "stdout",
       "text": [
        "\n",
        "z=====38\n",
        "z=====39\n",
        "z=====40\n",
        "z=====41\n",
        "z=====42"
       ]
      },
      {
       "output_type": "stream",
       "stream": "stdout",
       "text": [
        "\n",
        "z=====43\n",
        "z=====44\n",
        "z=====45\n",
        "z=====46\n",
        "z=====47\n",
        "z=====48"
       ]
      },
      {
       "output_type": "stream",
       "stream": "stdout",
       "text": [
        "\n",
        "z=====49\n",
        "z=====50\n",
        "z=====51\n",
        "z=====52\n",
        "z=====53"
       ]
      },
      {
       "output_type": "stream",
       "stream": "stdout",
       "text": [
        "\n",
        "z=====54\n",
        "z=====55\n",
        "z=====56\n",
        "z=====57\n",
        "z=====58\n",
        "z=====59"
       ]
      },
      {
       "output_type": "stream",
       "stream": "stdout",
       "text": [
        "\n",
        "z=====60\n",
        "z=====61\n",
        "z=====62\n",
        "z=====63\n",
        "z=====64"
       ]
      },
      {
       "output_type": "stream",
       "stream": "stdout",
       "text": [
        "\n",
        "z=====65\n",
        "z=====66\n",
        "z=====67\n",
        "z=====68\n",
        "z=====69\n",
        "z=====70\n",
        "z=====71"
       ]
      },
      {
       "output_type": "stream",
       "stream": "stdout",
       "text": [
        "\n",
        "z=====72\n",
        "z=====73\n",
        "z=====74\n",
        "z=====75"
       ]
      },
      {
       "output_type": "stream",
       "stream": "stdout",
       "text": [
        "\n",
        "z=====76\n",
        "z=====77\n",
        "z=====78\n",
        "z=====79\n",
        "z=====80\n",
        "z=====81"
       ]
      },
      {
       "output_type": "stream",
       "stream": "stdout",
       "text": [
        "\n",
        "z=====82\n",
        "z=====83\n",
        "z=====84\n",
        "z=====85\n",
        "z=====86"
       ]
      },
      {
       "output_type": "stream",
       "stream": "stdout",
       "text": [
        "\n",
        "z=====87\n",
        "z=====88\n",
        "z=====89\n",
        "z=====90\n",
        "z=====91\n",
        "z=====92\n",
        "z=====93"
       ]
      },
      {
       "output_type": "stream",
       "stream": "stdout",
       "text": [
        "\n",
        "z=====94\n",
        "z=====95\n",
        "z=====96\n",
        "z=====97"
       ]
      },
      {
       "output_type": "stream",
       "stream": "stdout",
       "text": [
        "\n",
        "z=====98\n",
        "z=====99\n",
        "z=====100\n",
        "z=====101\n",
        "96\n",
        "r==========97\n",
        "z=====1\n",
        "z=====2"
       ]
      },
      {
       "output_type": "stream",
       "stream": "stdout",
       "text": [
        "\n",
        "z=====3\n",
        "z=====4\n",
        "z=====5\n",
        "z=====6\n",
        "z=====7"
       ]
      },
      {
       "output_type": "stream",
       "stream": "stdout",
       "text": [
        "\n",
        "z=====8\n",
        "z=====9\n",
        "z=====10\n",
        "z=====11\n",
        "z=====12\n",
        "z=====13\n",
        "z=====14"
       ]
      },
      {
       "output_type": "stream",
       "stream": "stdout",
       "text": [
        "\n",
        "z=====15\n",
        "z=====16\n",
        "z=====17\n",
        "z=====18"
       ]
      },
      {
       "output_type": "stream",
       "stream": "stdout",
       "text": [
        "\n",
        "z=====19\n",
        "z=====20\n",
        "z=====21\n",
        "z=====22\n",
        "z=====23\n",
        "z=====24"
       ]
      },
      {
       "output_type": "stream",
       "stream": "stdout",
       "text": [
        "\n",
        "z=====25\n",
        "z=====26\n",
        "z=====27\n",
        "z=====28\n",
        "z=====29"
       ]
      },
      {
       "output_type": "stream",
       "stream": "stdout",
       "text": [
        "\n",
        "z=====30\n",
        "z=====31\n",
        "z=====32\n",
        "z=====33\n",
        "z=====34\n",
        "z=====35"
       ]
      },
      {
       "output_type": "stream",
       "stream": "stdout",
       "text": [
        "\n",
        "z=====36\n",
        "z=====37\n",
        "z=====38\n",
        "z=====39\n",
        "z=====40"
       ]
      },
      {
       "output_type": "stream",
       "stream": "stdout",
       "text": [
        "\n",
        "z=====41\n",
        "z=====42\n",
        "z=====43\n",
        "z=====44\n",
        "z=====45\n",
        "z=====46"
       ]
      },
      {
       "output_type": "stream",
       "stream": "stdout",
       "text": [
        "\n",
        "z=====47\n",
        "z=====48\n",
        "z=====49\n",
        "z=====50\n",
        "z=====51"
       ]
      },
      {
       "output_type": "stream",
       "stream": "stdout",
       "text": [
        "\n",
        "z=====52\n",
        "z=====53\n",
        "z=====54\n",
        "z=====55\n",
        "z=====56\n",
        "z=====57\n",
        "z=====58"
       ]
      },
      {
       "output_type": "stream",
       "stream": "stdout",
       "text": [
        "\n",
        "z=====59\n",
        "z=====60\n",
        "z=====61\n",
        "z=====62"
       ]
      },
      {
       "output_type": "stream",
       "stream": "stdout",
       "text": [
        "\n",
        "z=====63\n",
        "z=====64\n",
        "z=====65\n",
        "z=====66\n",
        "z=====67\n",
        "z=====68"
       ]
      },
      {
       "output_type": "stream",
       "stream": "stdout",
       "text": [
        "\n",
        "z=====69\n",
        "z=====70\n",
        "z=====71\n",
        "z=====72\n",
        "z=====73"
       ]
      },
      {
       "output_type": "stream",
       "stream": "stdout",
       "text": [
        "\n",
        "z=====74\n",
        "z=====75\n",
        "z=====76\n",
        "z=====77\n",
        "z=====78\n",
        "z=====79\n",
        "z=====80"
       ]
      },
      {
       "output_type": "stream",
       "stream": "stdout",
       "text": [
        "\n",
        "z=====81\n",
        "z=====82\n",
        "z=====83\n",
        "z=====84"
       ]
      },
      {
       "output_type": "stream",
       "stream": "stdout",
       "text": [
        "\n",
        "z=====85\n",
        "z=====86\n",
        "z=====87\n",
        "z=====88\n",
        "z=====89\n",
        "z=====90"
       ]
      },
      {
       "output_type": "stream",
       "stream": "stdout",
       "text": [
        "\n",
        "z=====91\n",
        "z=====92\n",
        "z=====93\n",
        "z=====94\n",
        "z=====95"
       ]
      },
      {
       "output_type": "stream",
       "stream": "stdout",
       "text": [
        "\n",
        "z=====96\n",
        "z=====97\n",
        "z=====98\n",
        "z=====99\n",
        "z=====100\n",
        "z=====101\n",
        "97"
       ]
      },
      {
       "output_type": "stream",
       "stream": "stdout",
       "text": [
        "\n",
        "r==========98\n",
        "z=====1\n",
        "z=====2\n",
        "z=====3\n",
        "z=====4\n",
        "z=====5"
       ]
      },
      {
       "output_type": "stream",
       "stream": "stdout",
       "text": [
        "\n",
        "z=====6\n",
        "z=====7\n",
        "z=====8\n",
        "z=====9\n",
        "z=====10\n",
        "z=====11\n",
        "z=====12"
       ]
      },
      {
       "output_type": "stream",
       "stream": "stdout",
       "text": [
        "\n",
        "z=====13\n",
        "z=====14\n",
        "z=====15\n",
        "z=====16"
       ]
      },
      {
       "output_type": "stream",
       "stream": "stdout",
       "text": [
        "\n",
        "z=====17\n",
        "z=====18\n",
        "z=====19\n",
        "z=====20\n",
        "z=====21\n",
        "z=====22"
       ]
      },
      {
       "output_type": "stream",
       "stream": "stdout",
       "text": [
        "\n",
        "z=====23\n",
        "z=====24\n",
        "z=====25\n",
        "z=====26\n",
        "z=====27"
       ]
      },
      {
       "output_type": "stream",
       "stream": "stdout",
       "text": [
        "\n",
        "z=====28\n",
        "z=====29\n",
        "z=====30\n",
        "z=====31\n",
        "z=====32\n",
        "z=====33"
       ]
      },
      {
       "output_type": "stream",
       "stream": "stdout",
       "text": [
        "\n",
        "z=====34\n",
        "z=====35\n",
        "z=====36\n",
        "z=====37\n",
        "z=====38"
       ]
      },
      {
       "output_type": "stream",
       "stream": "stdout",
       "text": [
        "\n",
        "z=====39\n",
        "z=====40\n",
        "z=====41\n",
        "z=====42\n",
        "z=====43\n",
        "z=====44\n",
        "z=====45"
       ]
      },
      {
       "output_type": "stream",
       "stream": "stdout",
       "text": [
        "\n",
        "z=====46\n",
        "z=====47\n",
        "z=====48\n",
        "z=====49"
       ]
      },
      {
       "output_type": "stream",
       "stream": "stdout",
       "text": [
        "\n",
        "z=====50\n",
        "z=====51\n",
        "z=====52\n",
        "z=====53\n",
        "z=====54\n",
        "z=====55\n",
        "z=====56"
       ]
      },
      {
       "output_type": "stream",
       "stream": "stdout",
       "text": [
        "\n",
        "z=====57\n",
        "z=====58\n",
        "z=====59\n",
        "z=====60"
       ]
      },
      {
       "output_type": "stream",
       "stream": "stdout",
       "text": [
        "\n",
        "z=====61\n",
        "z=====62\n",
        "z=====63\n",
        "z=====64\n",
        "z=====65\n",
        "z=====66"
       ]
      },
      {
       "output_type": "stream",
       "stream": "stdout",
       "text": [
        "\n",
        "z=====67\n",
        "z=====68\n",
        "z=====69\n",
        "z=====70\n",
        "z=====71"
       ]
      },
      {
       "output_type": "stream",
       "stream": "stdout",
       "text": [
        "\n",
        "z=====72\n",
        "z=====73\n",
        "z=====74\n",
        "z=====75\n",
        "z=====76\n",
        "z=====77"
       ]
      },
      {
       "output_type": "stream",
       "stream": "stdout",
       "text": [
        "\n",
        "z=====78\n",
        "z=====79\n",
        "z=====80\n",
        "z=====81"
       ]
      },
      {
       "output_type": "stream",
       "stream": "stdout",
       "text": [
        "\n",
        "z=====82\n",
        "z=====83\n",
        "z=====84\n",
        "z=====85\n",
        "z=====86\n",
        "z=====87"
       ]
      },
      {
       "output_type": "stream",
       "stream": "stdout",
       "text": [
        "\n",
        "z=====88\n",
        "z=====89\n",
        "z=====90\n",
        "z=====91\n",
        "z=====92"
       ]
      },
      {
       "output_type": "stream",
       "stream": "stdout",
       "text": [
        "\n",
        "z=====93\n",
        "z=====94\n",
        "z=====95\n",
        "z=====96\n",
        "z=====97\n",
        "z=====98\n",
        "z=====99"
       ]
      },
      {
       "output_type": "stream",
       "stream": "stdout",
       "text": [
        "\n",
        "z=====100\n",
        "z=====101\n",
        "98\n",
        "r==========99\n",
        "z=====1\n",
        "z=====2"
       ]
      },
      {
       "output_type": "stream",
       "stream": "stdout",
       "text": [
        "\n",
        "z=====3\n",
        "z=====4\n",
        "z=====5\n",
        "z=====6\n",
        "z=====7\n",
        "z=====8\n",
        "z=====9"
       ]
      },
      {
       "output_type": "stream",
       "stream": "stdout",
       "text": [
        "\n",
        "z=====10\n",
        "z=====11\n",
        "z=====12\n",
        "z=====13"
       ]
      },
      {
       "output_type": "stream",
       "stream": "stdout",
       "text": [
        "\n",
        "z=====14\n",
        "z=====15\n",
        "z=====16\n",
        "z=====17\n",
        "z=====18\n",
        "z=====19\n",
        "z=====20"
       ]
      },
      {
       "output_type": "stream",
       "stream": "stdout",
       "text": [
        "\n",
        "z=====21\n",
        "z=====22\n",
        "z=====23\n",
        "z=====24"
       ]
      },
      {
       "output_type": "stream",
       "stream": "stdout",
       "text": [
        "\n",
        "z=====25\n",
        "z=====26\n",
        "z=====27\n",
        "z=====28\n",
        "z=====29\n",
        "z=====30\n",
        "z=====31"
       ]
      },
      {
       "output_type": "stream",
       "stream": "stdout",
       "text": [
        "\n",
        "z=====32\n",
        "z=====33\n",
        "z=====34\n",
        "z=====35"
       ]
      },
      {
       "output_type": "stream",
       "stream": "stdout",
       "text": [
        "\n",
        "z=====36\n",
        "z=====37\n",
        "z=====38\n",
        "z=====39\n",
        "z=====40\n",
        "z=====41\n",
        "z=====42"
       ]
      },
      {
       "output_type": "stream",
       "stream": "stdout",
       "text": [
        "\n",
        "z=====43\n",
        "z=====44\n",
        "z=====45\n",
        "z=====46"
       ]
      },
      {
       "output_type": "stream",
       "stream": "stdout",
       "text": [
        "\n",
        "z=====47\n",
        "z=====48\n",
        "z=====49\n",
        "z=====50\n",
        "z=====51\n",
        "z=====52\n",
        "z=====53"
       ]
      },
      {
       "output_type": "stream",
       "stream": "stdout",
       "text": [
        "\n",
        "z=====54\n",
        "z=====55\n",
        "z=====56\n",
        "z=====57"
       ]
      },
      {
       "output_type": "stream",
       "stream": "stdout",
       "text": [
        "\n",
        "z=====58\n",
        "z=====59\n",
        "z=====60\n",
        "z=====61\n",
        "z=====62\n",
        "z=====63\n",
        "z=====64"
       ]
      },
      {
       "output_type": "stream",
       "stream": "stdout",
       "text": [
        "\n",
        "z=====65\n",
        "z=====66\n",
        "z=====67\n",
        "z=====68"
       ]
      },
      {
       "output_type": "stream",
       "stream": "stdout",
       "text": [
        "\n",
        "z=====69\n",
        "z=====70\n",
        "z=====71\n",
        "z=====72\n",
        "z=====73\n",
        "z=====74\n",
        "z=====75"
       ]
      },
      {
       "output_type": "stream",
       "stream": "stdout",
       "text": [
        "\n",
        "z=====76\n",
        "z=====77\n",
        "z=====78\n",
        "z=====79"
       ]
      },
      {
       "output_type": "stream",
       "stream": "stdout",
       "text": [
        "\n",
        "z=====80\n",
        "z=====81\n",
        "z=====82\n",
        "z=====83\n",
        "z=====84\n",
        "z=====85\n",
        "z=====86"
       ]
      },
      {
       "output_type": "stream",
       "stream": "stdout",
       "text": [
        "\n",
        "z=====87\n",
        "z=====88\n",
        "z=====89\n",
        "z=====90"
       ]
      },
      {
       "output_type": "stream",
       "stream": "stdout",
       "text": [
        "\n",
        "z=====91\n",
        "z=====92\n",
        "z=====93\n",
        "z=====94\n",
        "z=====95\n",
        "z=====96\n",
        "z=====97"
       ]
      },
      {
       "output_type": "stream",
       "stream": "stdout",
       "text": [
        "\n",
        "z=====98\n",
        "z=====99\n",
        "z=====100\n",
        "z=====101"
       ]
      },
      {
       "output_type": "stream",
       "stream": "stdout",
       "text": [
        "\n",
        "99\n",
        "r==========100\n",
        "z=====1\n",
        "z=====2\n",
        "z=====3\n",
        "z=====4\n",
        "z=====5\n",
        "z=====6"
       ]
      },
      {
       "output_type": "stream",
       "stream": "stdout",
       "text": [
        "\n",
        "z=====7\n",
        "z=====8\n",
        "z=====9\n",
        "z=====10\n",
        "z=====11"
       ]
      },
      {
       "output_type": "stream",
       "stream": "stdout",
       "text": [
        "\n",
        "z=====12\n",
        "z=====13\n",
        "z=====14\n",
        "z=====15\n",
        "z=====16\n",
        "z=====17"
       ]
      },
      {
       "output_type": "stream",
       "stream": "stdout",
       "text": [
        "\n",
        "z=====18\n",
        "z=====19\n",
        "z=====20\n",
        "z=====21\n",
        "z=====22"
       ]
      },
      {
       "output_type": "stream",
       "stream": "stdout",
       "text": [
        "\n",
        "z=====23\n",
        "z=====24\n",
        "z=====25\n",
        "z=====26\n",
        "z=====27\n",
        "z=====28"
       ]
      },
      {
       "output_type": "stream",
       "stream": "stdout",
       "text": [
        "\n",
        "z=====29\n",
        "z=====30\n",
        "z=====31\n",
        "z=====32\n",
        "z=====33"
       ]
      },
      {
       "output_type": "stream",
       "stream": "stdout",
       "text": [
        "\n",
        "z=====34\n",
        "z=====35\n",
        "z=====36\n",
        "z=====37\n",
        "z=====38\n",
        "z=====39\n",
        "z=====40"
       ]
      },
      {
       "output_type": "stream",
       "stream": "stdout",
       "text": [
        "\n",
        "z=====41\n",
        "z=====42\n",
        "z=====43\n",
        "z=====44"
       ]
      },
      {
       "output_type": "stream",
       "stream": "stdout",
       "text": [
        "\n",
        "z=====45\n",
        "z=====46\n",
        "z=====47\n",
        "z=====48\n",
        "z=====49\n",
        "z=====50"
       ]
      },
      {
       "output_type": "stream",
       "stream": "stdout",
       "text": [
        "\n",
        "z=====51\n",
        "z=====52\n",
        "z=====53\n",
        "z=====54\n",
        "z=====55"
       ]
      },
      {
       "output_type": "stream",
       "stream": "stdout",
       "text": [
        "\n",
        "z=====56\n",
        "z=====57\n",
        "z=====58\n",
        "z=====59\n",
        "z=====60\n",
        "z=====61"
       ]
      },
      {
       "output_type": "stream",
       "stream": "stdout",
       "text": [
        "\n",
        "z=====62\n",
        "z=====63\n",
        "z=====64\n",
        "z=====65\n",
        "z=====66"
       ]
      },
      {
       "output_type": "stream",
       "stream": "stdout",
       "text": [
        "\n",
        "z=====67\n",
        "z=====68\n",
        "z=====69\n",
        "z=====70\n",
        "z=====71\n",
        "z=====72"
       ]
      },
      {
       "output_type": "stream",
       "stream": "stdout",
       "text": [
        "\n",
        "z=====73\n",
        "z=====74\n",
        "z=====75\n",
        "z=====76\n",
        "z=====77"
       ]
      },
      {
       "output_type": "stream",
       "stream": "stdout",
       "text": [
        "\n",
        "z=====78\n",
        "z=====79\n",
        "z=====80\n",
        "z=====81\n",
        "z=====82\n",
        "z=====83\n",
        "z=====84"
       ]
      },
      {
       "output_type": "stream",
       "stream": "stdout",
       "text": [
        "\n",
        "z=====85\n",
        "z=====86\n",
        "z=====87\n",
        "z=====88"
       ]
      },
      {
       "output_type": "stream",
       "stream": "stdout",
       "text": [
        "\n",
        "z=====89\n",
        "z=====90\n",
        "z=====91\n",
        "z=====92\n",
        "z=====93\n",
        "z=====94"
       ]
      },
      {
       "output_type": "stream",
       "stream": "stdout",
       "text": [
        "\n",
        "z=====95\n",
        "z=====96\n",
        "z=====97\n",
        "z=====98\n",
        "z=====99"
       ]
      },
      {
       "output_type": "stream",
       "stream": "stdout",
       "text": [
        "\n",
        "z=====100\n",
        "z=====101\n",
        "100\n",
        "r==========101\n",
        "z=====1\n",
        "z=====2\n",
        "z=====3\n",
        "z=====4\n",
        "z=====5"
       ]
      },
      {
       "output_type": "stream",
       "stream": "stdout",
       "text": [
        "\n",
        "z=====6\n",
        "z=====7\n",
        "z=====8\n",
        "z=====9"
       ]
      },
      {
       "output_type": "stream",
       "stream": "stdout",
       "text": [
        "\n",
        "z=====10\n",
        "z=====11\n",
        "z=====12\n",
        "z=====13\n",
        "z=====14\n",
        "z=====15\n",
        "z=====16"
       ]
      },
      {
       "output_type": "stream",
       "stream": "stdout",
       "text": [
        "\n",
        "z=====17\n",
        "z=====18\n",
        "z=====19\n",
        "z=====20"
       ]
      },
      {
       "output_type": "stream",
       "stream": "stdout",
       "text": [
        "\n",
        "z=====21\n",
        "z=====22\n",
        "z=====23\n",
        "z=====24\n",
        "z=====25\n",
        "z=====26\n",
        "z=====27"
       ]
      },
      {
       "output_type": "stream",
       "stream": "stdout",
       "text": [
        "\n",
        "z=====28\n",
        "z=====29\n",
        "z=====30\n",
        "z=====31"
       ]
      },
      {
       "output_type": "stream",
       "stream": "stdout",
       "text": [
        "\n",
        "z=====32\n",
        "z=====33\n",
        "z=====34\n",
        "z=====35\n",
        "z=====36\n",
        "z=====37\n",
        "z=====38"
       ]
      },
      {
       "output_type": "stream",
       "stream": "stdout",
       "text": [
        "\n",
        "z=====39\n",
        "z=====40\n",
        "z=====41\n",
        "z=====42"
       ]
      },
      {
       "output_type": "stream",
       "stream": "stdout",
       "text": [
        "\n",
        "z=====43\n",
        "z=====44\n",
        "z=====45\n",
        "z=====46\n",
        "z=====47\n",
        "z=====48\n",
        "z=====49"
       ]
      },
      {
       "output_type": "stream",
       "stream": "stdout",
       "text": [
        "\n",
        "z=====50\n",
        "z=====51\n",
        "z=====52\n",
        "z=====53"
       ]
      },
      {
       "output_type": "stream",
       "stream": "stdout",
       "text": [
        "\n",
        "z=====54\n",
        "z=====55\n",
        "z=====56\n",
        "z=====57\n",
        "z=====58\n",
        "z=====59\n",
        "z=====60"
       ]
      },
      {
       "output_type": "stream",
       "stream": "stdout",
       "text": [
        "\n",
        "z=====61\n",
        "z=====62\n",
        "z=====63\n",
        "z=====64"
       ]
      },
      {
       "output_type": "stream",
       "stream": "stdout",
       "text": [
        "\n",
        "z=====65\n",
        "z=====66\n",
        "z=====67\n",
        "z=====68\n",
        "z=====69\n",
        "z=====70\n",
        "z=====71"
       ]
      },
      {
       "output_type": "stream",
       "stream": "stdout",
       "text": [
        "\n",
        "z=====72\n",
        "z=====73\n",
        "z=====74\n",
        "z=====75"
       ]
      },
      {
       "output_type": "stream",
       "stream": "stdout",
       "text": [
        "\n",
        "z=====76\n",
        "z=====77\n",
        "z=====78\n",
        "z=====79\n",
        "z=====80\n",
        "z=====81\n",
        "z=====82"
       ]
      },
      {
       "output_type": "stream",
       "stream": "stdout",
       "text": [
        "\n",
        "z=====83\n",
        "z=====84\n",
        "z=====85\n",
        "z=====86"
       ]
      },
      {
       "output_type": "stream",
       "stream": "stdout",
       "text": [
        "\n",
        "z=====87\n",
        "z=====88\n",
        "z=====89\n",
        "z=====90\n",
        "z=====91\n",
        "z=====92"
       ]
      },
      {
       "output_type": "stream",
       "stream": "stdout",
       "text": [
        "\n",
        "z=====93\n",
        "z=====94\n",
        "z=====95\n",
        "z=====96\n",
        "z=====97"
       ]
      },
      {
       "output_type": "stream",
       "stream": "stdout",
       "text": [
        "\n",
        "z=====98\n",
        "z=====99\n",
        "z=====100\n",
        "z=====101\n",
        "101\n",
        "elapsed time: 245.983293996 seconds\n"
       ]
      },
      {
       "metadata": {},
       "output_type": "pyout",
       "prompt_number": 199,
       "text": [
        "245.983293996"
       ]
      }
     ],
     "prompt_number": 199
    },
    {
     "cell_type": "code",
     "collapsed": false,
     "input": [
      "Z=ReIntegral.^2+ImIntegral.^2;"
     ],
     "language": "python",
     "metadata": {},
     "outputs": [],
     "prompt_number": 200
    },
    {
     "cell_type": "code",
     "collapsed": false,
     "input": [
      "DUmmy=[1 2; 3 4]"
     ],
     "language": "python",
     "metadata": {},
     "outputs": [
      {
       "metadata": {},
       "output_type": "pyout",
       "prompt_number": 204,
       "text": [
        "2x2 Array{Int64,2}:\n",
        " 1  2\n",
        " 3  4"
       ]
      }
     ],
     "prompt_number": 204
    },
    {
     "cell_type": "code",
     "collapsed": false,
     "input": [
      "DUmmy.^2"
     ],
     "language": "python",
     "metadata": {},
     "outputs": [
      {
       "metadata": {},
       "output_type": "pyout",
       "prompt_number": 205,
       "text": [
        "2x2 Array{Int64,2}:\n",
        " 1   4\n",
        " 9  16"
       ]
      }
     ],
     "prompt_number": 205
    },
    {
     "cell_type": "code",
     "collapsed": false,
     "input": [
      "grafdensidad([rminevaluar,rmaxevaluar],[zminevaluar,zmaxevaluar],101,Z',\"a\",\"r\",\"z\")"
     ],
     "language": "python",
     "metadata": {},
     "outputs": [
      {
       "metadata": {},
       "output_type": "display_data",
       "png": "[encoded data removed]",
       "text": [
        "Figure(PyObject <matplotlib.figure.Figure object at 0x7f0e367845d0>)"
       ]
      },
      {
       "metadata": {},
       "output_type": "pyout",
       "prompt_number": 202,
       "text": [
        "PyObject <matplotlib.colorbar.Colorbar instance at 0x7f0e3668b950>"
       ]
      }
     ],
     "prompt_number": 202
    },
    {
     "cell_type": "code",
     "collapsed": false,
     "input": [],
     "language": "python",
     "metadata": {},
     "outputs": []
    },
    {
     "cell_type": "code",
     "collapsed": false,
     "input": [
      "\u03c9r*t"
     ],
     "language": "python",
     "metadata": {},
     "outputs": [
      {
       "metadata": {},
       "output_type": "pyout",
       "prompt_number": 181,
       "text": [
        "1.0"
       ]
      }
     ],
     "prompt_number": 181
    },
    {
     "cell_type": "code",
     "collapsed": false,
     "input": [],
     "language": "python",
     "metadata": {},
     "outputs": []
    }
   ],
   "metadata": {}
  }
 ]
}