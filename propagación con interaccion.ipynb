{
 "cells": [
  {
   "cell_type": "markdown",
   "metadata": {
    "collapsed": true
   },
   "source": [
    "#                                                                # -----------------------------librerías extra"
   ]
  },
  {
   "cell_type": "code",
   "execution_count": 218,
   "metadata": {
    "collapsed": true
   },
   "outputs": [],
   "source": [
    "using ProgressMeter\n",
    "using Cubature\n",
    "using PyPlot"
   ]
  },
  {
   "cell_type": "code",
   "execution_count": 219,
   "metadata": {
    "collapsed": true
   },
   "outputs": [],
   "source": [
    "using Graf\n",
    "using nintegrate"
   ]
  },
  {
   "cell_type": "code",
   "execution_count": 220,
   "metadata": {
    "collapsed": false
   },
   "outputs": [
    {
     "data": {
      "text/plain": [
       "norma_matriz (generic function with 1 method)"
      ]
     },
     "execution_count": 220,
     "metadata": {},
     "output_type": "execute_result"
    }
   ],
   "source": [
    "function integrar_matriz_trapecios(A,xmin,xmax,ymin,ymax,iteracionesx,iteracionesy)\n",
    "    dx = (xmax-xmin)/(iteracionesx-1)\n",
    "    dy = (ymax-ymin)/(iteracionesy-1)\n",
    "\n",
    "    sum=0;\n",
    "    #! calculate the corner's terms\n",
    "    sum = A[1,1]+A[1,end]+A[end,1]+A[end,end]\n",
    "\n",
    "\n",
    "    #! calculate single sums\n",
    "    for i in 2:iteracionesx-1\n",
    "        sum = sum + 2.0*(A[i,1]+A[i,end])\n",
    "    end\n",
    "\n",
    "    for i in 2:iteracionesy-1\n",
    "        sum = sum + 2.0*(A[1,i]+A[end,i])\n",
    "    end \n",
    "\n",
    "    #! calculate the double sum\n",
    "    for i in 2:iteracionesx-1\n",
    "        for j in 2:iteracionesy-1\n",
    "                sum = sum + 4*A[i,j]\n",
    "        end\n",
    "    end\n",
    "\n",
    "    integral = dx*dy*(sum)/4\n",
    "    return integral\n",
    "end\n",
    "\n",
    "\n",
    "\n",
    "\n",
    "\n",
    "\n",
    "\n",
    "\n",
    "\n",
    "function norma_cuadrada(A)\n",
    "    real(conj(A).*(A))\n",
    "end\n",
    "\n",
    "\n",
    "\n",
    "function norma_matriz(A,iteracionesr,iteracionesz,rmax,zmax)\n",
    "    dr=rmax/iteracionesr\n",
    "    dz=2*zmax/iteracionesz\n",
    "    Integral=0.0;\n",
    "    \n",
    "    for i in 1:iteracionesr+1 \n",
    "        for  j in 1:iteracionesz+1\n",
    "            Integral=Integral+norma_cuadrada(A[i,j])*dr*dz;\n",
    "        end\n",
    "    end\n",
    "    \n",
    "    return sqrt(Integral)\n",
    "    \n",
    "end"
   ]
  },
  {
   "cell_type": "markdown",
   "metadata": {},
   "source": [
    "rmax=1.0;\n",
    "rmin=0.0;\n",
    "zmax=1.0;\n",
    "zmin=0.0;\n",
    "iteracionesz=1000;\n",
    "iteracionesr=iteracionesz;\n",
    "f(r,z)=r^2+z^2;\n",
    "A=gencodominio2D([zmin,zmax],[0.0,rmax],iteracionesz,f);\n",
    "integrar_matriz_trapecios(A,rmin,rmax,zmin,zmax,iteracionesr,iteracionesz)"
   ]
  },
  {
   "cell_type": "markdown",
   "metadata": {},
   "source": [
    "### ----------------------------"
   ]
  },
  {
   "cell_type": "code",
   "execution_count": 221,
   "metadata": {
    "collapsed": false
   },
   "outputs": [],
   "source": [
    "divisor_alfa=100;\n",
    "DT=1;"
   ]
  },
  {
   "cell_type": "code",
   "execution_count": 96,
   "metadata": {
    "collapsed": false
   },
   "outputs": [],
   "source": [
    "const hbarr=6.62606957e-34;\n",
    "const Kb=1.3806488e-23\n",
    "m=144.42e-27/2;\n",
    "\n",
    "lambda=1.0\n",
    "\n",
    "omegaz =150.0\n",
    "omegar =lambda*omegaz;\n",
    "\n",
    "alfa=5.8e-9;\n",
    "alfa=alfa/divisor_alfa;\n",
    "g_alfa=4.0*π*hbarr^2*alfa/m;\n",
    "\n",
    "omegam=(omegar^2*omegaz)^(1/3);\n",
    "Npart=10.0^5.0;\n",
    "mu=0.5*(15^(2/5))*hbarr*omegam*(Npart*alfa*sqrt(m*omegam/hbarr))^(2.0/5.0); #(hbarr/2) *(2*omegar+omegaz);#\n",
    "\n",
    "\n",
    "n=mu/g_alfa\n",
    "c = sqrt(n*g_alfa/m);\n",
    "\n",
    "\n",
    "#------------Parámetros característicos del solitón bosónico\n",
    "ksi=1/sqrt(4*pi*n*alfa);\n",
    "beta=0.0;\n",
    "algo=11.0\n",
    "z0=algo*ksi;\n",
    "gama=1/(sqrt(1-beta^2));\n"
   ]
  },
  {
   "cell_type": "code",
   "execution_count": 222,
   "metadata": {
    "collapsed": false
   },
   "outputs": [
    {
     "data": {
      "text/plain": [
       "true"
      ]
     },
     "execution_count": 222,
     "metadata": {},
     "output_type": "execute_result"
    }
   ],
   "source": [
    "m/(4*pi*hbarr*alfa*n)==ksi/c"
   ]
  },
  {
   "cell_type": "markdown",
   "metadata": {},
   "source": [
    "### ----Función de onda"
   ]
  },
  {
   "cell_type": "code",
   "execution_count": 98,
   "metadata": {
    "collapsed": false
   },
   "outputs": [
    {
     "data": {
      "text/plain": [
       "FUNCIONTF0 (generic function with 2 methods)"
      ]
     },
     "execution_count": 98,
     "metadata": {},
     "output_type": "execute_result"
    }
   ],
   "source": [
    "\n",
    "function U(r::Float64,z::Float64)\n",
    "    (1/2)*m*((omegar*r)^2 + (omegaz*z)^2)\n",
    "end\n",
    "\n",
    "function n_tf(r::Float64,z::Float64)            \n",
    "    if  mu-U(r,z)>0 0\n",
    "        return (mu-U(r,z))/(g_alfa)              \n",
    "    end\n",
    "    return 0       \n",
    "end\n",
    "\n",
    "\n",
    "function sol(z::Float64)\n",
    "1#(tanh((z-z0)/(ksi*gama)))/gama\n",
    "end\n",
    "\n",
    "function FUNCIONTF0(r::Float64,z::Float64)\n",
    "    sqrt(n_tf(r,z))#*(sol(z)+im*beta)\n",
    "end\n",
    "\n",
    "function FUNCIONTF0(v::Vector{Float64})\n",
    "    FUNCIONTF0(v[1],v[2])\n",
    "end\n"
   ]
  },
  {
   "cell_type": "code",
   "execution_count": 99,
   "metadata": {
    "collapsed": false
   },
   "outputs": [],
   "source": [
    "rmax_estatico=sqrt(2*mu/(m*omegar^2))\n",
    "zmax_estatico=sqrt(2*mu/(m*omegaz^2))\n",
    "\n",
    "\n",
    "function rmaxintegrar(t::Float64)\n",
    "    rmax_estatico/sqrt(abs(sin(omegar*t)))\n",
    "end\n",
    "\n",
    "function zmaxintegrar(t::Float64)\n",
    "    zmax_estatico/sqrt(abs(sin(omegaz*t)))\n",
    "end\n",
    "\n",
    "\n",
    "\n",
    "rmaxevaluar=2.5*rmax_estatico;\n",
    "zmaxevaluar=2.5*zmax_estatico;\n"
   ]
  },
  {
   "cell_type": "markdown",
   "metadata": {},
   "source": [
    "\n",
    "# El tiempo"
   ]
  },
  {
   "cell_type": "code",
   "execution_count": 100,
   "metadata": {
    "collapsed": false
   },
   "outputs": [],
   "source": [
    "#unidades 0A\n",
    "EOA=hbarr*omegam;\n",
    "tOA=1/omegam;\n",
    "lOA=sqrt(hbarr/(m*omegam));\n",
    "\n",
    "\n",
    "t1=ksi/c;\n",
    "\n",
    "t0=tOA;"
   ]
  },
  {
   "cell_type": "code",
   "execution_count": 101,
   "metadata": {
    "collapsed": false
   },
   "outputs": [
    {
     "data": {
      "text/plain": [
       "0.7630197371974001"
      ]
     },
     "execution_count": 101,
     "metadata": {},
     "output_type": "execute_result"
    }
   ],
   "source": [
    "t1/t0"
   ]
  },
  {
   "cell_type": "markdown",
   "metadata": {},
   "source": [
    "# La propagación de la función de onda en el esquema de interacción sólo por el presión cuántica"
   ]
  },
  {
   "cell_type": "markdown",
   "metadata": {},
   "source": [
    " Resolver $i\\hbar \\frac{d \\psi_I(t)}{d T} = g \\rho_I(t)  \\psi_I(t)$\n",
    " \n",
    " $\\psi_I(t+dt) = \\psi_I(t)- \\frac{ig}{\\hbar} \\rho_I(t)  \\psi_I(t)$"
   ]
  },
  {
   "cell_type": "code",
   "execution_count": 239,
   "metadata": {
    "collapsed": false,
    "scrolled": true
   },
   "outputs": [],
   "source": [
    "iteracionest=1000\n",
    "resolucion=100;\n",
    "\n",
    "delta_t=t0/iteracionest;\n",
    "uno=eye(Complex128,resolucion+1,resolucion+1);\n",
    "\n",
    "funcion_de_onda=zeros(Complex128,resolucion+1,resolucion+1,iteracionest+1);\n",
    "constante_normalizacion=zeros(Float64,iteracionest+1);\n",
    "\n",
    "funcion_de_onda[:,:,1]=gencodominio2D([-zmax_estatico,zmax_estatico],[0.0,rmax_estatico],resolucion+1,FUNCIONTF0);\n",
    "constante_normalizacion[1]=integrar_matriz_trapecios(norma_cuadrada(funcion_de_onda[:,:,1]),0.0,rmax_estatico,-zmax_estatico,zmax_estatico,iteracionesr,iteracionesz)\n",
    "funcion_de_onda[:,:,1]=funcion_de_onda[:,:,1]/sqrt(constante_normalizacion[1])\n",
    "\n",
    "for i in 2:iteracionest\n",
    "    funcion_de_onda[:,:,i]=funcion_de_onda[:,:,i-1]-(g_alfa/hbarr*delta_t)*im*(norma_cuadrada(funcion_de_onda[:,:,i-1])).*funcion_de_onda[:,:,i-1] \n",
    "    constante_normalizacion[i]=integrar_matriz_trapecios(norma_cuadrada(funcion_de_onda[:,:,i]),0.0,rmax_estatico,-zmax_estatico,zmax_estatico,iteracionesr,iteracionesz)\n",
    "    funcion_de_onda[:,:,i]=funcion_de_onda[:,:,i]/sqrt(constante_normalizacion[i])\n",
    "end"
   ]
  },
  {
   "cell_type": "code",
   "execution_count": 240,
   "metadata": {
    "collapsed": false
   },
   "outputs": [
    {
     "data": {
      "text/plain": [
       "1.310582087526382"
      ]
     },
     "execution_count": 240,
     "metadata": {},
     "output_type": "execute_result"
    }
   ],
   "source": [
    "t0/t1"
   ]
  },
  {
   "cell_type": "code",
   "execution_count": null,
   "metadata": {
    "collapsed": false
   },
   "outputs": [],
   "source": []
  },
  {
   "cell_type": "code",
   "execution_count": 230,
   "metadata": {
    "collapsed": false
   },
   "outputs": [
    {
     "data": {
      "text/plain": [
       "0.00032764552188159545"
      ]
     },
     "execution_count": 230,
     "metadata": {},
     "output_type": "execute_result"
    }
   ],
   "source": [
    "(g_alfa/hbarr*delta_t)*n/4"
   ]
  },
  {
   "cell_type": "code",
   "execution_count": 234,
   "metadata": {
    "collapsed": false
   },
   "outputs": [
    {
     "data": {
      "image/png": "[encoded data removed]",
      "text/plain": [
       "PyPlot.Figure(PyObject <matplotlib.figure.Figure object at 0x7fe80adff490>)"
      ]
     },
     "metadata": {},
     "output_type": "display_data"
    },
    {
     "data": {
      "text/plain": [
       "PyObject <matplotlib.colorbar.Colorbar instance at 0x7fe80a9c6320>"
      ]
     },
     "execution_count": 234,
     "metadata": {},
     "output_type": "execute_result"
    }
   ],
   "source": [
    "i=1\n",
    "grafdensidad([-zmaxevaluar/lOA,zmaxevaluar/lOA],[0.0,rmaxevaluar/lOA],101,norma_cuadrada(funcion_de_onda[:,:,i]),\"\",\"z[lOA]\",\"r[lOA]\",\"barra\")"
   ]
  },
  {
   "cell_type": "code",
   "execution_count": 236,
   "metadata": {
    "collapsed": false
   },
   "outputs": [
    {
     "data": {
      "image/png": "[encoded data removed]",
      "text/plain": [
       "PyPlot.Figure(PyObject <matplotlib.figure.Figure object at 0x7fe80a98a110>)"
      ]
     },
     "metadata": {},
     "output_type": "display_data"
    },
    {
     "data": {
      "text/plain": [
       "PyObject <matplotlib.colorbar.Colorbar instance at 0x7fe80a77fa70>"
      ]
     },
     "execution_count": 236,
     "metadata": {},
     "output_type": "execute_result"
    }
   ],
   "source": [
    "i=iteracionest\n",
    "grafdensidad([-zmaxevaluar/lOA,zmaxevaluar/lOA],[0.0,rmaxevaluar/lOA],101,norma_cuadrada(funcion_de_onda[:,:,i]),\"\",\"z[lOA]\",\"r[lOA]\",\"barra\")"
   ]
  },
  {
   "cell_type": "code",
   "execution_count": 186,
   "metadata": {
    "collapsed": false
   },
   "outputs": [
    {
     "data": {
      "text/plain": [
       "2.9394019838873055e19"
      ]
     },
     "execution_count": 186,
     "metadata": {},
     "output_type": "execute_result"
    }
   ],
   "source": [
    "n"
   ]
  },
  {
   "cell_type": "code",
   "execution_count": 185,
   "metadata": {
    "collapsed": false
   },
   "outputs": [
    {
     "data": {
      "image/png": "[encoded data removed]",
      "text/plain": [
       "PyPlot.Figure(PyObject <matplotlib.figure.Figure object at 0x7fe80b397d50>)"
      ]
     },
     "metadata": {},
     "output_type": "display_data"
    },
    {
     "data": {
      "text/plain": [
       "PyObject <matplotlib.colorbar.Colorbar instance at 0x7fe80b172b48>"
      ]
     },
     "execution_count": 185,
     "metadata": {},
     "output_type": "execute_result"
    }
   ],
   "source": [
    "i=1\n",
    "grafdensidad([-zmaxevaluar/lOA,zmaxevaluar/lOA],[0.0,rmaxevaluar/lOA],101,norma_cuadrada(funcion_de_onda[:,:,i]),\"Amplitud de probabilidad de la funcion propagada\",\"z[lOA]\",\"r[lOA]\",\"barra\")"
   ]
  },
  {
   "cell_type": "code",
   "execution_count": 45,
   "metadata": {
    "collapsed": false
   },
   "outputs": [
    {
     "data": {
      "text/plain": [
       "1.0"
      ]
     },
     "execution_count": 45,
     "metadata": {},
     "output_type": "execute_result"
    }
   ],
   "source": [
    "integrar_matriz_trapecios(norma_cuadrada(funcion_de_onda[:,:,1]/constante_normalizacion[1]),0.0,rmaxevaluar,-zmaxevaluar,zmaxevaluar,iteracionesr,iteracionesz)"
   ]
  },
  {
   "cell_type": "code",
   "execution_count": 34,
   "metadata": {
    "collapsed": true
   },
   "outputs": [],
   "source": [
    "# ----------------------------------------------------------------------------------------------"
   ]
  },
  {
   "cell_type": "code",
   "execution_count": null,
   "metadata": {
    "collapsed": true
   },
   "outputs": [],
   "source": []
  },
  {
   "cell_type": "code",
   "execution_count": null,
   "metadata": {
    "collapsed": true
   },
   "outputs": [],
   "source": []
  },
  {
   "cell_type": "code",
   "execution_count": null,
   "metadata": {
    "collapsed": true
   },
   "outputs": [],
   "source": []
  },
  {
   "cell_type": "code",
   "execution_count": 50,
   "metadata": {
    "collapsed": false
   },
   "outputs": [
    {
     "data": {
      "text/plain": [
       "1.6190009805595431"
      ]
     },
     "execution_count": 50,
     "metadata": {},
     "output_type": "execute_result"
    }
   ],
   "source": [
    "rmax_estatico/lOA"
   ]
  },
  {
   "cell_type": "markdown",
   "metadata": {
    "collapsed": false
   },
   "source": [
    "tiempos=linspace(tOA/100,tOA,101);\n",
    "rmax=zeros(101);\n",
    "zmax=zeros(101);\n",
    "\n",
    "[rmax[i]=1/sqrt(abs(sin(omegar*tiempos[i]))) for i in 1:101]; \n",
    "[zmax[i]=1/sqrt(abs(sin(omegaz*tiempos[i]))) for i in 1:101]; \n",
    "\n",
    "PyPlot.plot(rmax)"
   ]
  },
  {
   "cell_type": "markdown",
   "metadata": {
    "collapsed": false
   },
   "source": [
    "PyPlot.plot(zmax)"
   ]
  },
  {
   "cell_type": "code",
   "execution_count": null,
   "metadata": {
    "collapsed": false
   },
   "outputs": [],
   "source": []
  },
  {
   "cell_type": "code",
   "execution_count": null,
   "metadata": {
    "collapsed": true
   },
   "outputs": [],
   "source": []
  },
  {
   "cell_type": "code",
   "execution_count": null,
   "metadata": {
    "collapsed": true
   },
   "outputs": [],
   "source": []
  },
  {
   "cell_type": "markdown",
   "metadata": {
    "collapsed": true
   },
   "source": [
    "# Inspeccionar la función a integrar"
   ]
  },
  {
   "cell_type": "code",
   "execution_count": 41,
   "metadata": {
    "collapsed": false
   },
   "outputs": [
    {
     "data": {
      "text/plain": [
       "I_funcion_a_integrar (generic function with 2 methods)"
      ]
     },
     "execution_count": 41,
     "metadata": {},
     "output_type": "execute_result"
    }
   ],
   "source": [
    "#########EN UNIDADES dependientes del tiempo\n",
    "\n",
    "N_est=(m/hbarr)^(3/2)*omegar*sqrt(omegaz)/sqrt(2*π);\n",
    "\n",
    "\n",
    "function sol(z::Float64,t)\n",
    "    tanh((z*sqrt(abs(sin(omegaz*t)))-z0)/(ksi*gama))/gama\n",
    "end\n",
    "\n",
    "function fase_rr1(r1::Float64,r::Float64,t::Float64)\n",
    "    (m*omegar/(2*hbarr))*((r1^2+r^2)*cos(omegar*t))+π/4\n",
    "end\n",
    "\n",
    "function fase_zz1(z1::Float64,z::Float64,t::Float64)\n",
    "    (m*omegaz/(2*hbarr))*((z1^2+z^2)*cos(omegaz*t)-2*z*z1)\n",
    "end\n",
    "\n",
    "\n",
    "function Bessel0(r1::Float64,r::Float64)\n",
    "    besselj0(abs(m*omegar*r*r1/hbarr))\n",
    "end\n",
    "\n",
    "function U(r::Float64,z::Float64,t::Float64)\n",
    "    0.5*(m)*((omegar*r)^2*sin(omegar*t) + (omegaz*z)^2*sin(omegaz*t))\n",
    "end\n",
    "\n",
    "\n",
    "\n",
    "function n_tf(r::Float64,z::Float64,t::Float64)            \n",
    "    if  mu-U(r,z,t)>0 0\n",
    "        return (mu-U(r,z,t))/(n*g_alfa)              \n",
    "    end\n",
    "    return 0       \n",
    "end\n",
    "\n",
    "\n",
    "function Rre(r1::Float64,r::Float64,t::Float64)\n",
    "    Bessel0(r1,r)*r1*cos(fase_rr1(r1,r,t))\n",
    "end\n",
    "\n",
    "\n",
    "function Rim(r1::Float64,r::Float64,t::Float64)\n",
    "    Bessel0(r1,r)*r1*sin(fase_rr1(r1,r,t))\n",
    "end\n",
    "\n",
    "\n",
    "function Zre(z1::Float64,z::Float64,t::Float64)\n",
    "    cos(fase_zz1(z1,z,t))*sol(z1,t)-beta*sin(fase_zz1(z1,z,t))\n",
    "end\n",
    "\n",
    "function Zim(z1::Float64,z::Float64,t::Float64)\n",
    "    sin(fase_zz1(z1,z,t))*sol(z1,t)+beta*cos(fase_zz1(z1,z,t))\n",
    "end\n",
    "\n",
    "\n",
    "function R_funcion_a_integrar(r1::Float64,z1::Float64,r::Float64,z::Float64,t::Float64)\n",
    "    Rre(r1,r,t)*sqrt(n_tf(r1,z1,t))*Zre(z1,z,t)-Rim(r1,r,t)*sqrt(n_tf(r1,z1,t))*Zim(z1,z,t)\n",
    "end\n",
    "\n",
    "\n",
    "function I_funcion_a_integrar(r1::Float64,z1::Float64,r::Float64,z::Float64,t::Float64)\n",
    "    Rre(r1,r,t)*sqrt(n_tf(r1,z1,t))*Zim(z1,z,t)+Rim(r1,r,t)*sqrt(n_tf(r1,z1,t))*Zre(z1,z,t)\n",
    "end\n",
    "\n",
    "\n",
    "R_funcion_a_integrar(v::Vector{Float64},r,z,t)=R_funcion_a_integrar(v[1],v[2],r,z,t)\n",
    "\n",
    "I_funcion_a_integrar(v::Vector{Float64},r,z,t)=I_funcion_a_integrar(v[1],v[2],r,z,t)\n"
   ]
  },
  {
   "cell_type": "code",
   "execution_count": 42,
   "metadata": {
    "collapsed": false
   },
   "outputs": [
    {
     "data": {
      "text/plain": [
       "I_funcion_a_integrar (generic function with 2 methods)"
      ]
     },
     "execution_count": 42,
     "metadata": {},
     "output_type": "execute_result"
    }
   ],
   "source": [
    "#########EN UNIDADES dependientes del tiempo\n",
    "\n",
    "N_est=(m/hbarr)^(3/2)*omegar*sqrt(omegaz)/sqrt(2*π);\n",
    "\n",
    "\n",
    "function sol(z::Float64,t)\n",
    "    1\n",
    "    #tanh((z*sqrt(abs(sin(omegaz*t)))-z0)/(ksi*gama))/gama\n",
    "end\n",
    "\n",
    "function fase_rr1(r1::Float64,r::Float64,t::Float64)\n",
    "    (m*omegar/(2*hbarr))*((r1^2+r^2)*cos(omegar*t))+π/4\n",
    "end\n",
    "\n",
    "function fase_zz1(z1::Float64,z::Float64,t::Float64)\n",
    "    (m*omegaz/(2*hbarr))*((z1^2+z^2)*cos(omegaz*t)-2*z*z1)\n",
    "end\n",
    "\n",
    "\n",
    "function Bessel0(r1::Float64,r::Float64)\n",
    "    besselj0(abs(m*omegar*r*r1/hbarr))\n",
    "end\n",
    "\n",
    "function U(r::Float64,z::Float64,t::Float64)\n",
    "    0.5*(m)*((omegar*r)^2*sin(omegar*t) + (omegaz*z)^2*sin(omegaz*t))\n",
    "end\n",
    "\n",
    "\n",
    "\n",
    "function n_tf(r::Float64,z::Float64,t::Float64)            \n",
    "    if  mu-U(r,z,t)>0 0\n",
    "        return (mu-U(r,z,t))/(n*g_alfa)              \n",
    "    end\n",
    "    return 0       \n",
    "    \n",
    "    \n",
    "#    ((m/(π*hbarr))^(3/2)*omegar*omegaz^(1/2)*exp(  -(m*omegar/(hbarr))*r^2*sin(omegar*t)-(m*omegaz/(hbarr))*z^2*sin(omegaz*t))  )    \n",
    "\n",
    "    \n",
    "end\n",
    "\n",
    "\n",
    "function Rre(r1::Float64,r::Float64,t::Float64)\n",
    "    Bessel0(r1,r)*r1*cos(fase_rr1(r1,r,t))\n",
    "end\n",
    "\n",
    "\n",
    "function Rim(r1::Float64,r::Float64,t::Float64)\n",
    "    Bessel0(r1,r)*r1*sin(fase_rr1(r1,r,t))\n",
    "end\n",
    "\n",
    "\n",
    "function Zre(z1::Float64,z::Float64,t::Float64)\n",
    "    cos(fase_zz1(z1,z,t))*sol(z1,t)-beta*sin(fase_zz1(z1,z,t))\n",
    "end\n",
    "\n",
    "function Zim(z1::Float64,z::Float64,t::Float64)\n",
    "    sin(fase_zz1(z1,z,t))*sol(z1,t)+beta*cos(fase_zz1(z1,z,t))\n",
    "end\n",
    "\n",
    "\n",
    "function R_funcion_a_integrar(r1::Float64,z1::Float64,r::Float64,z::Float64,t::Float64)\n",
    "    Rre(r1,r,t)*sqrt(n_tf(r1,z1,t))*Zre(z1,z,t)-Rim(r1,r,t)*sqrt(n_tf(r1,z1,t))*Zim(z1,z,t)\n",
    "end\n",
    "\n",
    "\n",
    "function I_funcion_a_integrar(r1::Float64,z1::Float64,r::Float64,z::Float64,t::Float64)\n",
    "    Rre(r1,r,t)*sqrt(n_tf(r1,z1,t))*Zim(z1,z,t)+Rim(r1,r,t)*sqrt(n_tf(r1,z1,t))*Zre(z1,z,t)\n",
    "end\n",
    "\n",
    "\n",
    "R_funcion_a_integrar(v::Vector{Float64},r,z,t)=R_funcion_a_integrar(v[1],v[2],r,z,t)\n",
    "\n",
    "I_funcion_a_integrar(v::Vector{Float64},r,z,t)=I_funcion_a_integrar(v[1],v[2],r,z,t)\n"
   ]
  },
  {
   "cell_type": "code",
   "execution_count": null,
   "metadata": {
    "collapsed": true
   },
   "outputs": [],
   "source": []
  },
  {
   "cell_type": "code",
   "execution_count": null,
   "metadata": {
    "collapsed": true
   },
   "outputs": [],
   "source": []
  },
  {
   "cell_type": "code",
   "execution_count": null,
   "metadata": {
    "collapsed": true
   },
   "outputs": [],
   "source": []
  },
  {
   "cell_type": "code",
   "execution_count": 35,
   "metadata": {
    "collapsed": false
   },
   "outputs": [
    {
     "data": {
      "image/png": "[encoded data removed]",
      "text/plain": [
       "PyPlot.Figure(PyObject <matplotlib.figure.Figure object at 0x7f12022c6bd0>)"
      ]
     },
     "metadata": {},
     "output_type": "display_data"
    }
   ],
   "source": [
    "divisor_alfa=10;\n",
    "A=readdlm(\"salida a 5*1  alfa entre 10  resol de 100*100 .dat\", );\n",
    "grafdensidad([-zmaxintegrar(t0)/lOA,zmaxintegrar(t0)/lOA],[0.0,rmaxintegrar(t0)/lOA],101,A,\"Amplitud de probabilidad de la funcion propagada\",\"z[lOA]\",\"r[lOA]\",\"barra\")\n",
    "savefig(\"Perfil a tiempo 5 con alfa entre $divisor_alfa lambda=$lambda .png\")"
   ]
  },
  {
   "cell_type": "code",
   "execution_count": 19,
   "metadata": {
    "collapsed": false
   },
   "outputs": [
    {
     "data": {
      "text/plain": [
       "10"
      ]
     },
     "execution_count": 19,
     "metadata": {},
     "output_type": "execute_result"
    }
   ],
   "source": [
    "divisor_alfa"
   ]
  },
  {
   "cell_type": "code",
   "execution_count": null,
   "metadata": {
    "collapsed": true
   },
   "outputs": [],
   "source": []
  },
  {
   "cell_type": "code",
   "execution_count": null,
   "metadata": {
    "collapsed": true
   },
   "outputs": [],
   "source": []
  },
  {
   "cell_type": "code",
   "execution_count": null,
   "metadata": {
    "collapsed": true
   },
   "outputs": [],
   "source": []
  },
  {
   "cell_type": "code",
   "execution_count": null,
   "metadata": {
    "collapsed": true
   },
   "outputs": [],
   "source": []
  },
  {
   "cell_type": "code",
   "execution_count": null,
   "metadata": {
    "collapsed": true
   },
   "outputs": [],
   "source": []
  },
  {
   "cell_type": "code",
   "execution_count": null,
   "metadata": {
    "collapsed": true
   },
   "outputs": [],
   "source": []
  }
 ],
 "metadata": {
  "kernelspec": {
   "display_name": "Julia 0.4.0",
   "language": "julia",
   "name": "julia-0.4"
  },
  "language_info": {
   "file_extension": ".jl",
   "mimetype": "application/julia",
   "name": "julia",
   "version": "0.4.0"
  }
 },
 "nbformat": 4,
 "nbformat_minor": 0
}
