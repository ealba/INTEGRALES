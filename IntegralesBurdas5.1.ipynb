{
 "cells": [
  {
   "cell_type": "markdown",
   "metadata": {},
   "source": [
    "### -----------------------------librerías extra"
   ]
  },
  {
   "cell_type": "code",
   "execution_count": 1,
   "metadata": {
    "collapsed": false
   },
   "outputs": [],
   "source": [
    "using ProgressMeter\n",
    "using Cubature\n",
    "using PyPlot\n",
    "using Graf\n",
    "using nintegrate"
   ]
  },
  {
   "cell_type": "markdown",
   "metadata": {},
   "source": [
    "### ----------------------------constantes"
   ]
  },
  {
   "cell_type": "markdown",
   "metadata": {},
   "source": [
    "### ----------------------------"
   ]
  },
  {
   "cell_type": "code",
   "execution_count": 2,
   "metadata": {
    "collapsed": false
   },
   "outputs": [],
   "source": [
    "const m = 1.0;\n",
    "const hbarr = 1.0;\n",
    "#n = 1.;\n",
    "const ωz = 0.05;\n",
    "const ωr = 7.0*ωz;\n",
    "const n=1.;\n",
    "const α=10.0;\n",
    "const g_α=4.0*π*α;\n",
    "const ωm=(ωr*ωz)^(1/3);\n",
    "const μ=0.5*ωm*(15*α*sqrt(m*ωm))^(2.0/5.0);\n",
    "\n",
    "const c = sqrt(n*g_α/m);"
   ]
  },
  {
   "cell_type": "markdown",
   "metadata": {},
   "source": [
    "### -------------"
   ]
  },
  {
   "cell_type": "markdown",
   "metadata": {},
   "source": [
    "### -------------parámetros característicos del solitón bosónico"
   ]
  },
  {
   "cell_type": "code",
   "execution_count": 3,
   "metadata": {
    "collapsed": false
   },
   "outputs": [],
   "source": [
    "ξ=0.9;\n",
    "β=0.0;\n",
    "algo=3.0\n",
    "z0=algo*ξ;\n",
    "γ=1/(sqrt(1-β^2));"
   ]
  },
  {
   "cell_type": "code",
   "execution_count": 4,
   "metadata": {
    "collapsed": false
   },
   "outputs": [
    {
     "data": {
      "text/plain": [
       "1.0"
      ]
     },
     "execution_count": 4,
     "metadata": {},
     "output_type": "execute_result"
    }
   ],
   "source": [
    "γ"
   ]
  },
  {
   "cell_type": "markdown",
   "metadata": {},
   "source": [
    "### ----Función de onda"
   ]
  },
  {
   "cell_type": "code",
   "execution_count": 5,
   "metadata": {
    "collapsed": false
   },
   "outputs": [
    {
     "data": {
      "text/plain": [
       "n_tf (generic function with 1 method)"
      ]
     },
     "execution_count": 5,
     "metadata": {},
     "output_type": "execute_result"
    }
   ],
   "source": [
    "\n",
    "function N(t::Float64)\n",
    "    (1/sqrt(2*pi))*(ωr/sin(ωr*t))*sqrt(ωz/sin(ωz*t))\n",
    "end\n",
    "\n",
    "function sol(z::Float64)\n",
    "(tanh((z-z0)/(ξ*γ)))/γ\n",
    "end\n",
    "\n",
    "\n",
    "function ϕ_rr1(r::Float64,r1::Float64,t::Float64)\n",
    "    (m*ωr/(2*hbarr))*(r1^2+r^2)/tan(ωr*t)+ pi/4\n",
    "end\n",
    "\n",
    "function ϕ_zz1(z::Float64,z1::Float64,t::Float64)\n",
    "    (m*ωz/(2*hbarr))*(z1^2+z^2)/tan(ωz*t)-2*z*z1*t/sin(ωz*t)\n",
    "end\n",
    "\n",
    "function Rre(r::Float64,r1::Float64,t::Float64)\n",
    "    besselj0(-m*ωr*r*r1/(hbarr*sin(ωr*t)))*r1*cos(ϕ_rr1(r,r1,t))\n",
    "end\n",
    "\n",
    "function Rim(r::Float64,r1::Float64,t::Float64)\n",
    "    besselj0(-m*ωr*r*r1/(hbarr*sin(ωr*t)))*r1*sin(ϕ_rr1(r,r1,t))\n",
    "end\n",
    "\n",
    "function Zre(z::Float64,z1::Float64,t::Float64)\n",
    "    cos(ϕ_zz1(z,z1,t))*sol(z')-β*sin(ϕ_zz1(z,z1,t))\n",
    "end\n",
    "\n",
    "function Zim(z::Float64,z1::Float64,t::Float64)\n",
    "    sin(ϕ_zz1(z,z1,t))*sol(z')+β*cos(ϕ_zz1(z,z1,t))\n",
    "end\n",
    "\n",
    "function U(r::Float64,z::Float64)\n",
    "                    (1/2)*m*((ωr*r)^2 + (ωz*z)^2)\n",
    "                    end\n",
    "\n",
    "function n_tf(r::Float64,z::Float64)            \n",
    "    if  μ-U(r,z)>0 0\n",
    "        return (μ-U(r,z))/(n*g_α)              \n",
    "    end\n",
    "    return 0       \n",
    "end"
   ]
  },
  {
   "cell_type": "code",
   "execution_count": 6,
   "metadata": {
    "collapsed": false
   },
   "outputs": [],
   "source": [
    "const rmaxintegrar=sqrt(2*μ/m)/ωr;\n",
    "const rminintegrar=0;\n",
    "const zmaxintegrar=sqrt(2*μ/m)/ωz;\n",
    "const zminintegrar=-sqrt(2*μ/m)/ωz;\n",
    "\n",
    "rmaxevaluar=rmaxintegrar;\n",
    "rminevaluar=0.0;\n",
    "zmaxevaluar=zmaxintegrar;\n",
    "zminevaluar=-zmaxevaluar;\n"
   ]
  },
  {
   "cell_type": "markdown",
   "metadata": {},
   "source": []
  },
  {
   "cell_type": "markdown",
   "metadata": {},
   "source": [
    "# Reglas para sumar x+Dx_ωx y quedarse en el dominio de integracion"
   ]
  },
  {
   "cell_type": "code",
   "execution_count": 7,
   "metadata": {
    "collapsed": false
   },
   "outputs": [],
   "source": [
    "function valor_r1_abajo(r::Float64,dr::Float64)\n",
    "\n",
    "    if  r-dr<0.0\n",
    "        return 0.0\n",
    "    end\n",
    "    \n",
    "    return r-dr;        \n",
    "end\n",
    "\n",
    "\n",
    "\n",
    "function valor_r1_arriba(r::Float64,dr::Float64,rmax::Float64)\n",
    "    if  r+dr>rmax\n",
    "        return rmax    \n",
    "    end\n",
    "    return r+dr;        \n",
    "end\n",
    "\n",
    "\n",
    "valor_z1_arriba(z,dz,zmax)=valor_r1_arriba(z,dz,zmax)\n",
    "\n",
    "function valor_z1_abajo(z::Float64,dz::Float64,zmin::Float64)\n",
    "    if  z-dz<zmin\n",
    "        return zmin    \n",
    "    end\n",
    "    return z-dz;        \n",
    "end"
   ]
  },
  {
   "cell_type": "markdown",
   "metadata": {},
   "source": [
    "# Extraer el índice de un arreglo de números numéricamente"
   ]
  },
  {
   "cell_type": "code",
   "execution_count": 11,
   "metadata": {
    "collapsed": false
   },
   "outputs": [
    {
     "data": {
      "text/plain": [
       "indicializar_arriba (generic function with 1 method)"
      ]
     },
     "execution_count": 11,
     "metadata": {},
     "output_type": "execute_result"
    }
   ],
   "source": [
    "function indicializar_abajo(x,xmin,d)\n",
    "    i0=(x-xmin)/d\n",
    "    i0=round(Integer,floor(i0))+1\n",
    "end\n",
    "\n",
    "function indicializar_arriba(x,xmin,d)\n",
    "    i0=(x-xmin)/d\n",
    "    i0=round(Integer,ceil(i0))\n",
    "end"
   ]
  },
  {
   "cell_type": "markdown",
   "metadata": {},
   "source": [
    "# Propagar Perfil inicial"
   ]
  },
  {
   "cell_type": "markdown",
   "metadata": {},
   "source": [
    "# ----------------------------------------------------------------------------------------------"
   ]
  },
  {
   "cell_type": "code",
   "execution_count": 16,
   "metadata": {
    "collapsed": false
   },
   "outputs": [],
   "source": [
    "iteracionest=2\n",
    "iteracionesr1=Integer(400);\n",
    "iteracionesz1=Integer(400);\n",
    "iteracionesr=Integer(100);\n",
    "iteracionesz=Integer(100);\n",
    "\n",
    "Dr1=(rmaxintegrar-rminintegrar)/iteracionesr1;\n",
    "Dz1=(zmaxintegrar-zminintegrar)/iteracionesz1;\n",
    "\n",
    "Dr=(rmaxevaluar-rminevaluar)/iteracionesr;\n",
    "Dz=(zmaxevaluar-zminevaluar)/iteracionesz;\n",
    "\n",
    "#Dr1_ωr=sqrt(hbarr/(m*ωr)); #Dr1_ωr>Dr1\n",
    "#Dz1_ωz=sqrt(hbarr/(m*ωz)); #Dz1_ωz>Dr1\n",
    "\n",
    "Dr1_ωr=Dr1*10;\n",
    "Dz1_ωz=Dz1*10;\n",
    "############valores en índices\n",
    "dzl0=    round(Integer,Dz1_ωz/Dz1);\n",
    "drk0=    round(Integer,Dr1_ωr/Dr1); #a lo más, se va a integrar 2*drk0*N_arbitrario puntos+1 al rededor de un punto dado (contando al punto)\n",
    "\n",
    "\n",
    "# EL TIEMPO\n",
    "t0=1/sqrt(ωr^2+ωz^2);"
   ]
  },
  {
   "cell_type": "code",
   "execution_count": 19,
   "metadata": {
    "collapsed": false
   },
   "outputs": [
    {
     "data": {
      "text/plain": [
       "mapear_funcion_2d_y_t (generic function with 1 method)"
      ]
     },
     "execution_count": 19,
     "metadata": {},
     "output_type": "execute_result"
    }
   ],
   "source": [
    "function mapear_funcion_2d_y_t(f::Function,x::Integer,xmin::Float64,Dx::Float64,y::Integer,Dy::Float64,t::Integer,Dt::Float64)\n",
    "    mapeado=zeros(x+1,y+1,t)\n",
    "   \n",
    "    for l in 1:t\n",
    "        t1=Dt*l\n",
    "       \n",
    "        for i in 1:x+1\n",
    "            x1=(i-1)*Dx+xmin   \n",
    "\n",
    "           \n",
    "            for j in 1:y+1\n",
    "                r1=(k-1)*Dr1;    \n",
    "                #println(\"r1=$r1\")\n",
    "                mapeado[i,j,l]=f(x1,y1,t1);    \n",
    "            end    \n",
    "        \n",
    "        end\n",
    "    end\n",
    "\n",
    "end"
   ]
  },
  {
   "cell_type": "code",
   "execution_count": 20,
   "metadata": {
    "collapsed": false
   },
   "outputs": [],
   "source": [
    "t=t0*iteracionest;\n",
    "\n",
    "\n",
    "#Arreglos vacíos para guardar los resultados\n",
    "\n",
    "fRre=zeros(iteracionesr+1,iteracionesr1+1);\n",
    "fRim=zeros(iteracionesz+1,iteracionesz1+1);\n",
    "\n",
    "gZre=zeros(iteracionesz+1,iteracionesz1+1);\n",
    "gZim=zeros(iteracionesz+1,iteracionesz1+1);\n",
    "\n",
    "\n",
    "ReIntegral=zeros(iteracionesr+1,iteracionesz+1);\n",
    "ImIntegral=zeros(iteracionesr+1,iteracionesz+1);\n",
    "\n",
    "\n",
    "for i in 1: iteracionesr+1\n",
    "    r=(i-1)*Dr   \n",
    "    #println(\"r=====$r\")\n",
    "    for k in 1:iteracionesr1+1\n",
    "        r1=(k-1)*Dr1;    \n",
    "        #println(\"r1=$r1\")\n",
    "        fRre[i,k,]=Rre(r,r1,t);\n",
    "        fRim[i,k]=Rim(r,r1,t);\n",
    "        #comodin[i,j]=r*r1;\n",
    "    end    \n",
    "end\n",
    "\n",
    "\n",
    "for j in 1: iteracionesz+1\n",
    "    z=zminevaluar+(j-1)*Dz\n",
    "    for l in 1:iteracionesz1+1                             \n",
    "        z1=zminintegrar+(l-1)*Dz1;    \n",
    "        gZre[j,l]=Zre(z,z1,t);\n",
    "        gZim[j,l]=Zim(z,z1,t);\n",
    "    \n",
    "    end    \n",
    "end\n"
   ]
  },
  {
   "cell_type": "code",
   "execution_count": 17,
   "metadata": {
    "collapsed": false
   },
   "outputs": [
    {
     "data": {
      "text/plain": [
       "75"
      ]
     },
     "execution_count": 17,
     "metadata": {},
     "output_type": "execute_result"
    }
   ],
   "source": []
  },
  {
   "cell_type": "code",
   "execution_count": 18,
   "metadata": {
    "collapsed": false
   },
   "outputs": [
    {
     "data": {
      "text/plain": [
       "150"
      ]
     },
     "execution_count": 18,
     "metadata": {},
     "output_type": "execute_result"
    }
   ],
   "source": [
    "drk0*2"
   ]
  },
  {
   "cell_type": "code",
   "execution_count": 19,
   "metadata": {
    "collapsed": false
   },
   "outputs": [
    {
     "data": {
      "text/plain": [
       "150"
      ]
     },
     "execution_count": 19,
     "metadata": {},
     "output_type": "execute_result"
    }
   ],
   "source": [
    "dzl0*2"
   ]
  },
  {
   "cell_type": "code",
   "execution_count": 20,
   "metadata": {
    "collapsed": false
   },
   "outputs": [
    {
     "data": {
      "text/plain": [
       "200.0"
      ]
     },
     "execution_count": 20,
     "metadata": {},
     "output_type": "execute_result"
    }
   ],
   "source": [
    "zmaxintegrar/Dz1"
   ]
  },
  {
   "cell_type": "code",
   "execution_count": 21,
   "metadata": {
    "collapsed": false
   },
   "outputs": [
    {
     "data": {
      "text/plain": [
       "399.99999999999994"
      ]
     },
     "execution_count": 21,
     "metadata": {},
     "output_type": "execute_result"
    }
   ],
   "source": [
    "rmaxintegrar/Dr1"
   ]
  },
  {
   "cell_type": "code",
   "execution_count": 22,
   "metadata": {
    "collapsed": false
   },
   "outputs": [
    {
     "data": {
      "text/plain": [
       "48.51609668646931"
      ]
     },
     "execution_count": 22,
     "metadata": {},
     "output_type": "execute_result"
    }
   ],
   "source": [
    "zmaxevaluar-zminevaluar"
   ]
  },
  {
   "cell_type": "code",
   "execution_count": 23,
   "metadata": {
    "collapsed": false
   },
   "outputs": [
    {
     "data": {
      "text/plain": [
       "9.096768128712997"
      ]
     },
     "execution_count": 23,
     "metadata": {},
     "output_type": "execute_result"
    }
   ],
   "source": [
    "Dz1_ωz"
   ]
  },
  {
   "cell_type": "code",
   "execution_count": null,
   "metadata": {
    "collapsed": true
   },
   "outputs": [],
   "source": [
    "p=Progress(iteracionesr+1,1)\n",
    "\n",
    "tic()\n",
    "\n",
    "for i in 1: iteracionesr+1\n",
    "    #println(\"i====================$i\") \n",
    "    r=(i-1)*Dr;    \n",
    "   #println(\"r=============================================$r\") \n",
    "\n",
    "    \n",
    "    for j in 1: iteracionesz+1\n",
    "        #println(\"j===========$j\") \n",
    "        z=zminevaluar+(j-1)*Dz;    \n",
    "        #println(\"z======================$z\") \n",
    "\n",
    "\n",
    "\n",
    "        r1_minimo=valor_r1_abajo(r,Dr1_ωr); #r+Dr1_ωr con reglas\n",
    "        r1_maximo=valor_r1_arriba(r,Dr1_ωr,rmaxintegrar); #r-Dr1_ωr con reglas\n",
    "\n",
    "        z1_minimo=valor_z1_abajo(z,Dz1_ωz,zminintegrar); #z-Dz1_ωz con reglas\n",
    "        z1_maximo=valor_z1_arriba(z,Dz1_ωz,zmaxintegrar); #z+Dz1_ωz con reglas\n",
    "\n",
    "\n",
    "\n",
    "            for k in indicializar_abajo(r1_minimo,rminintegrar,Dr1): indicializar_arriba(r1_maximo,rminintegrar,Dr1)+1 #induce error de redondeo    \n",
    "            #for k in 1: iteracionesr1+1\n",
    "                r1=(k-1)*Dr1;\n",
    "\n",
    "                #println(\"k====$k\") \n",
    "                #println(\"r1===============$r1\")\n",
    "                #println(\"kmax====$(indicializar(r1_maximo,rminintegrar,Dr1))\")\n",
    "\n",
    "                #println(\"r1===\",\"$r1\")\n",
    "                \n",
    "                    for l in indicializar_abajo(z1_minimo,zminintegrar,Dz1): indicializar_arriba(z1_maximo,zminintegrar,Dz1)+1 #induce error de redondeo\n",
    "                    #for l in 1:iteracionesz1+1\n",
    "                    #println(\"l==$l\")   \n",
    "\n",
    "\n",
    "                        #println(\"$(indicializar(r1_minimo,rminintegrar,Dr1))\", \"$(indicializar(r1_maximo,rminintegrar,Dr1))\")\n",
    "\n",
    "                        #println(\"lmin==$(indicializar(z1_minimo,zminintegrar,Dz1))\")\n",
    "                        #println(\"lmax==$(indicializar(r1_minimo,zminintegrar,Dz1))\")\n",
    "\n",
    "                        z1=zminevaluar+(l-1)*Dz1;\n",
    "                        #println(\"z1====$z1\")\n",
    "\n",
    "                        #println(\"z1=\",\"$z1\")\n",
    "\n",
    "\n",
    "\n",
    "\n",
    "                        #Llamando los arreglos ya hechos para mapear las funciones en r,r1 y en z,z1:\n",
    "\n",
    "                        #ReIntegral[i,j]=ReIntegral[i,j]+n_tf(r1,z1)*(fRre[i,k]*gZre[j,l]-fRim[i,k]*gZim[j,l])#*Dr1*Dz1;   \n",
    "                        #ImIntegral[i,j]=ImIntegral[i,j]+n_tf(r1,z1)*(fRre[i,k]*gZim[j,l]+fRim[i,k]*gZre[j,l])#*Dr1*Dz1;\n",
    "\n",
    "\n",
    "                        #Sin llamar los arreglos ya hechos para mapear las funciones en r,r1 y en z,z1:\n",
    "                        ReIntegral[i,j]=ReIntegral[i,j]+n_tf(r1,z1)*(Rre(r,r1,t)*Zre(z,z1,t)-Rim(r,r1,t)*Zim(z,z1,t))*Dr1*Dz1;\n",
    "                        \n",
    "                        ImIntegral[i,j]=ImIntegral[i,j]+n_tf(r1,z1)*(Rre(r,r1,t)*Zim(z,z1,t)+Rim(r,r1,t)*Zre(z,z1,t))*Dr1*Dz1;\n",
    "                    end\n",
    "\n",
    "            end\n",
    "        \n",
    "\n",
    "    end\n",
    "\n",
    "    next!(p)\n",
    "end\n",
    "\n",
    "toc()"
   ]
  },
  {
   "cell_type": "code",
   "execution_count": null,
   "metadata": {
    "collapsed": true
   },
   "outputs": [],
   "source": [
    "ReIntegral=ReIntegral*N(t);\n",
    "ImIntegral=ImIntegral*N(t);\n",
    "Z=ReIntegral.^2+ImIntegral.^2;\n",
    "grafdensidad([zminevaluar,zmaxevaluar],[rminevaluar,rmaxevaluar],length(ReIntegral[:,1]),Z,\"Perfil Propagado a t=$DT *T0\",\"z\",\"r\")    \n",
    "savefig(\"fig$DT con $drk0 de r y $dzl0 de z resol de $iteracionesz*$iteracionesr.png\")"
   ]
  },
  {
   "cell_type": "markdown",
   "metadata": {
    "collapsed": true
   },
   "source": [
    "# ----------------------------------------------------------------------------------------------"
   ]
  },
  {
   "cell_type": "code",
   "execution_count": null,
   "metadata": {
    "collapsed": true
   },
   "outputs": [],
   "source": []
  },
  {
   "cell_type": "markdown",
   "metadata": {},
   "source": [
    "#El perfil inicial "
   ]
  },
  {
   "cell_type": "code",
   "execution_count": 27,
   "metadata": {
    "collapsed": false
   },
   "outputs": [
    {
     "data": {
      "image/png": "[encoded data removed]",
      "text/plain": [
       "PyPlot.Figure(PyObject <matplotlib.figure.Figure object at 0x7fdb9dd3c810>)"
      ]
     },
     "metadata": {},
     "output_type": "display_data"
    }
   ],
   "source": [
    "resolucion=1000;\n",
    "\n",
    "perfilinicial=zeros(resolucion+1,resolucion+1)\n",
    "\n",
    "function FUNCIONTF0(r::Float64,z::Float64)\n",
    "    n_tf(r,z)*(sol(z)+im*β)\n",
    "end\n",
    "\n",
    "function ρ0(r::Float64,z::Float64)\n",
    "    FUNCIONTF0(r,z) *conj(FUNCIONTF0(r,z))\n",
    "end\n",
    "\n",
    "perfilinicial=gencodominio2D([zminintegrar,zmaxintegrar],[rminintegrar,rmaxintegrar],resolucion,ρ0);\n",
    "grafdensidad([zminintegrar,zmaxintegrar],[rminintegrar,rmaxintegrar],resolucion+1, perfilinicial,\"Perfil Inicial\",\"z\",\"r\")\n",
    "savefig(\"perfilinicial con ksi=$ξ,z0=$algo*ksi.png\")"
   ]
  },
  {
   "cell_type": "code",
   "execution_count": null,
   "metadata": {
    "collapsed": true
   },
   "outputs": [],
   "source": [
    "genco"
   ]
  },
  {
   "cell_type": "code",
   "execution_count": null,
   "metadata": {
    "collapsed": true
   },
   "outputs": [],
   "source": []
  },
  {
   "cell_type": "markdown",
   "metadata": {
    "collapsed": true
   },
   "source": [
    "## líneas de nivel"
   ]
  },
  {
   "cell_type": "markdown",
   "metadata": {
    "collapsed": true
   },
   "source": [
    "for i in 1:100\n",
    "    z=linspace(zmin,zmax,resolucion)\n",
    "    PyPlot.plot(z,perfilinicial[i,:]')\n",
    "    PyPlot.xlabel(\"z\")\n",
    "    PyPlot.ylabel(\"ρ\")\n",
    "    PyPlot.title(\"dejando r constante y variando z\")\n",
    "    #PyPlot.legend(\"$i\")\n",
    "end"
   ]
  },
  {
   "cell_type": "markdown",
   "metadata": {
    "collapsed": true
   },
   "source": [
    "for i in 1:100\n",
    "        r=linspace(0,rmax,resolucion)\n",
    "\n",
    "    PyPlot.plot(r,perfilinicial[:,i])\n",
    "    #PyPlot.legend(\"$i\")\n",
    "    PyPlot.xlabel(\"r\")\n",
    "    PyPlot.ylabel(\"ρ\")\n",
    "    PyPlot.title(\"Dejando z constante y variando r\")\n",
    "end"
   ]
  },
  {
   "cell_type": "code",
   "execution_count": 190,
   "metadata": {
    "collapsed": false
   },
   "outputs": [
    {
     "data": {
      "text/plain": [
       "3.4654354776049505"
      ]
     },
     "execution_count": 190,
     "metadata": {},
     "output_type": "execute_result"
    }
   ],
   "source": [
    "rmaxintegrar"
   ]
  },
  {
   "cell_type": "code",
   "execution_count": null,
   "metadata": {
    "collapsed": false
   },
   "outputs": [],
   "source": []
  },
  {
   "cell_type": "code",
   "execution_count": null,
   "metadata": {
    "collapsed": false
   },
   "outputs": [],
   "source": []
  },
  {
   "cell_type": "code",
   "execution_count": null,
   "metadata": {
    "collapsed": false
   },
   "outputs": [],
   "source": []
  },
  {
   "cell_type": "code",
   "execution_count": null,
   "metadata": {
    "collapsed": false
   },
   "outputs": [],
   "source": []
  },
  {
   "cell_type": "code",
   "execution_count": null,
   "metadata": {
    "collapsed": false
   },
   "outputs": [],
   "source": []
  },
  {
   "cell_type": "markdown",
   "metadata": {},
   "source": [
    "## Es lo mismo que con las hcubature (faltan las expresiones en forma vectorial):"
   ]
  },
  {
   "cell_type": "code",
   "execution_count": 164,
   "metadata": {
    "collapsed": false,
    "scrolled": true
   },
   "outputs": [
    {
     "data": {
      "text/plain": [
       "Φ_imag_entreNt (generic function with 1 method)"
      ]
     },
     "execution_count": 164,
     "metadata": {},
     "output_type": "execute_result"
    }
   ],
   "source": [
    "function Φ_real_entreNt(v::Array{Float64,1},r,z,t)\n",
    "    sqrt(n_tf(v[1],v[2]))*(Rre(r,v[1],t)*Zre(z,v[2],t)-Rim(r,v[1],t)*Zim(z,v[2],t))\n",
    "end\n",
    "        \n",
    "function Φ_imag_entreNt(v::Array{Float64,1},r,z,t)\n",
    "    sqrt(n_tf(v[1],v[2]))*(Rre(r,v[1],t)*Zim(z,v[2],t)+Rim(r,v[1],t)*Zre(z,v[2],t))\n",
    "end\n",
    "\n"
   ]
  },
  {
   "cell_type": "code",
   "execution_count": 389,
   "metadata": {
    "collapsed": false
   },
   "outputs": [
    {
     "data": {
      "text/plain": [
       "0.05050658569502065"
      ]
     },
     "execution_count": 389,
     "metadata": {},
     "output_type": "execute_result"
    }
   ],
   "source": [
    "Φ_imag_entreNt([1.05,1.02],1.01,1.01,1.0)"
   ]
  },
  {
   "cell_type": "code",
   "execution_count": 391,
   "metadata": {
    "collapsed": false
   },
   "outputs": [
    {
     "name": "stderr",
     "output_type": "stream",
     "text": [
      "\n",
      "WARNING: deprecated syntax \"Φ_real_entreNt (\" at In[391]:17.\n",
      "Use \"Φ_real_entreNt(\" instead.\n",
      "\n",
      "WARNING: deprecated syntax \"Φ_imag_entreNt (\" at In[391]:18.\n",
      "Use \"Φ_imag_entreNt(\" instead.\n"
     ]
    },
    {
     "name": "stdout",
     "output_type": "stream",
     "text": [
      "Progress: 100% Time: 1:26:23\n"
     ]
    },
    {
     "data": {
      "text/plain": [
       "5182.791920767"
      ]
     },
     "execution_count": 391,
     "metadata": {},
     "output_type": "execute_result"
    }
   ],
   "source": [
    "p=Progress(iteracionesr+1,1)\n",
    "\n",
    "wre= zeros(iteracionesr+1,iteracionesz+1);    \n",
    "wim= zeros(iteracionesr+1,iteracionesz+1);\n",
    "\n",
    "\n",
    "tic()\n",
    "for i in 1: iteracionesr+1\n",
    "    #println(\"i====================$i\") \n",
    "    r=(i-1)*Dr;    \n",
    "   \n",
    "\n",
    "    for j in 1: iteracionesz+1\n",
    "        #println(\"j===========$j\") \n",
    "        z=zminevaluar+(j-1)*Dz;    \n",
    "\n",
    "        f(v)=Φ_real_entreNt(v,r,z,t)\n",
    "        g(v)=Φ_imag_entreNt(v,r,z,t)\n",
    "      \n",
    "        (val,err) = hcubature(f,[rmaxintegrar,zmaxintegrar], [0.0,zminintegrar]; reltol=1e-6, abstol=1e-6, maxevals=100000);\n",
    "        (val2,err) = hcubature(g,[rmaxintegrar,zmaxintegrar], [0.0,zminintegrar]; reltol=1e-6, abstol=1e-6, maxevals=100000);\n",
    "        \n",
    "        wre[i,j]=val\n",
    "        wim[i,j]=val2     \n",
    "  \n",
    "    end\n",
    "\n",
    "    next!(p)\n",
    "end\n",
    "\n",
    "toc()\n"
   ]
  },
  {
   "cell_type": "code",
   "execution_count": 450,
   "metadata": {
    "collapsed": false
   },
   "outputs": [],
   "source": [
    "Z=wre.^2+wim.^2;\n",
    "\n",
    "\n"
   ]
  },
  {
   "cell_type": "code",
   "execution_count": null,
   "metadata": {
    "collapsed": true
   },
   "outputs": [],
   "source": []
  },
  {
   "cell_type": "code",
   "execution_count": null,
   "metadata": {
    "collapsed": true
   },
   "outputs": [],
   "source": []
  },
  {
   "cell_type": "code",
   "execution_count": null,
   "metadata": {
    "collapsed": true
   },
   "outputs": [],
   "source": []
  },
  {
   "cell_type": "code",
   "execution_count": null,
   "metadata": {
    "collapsed": true
   },
   "outputs": [],
   "source": []
  },
  {
   "cell_type": "code",
   "execution_count": null,
   "metadata": {
    "collapsed": true
   },
   "outputs": [],
   "source": []
  },
  {
   "cell_type": "code",
   "execution_count": null,
   "metadata": {
    "collapsed": true
   },
   "outputs": [],
   "source": []
  },
  {
   "cell_type": "code",
   "execution_count": 22,
   "metadata": {
    "collapsed": false
   },
   "outputs": [
    {
     "ename": "LoadError",
     "evalue": "rmaxevakyar not defined\nwhile loading In[22], in expression starting on line 4",
     "output_type": "error",
     "traceback": [
      "rmaxevakyar not defined\nwhile loading In[22], in expression starting on line 4",
      ""
     ]
    }
   ],
   "source": [
    "const xminI=[0.0, -sqrt(2*μ/m)/ωz];\n",
    "const xmaxI=[sqrt(2*μ/m)/ωr, sqrt(2*μ/m)/ωz];\n",
    "\n",
    "ψr10t0=nintegrar4Dmasunoa2Dmasuno(Φ_real_entreNt,[zminevaluar,zmaxevaluar],[rminevaluar,rmaxevakyar],10*t0,xminI,xmaxI,100,100);\n",
    "ψi10t0=nintegrar4Dmasunoa2Dmasuno(Φ_imag_entreNt,[zminevaluar,zmaxevaluar],[rminevaluar,rmaxevakyar],10*t0,xminI,xmaxI,100,100);\n"
   ]
  },
  {
   "cell_type": "code",
   "execution_count": null,
   "metadata": {
    "collapsed": true
   },
   "outputs": [],
   "source": []
  },
  {
   "cell_type": "code",
   "execution_count": null,
   "metadata": {
    "collapsed": true
   },
   "outputs": [],
   "source": []
  },
  {
   "cell_type": "code",
   "execution_count": null,
   "metadata": {
    "collapsed": true
   },
   "outputs": [],
   "source": []
  },
  {
   "cell_type": "code",
   "execution_count": null,
   "metadata": {
    "collapsed": true
   },
   "outputs": [],
   "source": []
  },
  {
   "cell_type": "code",
   "execution_count": null,
   "metadata": {
    "collapsed": true
   },
   "outputs": [],
   "source": []
  },
  {
   "cell_type": "code",
   "execution_count": null,
   "metadata": {
    "collapsed": true
   },
   "outputs": [],
   "source": []
  },
  {
   "cell_type": "code",
   "execution_count": null,
   "metadata": {
    "collapsed": true
   },
   "outputs": [],
   "source": []
  },
  {
   "cell_type": "code",
   "execution_count": 92,
   "metadata": {
    "collapsed": false
   },
   "outputs": [
    {
     "name": "stdout",
     "output_type": "stream",
     "text": [
      "Progress: 100% Time: 1:14:25\n",
      "elapsed time: 4464.601745732 seconds\n"
     ]
    },
    {
     "data": {
      "text/plain": [
       "4464.601745732"
      ]
     },
     "execution_count": 92,
     "metadata": {},
     "output_type": "execute_result"
    }
   ],
   "source": [
    "p=Progress(iteracionesr+1,1)\n",
    "\n",
    "tic()\n",
    "\n",
    "for i in 1: iteracionesr+1\n",
    "    #println(\"i====================$i\") \n",
    "    r=(i-1)*Dr;    \n",
    "   \n",
    "\n",
    "    for j in 1: iteracionesz+1\n",
    "        #println(\"j===========$j\") \n",
    "        z=zminevaluar+(j-1)*Dz;    \n",
    "\n",
    "\n",
    "\n",
    "\n",
    "        #for k in indicializar_abajo(r1_minimo,rminintegrar,Dr1): indicializar_arriba(r1_maximo,rminintegrar,Dr1) #induce error de redondeo    \n",
    "        for k in 1: iteracionesr1+1\n",
    "            r1=(k-1)*Dr1;\n",
    "            \n",
    "            #println(\"k====$k\") \n",
    "            #println(\"kmin====$(indicializar(r1_minimo,rminintegrar,Dr1))\")\n",
    "            #println(\"kmax====$(indicializar(r1_maximo,rminintegrar,Dr1))\")\n",
    "\n",
    "            #println(\"r1===\",\"$r1\")\n",
    "\n",
    "            #for l in indicializar_abajo(z1_minimo,zminintegrar,Dz1): indicializar_arriba(z1_maximo,zminintegrar,Dz1) #induce error de redondeo\n",
    "            for l in 1:iteracionesz1+1\n",
    "            #println(\"l==$l\")   \n",
    "\n",
    "                #println(\"$(indicializar(r1_minimo,rminintegrar,Dr1))\", \"$(indicializar(r1_maximo,rminintegrar,Dr1))\")\n",
    "\n",
    "                #println(\"lmin==$(indicializar(z1_minimo,zminintegrar,Dz1))\")\n",
    "                #println(\"lmax==$(indicializar(r1_minimo,zminintegrar,Dz1))\")\n",
    "                \n",
    "                z1=zminintegrar+(l-1)*Dz1;\n",
    "\n",
    "                #println(\"z1=\",\"$z1\")\n",
    "             \n",
    "                \n",
    "                \n",
    "                \n",
    "                #Llamando los arreglos ya hechos para mapear las funciones en r,r1 y en z,z1:\n",
    "                    \n",
    "                ReIntegral[i,j]=n_tf(r1,z1)*(fRre[i,k]*gZre[j,l]-fRim[i,k]*gZim[j,l])*Dr1*Dz1;   \n",
    "                ImIntegral[i,j]=n_tf(r1,z1)*(fRre[i,k]*gZim[j,l]+fRim[i,k]*gZre[j,l])*Dr1*Dz1;\n",
    "            \n",
    "            \n",
    "                #Sin llamar los arreglos ya hechos para mapear las funciones en r,r1 y en z,z1:\n",
    "                #   ReIntegral[i,j]=n_tf(r1,z1)*(Rre(r,r1,t)*Zre(z,z1,t)-Rim(r,r1,t)*Zim(z,z1,t))*Dr1*Dz1;\n",
    "                 #  ImIntegral[i,j]=n_tf(r1,z1)*(Rre(r,r1,t)*Zim(z,z1,t)+Rim(r,r1,t)*Zre(z,z1,t))*Dr1*Dz1;\n",
    "            end\n",
    "        \n",
    "        end\n",
    "        \n",
    "  \n",
    "    end\n",
    "\n",
    "    next!(p)\n",
    "end\n",
    "\n",
    "toc()"
   ]
  },
  {
   "cell_type": "code",
   "execution_count": 19,
   "metadata": {
    "collapsed": false
   },
   "outputs": [
    {
     "data": {
      "text/plain": [
       "101x101 Array{Float64,2}:\n",
       " 0.0  0.0  0.0  0.0  0.0  0.0  0.0  0.0  …  0.0  0.0  0.0  0.0  0.0  0.0  0.0\n",
       " 0.0  0.0  0.0  0.0  0.0  0.0  0.0  0.0     0.0  0.0  0.0  0.0  0.0  0.0  0.0\n",
       " 0.0  0.0  0.0  0.0  0.0  0.0  0.0  0.0     0.0  0.0  0.0  0.0  0.0  0.0  0.0\n",
       " 0.0  0.0  0.0  0.0  0.0  0.0  0.0  0.0     0.0  0.0  0.0  0.0  0.0  0.0  0.0\n",
       " 0.0  0.0  0.0  0.0  0.0  0.0  0.0  0.0     0.0  0.0  0.0  0.0  0.0  0.0  0.0\n",
       " 0.0  0.0  0.0  0.0  0.0  0.0  0.0  0.0  …  0.0  0.0  0.0  0.0  0.0  0.0  0.0\n",
       " 0.0  0.0  0.0  0.0  0.0  0.0  0.0  0.0     0.0  0.0  0.0  0.0  0.0  0.0  0.0\n",
       " 0.0  0.0  0.0  0.0  0.0  0.0  0.0  0.0     0.0  0.0  0.0  0.0  0.0  0.0  0.0\n",
       " 0.0  0.0  0.0  0.0  0.0  0.0  0.0  0.0     0.0  0.0  0.0  0.0  0.0  0.0  0.0\n",
       " 0.0  0.0  0.0  0.0  0.0  0.0  0.0  0.0     0.0  0.0  0.0  0.0  0.0  0.0  0.0\n",
       " 0.0  0.0  0.0  0.0  0.0  0.0  0.0  0.0  …  0.0  0.0  0.0  0.0  0.0  0.0  0.0\n",
       " 0.0  0.0  0.0  0.0  0.0  0.0  0.0  0.0     0.0  0.0  0.0  0.0  0.0  0.0  0.0\n",
       " 0.0  0.0  0.0  0.0  0.0  0.0  0.0  0.0     0.0  0.0  0.0  0.0  0.0  0.0  0.0\n",
       " ⋮                        ⋮              ⋱       ⋮                        ⋮  \n",
       " 0.0  0.0  0.0  0.0  0.0  0.0  0.0  0.0     0.0  0.0  0.0  0.0  0.0  0.0  0.0\n",
       " 0.0  0.0  0.0  0.0  0.0  0.0  0.0  0.0  …  0.0  0.0  0.0  0.0  0.0  0.0  0.0\n",
       " 0.0  0.0  0.0  0.0  0.0  0.0  0.0  0.0     0.0  0.0  0.0  0.0  0.0  0.0  0.0\n",
       " 0.0  0.0  0.0  0.0  0.0  0.0  0.0  0.0     0.0  0.0  0.0  0.0  0.0  0.0  0.0\n",
       " 0.0  0.0  0.0  0.0  0.0  0.0  0.0  0.0     0.0  0.0  0.0  0.0  0.0  0.0  0.0\n",
       " 0.0  0.0  0.0  0.0  0.0  0.0  0.0  0.0     0.0  0.0  0.0  0.0  0.0  0.0  0.0\n",
       " 0.0  0.0  0.0  0.0  0.0  0.0  0.0  0.0  …  0.0  0.0  0.0  0.0  0.0  0.0  0.0\n",
       " 0.0  0.0  0.0  0.0  0.0  0.0  0.0  0.0     0.0  0.0  0.0  0.0  0.0  0.0  0.0\n",
       " 0.0  0.0  0.0  0.0  0.0  0.0  0.0  0.0     0.0  0.0  0.0  0.0  0.0  0.0  0.0\n",
       " 0.0  0.0  0.0  0.0  0.0  0.0  0.0  0.0     0.0  0.0  0.0  0.0  0.0  0.0  0.0\n",
       " 0.0  0.0  0.0  0.0  0.0  0.0  0.0  0.0     0.0  0.0  0.0  0.0  0.0  0.0  0.0\n",
       " 0.0  0.0  0.0  0.0  0.0  0.0  0.0  0.0  …  0.0  0.0  0.0  0.0  0.0  0.0  0.0"
      ]
     },
     "execution_count": 19,
     "metadata": {},
     "output_type": "execute_result"
    }
   ],
   "source": [
    "ReIntegral"
   ]
  },
  {
   "cell_type": "code",
   "execution_count": 93,
   "metadata": {
    "collapsed": false
   },
   "outputs": [
    {
     "data": {
      "image/png": "[encoded data removed]",
      "text/plain": [
       "Figure(PyObject <matplotlib.figure.Figure object at 0x7fd38352c110>)"
      ]
     },
     "metadata": {},
     "output_type": "display_data"
    },
    {
     "data": {
      "text/plain": [
       "PyObject <matplotlib.image.AxesImage object at 0x7fd3832ce7d0>"
      ]
     },
     "execution_count": 93,
     "metadata": {},
     "output_type": "execute_result"
    }
   ],
   "source": [
    "Z=ReIntegral.^2+ImIntegral.^2\n",
    "imshow(Z)"
   ]
  },
  {
   "cell_type": "code",
   "execution_count": null,
   "metadata": {
    "collapsed": true
   },
   "outputs": [],
   "source": []
  },
  {
   "cell_type": "code",
   "execution_count": null,
   "metadata": {
    "collapsed": true
   },
   "outputs": [],
   "source": []
  },
  {
   "cell_type": "code",
   "execution_count": null,
   "metadata": {
    "collapsed": true
   },
   "outputs": [],
   "source": []
  },
  {
   "cell_type": "code",
   "execution_count": null,
   "metadata": {
    "collapsed": true
   },
   "outputs": [],
   "source": []
  },
  {
   "cell_type": "code",
   "execution_count": null,
   "metadata": {
    "collapsed": true
   },
   "outputs": [],
   "source": []
  },
  {
   "cell_type": "code",
   "execution_count": null,
   "metadata": {
    "collapsed": true
   },
   "outputs": [],
   "source": []
  },
  {
   "cell_type": "markdown",
   "metadata": {},
   "source": [
    "# esto"
   ]
  },
  {
   "cell_type": "code",
   "execution_count": 86,
   "metadata": {
    "collapsed": false
   },
   "outputs": [
    {
     "name": "stdout",
     "output_type": "stream",
     "text": [
      "Progress: 100% Time: 1:14:35\n",
      "te da una matríz Z de 101 X 101 donde Z(i->x,j->y) son los puntos integrados de g \n",
      "elapsed time: 4474.746841809 seconds\n"
     ]
    },
    {
     "data": {
      "text/plain": [
       "4474.746841809"
      ]
     },
     "execution_count": 86,
     "metadata": {},
     "output_type": "execute_result"
    }
   ],
   "source": [
    "tic()\n",
    "ψr_entre_10=nintegrar4Dmasunoa2Dmasuno(Φ_real_entreNt,[0.0,rmaxevaluar],[zminevaluar,zmaxevaluar],t0/10,[0.0,zminintegrar],[rmaxintegrar,zmaxintegrar],100,100);\n",
    "toc()"
   ]
  },
  {
   "cell_type": "code",
   "execution_count": 87,
   "metadata": {
    "collapsed": false
   },
   "outputs": [
    {
     "name": "stdout",
     "output_type": "stream",
     "text": [
      "Progress: 100% Time: 1:16:41\n",
      "te da una matríz Z de 101 X 101 donde Z(i->x,j->y) son los puntos integrados de g \n",
      "elapsed time: 4601.005729074 seconds\n"
     ]
    },
    {
     "data": {
      "text/plain": [
       "4601.005729074"
      ]
     },
     "execution_count": 87,
     "metadata": {},
     "output_type": "execute_result"
    }
   ],
   "source": [
    "tic()\n",
    "ψi_entre_10=nintegrar4Dmasunoa2Dmasuno(Φ_real_entreNt,[0.0,rmaxevaluar],[zminevaluar,zmaxevaluar],10*t0,[0.0,zminintegrar],[rmaxintegrar,zmaxintegrar],100,100);\n",
    "toc()"
   ]
  },
  {
   "cell_type": "code",
   "execution_count": 88,
   "metadata": {
    "collapsed": false
   },
   "outputs": [
    {
     "data": {
      "image/png": "[encoded data removed]",
      "text/plain": [
       "Figure(PyObject <matplotlib.figure.Figure object at 0x7fd386610c10>)"
      ]
     },
     "metadata": {},
     "output_type": "display_data"
    },
    {
     "data": {
      "text/plain": [
       "PyObject <matplotlib.colorbar.Colorbar instance at 0x7fd383658290>"
      ]
     },
     "execution_count": 88,
     "metadata": {},
     "output_type": "execute_result"
    }
   ],
   "source": [
    "F_entre_10=(ψr10.^2+ψi10.^2)*N(10*t0)^2;\n",
    "grafdensidad([zminevaluar,zmaxevaluar],[rminevaluar,rmaxevaluar],iteracionesr+1,F10,\"Amplitud del perfil propagado  a t =t0/10\",\"r\",\"z\")"
   ]
  },
  {
   "cell_type": "markdown",
   "metadata": {},
   "source": [
    "# también"
   ]
  },
  {
   "cell_type": "code",
   "execution_count": null,
   "metadata": {
    "collapsed": true
   },
   "outputs": [],
   "source": []
  },
  {
   "cell_type": "code",
   "execution_count": null,
   "metadata": {
    "collapsed": true
   },
   "outputs": [],
   "source": []
  },
  {
   "cell_type": "code",
   "execution_count": null,
   "metadata": {
    "collapsed": true
   },
   "outputs": [],
   "source": []
  },
  {
   "cell_type": "code",
   "execution_count": null,
   "metadata": {
    "collapsed": true
   },
   "outputs": [],
   "source": []
  },
  {
   "cell_type": "code",
   "execution_count": null,
   "metadata": {
    "collapsed": true
   },
   "outputs": [],
   "source": []
  },
  {
   "cell_type": "code",
   "execution_count": null,
   "metadata": {
    "collapsed": true
   },
   "outputs": [],
   "source": []
  },
  {
   "cell_type": "code",
   "execution_count": null,
   "metadata": {
    "collapsed": true
   },
   "outputs": [],
   "source": []
  },
  {
   "cell_type": "code",
   "execution_count": 64,
   "metadata": {
    "collapsed": false
   },
   "outputs": [
    {
     "name": "stdout",
     "output_type": "stream",
     "text": [
      "Progress: 100% Time: 0:48:11\n",
      "te da una matríz Z de 101 X 101 donde Z(i->x,j->y) son los puntos integrados de g \n"
     ]
    }
   ],
   "source": [
    "ψr5=nintegrar4Dmasunoa2Dmasuno(Φ_real_entreNt,[0.0,rmaxevaluar],[zminevaluar,zmaxevaluar],5*t0,[0.0,zminintegrar],[rmaxintegrar,zmaxintegrar],100,100);"
   ]
  },
  {
   "cell_type": "code",
   "execution_count": 65,
   "metadata": {
    "collapsed": false
   },
   "outputs": [
    {
     "name": "stdout",
     "output_type": "stream",
     "text": [
      "Progress: 100% Time: 0:49:10\n",
      "te da una matríz Z de 101 X 101 donde Z(i->x,j->y) son los puntos integrados de g \n"
     ]
    }
   ],
   "source": [
    "ψi5=nintegrar4Dmasunoa2Dmasuno(Φ_real_entreNt,[0.0,rmaxevaluar],[zminevaluar,zmaxevaluar],5*t0,[0.0,zminintegrar],[rmaxintegrar,zmaxintegrar],100,100);\n"
   ]
  },
  {
   "cell_type": "code",
   "execution_count": 66,
   "metadata": {
    "collapsed": false
   },
   "outputs": [
    {
     "data": {
      "image/png": "[encoded data removed]",
      "text/plain": [
       "Figure(PyObject <matplotlib.figure.Figure object at 0x7fd388735d10>)"
      ]
     },
     "metadata": {},
     "output_type": "display_data"
    },
    {
     "data": {
      "text/plain": [
       "PyObject <matplotlib.image.AxesImage object at 0x7fd386870210>"
      ]
     },
     "execution_count": 66,
     "metadata": {},
     "output_type": "execute_result"
    }
   ],
   "source": [
    "F5=(ψr5.^2+ψi5.^2)*N(5*t0)^2;\n",
    "imshow(F5)"
   ]
  },
  {
   "cell_type": "code",
   "execution_count": null,
   "metadata": {
    "collapsed": true
   },
   "outputs": [],
   "source": []
  },
  {
   "cell_type": "code",
   "execution_count": null,
   "metadata": {
    "collapsed": true
   },
   "outputs": [],
   "source": []
  },
  {
   "cell_type": "code",
   "execution_count": null,
   "metadata": {
    "collapsed": true
   },
   "outputs": [],
   "source": []
  },
  {
   "cell_type": "code",
   "execution_count": null,
   "metadata": {
    "collapsed": true
   },
   "outputs": [],
   "source": []
  },
  {
   "cell_type": "code",
   "execution_count": null,
   "metadata": {
    "collapsed": true
   },
   "outputs": [],
   "source": []
  },
  {
   "cell_type": "markdown",
   "metadata": {},
   "source": [
    "### y siguen faltando..."
   ]
  },
  {
   "cell_type": "markdown",
   "metadata": {},
   "source": [
    "p=Progress(iteracionesr+1,1)\n",
    "for i in 1: iteracionesr+1\n",
    "    r=(i-1)*Dr;    \n",
    "    #println(\"r==========$i\")\n",
    "    for j in 1: iteracionesz+1\n",
    "        z=zminevaluar+(j-1)*Dz;\n",
    "        #println(\"z=====$j\")\n",
    "        for k in 1: drk0\n",
    "        #for k in 1:iteracionesr1+1     \n",
    "            r1=(k-1)*Dr1;\n",
    "            #println(\"r1===$k\")\n",
    "            for l in l0-Numz: l0+Numz\n",
    "            #for l in 1:iteracionesz1+1\n",
    "                z1=zminintegrar+(l-1)*Dz1;\n",
    "                #println(\"z1=$l\")\n",
    "                \n",
    "                #Llamando los arreglos ya hechos para mapear las funciones en r,r1 y en z,z1:\n",
    "                ReIntegral[i,j]=ReIntegral[i,j]+integrarfunción de onda en todo el dominio de r1,z1;\n",
    "                ImIntegral[i,j]=ImIntegral[i,j]+integrarfunción de onda en todo el dominio de r1,z1;\n",
    "            \n",
    "            \n",
    "                #Sin llamar los arreglos ya hechos para mapear las funciones en r,r1 y en z,z1:\n",
    "                #ReIntegral[i,j]=ReIntegral[i,j]+n_tf(r1,z1)*(Rre(r,r1,t)*Zre(z,z1,t)-Rim(r,r1,t)*Zim(z,z1,t))*Dr1*Dz1;\n",
    "                #ImIntegral[i,j]=ImIntegral[i,j]+n_tf(r1,z1)*(fRre[i,k]*gZim[j,l]+fRim[i,k]*gZre[j,l])*Dr1*Dz1;\n",
    "            end\n",
    "        \n",
    "        end\n",
    "        \n",
    "    end\n",
    "\n",
    "    next!(p)\n",
    "end\n",
    "\n",
    "\n",
    "ReIntegral=ReIntegral*N(t);\n",
    "ImIntegral=ImIntegral*N(t);\n",
    "\n",
    "Z=ReIntegral.^2+ImIntegral.^2;\n",
    "grafdensidad([zminevaluar,zmaxevaluar],[rminevaluar,rmaxevaluar],101,Z,\"eso\",\"z\",\"r\")    "
   ]
  },
  {
   "cell_type": "code",
   "execution_count": 101,
   "metadata": {
    "collapsed": false
   },
   "outputs": [
    {
     "data": {
      "text/plain": [
       "Array{Int64,1}"
      ]
     },
     "execution_count": 101,
     "metadata": {},
     "output_type": "execute_result"
    }
   ],
   "source": [
    "typeof([1,2,3])"
   ]
  },
  {
   "cell_type": "code",
   "execution_count": 124,
   "metadata": {
    "collapsed": false
   },
   "outputs": [
    {
     "data": {
      "text/plain": [
       "vectorizar_funcion_2_variables (generic function with 1 method)"
      ]
     },
     "execution_count": 124,
     "metadata": {},
     "output_type": "execute_result"
    }
   ],
   "source": []
  },
  {
   "cell_type": "code",
   "execution_count": 121,
   "metadata": {
    "collapsed": false
   },
   "outputs": [
    {
     "data": {
      "text/plain": [
       "g (generic function with 1 method)"
      ]
     },
     "execution_count": 121,
     "metadata": {},
     "output_type": "execute_result"
    }
   ],
   "source": [
    "f(x,y,z,t)=x^2+y^2;\n",
    "\n",
    "g(v)=vectorizar_funcion_4_variables(f,v)"
   ]
  },
  {
   "cell_type": "code",
   "execution_count": 126,
   "metadata": {
    "collapsed": false
   },
   "outputs": [
    {
     "data": {
      "text/html": [
       "1 method for generic function <b>Zre</b>:<ul><li> Zre(z::<b>Float64</b>,z1::<b>Float64</b>,t::<b>Float64</b>) at In[4]:28</ul>"
      ],
      "text/plain": [
       "# 1 method for generic function \"Zre\":\n",
       "Zre(z::Float64,z1::Float64,t::Float64) at In[4]:28"
      ]
     },
     "execution_count": 126,
     "metadata": {},
     "output_type": "execute_result"
    }
   ],
   "source": [
    "methods(Zre)"
   ]
  },
  {
   "cell_type": "code",
   "execution_count": null,
   "metadata": {
    "collapsed": false
   },
   "outputs": [],
   "source": []
  }
 ],
 "metadata": {
  "kernelspec": {
   "display_name": "Julia 0.4.0",
   "language": "julia",
   "name": "julia-0.4"
  },
  "language_info": {
   "file_extension": ".jl",
   "mimetype": "application/julia",
   "name": "julia",
   "version": "0.4.0"
  }
 },
 "nbformat": 4,
 "nbformat_minor": 0
}
