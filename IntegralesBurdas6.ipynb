{
 "cells": [
  {
   "cell_type": "markdown",
   "metadata": {
    "collapsed": true
   },
   "source": [
    "# -----------------------------librerías extra"
   ]
  },
  {
   "cell_type": "code",
   "execution_count": 1,
   "metadata": {
    "collapsed": false
   },
   "outputs": [],
   "source": [
    "using ProgressMeter\n",
    "using Cubature\n",
    "using PyPlot"
   ]
  },
  {
   "cell_type": "code",
   "execution_count": 2,
   "metadata": {
    "collapsed": true
   },
   "outputs": [],
   "source": [
    "using Graf\n",
    "using nintegrate"
   ]
  },
  {
   "cell_type": "markdown",
   "metadata": {
    "collapsed": true
   },
   "source": [
    "# ----------------------------constantes"
   ]
  },
  {
   "cell_type": "markdown",
   "metadata": {},
   "source": [
    "### ----------------------------"
   ]
  },
  {
   "cell_type": "code",
   "execution_count": 3,
   "metadata": {
    "collapsed": false
   },
   "outputs": [],
   "source": [
    "const hbarr=6.62606957e-34;\n",
    "const Kb=1.3806488e-23\n",
    "m=144.42e-27/2;\n",
    "\n",
    "lambda=1.0\n",
    "\n",
    "omegaz =150.0\n",
    "omegar =lambda*omegaz;\n",
    "\n",
    "n=10.0^20.0;\n",
    "alfa=5.8e-9;\n",
    "divisor_alfa=1;\n",
    "alfa=alfa/divisor_alfa;\n",
    "g_alfa=4.0*π*hbarr^2*alfa/m;\n",
    "\n",
    "omegam=(omegar^2*omegaz)^(1/3);\n",
    "Npart=10.0^7.0;\n",
    "mu=0.5*(15^(2/5))*hbarr*omegam*(Npart*alfa*sqrt(m*omegam/hbarr))^(2.0/5.0);#(hbarr/2) *(2*omegar+omegaz);#;\n",
    "\n",
    "\n",
    "c = sqrt(n*g_alfa/m);\n",
    "\n",
    "\n",
    "#------------Parámetros característicos del solitón bosónico\n",
    "ksi=1/sqrt(4*pi*n*alfa);\n",
    "beta=0.0;\n",
    "algo=11.0\n",
    "\n",
    "z0=algo*ksi;\n",
    "gama=1/(sqrt(1-beta^2));"
   ]
  },
  {
   "cell_type": "code",
   "execution_count": 4,
   "metadata": {
    "collapsed": true
   },
   "outputs": [],
   "source": [
    "#unidades 0A\n",
    "EOA=hbarr*omegam;\n",
    "tOA=1/omegam;\n",
    "lOA=sqrt(hbarr/(m*omegam));\n"
   ]
  },
  {
   "cell_type": "markdown",
   "metadata": {},
   "source": [
    "# El Tiempo"
   ]
  },
  {
   "cell_type": "code",
   "execution_count": 5,
   "metadata": {
    "collapsed": false
   },
   "outputs": [],
   "source": [
    "DT=1;\n",
    "t1=ksi/c;\n",
    "t0=tOA/DT;\n",
    "t1=t1/DT;"
   ]
  },
  {
   "cell_type": "code",
   "execution_count": 6,
   "metadata": {
    "collapsed": false,
    "scrolled": false
   },
   "outputs": [
    {
     "data": {
      "text/plain": [
       "445.8669126272961"
      ]
     },
     "execution_count": 6,
     "metadata": {},
     "output_type": "execute_result"
    }
   ],
   "source": [
    "t0/(ksi/c)"
   ]
  },
  {
   "cell_type": "code",
   "execution_count": 7,
   "metadata": {
    "collapsed": false
   },
   "outputs": [
    {
     "data": {
      "text/plain": [
       "I_funcion_a_integrar (generic function with 2 methods)"
      ]
     },
     "execution_count": 7,
     "metadata": {},
     "output_type": "execute_result"
    }
   ],
   "source": [
    "#########EN UNIDADES dependientes del tiempo\n",
    "\n",
    "N_est=(m/hbarr)^(3/2)*omegar*sqrt(omegaz)/sqrt(2*π);\n",
    "\n",
    "\n",
    "function sol(z::Float64,t)\n",
    "    1\n",
    "    #tanh((z*sqrt(abs(sin(omegaz*t)))-z0)/(ksi*gama))/gama\n",
    "end\n",
    "\n",
    "function fase_rr1(r1::Float64,r::Float64,t::Float64)\n",
    "    (m*omegar/(2*hbarr))*((r1^2+r^2)*cos(omegar*t))+π/4\n",
    "end\n",
    "\n",
    "function fase_zz1(z1::Float64,z::Float64,t::Float64)\n",
    "    (m*omegaz/(2*hbarr))*((z1^2+z^2)*cos(omegaz*t)-2*z*z1)\n",
    "end\n",
    "\n",
    "\n",
    "function Bessel0(r1::Float64,r::Float64)\n",
    "    besselj0(abs(m*omegar*r*r1/hbarr))\n",
    "end\n",
    "\n",
    "function U(r::Float64,z::Float64,t::Float64)\n",
    "    0.5*(m)*((omegar*r)^2*sin(omegar*t) + (omegaz*z)^2*sin(omegaz*t))\n",
    "end\n",
    "\n",
    "\n",
    "\n",
    "function n_tf(r::Float64,z::Float64,t::Float64)            \n",
    "    if  mu-U(r,z,t)>0 0\n",
    "        return (mu-U(r,z,t))/(n*g_alfa)              \n",
    "    end\n",
    "    return 0       \n",
    "    \n",
    "    \n",
    "#    ((m/(π*hbarr))^(3/2)*omegar*omegaz^(1/2)*exp(  -(m*omegar/(hbarr))*r^2*sin(omegar*t)-(m*omegaz/(hbarr))*z^2*sin(omegaz*t))  )    \n",
    "\n",
    "    \n",
    "end\n",
    "\n",
    "\n",
    "function Rre(r1::Float64,r::Float64,t::Float64)\n",
    "    Bessel0(r1,r)*r1*cos(fase_rr1(r1,r,t))\n",
    "end\n",
    "\n",
    "\n",
    "function Rim(r1::Float64,r::Float64,t::Float64)\n",
    "    Bessel0(r1,r)*r1*sin(fase_rr1(r1,r,t))\n",
    "end\n",
    "\n",
    "\n",
    "function Zre(z1::Float64,z::Float64,t::Float64)\n",
    "    cos(fase_zz1(z1,z,t))*sol(z1,t)-beta*sin(fase_zz1(z1,z,t))\n",
    "end\n",
    "\n",
    "function Zim(z1::Float64,z::Float64,t::Float64)\n",
    "    sin(fase_zz1(z1,z,t))*sol(z1,t)+beta*cos(fase_zz1(z1,z,t))\n",
    "end\n",
    "\n",
    "\n",
    "function R_funcion_a_integrar(r1::Float64,z1::Float64,r::Float64,z::Float64,t::Float64)\n",
    "    Rre(r1,r,t)*sqrt(n_tf(r1,z1,t))*Zre(z1,z,t)-Rim(r1,r,t)*sqrt(n_tf(r1,z1,t))*Zim(z1,z,t)\n",
    "end\n",
    "\n",
    "\n",
    "function I_funcion_a_integrar(r1::Float64,z1::Float64,r::Float64,z::Float64,t::Float64)\n",
    "    Rre(r1,r,t)*sqrt(n_tf(r1,z1,t))*Zim(z1,z,t)+Rim(r1,r,t)*sqrt(n_tf(r1,z1,t))*Zre(z1,z,t)\n",
    "end\n",
    "\n",
    "\n",
    "R_funcion_a_integrar(v::Vector{Float64},r,z,t)=R_funcion_a_integrar(v[1],v[2],r,z,t)\n",
    "\n",
    "I_funcion_a_integrar(v::Vector{Float64},r,z,t)=I_funcion_a_integrar(v[1],v[2],r,z,t)\n"
   ]
  },
  {
   "cell_type": "code",
   "execution_count": 8,
   "metadata": {
    "collapsed": false
   },
   "outputs": [],
   "source": [
    "rmax_estatico=sqrt(2*mu/(m*omegar^2))\n",
    "zmax_estatico=sqrt(2*mu/(m*omegaz^2))\n",
    "\n",
    "\n",
    "function rmaxintegrar(t::Float64)\n",
    "    rmax_estatico/sqrt(abs(sin(omegar*t)))\n",
    "end\n",
    "\n",
    "function zmaxintegrar(t::Float64)\n",
    "    zmax_estatico/sqrt(abs(sin(omegaz*t)))\n",
    "end\n",
    "\n",
    "\n",
    "\n",
    "rmaxevaluar=5.0*rmax_estatico;\n",
    "zmaxevaluar=5.0*zmax_estatico;\n"
   ]
  },
  {
   "cell_type": "code",
   "execution_count": 9,
   "metadata": {
    "collapsed": false
   },
   "outputs": [
    {
     "data": {
      "text/plain": [
       "51.076027970233916"
      ]
     },
     "execution_count": 9,
     "metadata": {},
     "output_type": "execute_result"
    }
   ],
   "source": [
    "rmaxevaluar/lOA"
   ]
  },
  {
   "cell_type": "code",
   "execution_count": 10,
   "metadata": {
    "collapsed": false
   },
   "outputs": [
    {
     "data": {
      "text/plain": [
       "51.076027970233916"
      ]
     },
     "execution_count": 10,
     "metadata": {},
     "output_type": "execute_result"
    }
   ],
   "source": [
    "zmaxevaluar/lOA"
   ]
  },
  {
   "cell_type": "markdown",
   "metadata": {
    "collapsed": false
   },
   "source": [
    "tiempos=linspace(t0,100*t0,101);\n",
    "rmax=zeros(101);\n",
    "zmax=zeros(101);\n",
    "[rmax[i]=rmaxintegrar(tiempos[i])/rmax_estatico for i in 1:101]; \n",
    "[zmax[i]=zmaxintegrar(tiempos[i])/zmax_estatico for i in 1:101]; \n",
    "\n",
    "plot(zmax)\n"
   ]
  },
  {
   "cell_type": "markdown",
   "metadata": {
    "collapsed": false
   },
   "source": [
    "plot(rmax)"
   ]
  },
  {
   "cell_type": "markdown",
   "metadata": {},
   "source": [
    "# ----------------------------------------------------------------------------------------------"
   ]
  },
  {
   "cell_type": "markdown",
   "metadata": {},
   "source": [
    "#Parámetros de resolución"
   ]
  },
  {
   "cell_type": "code",
   "execution_count": 11,
   "metadata": {
    "collapsed": false
   },
   "outputs": [],
   "source": [
    "iteracionest=10;\n",
    "divisiones=10;\n",
    "\n",
    "iteracionesr=Integer(100);\n",
    "iteracionesz=Integer(100);\n",
    "\n",
    "iteracionesr1=iteracionesr+(divisiones-1)*(iteracionesr-1);\n",
    "iteracionesz1=iteracionesz+(divisiones-1)*(iteracionesz-1);\n",
    "\n",
    "\n",
    "Dr=rmaxevaluar/iteracionesr;\n",
    "Dz=2*zmaxevaluar/iteracionesz;\n",
    "\n",
    "Dr1(t)=rmaxintegrar(t)/iteracionesr1;\n",
    "Dz1(t)=2*zmaxintegrar(t)/iteracionesz1;"
   ]
  },
  {
   "cell_type": "markdown",
   "metadata": {},
   "source": [
    "## Arreglos prehechos para guardar todo:"
   ]
  },
  {
   "cell_type": "code",
   "execution_count": 12,
   "metadata": {
    "collapsed": true
   },
   "outputs": [],
   "source": [
    "ReIntegralcubature=zeros(iteracionesr+1,iteracionesz+1,iteracionest);\n",
    "ImIntegralcubature=zeros(iteracionesr+1,iteracionesz+1,iteracionest);\n",
    "Zcubature=zeros(iteracionesr+1,iteracionesz+1,iteracionest);\n",
    "ErrIm=zeros(iteracionesr+1,iteracionesz+1,iteracionest);\n",
    "ErrRe=zeros(iteracionesr+1,iteracionesz+1,iteracionest);"
   ]
  },
  {
   "cell_type": "code",
   "execution_count": 13,
   "metadata": {
    "collapsed": false
   },
   "outputs": [
    {
     "data": {
      "text/plain": [
       "0.047358438838956754"
      ]
     },
     "execution_count": 13,
     "metadata": {},
     "output_type": "execute_result"
    }
   ],
   "source": [
    "dr1=(ksi)/lOA\n",
    "dz1=(ksi)/lOA"
   ]
  },
  {
   "cell_type": "code",
   "execution_count": 14,
   "metadata": {
    "collapsed": false
   },
   "outputs": [
    {
     "data": {
      "text/plain": [
       "51.076027970233916"
      ]
     },
     "execution_count": 14,
     "metadata": {},
     "output_type": "execute_result"
    }
   ],
   "source": [
    "zmaxevaluar/lOA"
   ]
  },
  {
   "cell_type": "code",
   "execution_count": 16,
   "metadata": {
    "collapsed": false,
    "scrolled": true
   },
   "outputs": [
    {
     "name": "stdout",
     "output_type": "stream",
     "text": [
      "rmax/lOA====================13.849663936089632\n",
      "zmax/lOA====================13.849663936089632\n",
      "Progress: 100% Time: 13:13:21\n"
     ]
    },
    {
     "data": {
      "image/png": "[encoded data removed]",
      "text/plain": [
       "PyPlot.Figure(PyObject <matplotlib.figure.Figure object at 0x7fc689ca9c90>)"
      ]
     },
     "metadata": {},
     "output_type": "display_data"
    }
   ],
   "source": [
    "#tiempos=[4,5,6,7,8,9,10]\n",
    "#q=Progress(iteracionest+1,1)\n",
    "\n",
    "for τ in 10\n",
    "    \n",
    "    t=τ*t0\n",
    "    zmax=zmaxintegrar(t)\n",
    "    rmax=rmaxintegrar(t)\n",
    "    \n",
    "    println(\"rmax/lOA====================$(rmax/lOA)\") \n",
    "    println(\"zmax/lOA====================$(zmax/lOA)\")\n",
    "    \n",
    "    p=Progress(iteracionesr+1,1)\n",
    "    \n",
    "    for i in 1: iteracionesr+1    \n",
    "       \n",
    "        r=(i-1)*Dr;\n",
    "        r1\n",
    "            \n",
    "        for j in 1: iteracionesz+1\n",
    "       \n",
    "            z=-zmaxevaluar+(j-1)*Dz;    \n",
    "\n",
    "            \n",
    "                               f(v)=R_funcion_a_integrar(v,r,z,t);\n",
    "                               g(v)=I_funcion_a_integrar(v,r,z,t);\n",
    "                               \n",
    "                               \n",
    "            \n",
    "                        \n",
    "        \n",
    "            (val,err) = pcubature(f,[0.0,-zmax],[rmax,zmax]; reltol=1e-18, abstol=1e-18, maxevals=1000000);\n",
    "            (val2,err2) = pcubature(g,[0.0,-zmax],[rmax,zmax]; reltol=1e-18, abstol=1e-18, maxevals=10000000);\n",
    "                            \n",
    "            \n",
    "                                ReIntegralcubature[i,j,τ]=val\n",
    "                                ImIntegralcubature[i,j,τ]=val2    \n",
    "                                ErrRe[i,j,τ]=err;  \n",
    "                                ErrIm[i,j,τ]=err2;\n",
    "          \n",
    "\n",
    "        \n",
    "            end\n",
    "        next!(p)\n",
    "    \n",
    "        end\n",
    "    #Z[:,:,τ]=Ncuad(t)*(ReIntegral[:,:,τ].^2+ImIntegral[:,:,τ].^2);\n",
    "    Zcubature[:,:,τ]=N_est^2*(ReIntegralcubature[:,:,τ].^2+ImIntegralcubature[:,:,τ].^2);\n",
    "    \n",
    " \n",
    "    #grafdensidad([-zmaxevaluar/lOA,zmaxevaluar/lOA],[0,rmaxevaluar/lOA],iteracionesr+1,Zcubature[:,:,τ],\"Perfil Propagado a t=$τ *T0/$DT\",\"z\",\"r\")    \n",
    "    #savefig(\"fig$τ entre $DT  Propagación con solitón en z= $algo *ksi  resol de $iteracionesz*$iteracionesr .png\")\n",
    "    #writedlm(\"salida a $τ*$DT  Propagación con solitón en z= $algo *ksi  resol de $iteracionesz*$iteracionesr .dat\",Zcubature[:,:,τ])\n",
    "    \n",
    "    \n",
    "    grafdensidad([-zmaxevaluar/lOA,zmaxevaluar/lOA],[0,rmaxevaluar/lOA],iteracionesr+1,Zcubature[:,:,τ],\"Perfil Propagado sin soliton a t=$τ *T0/$DT\",\"z\",\"r\")    \n",
    "    savefig(\"fig$τ soliton alfa entre $divisor_alfa a tiempos t0*$τ resol de $iteracionesr X $iteracionesz.png\")\n",
    "    writedlm(\"salida de soliton alfa entre $divisor_alfa a tiempos t0*$τ resol de $iteracionesr X $iteracionesz .dat\",Zcubature[:,:,τ])\n",
    "\n",
    "    #next!(q)\n",
    "end"
   ]
  },
  {
   "cell_type": "code",
   "execution_count": null,
   "metadata": {
    "collapsed": true
   },
   "outputs": [],
   "source": []
  },
  {
   "cell_type": "code",
   "execution_count": null,
   "metadata": {
    "collapsed": true
   },
   "outputs": [],
   "source": []
  },
  {
   "cell_type": "code",
   "execution_count": null,
   "metadata": {
    "collapsed": true
   },
   "outputs": [],
   "source": []
  },
  {
   "cell_type": "code",
   "execution_count": 66,
   "metadata": {
    "collapsed": false
   },
   "outputs": [
    {
     "name": "stdout",
     "output_type": "stream",
     "text": [
      "\r",
      "Progress: 100% Time: 0:00:04\n"
     ]
    },
    {
     "data": {
      "text/plain": [
       "5.7999999999999995e-6"
      ]
     },
     "execution_count": 66,
     "metadata": {},
     "output_type": "execute_result"
    }
   ],
   "source": [
    "alfa"
   ]
  },
  {
   "cell_type": "code",
   "execution_count": 45,
   "metadata": {
    "collapsed": false,
    "scrolled": true
   },
   "outputs": [
    {
     "data": {
      "text/plain": [
       "0.7930792458620278"
      ]
     },
     "execution_count": 45,
     "metadata": {},
     "output_type": "execute_result"
    }
   ],
   "source": [
    "maximum(N_est^2*(2*ReIntegralcubature.^2))"
   ]
  },
  {
   "cell_type": "code",
   "execution_count": 70,
   "metadata": {
    "collapsed": false
   },
   "outputs": [
    {
     "data": {
      "text/plain": [
       "ASCIIString"
      ]
     },
     "execution_count": 70,
     "metadata": {},
     "output_type": "execute_result"
    }
   ],
   "source": [
    "typeof(\"fig$τ entre $DT  Propagacion sin soliton  alfa=alfa/$divisor_alfa  resol de $iteracionesz*$iteracionesr .png\")"
   ]
  },
  {
   "cell_type": "markdown",
   "metadata": {
    "collapsed": false
   },
   "source": [
    "Zcubature[:,:,1]"
   ]
  },
  {
   "cell_type": "code",
   "execution_count": 84,
   "metadata": {
    "collapsed": false
   },
   "outputs": [
    {
     "data": {
      "image/png": "[encoded data removed]",
      "text/plain": [
       "PyPlot.Figure(PyObject <matplotlib.figure.Figure object at 0x7ff8c3aaa050>)"
      ]
     },
     "metadata": {},
     "output_type": "display_data"
    }
   ],
   "source": [
    "τ=1;\n",
    "grafdensidad([-zmaxevaluar/lOA,zmaxevaluar/lOA],[0,rmaxevaluar/lOA],iteracionesr+1,Zcubature[:,:,τ],\"Perfil Propagado sin soliton a t=$τ *T0/$DT\",\"z\",\"r\")    \n",
    "savefig(\"fig$τ soliton alfa entre $divisor_alfa a tiempos t0*$τ resol de $iteracionesr X $iteracionesz.png\")\n",
    "writedlm(\"salida de soliton alfa entre $divisor_alfa a tiempos t0*$τ resol de $iteracionesr X $iteracionesz .dat\",Zcubature[:,:,τ])"
   ]
  },
  {
   "cell_type": "code",
   "execution_count": 48,
   "metadata": {
    "collapsed": false
   },
   "outputs": [
    {
     "data": {
      "image/png": "[encoded data removed]",
      "text/plain": [
       "PyPlot.Figure(PyObject <matplotlib.figure.Figure object at 0x7f66c5604990>)"
      ]
     },
     "metadata": {},
     "output_type": "display_data"
    },
    {
     "data": {
      "text/plain": [
       "PyObject <matplotlib.image.AxesImage object at 0x7f66c52d69d0>"
      ]
     },
     "execution_count": 48,
     "metadata": {},
     "output_type": "execute_result"
    },
    {
     "name": "stdout",
     "output_type": "stream",
     "text": [
      "\n"
     ]
    }
   ],
   "source": [
    "\n",
    "imshow(Zcubature[:,:,1])"
   ]
  },
  {
   "cell_type": "code",
   "execution_count": null,
   "metadata": {
    "collapsed": true
   },
   "outputs": [],
   "source": []
  },
  {
   "cell_type": "code",
   "execution_count": null,
   "metadata": {
    "collapsed": true
   },
   "outputs": [],
   "source": []
  },
  {
   "cell_type": "code",
   "execution_count": null,
   "metadata": {
    "collapsed": true
   },
   "outputs": [],
   "source": []
  },
  {
   "cell_type": "markdown",
   "metadata": {
    "collapsed": true
   },
   "source": [
    "r=lOA;\n",
    "z=lOA;\n",
    "t=tOA;\n",
    "tic()\n",
    "f(v)=R_funcion_a_integrar(v,r,z,t);\n",
    "(val,err) = pcubature(f,[0.0,-500],[500,500]; reltol=1e-20, abstol=1e-20, maxevals=10000000);\n",
    "toc()"
   ]
  },
  {
   "cell_type": "code",
   "execution_count": 39,
   "metadata": {
    "collapsed": false
   },
   "outputs": [
    {
     "data": {
      "text/plain": [
       "0.0"
      ]
     },
     "execution_count": 39,
     "metadata": {},
     "output_type": "execute_result"
    }
   ],
   "source": [
    "val"
   ]
  },
  {
   "cell_type": "markdown",
   "metadata": {},
   "source": [
    "# Zcubature(t0) y Z1(t1)"
   ]
  },
  {
   "cell_type": "markdown",
   "metadata": {},
   "source": [
    "B=zeros(101,101,10);\n",
    "for i in 1:5\n",
    "    comodin=readdlm(\"salida se soliton real a tiempos t0*$i.dat\")\n",
    "    B[:,:,i]=comodin\n",
    "end\n"
   ]
  },
  {
   "cell_type": "code",
   "execution_count": 78,
   "metadata": {
    "collapsed": false
   },
   "outputs": [
    {
     "data": {
      "image/png": "[encoded data removed]",
      "text/plain": [
       "PyPlot.Figure(PyObject <matplotlib.figure.Figure object at 0x7fb5e98cac10>)"
      ]
     },
     "metadata": {},
     "output_type": "display_data"
    }
   ],
   "source": [
    "for τ in 1:10\n",
    "    t=τ*t0\n",
    "    grafdensidad([-zmaxevaluar/lOA,zmaxevaluar/lOA],[0,rmaxevaluar/lOA],iteracionesr+1,Zcubature[:,:,τ],\"Perfil Propagado a t=$τ *T0/$DT\",\"z\",\"r\")    \n",
    "    #savefig(\"fig$τ  sin soliton entre $DT resol de $iteracionesz*$iteracionesr .png\")\n",
    "    #writedlm(\"salida se soliton real a tiempos t0*$τ con DT=$DT sin soliton.dat\",Zcubature[:,:,τ])\n",
    "end"
   ]
  },
  {
   "cell_type": "code",
   "execution_count": 32,
   "metadata": {
    "collapsed": false
   },
   "outputs": [
    {
     "data": {
      "text/plain": [
       "false"
      ]
     },
     "execution_count": 32,
     "metadata": {},
     "output_type": "execute_result"
    }
   ],
   "source": [
    "Zcubature==zeros(101,101,10)"
   ]
  },
  {
   "cell_type": "code",
   "execution_count": null,
   "metadata": {
    "collapsed": true
   },
   "outputs": [],
   "source": []
  },
  {
   "cell_type": "code",
   "execution_count": null,
   "metadata": {
    "collapsed": true
   },
   "outputs": [],
   "source": []
  },
  {
   "cell_type": "code",
   "execution_count": null,
   "metadata": {
    "collapsed": true
   },
   "outputs": [],
   "source": []
  },
  {
   "cell_type": "code",
   "execution_count": 33,
   "metadata": {
    "collapsed": false
   },
   "outputs": [
    {
     "data": {
      "text/plain": [
       "1.0785635429521734"
      ]
     },
     "execution_count": 33,
     "metadata": {},
     "output_type": "execute_result"
    }
   ],
   "source": [
    "zmax_estatico/lOA"
   ]
  },
  {
   "cell_type": "code",
   "execution_count": 35,
   "metadata": {
    "collapsed": false
   },
   "outputs": [
    {
     "data": {
      "text/plain": [
       "113.87237094320705"
      ]
     },
     "execution_count": 35,
     "metadata": {},
     "output_type": "execute_result"
    }
   ],
   "source": [
    "zmaxevaluar/ksi"
   ]
  },
  {
   "cell_type": "code",
   "execution_count": 36,
   "metadata": {
    "collapsed": false
   },
   "outputs": [
    {
     "ename": "LoadError",
     "evalue": "LoadError: MethodError: `/` has no method matching /(::Function, ::Float64)\nClosest candidates are:\n  /(!Matched::Float64, ::Float64)\n  /(!Matched::Complex{T<:Real}, ::Real)\n  /(!Matched::BigFloat, ::Union{Float16,Float32,Float64})\n  ...\nwhile loading In[36], in expression starting on line 1",
     "output_type": "error",
     "traceback": [
      "LoadError: MethodError: `/` has no method matching /(::Function, ::Float64)\nClosest candidates are:\n  /(!Matched::Float64, ::Float64)\n  /(!Matched::Complex{T<:Real}, ::Real)\n  /(!Matched::BigFloat, ::Union{Float16,Float32,Float64})\n  ...\nwhile loading In[36], in expression starting on line 1",
      ""
     ]
    }
   ],
   "source": [
    "rmaxintegrar/ksi"
   ]
  },
  {
   "cell_type": "code",
   "execution_count": null,
   "metadata": {
    "collapsed": false
   },
   "outputs": [],
   "source": []
  },
  {
   "cell_type": "code",
   "execution_count": null,
   "metadata": {
    "collapsed": false
   },
   "outputs": [],
   "source": []
  },
  {
   "cell_type": "code",
   "execution_count": null,
   "metadata": {
    "collapsed": false
   },
   "outputs": [],
   "source": []
  },
  {
   "cell_type": "code",
   "execution_count": null,
   "metadata": {
    "collapsed": false
   },
   "outputs": [],
   "source": []
  },
  {
   "cell_type": "code",
   "execution_count": null,
   "metadata": {
    "collapsed": false
   },
   "outputs": [],
   "source": []
  },
  {
   "cell_type": "code",
   "execution_count": null,
   "metadata": {
    "collapsed": true
   },
   "outputs": [],
   "source": []
  },
  {
   "cell_type": "code",
   "execution_count": null,
   "metadata": {
    "collapsed": true
   },
   "outputs": [],
   "source": []
  },
  {
   "cell_type": "code",
   "execution_count": null,
   "metadata": {
    "collapsed": true
   },
   "outputs": [],
   "source": []
  },
  {
   "cell_type": "code",
   "execution_count": null,
   "metadata": {
    "collapsed": true
   },
   "outputs": [],
   "source": []
  },
  {
   "cell_type": "code",
   "execution_count": null,
   "metadata": {
    "collapsed": true
   },
   "outputs": [],
   "source": []
  },
  {
   "cell_type": "code",
   "execution_count": null,
   "metadata": {
    "collapsed": true
   },
   "outputs": [],
   "source": []
  },
  {
   "cell_type": "code",
   "execution_count": null,
   "metadata": {
    "collapsed": true
   },
   "outputs": [],
   "source": []
  },
  {
   "cell_type": "code",
   "execution_count": null,
   "metadata": {
    "collapsed": true
   },
   "outputs": [],
   "source": []
  },
  {
   "cell_type": "code",
   "execution_count": null,
   "metadata": {
    "collapsed": true
   },
   "outputs": [],
   "source": []
  },
  {
   "cell_type": "code",
   "execution_count": null,
   "metadata": {
    "collapsed": true
   },
   "outputs": [],
   "source": []
  },
  {
   "cell_type": "code",
   "execution_count": null,
   "metadata": {
    "collapsed": true
   },
   "outputs": [],
   "source": []
  },
  {
   "cell_type": "code",
   "execution_count": null,
   "metadata": {
    "collapsed": true
   },
   "outputs": [],
   "source": []
  },
  {
   "cell_type": "code",
   "execution_count": null,
   "metadata": {
    "collapsed": true
   },
   "outputs": [],
   "source": []
  },
  {
   "cell_type": "code",
   "execution_count": null,
   "metadata": {
    "collapsed": true
   },
   "outputs": [],
   "source": []
  },
  {
   "cell_type": "code",
   "execution_count": null,
   "metadata": {
    "collapsed": true
   },
   "outputs": [],
   "source": []
  },
  {
   "cell_type": "code",
   "execution_count": null,
   "metadata": {
    "collapsed": true
   },
   "outputs": [],
   "source": []
  },
  {
   "cell_type": "code",
   "execution_count": null,
   "metadata": {
    "collapsed": true
   },
   "outputs": [],
   "source": []
  },
  {
   "cell_type": "code",
   "execution_count": null,
   "metadata": {
    "collapsed": true
   },
   "outputs": [],
   "source": []
  },
  {
   "cell_type": "code",
   "execution_count": null,
   "metadata": {
    "collapsed": true
   },
   "outputs": [],
   "source": []
  },
  {
   "cell_type": "code",
   "execution_count": null,
   "metadata": {
    "collapsed": true
   },
   "outputs": [],
   "source": [
    "NOA=(m/sqrt(2*π))*(omegar/hbarr)*sqrt(omegaz/omegam);\n",
    "\n",
    "sol_OA(z,t)=sol(z/lOA,t/tOA)\n",
    "fase_rr1_OA(r1,r,t)=fase_rr1(r1/lOA,r/lOA,t/tOA)\n",
    "fase_zz1_OA(z1,z,t)=fase_zz1(z1/lOA,z/lOA,t/tOA)\n",
    "Bessel0_OA(r1,r,t)=Bessel0(r1/lOA,r/lOA,t/tOA)\n",
    "U_OA(r,z,t)=U(r/lOA,z/lOA,t/tOA)\n",
    "\n",
    "function n_tf(r::Float64,z::Float64,t::Float64)            \n",
    "    if  muOA-U_OA(r,z,t)>0 0\n",
    "        return (muOA-U_OA(r,z,t))/(nOA*g_alfa_OA)              \n",
    "    end\n",
    "    return 0       \n",
    "end\n",
    "\n",
    "Rre_OA(r1,r,t)=Rre(r1/lOA,r/lOA,t/tOA)\n",
    "Rim_OA(r1,r,t)=Rim(r1/lOA,r/lOA,t/tOA)\n",
    "Zre_OA(z1,z,t)=Zre(z1/lOA,z/lOA,t/tOA)\n",
    "Zim_OA(z1,z,t)=Zim(z1/lOA,z/lOA,t/tOA)\n",
    "R_funcion_a_integrar_OA(r1,z1,r,z,t)=R_funcion_a_integrar(r1/lOA,z1/lOA,r/lOA,z/lOA,t/tOA)\n",
    "I_funcion_a_integrar_OA(r1,z1,r,z,t)=I_funcion_a_integrar(r1/lOA,z1/lOA,r/lOA,z/lOA,t/tOA)\n",
    "\n",
    "\n",
    "\n",
    "R_funcion_a_integrar(v::Vector{Float64},r,z,t)=R_funcion_a_integrar(v[1],v[2],r,z,t)\n",
    "I_funcion_a_integrar(v::Vector{Float64},r,z,t)=I_funcion_a_integrar(v[1],v[2],r,z,t)\n",
    "R_funcion_a_integrar_OA(v::Vector{Float64},r,z,t)=R_funcion_a_integrar_OA(v[1],v[2],r,z,t)\n",
    "I_funcion_a_integrar_OA(v::Vector{Float64},r,z,t)=I_funcion_a_integrar_OA(v[1],v[2],r,z,t)"
   ]
  },
  {
   "cell_type": "code",
   "execution_count": null,
   "metadata": {
    "collapsed": true
   },
   "outputs": [],
   "source": []
  },
  {
   "cell_type": "code",
   "execution_count": null,
   "metadata": {
    "collapsed": true
   },
   "outputs": [],
   "source": []
  }
 ],
 "metadata": {
  "kernelspec": {
   "display_name": "Julia 0.4.0",
   "language": "julia",
   "name": "julia-0.4"
  },
  "language_info": {
   "file_extension": ".jl",
   "mimetype": "application/julia",
   "name": "julia",
   "version": "0.4.0"
  }
 },
 "nbformat": 4,
 "nbformat_minor": 0
}
