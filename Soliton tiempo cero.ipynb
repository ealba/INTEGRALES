{
 "cells": [
  {
   "cell_type": "markdown",
   "metadata": {
    "collapsed": true
   },
   "source": [
    "# -----------------------------librerías extra"
   ]
  },
  {
   "cell_type": "code",
   "execution_count": 62,
   "metadata": {
    "collapsed": false
   },
   "outputs": [],
   "source": [
    "using ProgressMeter\n",
    "using Cubature\n",
    "using PyPlot"
   ]
  },
  {
   "cell_type": "code",
   "execution_count": 63,
   "metadata": {
    "collapsed": true
   },
   "outputs": [],
   "source": [
    "using Graf\n",
    "using nintegrate"
   ]
  },
  {
   "cell_type": "markdown",
   "metadata": {
    "collapsed": true
   },
   "source": [
    "### ----------------------------constantes"
   ]
  },
  {
   "cell_type": "markdown",
   "metadata": {},
   "source": [
    "### ----------------------------"
   ]
  },
  {
   "cell_type": "code",
   "execution_count": 64,
   "metadata": {
    "collapsed": true
   },
   "outputs": [],
   "source": [
    "const hbarr=6.62606957e-34;\n",
    "const Kb=1.3806488e-23\n",
    "m=144.42e-27/2;\n",
    "\n",
    "lambda=1\n",
    "\n",
    "omegaz =150.0\n",
    "omegar =lambda*omegaz;\n",
    "\n",
    "Npart=10.0^7.0;\n",
    "n=10.0^20.0;\n",
    "alfa=5.8e-9;\n",
    "g_alfa=4.0*π*hbarr^2*alfa/m;\n",
    "omegam=(omegar^2*omegaz)^(1/3);\n",
    "mu=(hbarr/2) *(2*sqrt(omegar)+omegaz)#0.5*hbarr*omegam*(15*Npart*alfa*sqrt(m*omegam/hbarr))^(2.0/5.0);\n",
    "c = sqrt(n*g_alfa/m);\n",
    "\n",
    "\n",
    "#------------Parámetros característicos del solitón bosónico\n",
    "ksi=1/sqrt(4*pi*n*alfa);\n",
    "beta=0.0;\n",
    "algo=11.0\n",
    "\n",
    "z0=algo*ksi;\n",
    "gama=1/(sqrt(1-beta^2));"
   ]
  },
  {
   "cell_type": "markdown",
   "metadata": {
    "collapsed": false
   },
   "source": [
    "const m = 1.0;\n",
    "const hbarr = 1.0;\n",
    "omegaz = 0.05;\n",
    "omegar = 7.0*omegaz;\n",
    "n=1.;\n",
    "alfa=10.0;\n",
    "g_alfa=4.0*π*alfa;\n",
    "omegam=(omegar*omegaz)^(1/3);\n",
    "mu=0.5*omegam*(15*alfa*sqrt(m*omegam))^(2.0/5.0);\n",
    "\n",
    "c = sqrt(n*g_alfa/m);\n",
    "\n",
    "\n",
    "# -------------parámetros característicos del solitón bosónico\n",
    "ksi=0.1;\n",
    "beta=0.0;\n",
    "algo=5.0;\n",
    "z0=algo*ksi;\n",
    "gama=1/(sqrt(1-beta^2));"
   ]
  },
  {
   "cell_type": "markdown",
   "metadata": {},
   "source": [
    "### ----Función de onda"
   ]
  },
  {
   "cell_type": "code",
   "execution_count": 65,
   "metadata": {
    "collapsed": false
   },
   "outputs": [
    {
     "data": {
      "text/plain": [
       "FUNCIONTF0 (generic function with 2 methods)"
      ]
     },
     "execution_count": 65,
     "metadata": {},
     "output_type": "execute_result"
    }
   ],
   "source": [
    "\n",
    "function sol(z::Float64)\n",
    "(tanh((z-z0)/(ksi*gama)))/gama\n",
    "end\n",
    "\n",
    "function U(r::Float64,z::Float64)\n",
    "    (1/2)*m*((omegar*r)^2 + (omegaz*z)^2)\n",
    "end\n",
    "\n",
    "function n_tf(r::Float64,z::Float64)            \n",
    "    if  mu-U(r,z)>0 0\n",
    "        return (mu-U(r,z))/(n*g_alfa)              \n",
    "    end\n",
    "    return 0       \n",
    "end\n",
    "\n",
    "\n",
    "function FUNCIONTF0(r::Float64,z::Float64)\n",
    "    sqrt(n_tf(r,z))*(sol(z)+im*beta)\n",
    "end\n",
    "\n",
    "function FUNCIONTF0(v::Vector{Float64})\n",
    "    FUNCIONTF0(v[1],v[2])\n",
    "end"
   ]
  },
  {
   "cell_type": "code",
   "execution_count": 66,
   "metadata": {
    "collapsed": false
   },
   "outputs": [],
   "source": [
    "rmax_estatico=sqrt(2*mu/(m*omegar^2))\n",
    "zmax_estatico=sqrt(2*mu/(m*omegaz^2))\n",
    "\n",
    "\n",
    "function rmaxintegrar(t::Float64)\n",
    "    rmax_estatico/sqrt(abs(sin(omegar*t)))\n",
    "end\n",
    "\n",
    "function zmaxintegrar(t::Float64)\n",
    "    zmax_estatico/sqrt(abs(sin(omegaz*t)))\n",
    "end\n",
    "\n",
    "\n",
    "\n",
    "rmaxevaluar=5*rmax_estatico;\n",
    "zmaxevaluar=5*zmax_estatico;\n"
   ]
  },
  {
   "cell_type": "code",
   "execution_count": 73,
   "metadata": {
    "collapsed": true
   },
   "outputs": [],
   "source": [
    "N_est=(m/hbarr)^(3/2)*omegar*sqrt(omegaz)/sqrt(2*π);"
   ]
  },
  {
   "cell_type": "code",
   "execution_count": 74,
   "metadata": {
    "collapsed": false
   },
   "outputs": [
    {
     "data": {
      "text/plain": [
       "6.952131360975729e29"
      ]
     },
     "execution_count": 74,
     "metadata": {},
     "output_type": "execute_result"
    }
   ],
   "source": [
    "N_est^2"
   ]
  },
  {
   "cell_type": "code",
   "execution_count": 67,
   "metadata": {
    "collapsed": true
   },
   "outputs": [],
   "source": [
    "#unidades 0A\n",
    "EOA=hbarr*omegam;\n",
    "tOA=1/omegam;\n",
    "lOA=sqrt(hbarr/(m*omegam));\n",
    "\n",
    "\n",
    "g_alfa_OA=4*π*Npart*alfa*sqrt(m*omegam/hbarr);\n",
    "nOA=n*(m*omegam/hbarr)^(3/2);\n",
    "cOA=c*sqrt(m/(hbarr*omegam))\n",
    "muOA=mu/(hbarr*omegam);\n",
    "\n",
    "\n",
    "\n",
    "algo=0.5\n",
    "z0=algo*lOA;\n"
   ]
  },
  {
   "cell_type": "code",
   "execution_count": 68,
   "metadata": {
    "collapsed": false
   },
   "outputs": [
    {
     "data": {
      "text/plain": [
       "5.392817714760867"
      ]
     },
     "execution_count": 68,
     "metadata": {},
     "output_type": "execute_result"
    }
   ],
   "source": [
    "rmaxevaluar/lOA"
   ]
  },
  {
   "cell_type": "code",
   "execution_count": 69,
   "metadata": {
    "collapsed": false,
    "scrolled": false
   },
   "outputs": [
    {
     "data": {
      "image/png": "[encoded data removed]",
      "text/plain": [
       "PyPlot.Figure(PyObject <matplotlib.figure.Figure object at 0x7fde0658ba10>)"
      ]
     },
     "metadata": {},
     "output_type": "display_data"
    }
   ],
   "source": [
    "resolucion=1000;\n",
    "\n",
    "perfilinicial=zeros(resolucion+1,resolucion+1)\n",
    "\n",
    "\n",
    "\n",
    "function ρ0(r::Float64,z::Float64)\n",
    "    FUNCIONTF0(r,z) *conj(FUNCIONTF0(r,z))\n",
    "end\n",
    "\n",
    "perfilinicial=gencodominio2D([-zmaxevaluar,zmaxevaluar],[0.0,rmaxevaluar],resolucion,ρ0);\n",
    "grafdensidad([-zmaxevaluar/lOA,zmaxevaluar/lOA],[0.0,rmaxevaluar/lOA],resolucion+1, perfilinicial,\"Perfil Inicial\",\"z[lOA]\",\"r[lOA]\",\"barra\")\n",
    "savefig(\"perfilinicial con lOA=$lOA,z0=$algo*ksi.png\")"
   ]
  },
  {
   "cell_type": "markdown",
   "metadata": {},
   "source": [
    "# ----------------------------------------------------------------------------------------------"
   ]
  },
  {
   "cell_type": "code",
   "execution_count": 70,
   "metadata": {
    "collapsed": false
   },
   "outputs": [
    {
     "data": {
      "text/plain": [
       "1.0785635429521734"
      ]
     },
     "execution_count": 70,
     "metadata": {},
     "output_type": "execute_result"
    }
   ],
   "source": [
    "rmax_estatico/lOA"
   ]
  },
  {
   "cell_type": "code",
   "execution_count": 71,
   "metadata": {
    "collapsed": false
   },
   "outputs": [
    {
     "data": {
      "image/png": "[encoded data removed]",
      "text/plain": [
       "PyPlot.Figure(PyObject <matplotlib.figure.Figure object at 0x7fde0675b250>)"
      ]
     },
     "metadata": {},
     "output_type": "display_data"
    },
    {
     "data": {
      "text/plain": [
       "1-element Array{Any,1}:\n",
       " PyObject <matplotlib.lines.Line2D object at 0x7fde0699d6d0>"
      ]
     },
     "execution_count": 71,
     "metadata": {},
     "output_type": "execute_result"
    }
   ],
   "source": [
    "tiempos=linspace(tOA/100,tOA,101);\n",
    "rmax=zeros(101);\n",
    "zmax=zeros(101);\n",
    "\n",
    "[rmax[i]=1/sqrt(abs(sin(omegar*tiempos[i]))) for i in 1:101]; \n",
    "[zmax[i]=1/sqrt(abs(sin(omegaz*tiempos[i]))) for i in 1:101]; \n",
    "\n",
    "PyPlot.plot(rmax)"
   ]
  },
  {
   "cell_type": "code",
   "execution_count": 72,
   "metadata": {
    "collapsed": false
   },
   "outputs": [
    {
     "data": {
      "image/png": "[encoded data removed]",
      "text/plain": [
       "PyPlot.Figure(PyObject <matplotlib.figure.Figure object at 0x7fde05a55310>)"
      ]
     },
     "metadata": {},
     "output_type": "display_data"
    },
    {
     "data": {
      "text/plain": [
       "1-element Array{Any,1}:\n",
       " PyObject <matplotlib.lines.Line2D object at 0x7fde06901550>"
      ]
     },
     "execution_count": 72,
     "metadata": {},
     "output_type": "execute_result"
    }
   ],
   "source": [
    "PyPlot.plot(zmax)"
   ]
  },
  {
   "cell_type": "code",
   "execution_count": null,
   "metadata": {
    "collapsed": false
   },
   "outputs": [],
   "source": []
  },
  {
   "cell_type": "code",
   "execution_count": null,
   "metadata": {
    "collapsed": true
   },
   "outputs": [],
   "source": []
  },
  {
   "cell_type": "code",
   "execution_count": null,
   "metadata": {
    "collapsed": true
   },
   "outputs": [],
   "source": []
  },
  {
   "cell_type": "code",
   "execution_count": null,
   "metadata": {
    "collapsed": true
   },
   "outputs": [],
   "source": []
  },
  {
   "cell_type": "code",
   "execution_count": null,
   "metadata": {
    "collapsed": true
   },
   "outputs": [],
   "source": []
  },
  {
   "cell_type": "code",
   "execution_count": null,
   "metadata": {
    "collapsed": true
   },
   "outputs": [],
   "source": []
  },
  {
   "cell_type": "code",
   "execution_count": null,
   "metadata": {
    "collapsed": true
   },
   "outputs": [],
   "source": []
  },
  {
   "cell_type": "code",
   "execution_count": null,
   "metadata": {
    "collapsed": true
   },
   "outputs": [],
   "source": []
  },
  {
   "cell_type": "code",
   "execution_count": null,
   "metadata": {
    "collapsed": true
   },
   "outputs": [],
   "source": []
  },
  {
   "cell_type": "code",
   "execution_count": null,
   "metadata": {
    "collapsed": true
   },
   "outputs": [],
   "source": []
  },
  {
   "cell_type": "code",
   "execution_count": null,
   "metadata": {
    "collapsed": true
   },
   "outputs": [],
   "source": []
  },
  {
   "cell_type": "code",
   "execution_count": null,
   "metadata": {
    "collapsed": true
   },
   "outputs": [],
   "source": []
  },
  {
   "cell_type": "code",
   "execution_count": null,
   "metadata": {
    "collapsed": true
   },
   "outputs": [],
   "source": []
  },
  {
   "cell_type": "code",
   "execution_count": null,
   "metadata": {
    "collapsed": true
   },
   "outputs": [],
   "source": []
  },
  {
   "cell_type": "code",
   "execution_count": null,
   "metadata": {
    "collapsed": true
   },
   "outputs": [],
   "source": []
  },
  {
   "cell_type": "code",
   "execution_count": null,
   "metadata": {
    "collapsed": true
   },
   "outputs": [],
   "source": []
  },
  {
   "cell_type": "code",
   "execution_count": null,
   "metadata": {
    "collapsed": true
   },
   "outputs": [],
   "source": []
  },
  {
   "cell_type": "code",
   "execution_count": null,
   "metadata": {
    "collapsed": true
   },
   "outputs": [],
   "source": []
  },
  {
   "cell_type": "code",
   "execution_count": null,
   "metadata": {
    "collapsed": true
   },
   "outputs": [],
   "source": []
  },
  {
   "cell_type": "code",
   "execution_count": null,
   "metadata": {
    "collapsed": true
   },
   "outputs": [],
   "source": []
  },
  {
   "cell_type": "code",
   "execution_count": null,
   "metadata": {
    "collapsed": true
   },
   "outputs": [],
   "source": []
  },
  {
   "cell_type": "code",
   "execution_count": null,
   "metadata": {
    "collapsed": true
   },
   "outputs": [],
   "source": []
  },
  {
   "cell_type": "code",
   "execution_count": null,
   "metadata": {
    "collapsed": true
   },
   "outputs": [],
   "source": []
  }
 ],
 "metadata": {
  "kernelspec": {
   "display_name": "Julia 0.4.0",
   "language": "julia",
   "name": "julia-0.4"
  },
  "language_info": {
   "file_extension": ".jl",
   "mimetype": "application/julia",
   "name": "julia",
   "version": "0.4.0"
  }
 },
 "nbformat": 4,
 "nbformat_minor": 0
}
