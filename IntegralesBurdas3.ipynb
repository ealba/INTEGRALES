{
 "metadata": {
  "language": "Julia",
  "name": "",
  "signature": "sha256:918f3f9a6adaa45d20fccb214c937d5d4ca60df87260e666329e0e958a44c937"
 },
 "nbformat": 3,
 "nbformat_minor": 0,
 "worksheets": [
  {
   "cells": [
    {
     "cell_type": "code",
     "collapsed": false,
     "input": [
      "using PyPlot\n",
      "\n",
      "function grafdensidad(xmap::Vector{Float64},ymap::Vector{Float64},numero::Integer,z::Array{Float64,2},titulo::ASCIIString,xlab::ASCIIString,ylab::ASCIIString)    \n",
      "    x = linspace(xmap[1],xmap[2],numero);\n",
      "    y = linspace(ymap[1],ymap[2],numero);\n",
      "    xgrid = repmat(x',numero,1);\n",
      "    ygrid = repmat(y,1,numero);\n",
      "    \n",
      "\n",
      "    pcolormesh(xgrid,ygrid, z)\n",
      "    \n",
      "    xlabel(xlab) \n",
      "    ylabel(ylab)\n",
      "    title(titulo)\n",
      "    colorbar()\n",
      "end\n",
      "\n",
      "\n",
      "function gencodominio2D(xg::Vector{Float64},yg::Vector{Float64},resolucion::Integer,f::Function)\n",
      "\t\tx = linspace(xg[1],xg[2],resolucion);\n",
      "\t\ty = linspace(yg[1],yg[2],resolucion);\n",
      "\t\tz= zeros(resolucion,resolucion);\n",
      "\t\t                # x equivale a r , y a z\n",
      "\t    \n",
      "\t\tfor i in 1:length(x)\n",
      "\t\t    for j in 1:length(y)\n",
      "\t\t        z[i,j]=f(y[i], x[j])\n",
      "\t\t    end\n",
      "\t\tend\n",
      "\t    \n",
      "\t    return z    \n",
      "\tend\n",
      "\n"
     ],
     "language": "python",
     "metadata": {},
     "outputs": []
    },
    {
     "cell_type": "code",
     "collapsed": false,
     "input": [
      "const m = 1.0;\n",
      "const hbarr = 1.0;\n",
      "#n = 1.;\n",
      "const \u03c9z = 0.05;\n",
      "const \u03c9r = 7.0*\u03c9z;\n",
      "const n=1;\n",
      "const \u03b1=10.0;\n",
      "const g_\u03b1=4.0*\u03c0*\u03b1;\n",
      "const \u03c9m=(\u03c9r*\u03c9z)^(1/3);\n",
      "const \u03bc=0.5*\u03c9m*(15*\u03b1*sqrt(m*\u03c9m))^(2.0/5.0);\n",
      "\n",
      "const c = sqrt(n*g_\u03b1/m);\n",
      "\n",
      "\n",
      "const A=m*\u03c9r/(2*\u03c0*hbarr);\n",
      "const B= sqrt(m*\u03c9z/(\u03c0*hbarr))/2;\n"
     ],
     "language": "python",
     "metadata": {},
     "outputs": [],
     "prompt_number": 25
    },
    {
     "cell_type": "code",
     "collapsed": false,
     "input": [
      "\u03bc"
     ],
     "language": "python",
     "metadata": {},
     "outputs": [
      {
       "metadata": {},
       "output_type": "pyout",
       "prompt_number": 115,
       "text": [
        "0.7355661367783871"
       ]
      }
     ],
     "prompt_number": 115
    },
    {
     "cell_type": "code",
     "collapsed": false,
     "input": [
      "\u03be=0.1;\n",
      "\u03b2=0.0;\n",
      "z0=66.0*\u03be;\n",
      "\u03b3=1/(sqrt(1-\u03b2^2));"
     ],
     "language": "python",
     "metadata": {},
     "outputs": [],
     "prompt_number": 117
    },
    {
     "cell_type": "code",
     "collapsed": false,
     "input": [
      "\n",
      "function N(t::Float64)\n",
      "    (1/sqrt(2*pi))*(\u03c9r/sin(\u03c9r*t))*sqrt(\u03c9z/sin(\u03c9z*t))\n",
      "end\n",
      "\n",
      "function sol(z::Float64)\n",
      "(tanh((z-z0)/(\u03be*\u03b3)))/\u03b3\n",
      "end\n",
      "\n",
      "\n",
      "function \u03d5_rr1(r::Float64,r1::Float64,t::Float64)\n",
      "    (m*\u03c9r/(2*hbarr))*(r1^2+r^2)*tan(\u03c9r*t)+ pi/4\n",
      "end\n",
      "\n",
      "function \u03d5_zz1(z::Float64,z1::Float64,t::Float64)\n",
      "    (m*\u03c9z/(2*hbarr))*(z1^2+z^2)*tan(\u03c9z*t)-2*z*z1*t\n",
      "end\n",
      "\n",
      "function Rre(r::Float64,r1::Float64,t::Float64)\n",
      "    besselj0(-m*\u03c9r*r*r1/(hbarr*sin(\u03c9r*t)))*r1*cos(\u03d5_rr1(r,r1,t))\n",
      "end\n",
      "\n",
      "function Rim(r::Float64,r1::Float64,t::Float64)\n",
      "    besselj0(-m*\u03c9r*r*r1/(hbarr*sin(\u03c9r*t)))*r1*sin(\u03d5_rr1(r,r1,t))\n",
      "end\n",
      "\n",
      "function Zre(z::Float64,z1::Float64,t::Float64)\n",
      "    cos(\u03d5_zz1(z,z1,t))*sol(z')-\u03b2*sin(\u03d5_zz1(z,z1,t))\n",
      "end\n",
      "\n",
      "function Zim(z::Float64,z1::Float64,t::Float64)\n",
      "    sin(\u03d5_zz1(z,z1,t))*sol(z')+\u03b2*cos(\u03d5_zz1(z,z1,t))\n",
      "end\n",
      "\n",
      "function U(r::Float64,z::Float64)\n",
      "                    (1/2)*m*((\u03c9r*r)^2 + (\u03c9z*z)^2)\n",
      "                    end\n",
      "\n",
      "function n_tf(r::Float64,z::Float64)            \n",
      "    if  \u03bc-U(r,z)>0 0\n",
      "        return (\u03bc-U(r,z))/(n*g_\u03b1)              \n",
      "    end\n",
      "    return 0       \n",
      "end"
     ],
     "language": "python",
     "metadata": {},
     "outputs": [
      {
       "metadata": {},
       "output_type": "pyout",
       "prompt_number": 128,
       "text": [
        "n_tf (generic function with 1 method)"
       ]
      }
     ],
     "prompt_number": 128
    },
    {
     "cell_type": "code",
     "collapsed": false,
     "input": [
      "const rmaxintegrar=sqrt(2*\u03bc/m)/\u03c9r;\n",
      "const rminintegrar=0;\n",
      "const zmaxintegrar=sqrt(2*\u03bc/m)/\u03c9z;\n",
      "const zminintegrar=-sqrt(2*\u03bc/m)/\u03c9z;\n",
      "\n",
      "rmaxevaluar=5.0;\n",
      "rminevaluar=0.0;\n",
      "zmaxevaluar=5.0;\n",
      "zminevaluar=-5.0;\n"
     ],
     "language": "python",
     "metadata": {},
     "outputs": [],
     "prompt_number": 129
    },
    {
     "cell_type": "code",
     "collapsed": false,
     "input": [
      "zmaxintegrar"
     ],
     "language": "python",
     "metadata": {},
     "outputs": [
      {
       "metadata": {},
       "output_type": "pyout",
       "prompt_number": 130,
       "text": [
        "24.258048343234655"
       ]
      }
     ],
     "prompt_number": 130
    },
    {
     "cell_type": "code",
     "collapsed": false,
     "input": [
      "#function NIntegrar\n",
      "#Dt=(\u03be/c)*(1/10.0^3);\n",
      "#Dr1=\u03be/10.0;\n",
      "#Dz1=\u03be/10.0;\n",
      "\n",
      "#Dr=Dr1;\n",
      "#Dz=Dz1;\n",
      "\n",
      "\n",
      "\n",
      "\n",
      "iteracionesr1=integer(500);\n",
      "iteracionesz1=integer(500);\n",
      "iteracionesr=integer(100);\n",
      "iteracionesz=integer(100);\n",
      "\n",
      "iteracionest=2;\n",
      "\n",
      "\n",
      "Dr1=(rmaxintegrar-rminintegrar)/iteracionesr1;\n",
      "Dz1=(zmaxintegrar-zminintegrar)/iteracionesz1;\n",
      "\n",
      "Dr=(rmaxevaluar-rminevaluar)/iteracionesr;\n",
      "Dz=(zmaxevaluar-zminevaluar)/iteracionesz;\n",
      "\n",
      "\n",
      "#Arreglos vac\u00edos para guardar los resultados\n",
      "\n",
      "fRre=zeros(iteracionesr+1,iteracionesr1+1);\n",
      "fRim=zeros(iteracionesz+1,iteracionesz1+1);\n",
      "\n",
      "gZre=zeros(iteracionesz+1,iteracionesz1+1);\n",
      "gZim=zeros(iteracionesz+1,iteracionesz1+1);\n",
      "\n",
      "comodin=gZre;\n",
      "\n",
      "ReIntegral=zeros(iteracionesr+1,iteracionesz+1);\n",
      "ImIntegral=zeros(iteracionesr+1,iteracionesz+1);"
     ],
     "language": "python",
     "metadata": {},
     "outputs": [],
     "prompt_number": 163
    },
    {
     "cell_type": "code",
     "collapsed": false,
     "input": [
      "t0=1/\u03c9r;\n",
      "t=100*t0;"
     ],
     "language": "python",
     "metadata": {},
     "outputs": [],
     "prompt_number": 164
    },
    {
     "cell_type": "code",
     "collapsed": false,
     "input": [
      "tan(cos(\u03c9z*t))"
     ],
     "language": "python",
     "metadata": {},
     "outputs": [
      {
       "metadata": {},
       "output_type": "pyout",
       "prompt_number": 165,
       "text": [
        "-0.14909181767577556"
       ]
      }
     ],
     "prompt_number": 165
    },
    {
     "cell_type": "code",
     "collapsed": false,
     "input": [
      "r=0.0;\n",
      "r1=0.0;\n",
      "#comodin=zeros(iteracionesr+1,iteracionesr1+1);\n",
      "\n",
      "for i in 1: iteracionesr+1\n",
      "    r=(i-1)*Dr   \n",
      "    #println(\"r=====$r\")\n",
      "    for j in 1:iteracionesr1+1\n",
      "        r1=(j-1)*Dr1;    \n",
      "        #println(\"r1=$r1\")\n",
      "        fRre[i,j]=Rre(r,r1,t);\n",
      "        fRim[i,j]=Rim(r,r1,t);\n",
      "        #comodin[i,j]=r*r1;\n",
      "    end    \n",
      "end\n",
      "\n",
      "\n",
      "for i in 1: iteracionesz+1\n",
      "    z=zminevaluar+(i-1)*Dz\n",
      "    for j in 1:iteracionesz1+1                             \n",
      "        z1=zminintegrar+(j-1)*Dz1;    \n",
      "        gZre[i,j]=Zre(z,z1,t);\n",
      "        gZim[i,j]=Zim(z,z1,t);\n",
      "    end    \n",
      "end\n"
     ],
     "language": "python",
     "metadata": {},
     "outputs": [],
     "prompt_number": 166
    },
    {
     "cell_type": "code",
     "collapsed": false,
     "input": [
      "\n",
      "resolucion=100;\n",
      "rmax=20.0;\n",
      "rmin=0.0;\n",
      "zmax=5.0;\n",
      "zmin=-zmax;\n",
      "\n",
      "perfilinicial=zeros(resolucion+1,resolucion+1)\n",
      "\n",
      "function FUNCIONTF0(r::Float64,z::Float64)\n",
      "    n_tf(r,z)*(sol(z)+im*\u03b2)\n",
      "end\n",
      "\n",
      "function \u03c10(r::Float64,z::Float64)\n",
      "    FUNCIONTF0(r,z) *conj(FUNCIONTF0(r,z))\n",
      "end\n",
      "\n",
      "perfilinicial=gencodominio2D([rmin,rmax],[zmin,zmax],resolucion,\u03c10);\n",
      "grafdensidad([rmin,rmax],[zmin,zmax],resolucion+1, perfilinicial,\"Perfil Inicial\",\"r\",\"z\")"
     ],
     "language": "python",
     "metadata": {},
     "outputs": [
      {
       "metadata": {},
       "output_type": "display_data",
       "png": "[encoded data removed]",
       "text": [
        "Figure(PyObject <matplotlib.figure.Figure object at 0x7f12b2cf7a50>)"
       ]
      },
      {
       "metadata": {},
       "output_type": "pyout",
       "prompt_number": 167,
       "text": [
        "PyObject <matplotlib.colorbar.Colorbar instance at 0x7f12b244a7e8>"
       ]
      }
     ],
     "prompt_number": 167
    },
    {
     "cell_type": "code",
     "collapsed": false,
     "input": [
      "Zre(5.1,2.0,1.0)"
     ],
     "language": "python",
     "metadata": {},
     "outputs": [
      {
       "metadata": {},
       "output_type": "pyout",
       "prompt_number": 168,
       "text": [
        "-0.05786370134350622"
       ]
      }
     ],
     "prompt_number": 168
    },
    {
     "cell_type": "code",
     "collapsed": false,
     "input": [
      "tic()\n",
      "\n",
      "\n",
      "for i in 1: iteracionesr+1\n",
      "    r=(i-1)*Dr;    \n",
      "    #println(\"r==========$i\")\n",
      "    for j in 1: iteracionesz+1\n",
      "        z=zminevaluar+(j-1)*Dz;\n",
      "        #println(\"z=====$j\")\n",
      "        for k in 1: iteracionesr1+1\n",
      "            r1=(k-1)*Dr1;\n",
      "            #println(\"r1===$k\")\n",
      "            for l in 1: iteracionesz1+1\n",
      "                z1=zminintegrar+(l-1)*Dz1;\n",
      "                #println(\"z1=$l\")\n",
      "                \n",
      "                \n",
      "                #ReIntegral[i,j]=ReIntegral[i,j]+n_tf(r1,z1)*(fRre[i,k]*gZre[j,l]-fRim[i,k]*gZim[j,l])*Dr1*Dz1;\n",
      "                #ImIntegral[i,j]=ImIntegral[i,j]+n_tf(r1,z1)*(fRre[i,k]*gZim[j,l]+fRim[i,k]*gZre[j,l])*Dr1*Dz1;\n",
      "            \n",
      "            \n",
      "                ReIntegral[i,j]=ReIntegral[i,j]+n_tf(r1,z1)*(Rre(r,r1,t)*Zre(z,z1,t)-Rim(r,r1,t)*Zim(z,z1,t))*Dr1*Dz1;\n",
      "                #ImIntegral[i,j]=ImIntegral[i,j]+n_tf(r1,z1)*(fRre[i,k]*gZim[j,l]+fRim[i,k]*gZre[j,l])*Dr1*Dz1;\n",
      "            end\n",
      "        \n",
      "        end\n",
      "        \n",
      "    end\n",
      "    \n",
      "    println(\"$i\")\n",
      "end\n",
      "\n",
      "\n",
      "ReIntegral=ReIntegral*N(t);\n",
      "ImIntegral=ImIntegral*N(t);\n",
      "toc()"
     ],
     "language": "python",
     "metadata": {},
     "outputs": [
      {
       "output_type": "stream",
       "stream": "stdout",
       "text": [
        "1\n"
       ]
      },
      {
       "output_type": "stream",
       "stream": "stdout",
       "text": [
        "2"
       ]
      },
      {
       "output_type": "stream",
       "stream": "stdout",
       "text": [
        "\n",
        "3"
       ]
      },
      {
       "output_type": "stream",
       "stream": "stdout",
       "text": [
        "\n",
        "4"
       ]
      },
      {
       "output_type": "stream",
       "stream": "stdout",
       "text": [
        "\n",
        "5"
       ]
      },
      {
       "output_type": "stream",
       "stream": "stdout",
       "text": [
        "\n",
        "6"
       ]
      },
      {
       "output_type": "stream",
       "stream": "stdout",
       "text": [
        "\n",
        "7"
       ]
      },
      {
       "output_type": "stream",
       "stream": "stdout",
       "text": [
        "\n",
        "8"
       ]
      },
      {
       "output_type": "stream",
       "stream": "stdout",
       "text": [
        "\n",
        "9"
       ]
      },
      {
       "output_type": "stream",
       "stream": "stdout",
       "text": [
        "\n",
        "10"
       ]
      },
      {
       "output_type": "stream",
       "stream": "stdout",
       "text": [
        "\n",
        "11"
       ]
      },
      {
       "output_type": "stream",
       "stream": "stdout",
       "text": [
        "\n",
        "12"
       ]
      },
      {
       "output_type": "stream",
       "stream": "stdout",
       "text": [
        "\n",
        "13"
       ]
      },
      {
       "output_type": "stream",
       "stream": "stdout",
       "text": [
        "\n",
        "14"
       ]
      },
      {
       "output_type": "stream",
       "stream": "stdout",
       "text": [
        "\n",
        "15"
       ]
      },
      {
       "output_type": "stream",
       "stream": "stdout",
       "text": [
        "\n",
        "16"
       ]
      },
      {
       "output_type": "stream",
       "stream": "stdout",
       "text": [
        "\n",
        "17"
       ]
      },
      {
       "output_type": "stream",
       "stream": "stdout",
       "text": [
        "\n",
        "18"
       ]
      },
      {
       "output_type": "stream",
       "stream": "stdout",
       "text": [
        "\n",
        "19"
       ]
      },
      {
       "output_type": "stream",
       "stream": "stdout",
       "text": [
        "\n",
        "20"
       ]
      },
      {
       "output_type": "stream",
       "stream": "stdout",
       "text": [
        "\n",
        "21"
       ]
      },
      {
       "output_type": "stream",
       "stream": "stdout",
       "text": [
        "\n",
        "22"
       ]
      },
      {
       "output_type": "stream",
       "stream": "stdout",
       "text": [
        "\n",
        "23"
       ]
      },
      {
       "output_type": "stream",
       "stream": "stdout",
       "text": [
        "\n",
        "24"
       ]
      },
      {
       "output_type": "stream",
       "stream": "stdout",
       "text": [
        "\n",
        "25"
       ]
      },
      {
       "output_type": "stream",
       "stream": "stdout",
       "text": [
        "\n",
        "26"
       ]
      },
      {
       "output_type": "stream",
       "stream": "stdout",
       "text": [
        "\n",
        "27"
       ]
      },
      {
       "output_type": "stream",
       "stream": "stdout",
       "text": [
        "\n",
        "28"
       ]
      },
      {
       "output_type": "stream",
       "stream": "stdout",
       "text": [
        "\n",
        "29"
       ]
      },
      {
       "output_type": "stream",
       "stream": "stdout",
       "text": [
        "\n",
        "30"
       ]
      },
      {
       "output_type": "stream",
       "stream": "stdout",
       "text": [
        "\n",
        "31"
       ]
      },
      {
       "output_type": "stream",
       "stream": "stdout",
       "text": [
        "\n",
        "32"
       ]
      },
      {
       "output_type": "stream",
       "stream": "stdout",
       "text": [
        "\n",
        "33"
       ]
      },
      {
       "output_type": "stream",
       "stream": "stdout",
       "text": [
        "\n",
        "34"
       ]
      },
      {
       "output_type": "stream",
       "stream": "stdout",
       "text": [
        "\n",
        "35"
       ]
      },
      {
       "output_type": "stream",
       "stream": "stdout",
       "text": [
        "\n",
        "36"
       ]
      },
      {
       "output_type": "stream",
       "stream": "stdout",
       "text": [
        "\n",
        "37"
       ]
      },
      {
       "output_type": "stream",
       "stream": "stdout",
       "text": [
        "\n",
        "38"
       ]
      },
      {
       "output_type": "stream",
       "stream": "stdout",
       "text": [
        "\n",
        "39"
       ]
      },
      {
       "output_type": "stream",
       "stream": "stdout",
       "text": [
        "\n",
        "40"
       ]
      },
      {
       "output_type": "stream",
       "stream": "stdout",
       "text": [
        "\n",
        "41"
       ]
      },
      {
       "output_type": "stream",
       "stream": "stdout",
       "text": [
        "\n",
        "42"
       ]
      },
      {
       "output_type": "stream",
       "stream": "stdout",
       "text": [
        "\n",
        "43"
       ]
      },
      {
       "output_type": "stream",
       "stream": "stdout",
       "text": [
        "\n",
        "44"
       ]
      },
      {
       "output_type": "stream",
       "stream": "stdout",
       "text": [
        "\n",
        "45"
       ]
      },
      {
       "output_type": "stream",
       "stream": "stdout",
       "text": [
        "\n",
        "46"
       ]
      },
      {
       "output_type": "stream",
       "stream": "stdout",
       "text": [
        "\n",
        "47"
       ]
      },
      {
       "output_type": "stream",
       "stream": "stdout",
       "text": [
        "\n",
        "48"
       ]
      },
      {
       "output_type": "stream",
       "stream": "stdout",
       "text": [
        "\n",
        "49"
       ]
      },
      {
       "output_type": "stream",
       "stream": "stdout",
       "text": [
        "\n",
        "50"
       ]
      },
      {
       "output_type": "stream",
       "stream": "stdout",
       "text": [
        "\n",
        "51"
       ]
      },
      {
       "output_type": "stream",
       "stream": "stdout",
       "text": [
        "\n",
        "52"
       ]
      },
      {
       "output_type": "stream",
       "stream": "stdout",
       "text": [
        "\n",
        "53"
       ]
      },
      {
       "output_type": "stream",
       "stream": "stdout",
       "text": [
        "\n",
        "54"
       ]
      },
      {
       "output_type": "stream",
       "stream": "stdout",
       "text": [
        "\n",
        "55"
       ]
      },
      {
       "output_type": "stream",
       "stream": "stdout",
       "text": [
        "\n",
        "56"
       ]
      },
      {
       "output_type": "stream",
       "stream": "stdout",
       "text": [
        "\n",
        "57"
       ]
      },
      {
       "output_type": "stream",
       "stream": "stdout",
       "text": [
        "\n",
        "58"
       ]
      },
      {
       "output_type": "stream",
       "stream": "stdout",
       "text": [
        "\n",
        "59"
       ]
      },
      {
       "output_type": "stream",
       "stream": "stdout",
       "text": [
        "\n",
        "60"
       ]
      },
      {
       "output_type": "stream",
       "stream": "stdout",
       "text": [
        "\n",
        "61"
       ]
      },
      {
       "output_type": "stream",
       "stream": "stdout",
       "text": [
        "\n",
        "62"
       ]
      },
      {
       "output_type": "stream",
       "stream": "stdout",
       "text": [
        "\n",
        "63"
       ]
      },
      {
       "output_type": "stream",
       "stream": "stdout",
       "text": [
        "\n",
        "64"
       ]
      },
      {
       "output_type": "stream",
       "stream": "stdout",
       "text": [
        "\n",
        "65"
       ]
      },
      {
       "output_type": "stream",
       "stream": "stdout",
       "text": [
        "\n",
        "66"
       ]
      },
      {
       "output_type": "stream",
       "stream": "stdout",
       "text": [
        "\n",
        "67"
       ]
      },
      {
       "output_type": "stream",
       "stream": "stdout",
       "text": [
        "\n",
        "68"
       ]
      },
      {
       "output_type": "stream",
       "stream": "stdout",
       "text": [
        "\n",
        "69"
       ]
      },
      {
       "output_type": "stream",
       "stream": "stdout",
       "text": [
        "\n",
        "70"
       ]
      },
      {
       "output_type": "stream",
       "stream": "stdout",
       "text": [
        "\n",
        "71"
       ]
      },
      {
       "output_type": "stream",
       "stream": "stdout",
       "text": [
        "\n",
        "72"
       ]
      },
      {
       "output_type": "stream",
       "stream": "stdout",
       "text": [
        "\n",
        "73"
       ]
      },
      {
       "output_type": "stream",
       "stream": "stdout",
       "text": [
        "\n",
        "74"
       ]
      },
      {
       "output_type": "stream",
       "stream": "stdout",
       "text": [
        "\n",
        "75"
       ]
      },
      {
       "output_type": "stream",
       "stream": "stdout",
       "text": [
        "\n",
        "76"
       ]
      },
      {
       "output_type": "stream",
       "stream": "stdout",
       "text": [
        "\n",
        "77"
       ]
      },
      {
       "output_type": "stream",
       "stream": "stdout",
       "text": [
        "\n",
        "78"
       ]
      },
      {
       "output_type": "stream",
       "stream": "stdout",
       "text": [
        "\n",
        "79"
       ]
      },
      {
       "output_type": "stream",
       "stream": "stdout",
       "text": [
        "\n",
        "80"
       ]
      },
      {
       "output_type": "stream",
       "stream": "stdout",
       "text": [
        "\n",
        "81"
       ]
      },
      {
       "output_type": "stream",
       "stream": "stdout",
       "text": [
        "\n",
        "82"
       ]
      },
      {
       "output_type": "stream",
       "stream": "stdout",
       "text": [
        "\n",
        "83"
       ]
      },
      {
       "output_type": "stream",
       "stream": "stdout",
       "text": [
        "\n",
        "84"
       ]
      },
      {
       "output_type": "stream",
       "stream": "stdout",
       "text": [
        "\n",
        "85"
       ]
      },
      {
       "output_type": "stream",
       "stream": "stdout",
       "text": [
        "\n",
        "86"
       ]
      },
      {
       "output_type": "stream",
       "stream": "stdout",
       "text": [
        "\n",
        "87"
       ]
      },
      {
       "output_type": "stream",
       "stream": "stdout",
       "text": [
        "\n",
        "88"
       ]
      },
      {
       "output_type": "stream",
       "stream": "stdout",
       "text": [
        "\n",
        "89"
       ]
      },
      {
       "output_type": "stream",
       "stream": "stdout",
       "text": [
        "\n",
        "90"
       ]
      },
      {
       "output_type": "stream",
       "stream": "stdout",
       "text": [
        "\n",
        "91"
       ]
      },
      {
       "output_type": "stream",
       "stream": "stdout",
       "text": [
        "\n",
        "92"
       ]
      },
      {
       "output_type": "stream",
       "stream": "stdout",
       "text": [
        "\n",
        "93"
       ]
      },
      {
       "output_type": "stream",
       "stream": "stdout",
       "text": [
        "\n",
        "94"
       ]
      },
      {
       "output_type": "stream",
       "stream": "stdout",
       "text": [
        "\n",
        "95"
       ]
      },
      {
       "output_type": "stream",
       "stream": "stdout",
       "text": [
        "\n",
        "96"
       ]
      },
      {
       "output_type": "stream",
       "stream": "stdout",
       "text": [
        "\n",
        "97"
       ]
      },
      {
       "output_type": "stream",
       "stream": "stdout",
       "text": [
        "\n",
        "98"
       ]
      },
      {
       "output_type": "stream",
       "stream": "stdout",
       "text": [
        "\n",
        "99"
       ]
      },
      {
       "output_type": "stream",
       "stream": "stdout",
       "text": [
        "\n",
        "100"
       ]
      },
      {
       "output_type": "stream",
       "stream": "stdout",
       "text": [
        "\n",
        "101"
       ]
      },
      {
       "output_type": "stream",
       "stream": "stdout",
       "text": [
        "\n",
        "elapsed time: 8781.384452639 seconds\n"
       ]
      },
      {
       "metadata": {},
       "output_type": "pyout",
       "prompt_number": 169,
       "text": [
        "8781.384452639"
       ]
      }
     ],
     "prompt_number": 169
    },
    {
     "cell_type": "code",
     "collapsed": false,
     "input": [
      "Z=ReIntegral.^2+ImIntegral.^2;"
     ],
     "language": "python",
     "metadata": {},
     "outputs": [],
     "prompt_number": 170
    },
    {
     "cell_type": "code",
     "collapsed": false,
     "input": [
      "imshow(Z)\n",
      "colorbar()"
     ],
     "language": "python",
     "metadata": {},
     "outputs": [
      {
       "metadata": {},
       "output_type": "display_data",
       "png": "[encoded data removed]",
       "text": [
        "Figure(PyObject <matplotlib.figure.Figure object at 0x7f12b2ad11d0>)"
       ]
      },
      {
       "metadata": {},
       "output_type": "pyout",
       "prompt_number": 171,
       "text": [
        "PyObject <matplotlib.colorbar.Colorbar instance at 0x7f12b1fbd7e8>"
       ]
      }
     ],
     "prompt_number": 171
    },
    {
     "cell_type": "code",
     "collapsed": false,
     "input": [
      "grafdensidad([rminevaluar,rmaxevaluar],[zminevaluar,zmaxevaluar],101,Z',\"eso\",\"r\",\"z\")    "
     ],
     "language": "python",
     "metadata": {},
     "outputs": [
      {
       "metadata": {},
       "output_type": "display_data",
       "png": "[encoded data removed]",
       "text": [
        "Figure(PyObject <matplotlib.figure.Figure object at 0x7f12b2ad1290>)"
       ]
      },
      {
       "metadata": {},
       "output_type": "pyout",
       "prompt_number": 172,
       "text": [
        "PyObject <matplotlib.colorbar.Colorbar instance at 0x7f12b1e9c638>"
       ]
      }
     ],
     "prompt_number": 172
    },
    {
     "cell_type": "code",
     "collapsed": false,
     "input": [],
     "language": "python",
     "metadata": {},
     "outputs": []
    }
   ],
   "metadata": {}
  }
 ]
}